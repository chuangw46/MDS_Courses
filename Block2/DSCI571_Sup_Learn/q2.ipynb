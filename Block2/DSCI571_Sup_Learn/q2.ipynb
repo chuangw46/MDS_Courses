{
 "cells": [
  {
   "cell_type": "code",
   "execution_count": 7,
   "metadata": {},
   "outputs": [],
   "source": [
    "# Import libraries\n",
    "from hashlib import sha1\n",
    "\n",
    "import matplotlib.pyplot as plt\n",
    "import numpy as np\n",
    "import pandas as pd\n",
    "from IPython.display import HTML\n",
    "\n",
    "pd.set_option(\"display.max_colwidth\", 200)\n",
    "\n",
    "from sklearn.compose import ColumnTransformer\n",
    "from sklearn.dummy import DummyClassifier\n",
    "from sklearn.impute import SimpleImputer\n",
    "from sklearn.model_selection import cross_val_score, cross_validate, train_test_split, GridSearchCV\n",
    "from sklearn.neighbors import KNeighborsClassifier\n",
    "from sklearn.pipeline import Pipeline, make_pipeline\n",
    "from sklearn.preprocessing import (\n",
    "    OrdinalEncoder, \n",
    "    FunctionTransformer,\n",
    "    Normalizer,\n",
    "    OneHotEncoder,\n",
    "    StandardScaler,\n",
    "    normalize,\n",
    "    scale,\n",
    ")\n",
    "\n",
    "from sklearn.feature_extraction.text import CountVectorizer\n",
    "\n",
    "from sklearn.svm import SVC\n",
    "from sklearn.tree import DecisionTreeClassifier\n",
    "from sklearn.naive_bayes import MultinomialNB\n",
    "from plot_classifier import plot_classifier"
   ]
  },
  {
   "cell_type": "code",
   "execution_count": 39,
   "metadata": {},
   "outputs": [],
   "source": [
    "def store_cross_val_results(model_name, scores, results_dict):\n",
    "    \"\"\"\n",
    "    Stores mean scores from cross_validate in results_dict for\n",
    "    the given model model_name.\n",
    "\n",
    "    Parameters\n",
    "    ----------\n",
    "    model_name :\n",
    "        scikit-learn classification model\n",
    "    scores : dict\n",
    "        object return by `cross_validate`\n",
    "    results_dict: dict\n",
    "        dictionary to store results\n",
    "\n",
    "    Returns\n",
    "    ----------\n",
    "        None\n",
    "\n",
    "    \"\"\"\n",
    "    results_dict[model_name] = {\n",
    "        \"mean_train_accuracy\": \"{:0.4f}\".format(np.mean(scores[\"train_score\"])),\n",
    "        \"mean_valid_accuracy\": \"{:0.4f}\".format(np.mean(scores[\"test_score\"])),\n",
    "        \"mean_fit_time (s)\": \"{:0.4f}\".format(np.mean(scores[\"fit_time\"])),\n",
    "        \"mean_score_time (s)\": \"{:0.4f}\".format(np.mean(scores[\"score_time\"])),\n",
    "        \"std_train_score\": \"{:0.4f}\".format(scores[\"train_score\"].std()),\n",
    "        \"std_valid_score\": \"{:0.4f}\".format(scores[\"test_score\"].std()),\n",
    "    }"
   ]
  },
  {
   "cell_type": "markdown",
   "metadata": {},
   "source": [
    "# Lecture 5: More on categorical features and encoding text data"
   ]
  },
  {
   "cell_type": "code",
   "execution_count": 2,
   "metadata": {},
   "outputs": [],
   "source": [
    "numeric_features = [\n",
    "    \"age\",\n",
    "    \"fnlwgt\",\n",
    "    \"education.num\",\n",
    "    \"capital.gain\",\n",
    "    \"capital.loss\",\n",
    "    \"hours.per.week\"\n",
    "]\n",
    "\n",
    "categorical_features = [\n",
    "    \"workclass\",\n",
    "    \"education\",\n",
    "    \"marital.status\",\n",
    "    \"occupation\",\n",
    "    \"relationship\",\n",
    "    \"race\",\n",
    "    \"sex\",\n",
    "    \"native.country\"\n",
    "]\n",
    "\n",
    "target='income'"
   ]
  },
  {
   "cell_type": "code",
   "execution_count": 3,
   "metadata": {},
   "outputs": [],
   "source": [
    "adult_df_large = pd.read_csv(\"data/adult.csv\")\n",
    "\n",
    "train_df, test_df = train_test_split(adult_df_large, test_size=0.2, random_state=42)\n",
    "\n",
    "train_df_nan = train_df.replace(\"?\", np.NaN)\n",
    "test_df_nan = test_df.replace(\"?\", np.NaN)\n",
    "\n",
    "X_train = train_df_nan.drop(columns=[target])\n",
    "y_train = train_df_nan[target]\n",
    "\n",
    "X_test = test_df_nan.drop(columns=[target])\n",
    "y_test = test_df_nan[target]"
   ]
  },
  {
   "cell_type": "markdown",
   "metadata": {},
   "source": [
    "## 1. More on categorical features"
   ]
  },
  {
   "cell_type": "markdown",
   "metadata": {},
   "source": [
    "### 1). `make_pipeline` syntax and `handle_unknown`"
   ]
  },
  {
   "cell_type": "code",
   "execution_count": 4,
   "metadata": {},
   "outputs": [],
   "source": [
    "numeric_transformer = make_pipeline(SimpleImputer(strategy=\"median\"), StandardScaler())\n",
    "\n",
    "categorical_transformer = make_pipeline(\n",
    "    SimpleImputer(strategy=\"constant\", fill_value=\"missing\"),\n",
    "    \n",
    "    # deal with the case where the validation set contains a category that doesn't exist in the training set.\n",
    "    # all unknown categories will be represented with all zeros.\n",
    "    OneHotEncoder(handle_unknown=\"ignore\"), \n",
    ")\n",
    "\n",
    "preprocessor = ColumnTransformer(\n",
    "    transformers=[\n",
    "        (\"num\", numeric_transformer, numeric_features),\n",
    "        (\"cat\", categorical_transformer, categorical_features),\n",
    "    ]\n",
    ")\n",
    "\n",
    "pipe = make_pipeline(preprocessor, SVC())\n"
   ]
  },
  {
   "cell_type": "code",
   "execution_count": 5,
   "metadata": {},
   "outputs": [
    {
     "data": {
      "text/html": [
       "<div>\n",
       "<style scoped>\n",
       "    .dataframe tbody tr th:only-of-type {\n",
       "        vertical-align: middle;\n",
       "    }\n",
       "\n",
       "    .dataframe tbody tr th {\n",
       "        vertical-align: top;\n",
       "    }\n",
       "\n",
       "    .dataframe thead th {\n",
       "        text-align: right;\n",
       "    }\n",
       "</style>\n",
       "<table border=\"1\" class=\"dataframe\">\n",
       "  <thead>\n",
       "    <tr style=\"text-align: right;\">\n",
       "      <th></th>\n",
       "      <th>fit_time</th>\n",
       "      <th>score_time</th>\n",
       "      <th>test_score</th>\n",
       "      <th>train_score</th>\n",
       "    </tr>\n",
       "  </thead>\n",
       "  <tbody>\n",
       "    <tr>\n",
       "      <th>0</th>\n",
       "      <td>13.888340</td>\n",
       "      <td>1.883801</td>\n",
       "      <td>0.859309</td>\n",
       "      <td>0.867502</td>\n",
       "    </tr>\n",
       "    <tr>\n",
       "      <th>1</th>\n",
       "      <td>11.812405</td>\n",
       "      <td>1.801952</td>\n",
       "      <td>0.846833</td>\n",
       "      <td>0.868509</td>\n",
       "    </tr>\n",
       "    <tr>\n",
       "      <th>2</th>\n",
       "      <td>11.506098</td>\n",
       "      <td>1.836123</td>\n",
       "      <td>0.863724</td>\n",
       "      <td>0.865342</td>\n",
       "    </tr>\n",
       "    <tr>\n",
       "      <th>3</th>\n",
       "      <td>11.759267</td>\n",
       "      <td>1.819544</td>\n",
       "      <td>0.851027</td>\n",
       "      <td>0.868132</td>\n",
       "    </tr>\n",
       "    <tr>\n",
       "      <th>4</th>\n",
       "      <td>13.014133</td>\n",
       "      <td>2.131569</td>\n",
       "      <td>0.856210</td>\n",
       "      <td>0.869476</td>\n",
       "    </tr>\n",
       "  </tbody>\n",
       "</table>\n",
       "</div>"
      ],
      "text/plain": [
       "    fit_time  score_time  test_score  train_score\n",
       "0  13.888340    1.883801    0.859309     0.867502\n",
       "1  11.812405    1.801952    0.846833     0.868509\n",
       "2  11.506098    1.836123    0.863724     0.865342\n",
       "3  11.759267    1.819544    0.851027     0.868132\n",
       "4  13.014133    2.131569    0.856210     0.869476"
      ]
     },
     "execution_count": 5,
     "metadata": {},
     "output_type": "execute_result"
    }
   ],
   "source": [
    "scores = cross_validate(pipe, X_train, y_train, cv=5, return_train_score=True)\n",
    "pd.DataFrame(scores)"
   ]
  },
  {
   "cell_type": "markdown",
   "metadata": {},
   "source": [
    "### 2). Ordinal encoding"
   ]
  },
  {
   "cell_type": "markdown",
   "metadata": {},
   "source": [
    "> When to use OrdinalEncoder\n",
    "\n",
    "When there is actually an order in the values and it might help to encode this column using OrdinalEncoder."
   ]
  },
  {
   "cell_type": "code",
   "execution_count": 6,
   "metadata": {},
   "outputs": [
    {
     "data": {
      "text/plain": [
       "array(['HS-grad', 'Bachelors', 'Some-college', '11th', '5th-6th',\n",
       "       'Assoc-voc', 'Masters', '9th', 'Doctorate', 'Prof-school',\n",
       "       '7th-8th', '10th', '12th', '1st-4th', 'Assoc-acdm', 'Preschool'],\n",
       "      dtype=object)"
      ]
     },
     "execution_count": 6,
     "metadata": {},
     "output_type": "execute_result"
    }
   ],
   "source": [
    "train_df['education'].unique()"
   ]
  },
  {
   "cell_type": "code",
   "execution_count": 7,
   "metadata": {},
   "outputs": [
    {
     "data": {
      "text/plain": [
       "array(['10th', '11th', '12th', '1st-4th', '5th-6th', '7th-8th', '9th',\n",
       "       'Assoc-acdm', 'Assoc-voc', 'Bachelors', 'Doctorate', 'HS-grad',\n",
       "       'Masters', 'Preschool', 'Prof-school', 'Some-college'],\n",
       "      dtype=object)"
      ]
     },
     "execution_count": 7,
     "metadata": {},
     "output_type": "execute_result"
    }
   ],
   "source": [
    "oe = OrdinalEncoder(dtype=int)\n",
    "oe.fit(X_train[[\"education\"]])\n",
    "ed_transformed = oe.transform(X_train[[\"education\"]])\n",
    "ed_transformed = pd.DataFrame(data=ed_transformed, columns=[\"education_enc\"], index=X_train.index)\n",
    "ed_transformed.head()\n",
    "oe.categories_[-1]"
   ]
  },
  {
   "cell_type": "code",
   "execution_count": 8,
   "metadata": {},
   "outputs": [
    {
     "data": {
      "text/html": [
       "<div>\n",
       "<style scoped>\n",
       "    .dataframe tbody tr th:only-of-type {\n",
       "        vertical-align: middle;\n",
       "    }\n",
       "\n",
       "    .dataframe tbody tr th {\n",
       "        vertical-align: top;\n",
       "    }\n",
       "\n",
       "    .dataframe thead th {\n",
       "        text-align: right;\n",
       "    }\n",
       "</style>\n",
       "<table border=\"1\" class=\"dataframe\">\n",
       "  <thead>\n",
       "    <tr style=\"text-align: right;\">\n",
       "      <th></th>\n",
       "      <th>transformed</th>\n",
       "    </tr>\n",
       "  </thead>\n",
       "  <tbody>\n",
       "    <tr>\n",
       "      <th>10th</th>\n",
       "      <td>0</td>\n",
       "    </tr>\n",
       "    <tr>\n",
       "      <th>11th</th>\n",
       "      <td>1</td>\n",
       "    </tr>\n",
       "    <tr>\n",
       "      <th>12th</th>\n",
       "      <td>2</td>\n",
       "    </tr>\n",
       "    <tr>\n",
       "      <th>1st-4th</th>\n",
       "      <td>3</td>\n",
       "    </tr>\n",
       "    <tr>\n",
       "      <th>5th-6th</th>\n",
       "      <td>4</td>\n",
       "    </tr>\n",
       "    <tr>\n",
       "      <th>7th-8th</th>\n",
       "      <td>5</td>\n",
       "    </tr>\n",
       "    <tr>\n",
       "      <th>9th</th>\n",
       "      <td>6</td>\n",
       "    </tr>\n",
       "    <tr>\n",
       "      <th>Assoc-acdm</th>\n",
       "      <td>7</td>\n",
       "    </tr>\n",
       "    <tr>\n",
       "      <th>Assoc-voc</th>\n",
       "      <td>8</td>\n",
       "    </tr>\n",
       "    <tr>\n",
       "      <th>Bachelors</th>\n",
       "      <td>9</td>\n",
       "    </tr>\n",
       "    <tr>\n",
       "      <th>Doctorate</th>\n",
       "      <td>10</td>\n",
       "    </tr>\n",
       "    <tr>\n",
       "      <th>HS-grad</th>\n",
       "      <td>11</td>\n",
       "    </tr>\n",
       "    <tr>\n",
       "      <th>Masters</th>\n",
       "      <td>12</td>\n",
       "    </tr>\n",
       "    <tr>\n",
       "      <th>Preschool</th>\n",
       "      <td>13</td>\n",
       "    </tr>\n",
       "    <tr>\n",
       "      <th>Prof-school</th>\n",
       "      <td>14</td>\n",
       "    </tr>\n",
       "    <tr>\n",
       "      <th>Some-college</th>\n",
       "      <td>15</td>\n",
       "    </tr>\n",
       "  </tbody>\n",
       "</table>\n",
       "</div>"
      ],
      "text/plain": [
       "              transformed\n",
       "10th                    0\n",
       "11th                    1\n",
       "12th                    2\n",
       "1st-4th                 3\n",
       "5th-6th                 4\n",
       "7th-8th                 5\n",
       "9th                     6\n",
       "Assoc-acdm              7\n",
       "Assoc-voc               8\n",
       "Bachelors               9\n",
       "Doctorate              10\n",
       "HS-grad                11\n",
       "Masters                12\n",
       "Preschool              13\n",
       "Prof-school            14\n",
       "Some-college           15"
      ]
     },
     "execution_count": 8,
     "metadata": {},
     "output_type": "execute_result"
    }
   ],
   "source": [
    "# order is not good\n",
    "pd.DataFrame(data=np.arange(len(oe.categories_[0])), columns=[\"transformed\"], index=oe.categories_[0])"
   ]
  },
  {
   "cell_type": "code",
   "execution_count": 9,
   "metadata": {},
   "outputs": [
    {
     "data": {
      "text/plain": [
       "[array(['Preschool', '1st-4th', '5th-6th', '7th-8th', '9th', '10th',\n",
       "        '11th', '12th', 'HS-grad', 'Prof-school', 'Assoc-voc',\n",
       "        'Assoc-acdm', 'Some-college', 'Bachelors', 'Masters', 'Doctorate'],\n",
       "       dtype=object)]"
      ]
     },
     "execution_count": 9,
     "metadata": {},
     "output_type": "execute_result"
    }
   ],
   "source": [
    "# order them manually.\n",
    "education_levels = ['Preschool', '1st-4th', '5th-6th', '7th-8th', \n",
    "                    '9th', '10th', '11th', '12th', 'HS-grad',\n",
    "                    'Prof-school', 'Assoc-voc', 'Assoc-acdm', \n",
    "                    'Some-college', 'Bachelors', 'Masters', 'Doctorate']\n",
    "\n",
    "\n",
    "oe = OrdinalEncoder(categories=[education_levels], dtype=int)\n",
    "\n",
    "oe.fit(X_train[[\"education\"]])\n",
    "\n",
    "ed_transformed = oe.transform(X_train[[\"education\"]])\n",
    "\n",
    "ed_transformed = pd.DataFrame(data=ed_transformed, columns=[\"education_enc\"], index=X_train.index)\n",
    "\n",
    "oe.categories_"
   ]
  },
  {
   "cell_type": "code",
   "execution_count": 10,
   "metadata": {},
   "outputs": [],
   "source": [
    "numeric_features = ['age', 'fnlwgt', 'capital.gain', \n",
    "                    'capital.loss', 'hours.per.week']\n",
    "categorical_features = ['workclass', 'marital.status', 'occupation', \n",
    "                        'relationship', 'race', 'sex', 'native.country']\n",
    "ordinal_features = ['education']\n",
    "target_column = 'income'"
   ]
  },
  {
   "cell_type": "code",
   "execution_count": 11,
   "metadata": {},
   "outputs": [],
   "source": [
    "# numeric features\n",
    "# ----------------\n",
    "numeric_transformer = make_pipeline(SimpleImputer(strategy=\"median\"), StandardScaler())\n",
    "\n",
    "# categorical features\n",
    "# --------------------\n",
    "categorical_transformer = make_pipeline(\n",
    "    SimpleImputer(strategy=\"constant\", fill_value=\"missing\"),\n",
    "    OneHotEncoder(handle_unknown=\"ignore\"),\n",
    ")\n",
    "\n",
    "# ordinal features\n",
    "# --------------------\n",
    "ordinal_transformer = make_pipeline(\n",
    "    SimpleImputer(strategy=\"constant\", fill_value=\"missing\"),\n",
    "    OrdinalEncoder(categories=[education_levels], dtype=int,),\n",
    "\n",
    ")\n",
    "\n",
    "# all preprocessors\n",
    "# --------------------\n",
    "preprocessor = ColumnTransformer(\n",
    "    transformers=[\n",
    "        (\"num\", numeric_transformer, numeric_features),\n",
    "        (\"cat\", categorical_transformer, categorical_features),\n",
    "        (\"ordinal\", ordinal_transformer, ordinal_features)\n",
    "    ]\n",
    ")\n",
    "\n",
    "\n",
    "# pipe\n",
    "# --------------------------------------------------------------------------------\n",
    "pipe = make_pipeline(preprocessor, SVC())"
   ]
  },
  {
   "cell_type": "code",
   "execution_count": 12,
   "metadata": {},
   "outputs": [
    {
     "data": {
      "text/html": [
       "<div>\n",
       "<style scoped>\n",
       "    .dataframe tbody tr th:only-of-type {\n",
       "        vertical-align: middle;\n",
       "    }\n",
       "\n",
       "    .dataframe tbody tr th {\n",
       "        vertical-align: top;\n",
       "    }\n",
       "\n",
       "    .dataframe thead th {\n",
       "        text-align: right;\n",
       "    }\n",
       "</style>\n",
       "<table border=\"1\" class=\"dataframe\">\n",
       "  <thead>\n",
       "    <tr style=\"text-align: right;\">\n",
       "      <th></th>\n",
       "      <th>fit_time</th>\n",
       "      <th>score_time</th>\n",
       "      <th>test_score</th>\n",
       "      <th>train_score</th>\n",
       "    </tr>\n",
       "  </thead>\n",
       "  <tbody>\n",
       "    <tr>\n",
       "      <th>0</th>\n",
       "      <td>12.893614</td>\n",
       "      <td>1.838780</td>\n",
       "      <td>0.850864</td>\n",
       "      <td>0.853201</td>\n",
       "    </tr>\n",
       "    <tr>\n",
       "      <th>1</th>\n",
       "      <td>10.757917</td>\n",
       "      <td>1.667393</td>\n",
       "      <td>0.844338</td>\n",
       "      <td>0.855744</td>\n",
       "    </tr>\n",
       "    <tr>\n",
       "      <th>2</th>\n",
       "      <td>11.294579</td>\n",
       "      <td>1.781004</td>\n",
       "      <td>0.860269</td>\n",
       "      <td>0.850513</td>\n",
       "    </tr>\n",
       "    <tr>\n",
       "      <th>3</th>\n",
       "      <td>10.919007</td>\n",
       "      <td>1.790021</td>\n",
       "      <td>0.849683</td>\n",
       "      <td>0.854120</td>\n",
       "    </tr>\n",
       "    <tr>\n",
       "      <th>4</th>\n",
       "      <td>11.087993</td>\n",
       "      <td>1.733486</td>\n",
       "      <td>0.854483</td>\n",
       "      <td>0.853160</td>\n",
       "    </tr>\n",
       "  </tbody>\n",
       "</table>\n",
       "</div>"
      ],
      "text/plain": [
       "    fit_time  score_time  test_score  train_score\n",
       "0  12.893614    1.838780    0.850864     0.853201\n",
       "1  10.757917    1.667393    0.844338     0.855744\n",
       "2  11.294579    1.781004    0.860269     0.850513\n",
       "3  10.919007    1.790021    0.849683     0.854120\n",
       "4  11.087993    1.733486    0.854483     0.853160"
      ]
     },
     "execution_count": 12,
     "metadata": {},
     "output_type": "execute_result"
    }
   ],
   "source": [
    "scores = cross_validate(pipe, X_train, y_train, return_train_score=True)\n",
    "pd.DataFrame(scores) #.mean()"
   ]
  },
  {
   "cell_type": "markdown",
   "metadata": {},
   "source": [
    "### 3). Binary Feature"
   ]
  },
  {
   "cell_type": "code",
   "execution_count": 13,
   "metadata": {},
   "outputs": [],
   "source": [
    "numeric_features = ['age', 'fnlwgt', 'capital.gain', \n",
    "                    'capital.loss', 'hours.per.week']\n",
    "categorical_features = ['workclass', 'marital.status', 'occupation', \n",
    "                        'relationship', 'race', 'native.country']\n",
    "ordinal_features = ['education']\n",
    "binary_features = ['sex']\n",
    "target_column = 'income'"
   ]
  },
  {
   "cell_type": "code",
   "execution_count": 14,
   "metadata": {},
   "outputs": [],
   "source": [
    "numeric_transformer = make_pipeline(SimpleImputer(strategy=\"median\"), StandardScaler())\n",
    "\n",
    "categorical_transformer = make_pipeline(\n",
    "    SimpleImputer(strategy=\"constant\", fill_value=\"missing\"),\n",
    "    OneHotEncoder(handle_unknown=\"ignore\"),\n",
    ")\n",
    "\n",
    "ordinal_transformer = make_pipeline(\n",
    "    SimpleImputer(strategy=\"constant\", fill_value=\"missing\"),\n",
    "    OrdinalEncoder(categories=[education_levels], dtype=int,),\n",
    "\n",
    ")\n",
    "\n",
    "binary_transformer = make_pipeline(\n",
    "    SimpleImputer(strategy=\"constant\", fill_value=\"missing\"),\n",
    "    OneHotEncoder(drop=\"if_binary\", dtype=int),    \n",
    "    )\n",
    "\n",
    "preprocessor = ColumnTransformer(\n",
    "    transformers=[\n",
    "        (\"num\", numeric_transformer, numeric_features),\n",
    "        (\"cat\", categorical_transformer, categorical_features),\n",
    "        (\"ordinal\", ordinal_transformer, ordinal_features),\n",
    "        (\"binary\", binary_transformer, binary_features)\n",
    "    ]\n",
    ")\n",
    "pipe = make_pipeline(preprocessor, SVC())"
   ]
  },
  {
   "cell_type": "code",
   "execution_count": 11,
   "metadata": {},
   "outputs": [],
   "source": [
    "X = [['Male', 1], ['Female', 3], ['Female', 2]]"
   ]
  },
  {
   "cell_type": "code",
   "execution_count": 13,
   "metadata": {},
   "outputs": [
    {
     "data": {
      "text/plain": [
       "array([[0., 1., 1., 0., 0.],\n",
       "       [1., 0., 0., 0., 1.],\n",
       "       [1., 0., 0., 1., 0.]])"
      ]
     },
     "execution_count": 13,
     "metadata": {},
     "output_type": "execute_result"
    }
   ],
   "source": [
    "ohe = OneHotEncoder(handle_unknown=\"ignore\")\n",
    "\n",
    "ohe.fit_transform(X).toarray()\n",
    "\n",
    "\n"
   ]
  },
  {
   "cell_type": "code",
   "execution_count": 16,
   "metadata": {},
   "outputs": [
    {
     "data": {
      "text/html": [
       "<div>\n",
       "<style scoped>\n",
       "    .dataframe tbody tr th:only-of-type {\n",
       "        vertical-align: middle;\n",
       "    }\n",
       "\n",
       "    .dataframe tbody tr th {\n",
       "        vertical-align: top;\n",
       "    }\n",
       "\n",
       "    .dataframe thead th {\n",
       "        text-align: right;\n",
       "    }\n",
       "</style>\n",
       "<table border=\"1\" class=\"dataframe\">\n",
       "  <thead>\n",
       "    <tr style=\"text-align: right;\">\n",
       "      <th></th>\n",
       "      <th>fit_time</th>\n",
       "      <th>score_time</th>\n",
       "      <th>test_score</th>\n",
       "      <th>train_score</th>\n",
       "    </tr>\n",
       "  </thead>\n",
       "  <tbody>\n",
       "    <tr>\n",
       "      <th>0</th>\n",
       "      <td>11.347639</td>\n",
       "      <td>1.772806</td>\n",
       "      <td>0.850864</td>\n",
       "      <td>0.853153</td>\n",
       "    </tr>\n",
       "    <tr>\n",
       "      <th>1</th>\n",
       "      <td>10.595717</td>\n",
       "      <td>1.723772</td>\n",
       "      <td>0.844530</td>\n",
       "      <td>0.855792</td>\n",
       "    </tr>\n",
       "    <tr>\n",
       "      <th>2</th>\n",
       "      <td>10.441267</td>\n",
       "      <td>1.666646</td>\n",
       "      <td>0.859693</td>\n",
       "      <td>0.850609</td>\n",
       "    </tr>\n",
       "    <tr>\n",
       "      <th>3</th>\n",
       "      <td>10.966699</td>\n",
       "      <td>1.699913</td>\n",
       "      <td>0.849299</td>\n",
       "      <td>0.853832</td>\n",
       "    </tr>\n",
       "    <tr>\n",
       "      <th>4</th>\n",
       "      <td>10.831024</td>\n",
       "      <td>1.769650</td>\n",
       "      <td>0.854291</td>\n",
       "      <td>0.853448</td>\n",
       "    </tr>\n",
       "  </tbody>\n",
       "</table>\n",
       "</div>"
      ],
      "text/plain": [
       "    fit_time  score_time  test_score  train_score\n",
       "0  11.347639    1.772806    0.850864     0.853153\n",
       "1  10.595717    1.723772    0.844530     0.855792\n",
       "2  10.441267    1.666646    0.859693     0.850609\n",
       "3  10.966699    1.699913    0.849299     0.853832\n",
       "4  10.831024    1.769650    0.854291     0.853448"
      ]
     },
     "execution_count": 16,
     "metadata": {},
     "output_type": "execute_result"
    }
   ],
   "source": [
    "scores = cross_validate(pipe, X_train, y_train, return_train_score=True)\n",
    "\n",
    "pd.DataFrame(scores)"
   ]
  },
  {
   "cell_type": "markdown",
   "metadata": {},
   "source": [
    "## 2. Encoding text data - BOW"
   ]
  },
  {
   "cell_type": "markdown",
   "metadata": {},
   "source": [
    "### 1). `CountVectorizer`\n",
    "- Converts a collection of text documents to a matrix of word counts.  \n",
    "- Each row represents a \"document\" (e.g., a text message in our example). \n",
    "- Each column represents a word in the vocabulary in the training data. \n",
    "- Each cell represents how often the word occurs in the document. \n",
    "\n",
    "#### Why sparse matrices?\n",
    "- Most words do not appear in a given document.    \n",
    "- We get massive computational savings if we only store the nonzero elements.    \n",
    "- There is a bit of overhead, because we also need to store the locations:    \n",
    "- e.g. \"location (3,31): 1\".\n",
    "- However, if the fraction of nonzero is small, this is a huge win.         \n",
    "- What would happen if you apply  `StandardScaler`  on sparse data?    \n",
    "    > [Centering sparse data would destroy the sparseness structure in the data](https://scikit-learn.org/stable/modules/preprocessing.html)    \n",
    "    > I would say that applying StandardScaler  on sparse data, especially on encoding created by `CountVectorizer`, is usually not a good idea. As you said, it'll become a dense matrix if we do it. If your vocabulary is ~75,000, similar to what you had in the IMDB data, your matrix will be of shape (75000, 75000)! I haven't seen people applying scaling on sparse data.\n",
    "        \n",
    "#### `OneHotEncoder` and sparse features \n",
    "- By default, `OneHotEncoder` also creates sparse features. \n",
    "- You could set `sparse=False` to get a regular `numpy` array. \n",
    "- If there are a huge number of categories, it may be beneficial to keep them sparse.\n",
    "- For smaller number of categories, it doesn't matter much.\n",
    "\n",
    "\n",
    "#### Important hyperparameters of `CountVectorizer` \n",
    "- `binary`\n",
    "    - whether to use absence/presence feature values or counts\n",
    "- `max_features`\n",
    "    - only consider top `max_features` ordered by frequency in the corpus\n",
    "- `max_df`\n",
    "    - ignore features which occur in more than `max_df` documents \n",
    "- `min_df` \n",
    "    - ignore features which occur in less than `min_df` documents \n",
    "- `ngram_range`\n",
    "    - consider word sequences in the given range \n",
    "    \n",
    "    "
   ]
  },
  {
   "cell_type": "code",
   "execution_count": 19,
   "metadata": {},
   "outputs": [],
   "source": [
    "X = [\n",
    "    \"URGENT!! As a valued network customer you have been selected to receive a £900 prize reward!\",\n",
    "    \"Lol you are always so convincing.\",\n",
    "    \"Nah I don't think he goes to usf, he lives around here though\",\n",
    "    \"URGENT! You have won a 1 week FREE membership in our £100000 prize Jackpot!\",\n",
    "    \"Had your mobile 11 months or more? U R entitled to Update to the latest colour mobiles with camera for Free! Call The Mobile Update Co FREE on 08002986030\",\n",
    "    \"As per your request 'Melle Melle (Oru Minnaminunginte Nurungu Vettam)' has been set as your callertune for all Callers. Press *9 to copy your friends Callertune\",\n",
    "]\n",
    "\n",
    "y = [\"spam\", \"non spam\", \"non spam\", \"spam\", \"spam\", \"non spam\"]"
   ]
  },
  {
   "cell_type": "markdown",
   "metadata": {},
   "source": [
    "### 2). Default hyperparameters"
   ]
  },
  {
   "cell_type": "code",
   "execution_count": 20,
   "metadata": {},
   "outputs": [
    {
     "data": {
      "text/html": [
       "<div>\n",
       "<style scoped>\n",
       "    .dataframe tbody tr th:only-of-type {\n",
       "        vertical-align: middle;\n",
       "    }\n",
       "\n",
       "    .dataframe tbody tr th {\n",
       "        vertical-align: top;\n",
       "    }\n",
       "\n",
       "    .dataframe thead th {\n",
       "        text-align: right;\n",
       "    }\n",
       "</style>\n",
       "<table border=\"1\" class=\"dataframe\">\n",
       "  <thead>\n",
       "    <tr style=\"text-align: right;\">\n",
       "      <th></th>\n",
       "      <th>08002986030</th>\n",
       "      <th>100000</th>\n",
       "      <th>11</th>\n",
       "      <th>900</th>\n",
       "      <th>all</th>\n",
       "      <th>always</th>\n",
       "      <th>are</th>\n",
       "      <th>around</th>\n",
       "      <th>as</th>\n",
       "      <th>been</th>\n",
       "      <th>...</th>\n",
       "      <th>update</th>\n",
       "      <th>urgent</th>\n",
       "      <th>usf</th>\n",
       "      <th>valued</th>\n",
       "      <th>vettam</th>\n",
       "      <th>week</th>\n",
       "      <th>with</th>\n",
       "      <th>won</th>\n",
       "      <th>you</th>\n",
       "      <th>your</th>\n",
       "    </tr>\n",
       "  </thead>\n",
       "  <tbody>\n",
       "    <tr>\n",
       "      <th>URGENT!! As a valued network customer you have been selected to receive a £900 prize reward!</th>\n",
       "      <td>0</td>\n",
       "      <td>0</td>\n",
       "      <td>0</td>\n",
       "      <td>1</td>\n",
       "      <td>0</td>\n",
       "      <td>0</td>\n",
       "      <td>0</td>\n",
       "      <td>0</td>\n",
       "      <td>1</td>\n",
       "      <td>1</td>\n",
       "      <td>...</td>\n",
       "      <td>0</td>\n",
       "      <td>1</td>\n",
       "      <td>0</td>\n",
       "      <td>1</td>\n",
       "      <td>0</td>\n",
       "      <td>0</td>\n",
       "      <td>0</td>\n",
       "      <td>0</td>\n",
       "      <td>1</td>\n",
       "      <td>0</td>\n",
       "    </tr>\n",
       "    <tr>\n",
       "      <th>Lol you are always so convincing.</th>\n",
       "      <td>0</td>\n",
       "      <td>0</td>\n",
       "      <td>0</td>\n",
       "      <td>0</td>\n",
       "      <td>0</td>\n",
       "      <td>1</td>\n",
       "      <td>1</td>\n",
       "      <td>0</td>\n",
       "      <td>0</td>\n",
       "      <td>0</td>\n",
       "      <td>...</td>\n",
       "      <td>0</td>\n",
       "      <td>0</td>\n",
       "      <td>0</td>\n",
       "      <td>0</td>\n",
       "      <td>0</td>\n",
       "      <td>0</td>\n",
       "      <td>0</td>\n",
       "      <td>0</td>\n",
       "      <td>1</td>\n",
       "      <td>0</td>\n",
       "    </tr>\n",
       "    <tr>\n",
       "      <th>Nah I don't think he goes to usf, he lives around here though</th>\n",
       "      <td>0</td>\n",
       "      <td>0</td>\n",
       "      <td>0</td>\n",
       "      <td>0</td>\n",
       "      <td>0</td>\n",
       "      <td>0</td>\n",
       "      <td>0</td>\n",
       "      <td>1</td>\n",
       "      <td>0</td>\n",
       "      <td>0</td>\n",
       "      <td>...</td>\n",
       "      <td>0</td>\n",
       "      <td>0</td>\n",
       "      <td>1</td>\n",
       "      <td>0</td>\n",
       "      <td>0</td>\n",
       "      <td>0</td>\n",
       "      <td>0</td>\n",
       "      <td>0</td>\n",
       "      <td>0</td>\n",
       "      <td>0</td>\n",
       "    </tr>\n",
       "    <tr>\n",
       "      <th>URGENT! You have won a 1 week FREE membership in our £100000 prize Jackpot!</th>\n",
       "      <td>0</td>\n",
       "      <td>1</td>\n",
       "      <td>0</td>\n",
       "      <td>0</td>\n",
       "      <td>0</td>\n",
       "      <td>0</td>\n",
       "      <td>0</td>\n",
       "      <td>0</td>\n",
       "      <td>0</td>\n",
       "      <td>0</td>\n",
       "      <td>...</td>\n",
       "      <td>0</td>\n",
       "      <td>1</td>\n",
       "      <td>0</td>\n",
       "      <td>0</td>\n",
       "      <td>0</td>\n",
       "      <td>1</td>\n",
       "      <td>0</td>\n",
       "      <td>1</td>\n",
       "      <td>1</td>\n",
       "      <td>0</td>\n",
       "    </tr>\n",
       "    <tr>\n",
       "      <th>Had your mobile 11 months or more? U R entitled to Update to the latest colour mobiles with camera for Free! Call The Mobile Update Co FREE on 08002986030</th>\n",
       "      <td>1</td>\n",
       "      <td>0</td>\n",
       "      <td>1</td>\n",
       "      <td>0</td>\n",
       "      <td>0</td>\n",
       "      <td>0</td>\n",
       "      <td>0</td>\n",
       "      <td>0</td>\n",
       "      <td>0</td>\n",
       "      <td>0</td>\n",
       "      <td>...</td>\n",
       "      <td>2</td>\n",
       "      <td>0</td>\n",
       "      <td>0</td>\n",
       "      <td>0</td>\n",
       "      <td>0</td>\n",
       "      <td>0</td>\n",
       "      <td>1</td>\n",
       "      <td>0</td>\n",
       "      <td>0</td>\n",
       "      <td>1</td>\n",
       "    </tr>\n",
       "    <tr>\n",
       "      <th>As per your request 'Melle Melle (Oru Minnaminunginte Nurungu Vettam)' has been set as your callertune for all Callers. Press *9 to copy your friends Callertune</th>\n",
       "      <td>0</td>\n",
       "      <td>0</td>\n",
       "      <td>0</td>\n",
       "      <td>0</td>\n",
       "      <td>1</td>\n",
       "      <td>0</td>\n",
       "      <td>0</td>\n",
       "      <td>0</td>\n",
       "      <td>2</td>\n",
       "      <td>1</td>\n",
       "      <td>...</td>\n",
       "      <td>0</td>\n",
       "      <td>0</td>\n",
       "      <td>0</td>\n",
       "      <td>0</td>\n",
       "      <td>1</td>\n",
       "      <td>0</td>\n",
       "      <td>0</td>\n",
       "      <td>0</td>\n",
       "      <td>0</td>\n",
       "      <td>3</td>\n",
       "    </tr>\n",
       "  </tbody>\n",
       "</table>\n",
       "<p>6 rows × 72 columns</p>\n",
       "</div>"
      ],
      "text/plain": [
       "                                                                                                                                                                  08002986030  \\\n",
       "URGENT!! As a valued network customer you have been selected to receive a £900 prize reward!                                                                                0   \n",
       "Lol you are always so convincing.                                                                                                                                           0   \n",
       "Nah I don't think he goes to usf, he lives around here though                                                                                                               0   \n",
       "URGENT! You have won a 1 week FREE membership in our £100000 prize Jackpot!                                                                                                 0   \n",
       "Had your mobile 11 months or more? U R entitled to Update to the latest colour mobiles with camera for Free! Call The Mobile Update Co FREE on 08002986030                  1   \n",
       "As per your request 'Melle Melle (Oru Minnaminunginte Nurungu Vettam)' has been set as your callertune for all Callers. Press *9 to copy your friends Callertune            0   \n",
       "\n",
       "                                                                                                                                                                  100000  \\\n",
       "URGENT!! As a valued network customer you have been selected to receive a £900 prize reward!                                                                           0   \n",
       "Lol you are always so convincing.                                                                                                                                      0   \n",
       "Nah I don't think he goes to usf, he lives around here though                                                                                                          0   \n",
       "URGENT! You have won a 1 week FREE membership in our £100000 prize Jackpot!                                                                                            1   \n",
       "Had your mobile 11 months or more? U R entitled to Update to the latest colour mobiles with camera for Free! Call The Mobile Update Co FREE on 08002986030             0   \n",
       "As per your request 'Melle Melle (Oru Minnaminunginte Nurungu Vettam)' has been set as your callertune for all Callers. Press *9 to copy your friends Callertune       0   \n",
       "\n",
       "                                                                                                                                                                  11  \\\n",
       "URGENT!! As a valued network customer you have been selected to receive a £900 prize reward!                                                                       0   \n",
       "Lol you are always so convincing.                                                                                                                                  0   \n",
       "Nah I don't think he goes to usf, he lives around here though                                                                                                      0   \n",
       "URGENT! You have won a 1 week FREE membership in our £100000 prize Jackpot!                                                                                        0   \n",
       "Had your mobile 11 months or more? U R entitled to Update to the latest colour mobiles with camera for Free! Call The Mobile Update Co FREE on 08002986030         1   \n",
       "As per your request 'Melle Melle (Oru Minnaminunginte Nurungu Vettam)' has been set as your callertune for all Callers. Press *9 to copy your friends Callertune   0   \n",
       "\n",
       "                                                                                                                                                                  900  \\\n",
       "URGENT!! As a valued network customer you have been selected to receive a £900 prize reward!                                                                        1   \n",
       "Lol you are always so convincing.                                                                                                                                   0   \n",
       "Nah I don't think he goes to usf, he lives around here though                                                                                                       0   \n",
       "URGENT! You have won a 1 week FREE membership in our £100000 prize Jackpot!                                                                                         0   \n",
       "Had your mobile 11 months or more? U R entitled to Update to the latest colour mobiles with camera for Free! Call The Mobile Update Co FREE on 08002986030          0   \n",
       "As per your request 'Melle Melle (Oru Minnaminunginte Nurungu Vettam)' has been set as your callertune for all Callers. Press *9 to copy your friends Callertune    0   \n",
       "\n",
       "                                                                                                                                                                  all  \\\n",
       "URGENT!! As a valued network customer you have been selected to receive a £900 prize reward!                                                                        0   \n",
       "Lol you are always so convincing.                                                                                                                                   0   \n",
       "Nah I don't think he goes to usf, he lives around here though                                                                                                       0   \n",
       "URGENT! You have won a 1 week FREE membership in our £100000 prize Jackpot!                                                                                         0   \n",
       "Had your mobile 11 months or more? U R entitled to Update to the latest colour mobiles with camera for Free! Call The Mobile Update Co FREE on 08002986030          0   \n",
       "As per your request 'Melle Melle (Oru Minnaminunginte Nurungu Vettam)' has been set as your callertune for all Callers. Press *9 to copy your friends Callertune    1   \n",
       "\n",
       "                                                                                                                                                                  always  \\\n",
       "URGENT!! As a valued network customer you have been selected to receive a £900 prize reward!                                                                           0   \n",
       "Lol you are always so convincing.                                                                                                                                      1   \n",
       "Nah I don't think he goes to usf, he lives around here though                                                                                                          0   \n",
       "URGENT! You have won a 1 week FREE membership in our £100000 prize Jackpot!                                                                                            0   \n",
       "Had your mobile 11 months or more? U R entitled to Update to the latest colour mobiles with camera for Free! Call The Mobile Update Co FREE on 08002986030             0   \n",
       "As per your request 'Melle Melle (Oru Minnaminunginte Nurungu Vettam)' has been set as your callertune for all Callers. Press *9 to copy your friends Callertune       0   \n",
       "\n",
       "                                                                                                                                                                  are  \\\n",
       "URGENT!! As a valued network customer you have been selected to receive a £900 prize reward!                                                                        0   \n",
       "Lol you are always so convincing.                                                                                                                                   1   \n",
       "Nah I don't think he goes to usf, he lives around here though                                                                                                       0   \n",
       "URGENT! You have won a 1 week FREE membership in our £100000 prize Jackpot!                                                                                         0   \n",
       "Had your mobile 11 months or more? U R entitled to Update to the latest colour mobiles with camera for Free! Call The Mobile Update Co FREE on 08002986030          0   \n",
       "As per your request 'Melle Melle (Oru Minnaminunginte Nurungu Vettam)' has been set as your callertune for all Callers. Press *9 to copy your friends Callertune    0   \n",
       "\n",
       "                                                                                                                                                                  around  \\\n",
       "URGENT!! As a valued network customer you have been selected to receive a £900 prize reward!                                                                           0   \n",
       "Lol you are always so convincing.                                                                                                                                      0   \n",
       "Nah I don't think he goes to usf, he lives around here though                                                                                                          1   \n",
       "URGENT! You have won a 1 week FREE membership in our £100000 prize Jackpot!                                                                                            0   \n",
       "Had your mobile 11 months or more? U R entitled to Update to the latest colour mobiles with camera for Free! Call The Mobile Update Co FREE on 08002986030             0   \n",
       "As per your request 'Melle Melle (Oru Minnaminunginte Nurungu Vettam)' has been set as your callertune for all Callers. Press *9 to copy your friends Callertune       0   \n",
       "\n",
       "                                                                                                                                                                  as  \\\n",
       "URGENT!! As a valued network customer you have been selected to receive a £900 prize reward!                                                                       1   \n",
       "Lol you are always so convincing.                                                                                                                                  0   \n",
       "Nah I don't think he goes to usf, he lives around here though                                                                                                      0   \n",
       "URGENT! You have won a 1 week FREE membership in our £100000 prize Jackpot!                                                                                        0   \n",
       "Had your mobile 11 months or more? U R entitled to Update to the latest colour mobiles with camera for Free! Call The Mobile Update Co FREE on 08002986030         0   \n",
       "As per your request 'Melle Melle (Oru Minnaminunginte Nurungu Vettam)' has been set as your callertune for all Callers. Press *9 to copy your friends Callertune   2   \n",
       "\n",
       "                                                                                                                                                                  been  \\\n",
       "URGENT!! As a valued network customer you have been selected to receive a £900 prize reward!                                                                         1   \n",
       "Lol you are always so convincing.                                                                                                                                    0   \n",
       "Nah I don't think he goes to usf, he lives around here though                                                                                                        0   \n",
       "URGENT! You have won a 1 week FREE membership in our £100000 prize Jackpot!                                                                                          0   \n",
       "Had your mobile 11 months or more? U R entitled to Update to the latest colour mobiles with camera for Free! Call The Mobile Update Co FREE on 08002986030           0   \n",
       "As per your request 'Melle Melle (Oru Minnaminunginte Nurungu Vettam)' has been set as your callertune for all Callers. Press *9 to copy your friends Callertune     1   \n",
       "\n",
       "                                                                                                                                                                  ...  \\\n",
       "URGENT!! As a valued network customer you have been selected to receive a £900 prize reward!                                                                      ...   \n",
       "Lol you are always so convincing.                                                                                                                                 ...   \n",
       "Nah I don't think he goes to usf, he lives around here though                                                                                                     ...   \n",
       "URGENT! You have won a 1 week FREE membership in our £100000 prize Jackpot!                                                                                       ...   \n",
       "Had your mobile 11 months or more? U R entitled to Update to the latest colour mobiles with camera for Free! Call The Mobile Update Co FREE on 08002986030        ...   \n",
       "As per your request 'Melle Melle (Oru Minnaminunginte Nurungu Vettam)' has been set as your callertune for all Callers. Press *9 to copy your friends Callertune  ...   \n",
       "\n",
       "                                                                                                                                                                  update  \\\n",
       "URGENT!! As a valued network customer you have been selected to receive a £900 prize reward!                                                                           0   \n",
       "Lol you are always so convincing.                                                                                                                                      0   \n",
       "Nah I don't think he goes to usf, he lives around here though                                                                                                          0   \n",
       "URGENT! You have won a 1 week FREE membership in our £100000 prize Jackpot!                                                                                            0   \n",
       "Had your mobile 11 months or more? U R entitled to Update to the latest colour mobiles with camera for Free! Call The Mobile Update Co FREE on 08002986030             2   \n",
       "As per your request 'Melle Melle (Oru Minnaminunginte Nurungu Vettam)' has been set as your callertune for all Callers. Press *9 to copy your friends Callertune       0   \n",
       "\n",
       "                                                                                                                                                                  urgent  \\\n",
       "URGENT!! As a valued network customer you have been selected to receive a £900 prize reward!                                                                           1   \n",
       "Lol you are always so convincing.                                                                                                                                      0   \n",
       "Nah I don't think he goes to usf, he lives around here though                                                                                                          0   \n",
       "URGENT! You have won a 1 week FREE membership in our £100000 prize Jackpot!                                                                                            1   \n",
       "Had your mobile 11 months or more? U R entitled to Update to the latest colour mobiles with camera for Free! Call The Mobile Update Co FREE on 08002986030             0   \n",
       "As per your request 'Melle Melle (Oru Minnaminunginte Nurungu Vettam)' has been set as your callertune for all Callers. Press *9 to copy your friends Callertune       0   \n",
       "\n",
       "                                                                                                                                                                  usf  \\\n",
       "URGENT!! As a valued network customer you have been selected to receive a £900 prize reward!                                                                        0   \n",
       "Lol you are always so convincing.                                                                                                                                   0   \n",
       "Nah I don't think he goes to usf, he lives around here though                                                                                                       1   \n",
       "URGENT! You have won a 1 week FREE membership in our £100000 prize Jackpot!                                                                                         0   \n",
       "Had your mobile 11 months or more? U R entitled to Update to the latest colour mobiles with camera for Free! Call The Mobile Update Co FREE on 08002986030          0   \n",
       "As per your request 'Melle Melle (Oru Minnaminunginte Nurungu Vettam)' has been set as your callertune for all Callers. Press *9 to copy your friends Callertune    0   \n",
       "\n",
       "                                                                                                                                                                  valued  \\\n",
       "URGENT!! As a valued network customer you have been selected to receive a £900 prize reward!                                                                           1   \n",
       "Lol you are always so convincing.                                                                                                                                      0   \n",
       "Nah I don't think he goes to usf, he lives around here though                                                                                                          0   \n",
       "URGENT! You have won a 1 week FREE membership in our £100000 prize Jackpot!                                                                                            0   \n",
       "Had your mobile 11 months or more? U R entitled to Update to the latest colour mobiles with camera for Free! Call The Mobile Update Co FREE on 08002986030             0   \n",
       "As per your request 'Melle Melle (Oru Minnaminunginte Nurungu Vettam)' has been set as your callertune for all Callers. Press *9 to copy your friends Callertune       0   \n",
       "\n",
       "                                                                                                                                                                  vettam  \\\n",
       "URGENT!! As a valued network customer you have been selected to receive a £900 prize reward!                                                                           0   \n",
       "Lol you are always so convincing.                                                                                                                                      0   \n",
       "Nah I don't think he goes to usf, he lives around here though                                                                                                          0   \n",
       "URGENT! You have won a 1 week FREE membership in our £100000 prize Jackpot!                                                                                            0   \n",
       "Had your mobile 11 months or more? U R entitled to Update to the latest colour mobiles with camera for Free! Call The Mobile Update Co FREE on 08002986030             0   \n",
       "As per your request 'Melle Melle (Oru Minnaminunginte Nurungu Vettam)' has been set as your callertune for all Callers. Press *9 to copy your friends Callertune       1   \n",
       "\n",
       "                                                                                                                                                                  week  \\\n",
       "URGENT!! As a valued network customer you have been selected to receive a £900 prize reward!                                                                         0   \n",
       "Lol you are always so convincing.                                                                                                                                    0   \n",
       "Nah I don't think he goes to usf, he lives around here though                                                                                                        0   \n",
       "URGENT! You have won a 1 week FREE membership in our £100000 prize Jackpot!                                                                                          1   \n",
       "Had your mobile 11 months or more? U R entitled to Update to the latest colour mobiles with camera for Free! Call The Mobile Update Co FREE on 08002986030           0   \n",
       "As per your request 'Melle Melle (Oru Minnaminunginte Nurungu Vettam)' has been set as your callertune for all Callers. Press *9 to copy your friends Callertune     0   \n",
       "\n",
       "                                                                                                                                                                  with  \\\n",
       "URGENT!! As a valued network customer you have been selected to receive a £900 prize reward!                                                                         0   \n",
       "Lol you are always so convincing.                                                                                                                                    0   \n",
       "Nah I don't think he goes to usf, he lives around here though                                                                                                        0   \n",
       "URGENT! You have won a 1 week FREE membership in our £100000 prize Jackpot!                                                                                          0   \n",
       "Had your mobile 11 months or more? U R entitled to Update to the latest colour mobiles with camera for Free! Call The Mobile Update Co FREE on 08002986030           1   \n",
       "As per your request 'Melle Melle (Oru Minnaminunginte Nurungu Vettam)' has been set as your callertune for all Callers. Press *9 to copy your friends Callertune     0   \n",
       "\n",
       "                                                                                                                                                                  won  \\\n",
       "URGENT!! As a valued network customer you have been selected to receive a £900 prize reward!                                                                        0   \n",
       "Lol you are always so convincing.                                                                                                                                   0   \n",
       "Nah I don't think he goes to usf, he lives around here though                                                                                                       0   \n",
       "URGENT! You have won a 1 week FREE membership in our £100000 prize Jackpot!                                                                                         1   \n",
       "Had your mobile 11 months or more? U R entitled to Update to the latest colour mobiles with camera for Free! Call The Mobile Update Co FREE on 08002986030          0   \n",
       "As per your request 'Melle Melle (Oru Minnaminunginte Nurungu Vettam)' has been set as your callertune for all Callers. Press *9 to copy your friends Callertune    0   \n",
       "\n",
       "                                                                                                                                                                  you  \\\n",
       "URGENT!! As a valued network customer you have been selected to receive a £900 prize reward!                                                                        1   \n",
       "Lol you are always so convincing.                                                                                                                                   1   \n",
       "Nah I don't think he goes to usf, he lives around here though                                                                                                       0   \n",
       "URGENT! You have won a 1 week FREE membership in our £100000 prize Jackpot!                                                                                         1   \n",
       "Had your mobile 11 months or more? U R entitled to Update to the latest colour mobiles with camera for Free! Call The Mobile Update Co FREE on 08002986030          0   \n",
       "As per your request 'Melle Melle (Oru Minnaminunginte Nurungu Vettam)' has been set as your callertune for all Callers. Press *9 to copy your friends Callertune    0   \n",
       "\n",
       "                                                                                                                                                                  your  \n",
       "URGENT!! As a valued network customer you have been selected to receive a £900 prize reward!                                                                         0  \n",
       "Lol you are always so convincing.                                                                                                                                    0  \n",
       "Nah I don't think he goes to usf, he lives around here though                                                                                                        0  \n",
       "URGENT! You have won a 1 week FREE membership in our £100000 prize Jackpot!                                                                                          0  \n",
       "Had your mobile 11 months or more? U R entitled to Update to the latest colour mobiles with camera for Free! Call The Mobile Update Co FREE on 08002986030           1  \n",
       "As per your request 'Melle Melle (Oru Minnaminunginte Nurungu Vettam)' has been set as your callertune for all Callers. Press *9 to copy your friends Callertune     3  \n",
       "\n",
       "[6 rows x 72 columns]"
      ]
     },
     "execution_count": 20,
     "metadata": {},
     "output_type": "execute_result"
    }
   ],
   "source": [
    "vec = CountVectorizer()\n",
    "\n",
    "X_counts = vec.fit_transform(X) # sparse matrix\n",
    "\n",
    "bow_df = pd.DataFrame(X_counts.toarray(), columns=sorted(vec.vocabulary_), index=X)\n",
    "\n",
    "bow_df"
   ]
  },
  {
   "cell_type": "code",
   "execution_count": 18,
   "metadata": {},
   "outputs": [
    {
     "name": "stdout",
     "output_type": "stream",
     "text": [
      "The total number of elements:  432\n",
      "The number of non-zero elements:  85\n",
      "Proportion of non-zero elements: 0.1968\n",
      "The value at cell 3,31 is: 1\n"
     ]
    }
   ],
   "source": [
    "print(\"The total number of elements: \", np.prod(X_counts.shape))\n",
    "print(\"The number of non-zero elements: \", X_counts.nnz)\n",
    "print(\n",
    "    \"Proportion of non-zero elements: %0.4f\" % (X_counts.nnz / np.prod(X_counts.shape))\n",
    ")\n",
    "print(\"The value at cell 3,%d is: %d\" % (vec.vocabulary_[\"jackpot\"], X_counts[3, vec.vocabulary_[\"jackpot\"]]))"
   ]
  },
  {
   "cell_type": "markdown",
   "metadata": {},
   "source": [
    "### 3). `binary=True, max_features=8`"
   ]
  },
  {
   "cell_type": "code",
   "execution_count": 25,
   "metadata": {},
   "outputs": [
    {
     "data": {
      "text/html": [
       "<div>\n",
       "<style scoped>\n",
       "    .dataframe tbody tr th:only-of-type {\n",
       "        vertical-align: middle;\n",
       "    }\n",
       "\n",
       "    .dataframe tbody tr th {\n",
       "        vertical-align: top;\n",
       "    }\n",
       "\n",
       "    .dataframe thead th {\n",
       "        text-align: right;\n",
       "    }\n",
       "</style>\n",
       "<table border=\"1\" class=\"dataframe\">\n",
       "  <thead>\n",
       "    <tr style=\"text-align: right;\">\n",
       "      <th></th>\n",
       "      <th>as</th>\n",
       "      <th>been</th>\n",
       "      <th>free</th>\n",
       "      <th>have</th>\n",
       "      <th>prize</th>\n",
       "      <th>to</th>\n",
       "      <th>you</th>\n",
       "      <th>your</th>\n",
       "    </tr>\n",
       "  </thead>\n",
       "  <tbody>\n",
       "    <tr>\n",
       "      <th>URGENT!! As a valued network customer you have been selected to receive a £900 prize reward!</th>\n",
       "      <td>1</td>\n",
       "      <td>1</td>\n",
       "      <td>0</td>\n",
       "      <td>1</td>\n",
       "      <td>1</td>\n",
       "      <td>1</td>\n",
       "      <td>1</td>\n",
       "      <td>0</td>\n",
       "    </tr>\n",
       "    <tr>\n",
       "      <th>Lol you are always so convincing.</th>\n",
       "      <td>0</td>\n",
       "      <td>0</td>\n",
       "      <td>0</td>\n",
       "      <td>0</td>\n",
       "      <td>0</td>\n",
       "      <td>0</td>\n",
       "      <td>1</td>\n",
       "      <td>0</td>\n",
       "    </tr>\n",
       "    <tr>\n",
       "      <th>Nah I don't think he goes to usf, he lives around here though</th>\n",
       "      <td>0</td>\n",
       "      <td>0</td>\n",
       "      <td>0</td>\n",
       "      <td>0</td>\n",
       "      <td>0</td>\n",
       "      <td>1</td>\n",
       "      <td>0</td>\n",
       "      <td>0</td>\n",
       "    </tr>\n",
       "    <tr>\n",
       "      <th>URGENT! You have won a 1 week FREE membership in our £100000 prize Jackpot!</th>\n",
       "      <td>0</td>\n",
       "      <td>0</td>\n",
       "      <td>1</td>\n",
       "      <td>1</td>\n",
       "      <td>1</td>\n",
       "      <td>0</td>\n",
       "      <td>1</td>\n",
       "      <td>0</td>\n",
       "    </tr>\n",
       "    <tr>\n",
       "      <th>Had your mobile 11 months or more? U R entitled to Update to the latest colour mobiles with camera for Free! Call The Mobile Update Co FREE on 08002986030</th>\n",
       "      <td>0</td>\n",
       "      <td>0</td>\n",
       "      <td>1</td>\n",
       "      <td>0</td>\n",
       "      <td>0</td>\n",
       "      <td>1</td>\n",
       "      <td>0</td>\n",
       "      <td>1</td>\n",
       "    </tr>\n",
       "    <tr>\n",
       "      <th>As per your request 'Melle Melle (Oru Minnaminunginte Nurungu Vettam)' has been set as your callertune for all Callers. Press *9 to copy your friends Callertune</th>\n",
       "      <td>1</td>\n",
       "      <td>1</td>\n",
       "      <td>0</td>\n",
       "      <td>0</td>\n",
       "      <td>0</td>\n",
       "      <td>1</td>\n",
       "      <td>0</td>\n",
       "      <td>1</td>\n",
       "    </tr>\n",
       "  </tbody>\n",
       "</table>\n",
       "</div>"
      ],
      "text/plain": [
       "                                                                                                                                                                  as  \\\n",
       "URGENT!! As a valued network customer you have been selected to receive a £900 prize reward!                                                                       1   \n",
       "Lol you are always so convincing.                                                                                                                                  0   \n",
       "Nah I don't think he goes to usf, he lives around here though                                                                                                      0   \n",
       "URGENT! You have won a 1 week FREE membership in our £100000 prize Jackpot!                                                                                        0   \n",
       "Had your mobile 11 months or more? U R entitled to Update to the latest colour mobiles with camera for Free! Call The Mobile Update Co FREE on 08002986030         0   \n",
       "As per your request 'Melle Melle (Oru Minnaminunginte Nurungu Vettam)' has been set as your callertune for all Callers. Press *9 to copy your friends Callertune   1   \n",
       "\n",
       "                                                                                                                                                                  been  \\\n",
       "URGENT!! As a valued network customer you have been selected to receive a £900 prize reward!                                                                         1   \n",
       "Lol you are always so convincing.                                                                                                                                    0   \n",
       "Nah I don't think he goes to usf, he lives around here though                                                                                                        0   \n",
       "URGENT! You have won a 1 week FREE membership in our £100000 prize Jackpot!                                                                                          0   \n",
       "Had your mobile 11 months or more? U R entitled to Update to the latest colour mobiles with camera for Free! Call The Mobile Update Co FREE on 08002986030           0   \n",
       "As per your request 'Melle Melle (Oru Minnaminunginte Nurungu Vettam)' has been set as your callertune for all Callers. Press *9 to copy your friends Callertune     1   \n",
       "\n",
       "                                                                                                                                                                  free  \\\n",
       "URGENT!! As a valued network customer you have been selected to receive a £900 prize reward!                                                                         0   \n",
       "Lol you are always so convincing.                                                                                                                                    0   \n",
       "Nah I don't think he goes to usf, he lives around here though                                                                                                        0   \n",
       "URGENT! You have won a 1 week FREE membership in our £100000 prize Jackpot!                                                                                          1   \n",
       "Had your mobile 11 months or more? U R entitled to Update to the latest colour mobiles with camera for Free! Call The Mobile Update Co FREE on 08002986030           1   \n",
       "As per your request 'Melle Melle (Oru Minnaminunginte Nurungu Vettam)' has been set as your callertune for all Callers. Press *9 to copy your friends Callertune     0   \n",
       "\n",
       "                                                                                                                                                                  have  \\\n",
       "URGENT!! As a valued network customer you have been selected to receive a £900 prize reward!                                                                         1   \n",
       "Lol you are always so convincing.                                                                                                                                    0   \n",
       "Nah I don't think he goes to usf, he lives around here though                                                                                                        0   \n",
       "URGENT! You have won a 1 week FREE membership in our £100000 prize Jackpot!                                                                                          1   \n",
       "Had your mobile 11 months or more? U R entitled to Update to the latest colour mobiles with camera for Free! Call The Mobile Update Co FREE on 08002986030           0   \n",
       "As per your request 'Melle Melle (Oru Minnaminunginte Nurungu Vettam)' has been set as your callertune for all Callers. Press *9 to copy your friends Callertune     0   \n",
       "\n",
       "                                                                                                                                                                  prize  \\\n",
       "URGENT!! As a valued network customer you have been selected to receive a £900 prize reward!                                                                          1   \n",
       "Lol you are always so convincing.                                                                                                                                     0   \n",
       "Nah I don't think he goes to usf, he lives around here though                                                                                                         0   \n",
       "URGENT! You have won a 1 week FREE membership in our £100000 prize Jackpot!                                                                                           1   \n",
       "Had your mobile 11 months or more? U R entitled to Update to the latest colour mobiles with camera for Free! Call The Mobile Update Co FREE on 08002986030            0   \n",
       "As per your request 'Melle Melle (Oru Minnaminunginte Nurungu Vettam)' has been set as your callertune for all Callers. Press *9 to copy your friends Callertune      0   \n",
       "\n",
       "                                                                                                                                                                  to  \\\n",
       "URGENT!! As a valued network customer you have been selected to receive a £900 prize reward!                                                                       1   \n",
       "Lol you are always so convincing.                                                                                                                                  0   \n",
       "Nah I don't think he goes to usf, he lives around here though                                                                                                      1   \n",
       "URGENT! You have won a 1 week FREE membership in our £100000 prize Jackpot!                                                                                        0   \n",
       "Had your mobile 11 months or more? U R entitled to Update to the latest colour mobiles with camera for Free! Call The Mobile Update Co FREE on 08002986030         1   \n",
       "As per your request 'Melle Melle (Oru Minnaminunginte Nurungu Vettam)' has been set as your callertune for all Callers. Press *9 to copy your friends Callertune   1   \n",
       "\n",
       "                                                                                                                                                                  you  \\\n",
       "URGENT!! As a valued network customer you have been selected to receive a £900 prize reward!                                                                        1   \n",
       "Lol you are always so convincing.                                                                                                                                   1   \n",
       "Nah I don't think he goes to usf, he lives around here though                                                                                                       0   \n",
       "URGENT! You have won a 1 week FREE membership in our £100000 prize Jackpot!                                                                                         1   \n",
       "Had your mobile 11 months or more? U R entitled to Update to the latest colour mobiles with camera for Free! Call The Mobile Update Co FREE on 08002986030          0   \n",
       "As per your request 'Melle Melle (Oru Minnaminunginte Nurungu Vettam)' has been set as your callertune for all Callers. Press *9 to copy your friends Callertune    0   \n",
       "\n",
       "                                                                                                                                                                  your  \n",
       "URGENT!! As a valued network customer you have been selected to receive a £900 prize reward!                                                                         0  \n",
       "Lol you are always so convincing.                                                                                                                                    0  \n",
       "Nah I don't think he goes to usf, he lives around here though                                                                                                        0  \n",
       "URGENT! You have won a 1 week FREE membership in our £100000 prize Jackpot!                                                                                          0  \n",
       "Had your mobile 11 months or more? U R entitled to Update to the latest colour mobiles with camera for Free! Call The Mobile Update Co FREE on 08002986030           1  \n",
       "As per your request 'Melle Melle (Oru Minnaminunginte Nurungu Vettam)' has been set as your callertune for all Callers. Press *9 to copy your friends Callertune     1  "
      ]
     },
     "execution_count": 25,
     "metadata": {},
     "output_type": "execute_result"
    }
   ],
   "source": [
    "# We can control the size of X (the number of features) using `max_features`\n",
    "vec8 = CountVectorizer(binary=True, max_features=8)\n",
    "\n",
    "X_counts = vec8.fit_transform(X)\n",
    "\n",
    "pd.DataFrame(data = X_counts.sum(axis=0).tolist()[0], \n",
    "             index = vec8.get_feature_names(), columns=['counts']).sort_values('counts', ascending=False)\n",
    "\n",
    "bow_df = pd.DataFrame(X_counts.toarray(), columns=sorted(vec8.vocabulary_), index=X)\n",
    "bow_df"
   ]
  },
  {
   "cell_type": "markdown",
   "metadata": {},
   "source": [
    "## 3. Questions\n",
    "\n",
    "#### 1) `handle_unknown=\"ignore\"` would treat all unknown categories equally.\n",
    "\n",
    "> True \n",
    "\n",
    "When this parameter is set to ‘ignore’ and an unknown category is encountered during transform, the resulting one-hot encoded columns for this feature will be all zeros.\n",
    "#### 2) Creating groups of rarely occurring categories might overfit the model.\n",
    "> False.    \n",
    "\n",
    "Creating groups of rarely occurring categories would help with generalization. Rare categories would be put in appropriate groups and you would have enough data to learn meaningful patterns for each group.\n",
    "\n",
    "\n",
    "#### 3) `CountVectorizer`: True or False\n",
    "\n",
    "#### As you increase the value for `max_features` hyperparameter of `CountVectorizer` the training score is likely to go up. \n",
    "> Varada's answer: True because increasing the value of `max_features` means we include each and every word from the training data in the dictionary and the training score is likely to go up. \n",
    "#### If we encounter a word in the validation or the test split that's not available in the training data, we'll get an error. \n",
    "> Varada's answer: False because if the word isn't in the dictionary, we would just ignore the word. \n",
    "#### `max_df` hyperparameter of `CountVectorizer` can be used to get rid of most frequently occurring words from the dictionary.    \n",
    "> True because words such as _a_, _the_, _in_, _of_ occur in most of the documents, and with `max_df` hyperparameter, we can control the features to be used based on the number of documents they occur in. So if we set this to a higher proportion, we can get rid of such stop words.    "
   ]
  },
  {
   "cell_type": "markdown",
   "metadata": {},
   "source": [
    "# Lecture 6: Hyperparameter optimization and optimization bias"
   ]
  },
  {
   "cell_type": "code",
   "execution_count": 30,
   "metadata": {},
   "outputs": [],
   "source": [
    "# numeric features\n",
    "# ----------------\n",
    "numeric_transformer = make_pipeline(SimpleImputer(strategy=\"median\"), StandardScaler())\n",
    "\n",
    "# categorical features\n",
    "# --------------------\n",
    "categorical_transformer = make_pipeline(\n",
    "    SimpleImputer(strategy=\"constant\", fill_value=\"missing\"),\n",
    "    OneHotEncoder(handle_unknown=\"ignore\"),\n",
    ")\n",
    "\n",
    "# ordinal features\n",
    "# --------------------\n",
    "ordinal_transformer = make_pipeline(\n",
    "    SimpleImputer(strategy=\"constant\", fill_value=\"missing\"),\n",
    "    OrdinalEncoder(categories=[education_levels], dtype=int,),\n",
    "\n",
    ")\n",
    "\n",
    "# all preprocessors\n",
    "# --------------------\n",
    "preprocessor = ColumnTransformer(\n",
    "    transformers=[\n",
    "        (\"num\", numeric_transformer, numeric_features),\n",
    "        (\"cat\", categorical_transformer, categorical_features),\n",
    "        (\"ordinal\", ordinal_transformer, ordinal_features)\n",
    "    ]\n",
    ")\n",
    "\n",
    "\n",
    "# pipe\n",
    "# --------------------------------------------------------------------------------\n",
    "pipe = make_pipeline(preprocessor, SVC())"
   ]
  },
  {
   "cell_type": "markdown",
   "metadata": {},
   "source": [
    "## 1. `GridSearchCV`\n",
    "\n",
    "### What?\n",
    "> Exhaustive search over specified parameter values for an estimator.\n",
    "\n",
    "\n",
    "\n",
    "### Problems with exhaustive grid search \n",
    "\n",
    "- Required number of models to evaluate grows exponentially with the dimensionally of the configuration space. \n",
    "- Example: Suppose you have\n",
    "    - 5 hyperparameters \n",
    "    - 10 different values for each hyperparameter\n",
    "    - You'll be evaluating $10^5=100,000$ models! That is you'll be calling `cross_validate` 100,000 times!\n",
    "- Exhaustive search may become infeasible fairly quickly. \n",
    "- Other options? "
   ]
  },
  {
   "cell_type": "code",
   "execution_count": 32,
   "metadata": {},
   "outputs": [],
   "source": [
    "param_grid = {\n",
    "    \"svc__gamma\": [0.1, 1.0],\n",
    "    \"svc__C\": [0.1, 1.0],\n",
    "}\n",
    "\n",
    "grid_search = GridSearchCV(pipe, param_grid, cv=5, n_jobs=-1, return_train_score=True)\n",
    "grid_search.fit(X_train, y_train);"
   ]
  },
  {
   "cell_type": "code",
   "execution_count": 33,
   "metadata": {},
   "outputs": [
    {
     "name": "stdout",
     "output_type": "stream",
     "text": [
      "Best cv score from grid search: 0.856\n"
     ]
    },
    {
     "data": {
      "text/plain": [
       "{'svc__C': 1.0, 'svc__gamma': 0.1}"
      ]
     },
     "execution_count": 33,
     "metadata": {},
     "output_type": "execute_result"
    }
   ],
   "source": [
    "print(\"Best cv score from grid search: %.3f\" % grid_search.best_score_)\n",
    "grid_search.best_params_"
   ]
  },
  {
   "cell_type": "code",
   "execution_count": 34,
   "metadata": {},
   "outputs": [
    {
     "data": {
      "text/html": [
       "<div>\n",
       "<style scoped>\n",
       "    .dataframe tbody tr th:only-of-type {\n",
       "        vertical-align: middle;\n",
       "    }\n",
       "\n",
       "    .dataframe tbody tr th {\n",
       "        vertical-align: top;\n",
       "    }\n",
       "\n",
       "    .dataframe thead th {\n",
       "        text-align: right;\n",
       "    }\n",
       "</style>\n",
       "<table border=\"1\" class=\"dataframe\">\n",
       "  <thead>\n",
       "    <tr style=\"text-align: right;\">\n",
       "      <th></th>\n",
       "      <th>mean_fit_time</th>\n",
       "      <th>std_fit_time</th>\n",
       "      <th>mean_score_time</th>\n",
       "      <th>std_score_time</th>\n",
       "      <th>param_svc__C</th>\n",
       "      <th>param_svc__gamma</th>\n",
       "      <th>params</th>\n",
       "      <th>split0_test_score</th>\n",
       "      <th>split1_test_score</th>\n",
       "      <th>split2_test_score</th>\n",
       "      <th>...</th>\n",
       "      <th>split4_test_score</th>\n",
       "      <th>mean_test_score</th>\n",
       "      <th>std_test_score</th>\n",
       "      <th>split0_train_score</th>\n",
       "      <th>split1_train_score</th>\n",
       "      <th>split2_train_score</th>\n",
       "      <th>split3_train_score</th>\n",
       "      <th>split4_train_score</th>\n",
       "      <th>mean_train_score</th>\n",
       "      <th>std_train_score</th>\n",
       "    </tr>\n",
       "    <tr>\n",
       "      <th>rank_test_score</th>\n",
       "      <th></th>\n",
       "      <th></th>\n",
       "      <th></th>\n",
       "      <th></th>\n",
       "      <th></th>\n",
       "      <th></th>\n",
       "      <th></th>\n",
       "      <th></th>\n",
       "      <th></th>\n",
       "      <th></th>\n",
       "      <th></th>\n",
       "      <th></th>\n",
       "      <th></th>\n",
       "      <th></th>\n",
       "      <th></th>\n",
       "      <th></th>\n",
       "      <th></th>\n",
       "      <th></th>\n",
       "      <th></th>\n",
       "      <th></th>\n",
       "      <th></th>\n",
       "    </tr>\n",
       "  </thead>\n",
       "  <tbody>\n",
       "    <tr>\n",
       "      <th>1</th>\n",
       "      <td>28.464113</td>\n",
       "      <td>0.792866</td>\n",
       "      <td>3.498721</td>\n",
       "      <td>0.082208</td>\n",
       "      <td>1</td>\n",
       "      <td>0.1</td>\n",
       "      <td>{'svc__C': 1.0, 'svc__gamma': 0.1}</td>\n",
       "      <td>0.857965</td>\n",
       "      <td>0.848369</td>\n",
       "      <td>0.865067</td>\n",
       "      <td>...</td>\n",
       "      <td>0.857362</td>\n",
       "      <td>0.856380</td>\n",
       "      <td>0.005543</td>\n",
       "      <td>0.870141</td>\n",
       "      <td>0.872061</td>\n",
       "      <td>0.867454</td>\n",
       "      <td>0.869523</td>\n",
       "      <td>0.869859</td>\n",
       "      <td>0.869808</td>\n",
       "      <td>0.001470</td>\n",
       "    </tr>\n",
       "    <tr>\n",
       "      <th>2</th>\n",
       "      <td>29.135489</td>\n",
       "      <td>0.185586</td>\n",
       "      <td>3.744439</td>\n",
       "      <td>0.012246</td>\n",
       "      <td>0.1</td>\n",
       "      <td>0.1</td>\n",
       "      <td>{'svc__C': 0.1, 'svc__gamma': 0.1}</td>\n",
       "      <td>0.850096</td>\n",
       "      <td>0.843186</td>\n",
       "      <td>0.854894</td>\n",
       "      <td>...</td>\n",
       "      <td>0.853907</td>\n",
       "      <td>0.849893</td>\n",
       "      <td>0.004300</td>\n",
       "      <td>0.853825</td>\n",
       "      <td>0.854449</td>\n",
       "      <td>0.851329</td>\n",
       "      <td>0.853688</td>\n",
       "      <td>0.852488</td>\n",
       "      <td>0.853156</td>\n",
       "      <td>0.001112</td>\n",
       "    </tr>\n",
       "    <tr>\n",
       "      <th>3</th>\n",
       "      <td>127.062997</td>\n",
       "      <td>12.207516</td>\n",
       "      <td>5.367153</td>\n",
       "      <td>1.302088</td>\n",
       "      <td>1</td>\n",
       "      <td>1</td>\n",
       "      <td>{'svc__C': 1.0, 'svc__gamma': 1.0}</td>\n",
       "      <td>0.816123</td>\n",
       "      <td>0.814012</td>\n",
       "      <td>0.815355</td>\n",
       "      <td>...</td>\n",
       "      <td>0.812056</td>\n",
       "      <td>0.814458</td>\n",
       "      <td>0.001388</td>\n",
       "      <td>0.939821</td>\n",
       "      <td>0.941597</td>\n",
       "      <td>0.940637</td>\n",
       "      <td>0.942560</td>\n",
       "      <td>0.941552</td>\n",
       "      <td>0.941233</td>\n",
       "      <td>0.000932</td>\n",
       "    </tr>\n",
       "    <tr>\n",
       "      <th>4</th>\n",
       "      <td>158.147294</td>\n",
       "      <td>13.014553</td>\n",
       "      <td>8.150106</td>\n",
       "      <td>0.091010</td>\n",
       "      <td>0.1</td>\n",
       "      <td>1</td>\n",
       "      <td>{'svc__C': 0.1, 'svc__gamma': 1.0}</td>\n",
       "      <td>0.775624</td>\n",
       "      <td>0.776775</td>\n",
       "      <td>0.775240</td>\n",
       "      <td>...</td>\n",
       "      <td>0.774621</td>\n",
       "      <td>0.776605</td>\n",
       "      <td>0.002195</td>\n",
       "      <td>0.782417</td>\n",
       "      <td>0.781217</td>\n",
       "      <td>0.780545</td>\n",
       "      <td>0.781611</td>\n",
       "      <td>0.782523</td>\n",
       "      <td>0.781663</td>\n",
       "      <td>0.000743</td>\n",
       "    </tr>\n",
       "  </tbody>\n",
       "</table>\n",
       "<p>4 rows × 21 columns</p>\n",
       "</div>"
      ],
      "text/plain": [
       "                 mean_fit_time  std_fit_time  mean_score_time  std_score_time  \\\n",
       "rank_test_score                                                                 \n",
       "1                    28.464113      0.792866         3.498721        0.082208   \n",
       "2                    29.135489      0.185586         3.744439        0.012246   \n",
       "3                   127.062997     12.207516         5.367153        1.302088   \n",
       "4                   158.147294     13.014553         8.150106        0.091010   \n",
       "\n",
       "                param_svc__C param_svc__gamma  \\\n",
       "rank_test_score                                 \n",
       "1                          1              0.1   \n",
       "2                        0.1              0.1   \n",
       "3                          1                1   \n",
       "4                        0.1                1   \n",
       "\n",
       "                                             params  split0_test_score  \\\n",
       "rank_test_score                                                          \n",
       "1                {'svc__C': 1.0, 'svc__gamma': 0.1}           0.857965   \n",
       "2                {'svc__C': 0.1, 'svc__gamma': 0.1}           0.850096   \n",
       "3                {'svc__C': 1.0, 'svc__gamma': 1.0}           0.816123   \n",
       "4                {'svc__C': 0.1, 'svc__gamma': 1.0}           0.775624   \n",
       "\n",
       "                 split1_test_score  split2_test_score  ...  split4_test_score  \\\n",
       "rank_test_score                                        ...                      \n",
       "1                         0.848369           0.865067  ...           0.857362   \n",
       "2                         0.843186           0.854894  ...           0.853907   \n",
       "3                         0.814012           0.815355  ...           0.812056   \n",
       "4                         0.776775           0.775240  ...           0.774621   \n",
       "\n",
       "                 mean_test_score  std_test_score  split0_train_score  \\\n",
       "rank_test_score                                                        \n",
       "1                       0.856380        0.005543            0.870141   \n",
       "2                       0.849893        0.004300            0.853825   \n",
       "3                       0.814458        0.001388            0.939821   \n",
       "4                       0.776605        0.002195            0.782417   \n",
       "\n",
       "                 split1_train_score  split2_train_score  split3_train_score  \\\n",
       "rank_test_score                                                               \n",
       "1                          0.872061            0.867454            0.869523   \n",
       "2                          0.854449            0.851329            0.853688   \n",
       "3                          0.941597            0.940637            0.942560   \n",
       "4                          0.781217            0.780545            0.781611   \n",
       "\n",
       "                 split4_train_score  mean_train_score  std_train_score  \n",
       "rank_test_score                                                         \n",
       "1                          0.869859          0.869808         0.001470  \n",
       "2                          0.852488          0.853156         0.001112  \n",
       "3                          0.941552          0.941233         0.000932  \n",
       "4                          0.782523          0.781663         0.000743  \n",
       "\n",
       "[4 rows x 21 columns]"
      ]
     },
     "execution_count": 34,
     "metadata": {},
     "output_type": "execute_result"
    }
   ],
   "source": [
    "pd.DataFrame(grid_search.cv_results_).set_index(\"rank_test_score\").sort_index()"
   ]
  },
  {
   "cell_type": "markdown",
   "metadata": {},
   "source": [
    "## 2. The `__` syntax \n",
    "\n",
    "- Above: we have a nesting of transformers.\n",
    "- We can access the parameters of the \"inner\" objects by using __ to go \"deeper\":\n",
    "- `svc__gamma`: the `gamma` of the `svc` of the pipeline\n",
    "- `svc__C`: the `C` of the `svc` of the pipeline\n",
    "\n",
    "For example:\n",
    "> `columntransformer__num__simpleimputer__strategy` \n",
    "\n",
    "the strategy used with `SimpleImputer` of the preprocessor in the pipeline. \n",
    "Later in the course we'll see even deeper nesting, like preprocessor__numeric__imputer__strategy."
   ]
  },
  {
   "cell_type": "code",
   "execution_count": 4,
   "metadata": {},
   "outputs": [],
   "source": [
    "from sklearn.linear_model import LogisticRegression\n",
    "\n",
    "pipe = make_pipeline(CountVectorizer(), LogisticRegression())"
   ]
  },
  {
   "cell_type": "code",
   "execution_count": 6,
   "metadata": {},
   "outputs": [
    {
     "data": {
      "text/plain": [
       "Pipeline(steps=[('countvectorizer', CountVectorizer()),\n",
       "                ('logisticregression', LogisticRegression())])"
      ]
     },
     "execution_count": 6,
     "metadata": {},
     "output_type": "execute_result"
    }
   ],
   "source": [
    "pipe"
   ]
  },
  {
   "cell_type": "code",
   "execution_count": 21,
   "metadata": {},
   "outputs": [],
   "source": [
    "param_grid = {\n",
    "    \"countvectorizer__binary\": [True, False],\n",
    "    \"countvectorizer__max_features\": [100, 1000, 10_000, 50_000],\n",
    "    \"logisticregression__C\": [0.001, 0.01, 0.1, 1, 10, 100]\n",
    "}"
   ]
  },
  {
   "cell_type": "code",
   "execution_count": null,
   "metadata": {},
   "outputs": [],
   "source": [
    "param_grid = {\n",
    "    \"svc__gamma\": [0.1, 1.0],\n",
    "    \"columntransformer__num__simpleimputer__strategy\": ['mean', 'median'],\n",
    "}\n",
    "\n",
    "grid_search = GridSearchCV(pipe, param_grid, cv=5, n_jobs=-1, return_train_score=True);\n",
    "grid_search.fit(X_train, y_train);"
   ]
  },
  {
   "cell_type": "code",
   "execution_count": null,
   "metadata": {},
   "outputs": [],
   "source": [
    "print((\"Best SVC from grid search: %.3f\" % grid_search.score(X_test, y_test)))\n",
    "grid_search.best_params_\n",
    "pd.DataFrame(grid_search.cv_results_).sort_values('rank_test_score')"
   ]
  },
  {
   "cell_type": "code",
   "execution_count": null,
   "metadata": {},
   "outputs": [],
   "source": [
    "pd.DataFrame(grid_search.cv_results_)[\n",
    "    [\n",
    "        \"mean_test_score\",\n",
    "        \"param_columntransformer__num__simpleimputer__strategy\",\n",
    "        \"param_svc__gamma\",\n",
    "        \"mean_fit_time\",\n",
    "        \"rank_test_score\",\n",
    "    ]\n",
    "].set_index(\"rank_test_score\").sort_index()"
   ]
  },
  {
   "cell_type": "markdown",
   "metadata": {},
   "source": [
    "## 3. `RandomizedSearchCV`\n",
    "\n",
    "### What?\n",
    "> - In contrast to GridSearchCV, not all parameter values are tried out, but rather a fixed number of parameter settings is sampled from the specified distributions. The number of parameter settings that are tried is given by `n_iter`.\n",
    "> - If **all parameters are presented as a list**, sampling without replacement is performed. If **at least one parameter is given as a distribution**, sampling with replacement is used. It is highly recommended to use continuous distributions for continuous parameters.\n",
    "### Advantages of `RandomizedSearchCV`\n",
    "\n",
    "- Faster compared to `GridSearchCV`.\n",
    "- Adding parameters that do not influence the performance does not affect efficiency.\n",
    "- In general, I recommend using `RandomizedSearchCV` rather than `GridSearchCV`.  "
   ]
  },
  {
   "cell_type": "code",
   "execution_count": null,
   "metadata": {},
   "outputs": [],
   "source": [
    "param_grid = {\n",
    "    \"svc__gamma\": 10.0 ** np.arange(-6, 6),\n",
    "    \"svc__C\": 10.0 ** np.arange(-6, 6)\n",
    "}\n",
    "print(\"Grid size: %d\" %(np.prod(list(map(len, param_grid.values())))))\n",
    "param_grid\n",
    "\n",
    "random_search = RandomizedSearchCV(pipe, param_distributions=param_grid, n_jobs=-1, n_iter=10, cv=5);\n",
    "random_search.fit(X_train, y_train);"
   ]
  },
  {
   "cell_type": "code",
   "execution_count": null,
   "metadata": {},
   "outputs": [],
   "source": [
    "pd.DataFrame(random_search.cv_results_)[\n",
    "    [\n",
    "        \"mean_test_score\",\n",
    "        \"param_svc__gamma\",\n",
    "        \"param_svc__C\",\n",
    "        \"mean_fit_time\",\n",
    "        \"rank_test_score\",\n",
    "    ]\n",
    "].set_index(\"rank_test_score\").sort_index()"
   ]
  },
  {
   "cell_type": "markdown",
   "metadata": {},
   "source": [
    "## 4. Optimization bias"
   ]
  },
  {
   "cell_type": "markdown",
   "metadata": {},
   "source": [
    ">  Overfitting of the validation data\n",
    "\n",
    "### 1). Overfitting of the validation data\n",
    "\n",
    "<center>\n",
    "<img src='img/bias2.png' width=\"800\">\n",
    "</center>\n",
    "\n",
    "\n",
    "[Source](https://amueller.github.io/COMS4995-s20/slides/aml-03-supervised-learning/#20)\n",
    "### 2). Overfitting of the validation error \n",
    "\n",
    "- Why do we need to evaluate the model on the test set in the end?\n",
    "- Why not just use cross-validation on the whole dataset? \n",
    "- While carrying out hyperparameter optimization, we end up trying over many possibilities.  \n",
    "- If our dataset is small and if your validation set is hit too many times, we suffer from **optimization bias** or **overfitting the validation set**. \n",
    "\n",
    "\n",
    "### 3). Optimization bias of parameter learning:\n",
    "- During learning, we could search over tons of different decision trees.\n",
    "- So we can get \"lucky\" and find one with low training error by chance.\n",
    "    - \"Overfitting of the training error\".\n",
    "    \n",
    "### 4). Optimization bias of hyper-parameter learning:\n",
    "- Here, we might optimize the validation error over 100 values of `max_depth`.\n",
    "- One of the 100 trees might have low validation error by chance."
   ]
  },
  {
   "cell_type": "markdown",
   "metadata": {},
   "source": [
    "## 5. Questions\n",
    "\n",
    "---\n",
    "## 1). `GridSearchCV` VS `RandomizedSearchCV`\n",
    "\n",
    "### Questions for class discussion (hyperparameter optimization)\n",
    "\n",
    "- Suppose you have 10 hyperparameters, each with 4 possible values. If you run `GridSearchCV` with this parameter grid, how many cross-validation experiments it would carry out? \n",
    "> $4^{10}$\n",
    "\n",
    "\n",
    "- `GridSearchCV` exhaustively searches the grid and so it's guaranteed to give you the optimal hyperparameters for the given problem. \n",
    "> False, it only exhaustively searches over specified parameter values for an estimator. These values might not contain the optimal hyperparameters for the given problem.  \n",
    "\n",
    "- It is possible to get different hyperparameters in different runs of `RandomizedSearchCV`.\n",
    "> True (unless a random seed is provided).\n",
    "\n",
    "\n",
    "- Suppose you have 10 hyperparameters and each takes 4 values. If you run `RandomizedSearchCV` with this parameter grid, how many cross-validation experiments it would carry out? \n",
    "> By default, only 10 experiments are carried out. Because the number of parameter settings that are tried is given by `n_iter` and `n_iter=10` by default.\n",
    "\n",
    "- Give one advantage of using RandomizedSearchCV over GridSearchCV.\n",
    ">Solution Any of the following works.\n",
    "    - RandomizedSearchCV is faster compared to GridSearchCV because we can control the number of iterations.\n",
    "    - RandomizedSearchCV is a better choice when some parameters are more important than others; adding parameters that do not influence the performance does not affect efficiency.\n",
    "    - By passing probability distributions to RandomizedSearchCV, we can explore different parts of the search space.\n",
    "    - The search space is huge and it's infeasible to search all possibilities exhaustively. In random search we can provide some guidance for the search by passing our `param_grid` to param_distributions, where you can either provide **discrete values** as we did it in the lecture or **probability distributions**. It can then generate n_iter random hyperparameter configurations from the provided grid.\n",
    "\n",
    "\n",
    "---\n",
    "## 2). Optimization Bias\n",
    "\n",
    "### Principles\n",
    "> if training dataset is small and so our validation splits in cross validation would be small.\n",
    "- the best validation score is not good estimate of test score.\n",
    "- the best hyperparameter set is not the best globally because of the small dataset and the fact that we hit the small validation set 900 times and it's possible that we got lucky on the validation set! \n",
    "- but we can trust the test score on the test data if the test dataset is huge.\n",
    "\n",
    "### Large datasets solves many of these problems\n",
    "- With infinite amounts of training data, overfitting would not be a problem and you could have your test score = your train score.\n",
    "    - Overfitting happens because you only see a bit of data and you learn patterns that are overly specific to your sample.\n",
    "    - If you saw \"all\" the data, then the notion of \"overly specific\" would not apply.\n",
    "- So, more data will make your test score better and robust. \n",
    "- What to do if your test score is much lower than your cross-validation score:\n",
    "    - Try simpler models and use the test set a couple of times - it's not the end of the world.\n",
    "    - Communicate this clearly when you report the results. \n",
    "    \n",
    "![](img/bias.png) "
   ]
  },
  {
   "cell_type": "markdown",
   "metadata": {},
   "source": [
    "# Lecture 7: Naive Bayes"
   ]
  },
  {
   "cell_type": "code",
   "execution_count": 36,
   "metadata": {},
   "outputs": [],
   "source": [
    "sms_df = pd.read_csv(\"data/spam.csv\", encoding=\"latin-1\")\n",
    "sms_df = sms_df.drop([\"Unnamed: 2\", \"Unnamed: 3\", \"Unnamed: 4\"], axis=1)\n",
    "sms_df = sms_df.rename(columns={\"v1\": \"target\", \"v2\": \"sms\"})"
   ]
  },
  {
   "cell_type": "code",
   "execution_count": 37,
   "metadata": {},
   "outputs": [
    {
     "data": {
      "text/html": [
       "<div>\n",
       "<style scoped>\n",
       "    .dataframe tbody tr th:only-of-type {\n",
       "        vertical-align: middle;\n",
       "    }\n",
       "\n",
       "    .dataframe tbody tr th {\n",
       "        vertical-align: top;\n",
       "    }\n",
       "\n",
       "    .dataframe thead th {\n",
       "        text-align: right;\n",
       "    }\n",
       "</style>\n",
       "<table border=\"1\" class=\"dataframe\">\n",
       "  <thead>\n",
       "    <tr style=\"text-align: right;\">\n",
       "      <th></th>\n",
       "      <th>target</th>\n",
       "      <th>sms</th>\n",
       "    </tr>\n",
       "  </thead>\n",
       "  <tbody>\n",
       "    <tr>\n",
       "      <th>385</th>\n",
       "      <td>ham</td>\n",
       "      <td>It took Mr owl 3 licks</td>\n",
       "    </tr>\n",
       "    <tr>\n",
       "      <th>4003</th>\n",
       "      <td>ham</td>\n",
       "      <td>Well there's a pattern emerging of my friends telling me to drive up and come smoke with them and then telling me that I'm a weed fiend/make them smoke too much/impede their doing other things so ...</td>\n",
       "    </tr>\n",
       "    <tr>\n",
       "      <th>1283</th>\n",
       "      <td>ham</td>\n",
       "      <td>Yes i thought so. Thanks.</td>\n",
       "    </tr>\n",
       "    <tr>\n",
       "      <th>2327</th>\n",
       "      <td>spam</td>\n",
       "      <td>URGENT! Your mobile number *************** WON a å£2000 Bonus Caller prize on 10/06/03! This is the 2nd attempt to reach you! Call 09066368753 ASAP! Box 97N7QP, 150ppm</td>\n",
       "    </tr>\n",
       "    <tr>\n",
       "      <th>1103</th>\n",
       "      <td>ham</td>\n",
       "      <td>Aiyah sorry lor... I watch tv watch until i forgot 2 check my phone.</td>\n",
       "    </tr>\n",
       "  </tbody>\n",
       "</table>\n",
       "</div>"
      ],
      "text/plain": [
       "     target  \\\n",
       "385     ham   \n",
       "4003    ham   \n",
       "1283    ham   \n",
       "2327   spam   \n",
       "1103    ham   \n",
       "\n",
       "                                                                                                                                                                                                          sms  \n",
       "385                                                                                                                                                                                    It took Mr owl 3 licks  \n",
       "4003  Well there's a pattern emerging of my friends telling me to drive up and come smoke with them and then telling me that I'm a weed fiend/make them smoke too much/impede their doing other things so ...  \n",
       "1283                                                                                                                                                                                Yes i thought so. Thanks.  \n",
       "2327                                  URGENT! Your mobile number *************** WON a å£2000 Bonus Caller prize on 10/06/03! This is the 2nd attempt to reach you! Call 09066368753 ASAP! Box 97N7QP, 150ppm  \n",
       "1103                                                                                                                                     Aiyah sorry lor... I watch tv watch until i forgot 2 check my phone.  "
      ]
     },
     "execution_count": 37,
     "metadata": {},
     "output_type": "execute_result"
    }
   ],
   "source": [
    "train_df, test_df = train_test_split(sms_df, test_size=0.2, random_state=123)\n",
    "X_train, y_train = train_df[\"sms\"], train_df[\"target\"]\n",
    "X_test, y_test = test_df[\"sms\"], test_df[\"target\"]\n",
    "train_df.head()"
   ]
  },
  {
   "cell_type": "markdown",
   "metadata": {},
   "source": [
    "## 1. `MultinomialNB`\n",
    "\n",
    "> `MultinomialNB`    \n",
    "The multinomial Naive Bayes classifier is suitable for classification with discrete features (e.g., word counts for text classification). The multinomial distribution normally requires integer feature counts. However, in practice, fractional counts such as tf-idf may also work.\n",
    "\n",
    "\n",
    "\n",
    "> `BernoulliNB`    \n",
    "Like MultinomialNB, this classifier is suitable for discrete data. The difference is that while MultinomialNB works with occurrence counts, BernoulliNB is designed for **binary/boolean features**.\n",
    "\n"
   ]
  },
  {
   "cell_type": "code",
   "execution_count": 43,
   "metadata": {},
   "outputs": [],
   "source": [
    "results_dict = {}\n",
    "\n",
    "# sklearn naive Bayes classifier\n",
    "pipe_nb = make_pipeline(CountVectorizer(), MultinomialNB())\n",
    "scores = cross_validate(pipe_nb, X_train, y_train, return_train_score=True)\n",
    "store_cross_val_results('Naive Bayes', scores, results_dict)\n",
    "\n",
    "# SVC classifier for spam detection\n",
    "pipe_svc= make_pipeline(CountVectorizer(), SVC())\n",
    "scores = cross_validate(pipe_svc, X_train, y_train, return_train_score=True)\n",
    "store_cross_val_results('SVC', scores, results_dict)"
   ]
  },
  {
   "cell_type": "code",
   "execution_count": 44,
   "metadata": {},
   "outputs": [
    {
     "data": {
      "text/html": [
       "<div>\n",
       "<style scoped>\n",
       "    .dataframe tbody tr th:only-of-type {\n",
       "        vertical-align: middle;\n",
       "    }\n",
       "\n",
       "    .dataframe tbody tr th {\n",
       "        vertical-align: top;\n",
       "    }\n",
       "\n",
       "    .dataframe thead th {\n",
       "        text-align: right;\n",
       "    }\n",
       "</style>\n",
       "<table border=\"1\" class=\"dataframe\">\n",
       "  <thead>\n",
       "    <tr style=\"text-align: right;\">\n",
       "      <th></th>\n",
       "      <th>mean_train_accuracy</th>\n",
       "      <th>mean_valid_accuracy</th>\n",
       "      <th>mean_fit_time (s)</th>\n",
       "      <th>mean_score_time (s)</th>\n",
       "      <th>std_train_score</th>\n",
       "      <th>std_valid_score</th>\n",
       "    </tr>\n",
       "  </thead>\n",
       "  <tbody>\n",
       "    <tr>\n",
       "      <th>Naive Bayes</th>\n",
       "      <td>0.9935</td>\n",
       "      <td>0.9859</td>\n",
       "      <td>0.0645</td>\n",
       "      <td>0.0122</td>\n",
       "      <td>0.0007</td>\n",
       "      <td>0.0026</td>\n",
       "    </tr>\n",
       "    <tr>\n",
       "      <th>SVC</th>\n",
       "      <td>0.9950</td>\n",
       "      <td>0.9785</td>\n",
       "      <td>0.7431</td>\n",
       "      <td>0.1709</td>\n",
       "      <td>0.0005</td>\n",
       "      <td>0.0048</td>\n",
       "    </tr>\n",
       "  </tbody>\n",
       "</table>\n",
       "</div>"
      ],
      "text/plain": [
       "            mean_train_accuracy mean_valid_accuracy mean_fit_time (s)  \\\n",
       "Naive Bayes              0.9935              0.9859            0.0645   \n",
       "SVC                      0.9950              0.9785            0.7431   \n",
       "\n",
       "            mean_score_time (s) std_train_score std_valid_score  \n",
       "Naive Bayes              0.0122          0.0007          0.0026  \n",
       "SVC                      0.1709          0.0005          0.0048  "
      ]
     },
     "execution_count": 44,
     "metadata": {},
     "output_type": "execute_result"
    }
   ],
   "source": [
    "pd.DataFrame(results_dict).T"
   ]
  },
  {
   "cell_type": "markdown",
   "metadata": {},
   "source": [
    "#### 1). predict"
   ]
  },
  {
   "cell_type": "code",
   "execution_count": 45,
   "metadata": {},
   "outputs": [
    {
     "data": {
      "text/plain": [
       "array(['spam', 'ham'], dtype='<U4')"
      ]
     },
     "execution_count": 45,
     "metadata": {},
     "output_type": "execute_result"
    }
   ],
   "source": [
    "pipe_nb.fit(X_train, y_train)\n",
    "deploy_test = [\"URGENT! Free!!\", \"Let's enjoy the last week of block 2!\"]\n",
    "pipe_nb.predict(deploy_test)"
   ]
  },
  {
   "cell_type": "markdown",
   "metadata": {},
   "source": [
    "> **Summary naive Bayes `predict`**\n",
    "\n",
    "- Estimate the following probabilities using naive Bayes' assumption. \n",
    "\n",
    "**Spam**\n",
    "$$ P(\\text{spam} \\mid \\text{message}) \\propto P(\\text{spam}) \\times  \\prod_{i=1}^{d}P(w_i \\mid \\text{spam})$$\n",
    "\n",
    "Example:\n",
    "$$\\begin{equation}\n",
    "\\begin{split}\n",
    "P(\\text{spam} \\mid \\text{message}) &\\propto P(\\text{block} = 0, \\text{free} = 1, \\text{prize} = 0, \\text{urgent} = 1 \\mid \\text{spam}) \\times P(\\text{spam})\\\\\n",
    "&\\propto P(\\text{block} = 0 \\mid \\text{spam}) \\times P(\\text{free} = 1 \\mid \\text{spam}) \\\\\n",
    "& \\times P(\\text{prize} = 0 \\mid \\text{spam}) \\times P(\\text{urgent} = 1 \\mid \\text{spam}) \\times P(\\text{spam})\\\\\n",
    "&\\propto 3/3 \\times 2/3 \\times 1/3 \\times 2/3 \\times 3/6\\\\\n",
    "\\end{split}\n",
    "\\end{equation}$$\n",
    "\n",
    "---\n",
    "\n",
    "**Non-Spam**\n",
    "$$ P(\\text{non spam} \\mid \\text{message}) \\propto P(\\text{non spam}) \\times  \\prod_{i=1}^{d}P(w_i \\mid \\text{non spam})$$\n",
    "\n",
    "Example:\n",
    "$$\\begin{equation}\n",
    "\\begin{split}\n",
    "P(\\text{non spam} \\mid \\text{message}) &\\propto P(\\text{block} = 0, \\text{free} = 1, \\text{prize} = 0, \\text{urgent} = 1 \\mid \\text{non spam}) \\times P(\\text{non spam})\\\\\n",
    "&\\propto P(\\text{block} = 0 \\mid \\text{non spam}) \\times P(\\text{free} = 1 \\mid \\text{non spam}) \\\\\n",
    "& \\times P(\\text{prize} = 0 \\mid \\text{non spam}) \\times P(\\text{urgent} = 1 \\mid \\text{non spam}) \\times P(\\text{non spam})\\\\\n",
    "&\\propto 1/3 \\times 0 \\times 3/3 \\times 0 \\times 1/3\\\\\n",
    "\\end{split}\n",
    "\\end{equation}$$\n"
   ]
  },
  {
   "cell_type": "markdown",
   "metadata": {},
   "source": [
    "#### 2). `predict_proba`\n",
    "\n",
    "- `predict` returns the class with the highest probability.\n",
    "- `predict_proba` gives us the actual probability scores. \n",
    "\n",
    "\n",
    "---\n",
    "> Although decision tree, kNN, and RBF SVM are not set in a probabilistic framework, they still have `predict_proba` method to get the probability estimates.  \n",
    "\n",
    "- [`DecisionTreeClasifier.predict_proba`](https://scikit-learn.org/stable/modules/generated/sklearn.tree.DecisionTreeClassifier.html#sklearn.tree.DecisionTreeClassifier.predict_proba)\n",
    "  - Computed as fraction of that class in leaf node.\n",
    "- [`KNeighborsClassifier.predict_proba`](https://scikit-learn.org/stable/modules/generated/sklearn.neighbors.KNeighborsClassifier.html#sklearn.neighbors.KNeighborsClassifier.predict_proba)\n",
    "  - Computed as fraction of that class in $k$ neighbours.\n",
    "- [`MultinomialNB.predict_proba`](https://scikit-learn.org/stable/modules/generated/sklearn.naive_bayes.BernoulliNB.html#sklearn.naive_bayes.BernoulliNB.predict_proba)\n",
    "  - Already computed, just need to normalize them (so they sum to 1).\n",
    "  \n",
    " \n",
    " \n",
    " ---\n",
    "> - Recall that when we worked through a toy example by hand, we estimated\n",
    "    - $P(\\text{non spam} \\mid \\text{message}) \\propto 0$\n",
    "    - $P(\\text{spam} \\mid \\text{message}) \\propto 0.074$\n",
    "   \n",
    "\n",
    "- Why don't `predict_proba` scores match with the probability scores we calculated before? \n",
    "- The scores we computed are not normalized. Remember that we ignored the denominator.\n",
    "- These ones are normalized so that they sum to 1.\n",
    "- The model is using something called \"smoothing\" to avoid the problem of zero probabilities. "
   ]
  },
  {
   "cell_type": "code",
   "execution_count": 50,
   "metadata": {},
   "outputs": [
    {
     "data": {
      "text/plain": [
       "array(['ham', 'spam'], dtype='<U4')"
      ]
     },
     "execution_count": 50,
     "metadata": {},
     "output_type": "execute_result"
    }
   ],
   "source": [
    "pipe_nb.classes_"
   ]
  },
  {
   "cell_type": "code",
   "execution_count": 48,
   "metadata": {},
   "outputs": [
    {
     "data": {
      "text/plain": [
       "array([[0.03344968, 0.96655032],\n",
       "       [0.96741982, 0.03258018]])"
      ]
     },
     "execution_count": 48,
     "metadata": {},
     "output_type": "execute_result"
    }
   ],
   "source": [
    "pipe_nb.predict_proba(deploy_test)"
   ]
  },
  {
   "cell_type": "code",
   "execution_count": 49,
   "metadata": {},
   "outputs": [
    {
     "data": {
      "text/plain": [
       "array([[0.03344968, 0.96655032]])"
      ]
     },
     "execution_count": 49,
     "metadata": {},
     "output_type": "execute_result"
    }
   ],
   "source": [
    "pipe_nb.predict_proba([\"URGENT! Free!!\"])"
   ]
  },
  {
   "cell_type": "markdown",
   "metadata": {},
   "source": [
    "#### 3). Laplace smoothing\n",
    "\n",
    "#### **Motivation**\n",
    "\n",
    "- Remember when we calculated $P(\\text{non spam} \\mid \\text{message})$, some of our conditional probabilities were zero. \n",
    "    - $P(\\text{free} = 1 \\mid \\text{non spam}) = 0/3$ \n",
    "    - $P(\\text{urgent} = 1 \\mid \\text{non spam}) = 0$\n",
    "- Naive Bayes naively multiplies all the feature likelihoods together, and if any of the terms is zero, it's going to void all other evidence and the probability of the class is going to be zero.\n",
    "    \n",
    "    \n",
    "#### **A simplest solution: Laplace smoothing**\n",
    "\n",
    "- The simplest way to avoid zero probabilities is to add one to all the counts.\n",
    "- All the counts that used to be zero will now have a count of 1, the counts of 1 will be 2, and so on. \n",
    "- In `scikit-learn` we control it using hyperparameter `alpha` (by default `alpha=1.0`). \n",
    "\n",
    "$$P(\\text{word} \\mid \\text{spam}) = \\frac{Count(\\text{word}, \\text{spam}) + 1}{\\sum_{w \\in vocabulary} Count(w, \\text{spam}) + |vocabulary|}$$"
   ]
  },
  {
   "cell_type": "code",
   "execution_count": 51,
   "metadata": {},
   "outputs": [
    {
     "data": {
      "text/plain": [
       "Pipeline(steps=[('countvectorizer', CountVectorizer()),\n",
       "                ('multinomialnb', MultinomialNB())])"
      ]
     },
     "execution_count": 51,
     "metadata": {},
     "output_type": "execute_result"
    }
   ],
   "source": [
    "pipe_nb = make_pipeline(CountVectorizer(), MultinomialNB(alpha=1.0))\n",
    "pipe_nb.fit(X_train, y_train)"
   ]
  },
  {
   "cell_type": "code",
   "execution_count": 52,
   "metadata": {},
   "outputs": [
    {
     "data": {
      "text/html": [
       "<div>\n",
       "<style scoped>\n",
       "    .dataframe tbody tr th:only-of-type {\n",
       "        vertical-align: middle;\n",
       "    }\n",
       "\n",
       "    .dataframe tbody tr th {\n",
       "        vertical-align: top;\n",
       "    }\n",
       "\n",
       "    .dataframe thead th {\n",
       "        text-align: right;\n",
       "    }\n",
       "</style>\n",
       "<table border=\"1\" class=\"dataframe\">\n",
       "  <thead>\n",
       "    <tr style=\"text-align: right;\">\n",
       "      <th></th>\n",
       "      <th>alpha</th>\n",
       "      <th>mean_train_score</th>\n",
       "      <th>mean_cv_score</th>\n",
       "      <th>std_cv_score</th>\n",
       "      <th>std_train_score</th>\n",
       "    </tr>\n",
       "  </thead>\n",
       "  <tbody>\n",
       "    <tr>\n",
       "      <th>0</th>\n",
       "      <td>0.000001</td>\n",
       "      <td>1.00000</td>\n",
       "      <td>0.945</td>\n",
       "      <td>0.040000</td>\n",
       "      <td>0.000000</td>\n",
       "    </tr>\n",
       "    <tr>\n",
       "      <th>1</th>\n",
       "      <td>0.000010</td>\n",
       "      <td>1.00000</td>\n",
       "      <td>0.950</td>\n",
       "      <td>0.044721</td>\n",
       "      <td>0.000000</td>\n",
       "    </tr>\n",
       "    <tr>\n",
       "      <th>2</th>\n",
       "      <td>0.000100</td>\n",
       "      <td>1.00000</td>\n",
       "      <td>0.955</td>\n",
       "      <td>0.036742</td>\n",
       "      <td>0.000000</td>\n",
       "    </tr>\n",
       "    <tr>\n",
       "      <th>3</th>\n",
       "      <td>0.001000</td>\n",
       "      <td>1.00000</td>\n",
       "      <td>0.955</td>\n",
       "      <td>0.036742</td>\n",
       "      <td>0.000000</td>\n",
       "    </tr>\n",
       "    <tr>\n",
       "      <th>4</th>\n",
       "      <td>0.010000</td>\n",
       "      <td>1.00000</td>\n",
       "      <td>0.955</td>\n",
       "      <td>0.036742</td>\n",
       "      <td>0.000000</td>\n",
       "    </tr>\n",
       "    <tr>\n",
       "      <th>5</th>\n",
       "      <td>0.100000</td>\n",
       "      <td>0.99875</td>\n",
       "      <td>0.950</td>\n",
       "      <td>0.035355</td>\n",
       "      <td>0.002500</td>\n",
       "    </tr>\n",
       "    <tr>\n",
       "      <th>6</th>\n",
       "      <td>1.000000</td>\n",
       "      <td>0.99500</td>\n",
       "      <td>0.960</td>\n",
       "      <td>0.040620</td>\n",
       "      <td>0.002500</td>\n",
       "    </tr>\n",
       "    <tr>\n",
       "      <th>7</th>\n",
       "      <td>10.000000</td>\n",
       "      <td>0.93625</td>\n",
       "      <td>0.870</td>\n",
       "      <td>0.010000</td>\n",
       "      <td>0.009186</td>\n",
       "    </tr>\n",
       "    <tr>\n",
       "      <th>8</th>\n",
       "      <td>100.000000</td>\n",
       "      <td>0.87000</td>\n",
       "      <td>0.870</td>\n",
       "      <td>0.010000</td>\n",
       "      <td>0.002500</td>\n",
       "    </tr>\n",
       "    <tr>\n",
       "      <th>9</th>\n",
       "      <td>1000.000000</td>\n",
       "      <td>0.87000</td>\n",
       "      <td>0.870</td>\n",
       "      <td>0.010000</td>\n",
       "      <td>0.002500</td>\n",
       "    </tr>\n",
       "  </tbody>\n",
       "</table>\n",
       "</div>"
      ],
      "text/plain": [
       "         alpha  mean_train_score  mean_cv_score  std_cv_score  std_train_score\n",
       "0     0.000001           1.00000          0.945      0.040000         0.000000\n",
       "1     0.000010           1.00000          0.950      0.044721         0.000000\n",
       "2     0.000100           1.00000          0.955      0.036742         0.000000\n",
       "3     0.001000           1.00000          0.955      0.036742         0.000000\n",
       "4     0.010000           1.00000          0.955      0.036742         0.000000\n",
       "5     0.100000           0.99875          0.950      0.035355         0.002500\n",
       "6     1.000000           0.99500          0.960      0.040620         0.002500\n",
       "7    10.000000           0.93625          0.870      0.010000         0.009186\n",
       "8   100.000000           0.87000          0.870      0.010000         0.002500\n",
       "9  1000.000000           0.87000          0.870      0.010000         0.002500"
      ]
     },
     "execution_count": 52,
     "metadata": {},
     "output_type": "execute_result"
    }
   ],
   "source": [
    "results_dict = {\"alpha\": [], \"mean_train_score\": [], \"mean_cv_score\": [], \"std_cv_score\" : [], \"std_train_score\":[]}\n",
    "param_grid = {\"alpha\": 10.0**np.arange(-6,4)}\n",
    "\n",
    "for alpha in param_grid[\"alpha\"]:\n",
    "    pipe_nb = make_pipeline(CountVectorizer(), MultinomialNB(alpha = alpha))\n",
    "    scores = cross_validate(pipe_nb, X_train[:200], y_train[:200], return_train_score=True)\n",
    "    results_dict[\"alpha\"].append(alpha)\n",
    "    results_dict[\"mean_cv_score\"].append(np.mean(scores[\"test_score\"]))\n",
    "    results_dict[\"mean_train_score\"].append(np.mean(scores[\"train_score\"]))\n",
    "    results_dict[\"std_cv_score\"].append(scores[\"test_score\"].std())\n",
    "    results_dict[\"std_train_score\"].append(scores[\"train_score\"].std())\n",
    "\n",
    "results_df = pd.DataFrame(results_dict)\n",
    "results_df"
   ]
  },
  {
   "cell_type": "code",
   "execution_count": 53,
   "metadata": {},
   "outputs": [
    {
     "data": {
      "image/png": "[encoded data removed]",
      "text/plain": [
       "<Figure size 432x288 with 1 Axes>"
      ]
     },
     "metadata": {
      "needs_background": "light"
     },
     "output_type": "display_data"
    }
   ],
   "source": [
    "plt.semilogx(param_grid[\"alpha\"],results_dict[\"mean_train_score\"],label=\"train\");\n",
    "plt.semilogx(param_grid[\"alpha\"],results_dict[\"mean_cv_score\"],label=\"cv\");\n",
    "plt.legend();\n",
    "plt.xlabel('laplace smoothing (alpha)');\n",
    "plt.ylabel('Accuracy');"
   ]
  },
  {
   "cell_type": "markdown",
   "metadata": {},
   "source": [
    "## 2. `GaussianNB`\n",
    "#### We can use Gaussian Naive Bayes if you have continuous features. \n",
    "- Assume each feature is normally distributed \n",
    "- Calculate the mean ($\\mu_k$) and standard deviation ($\\sigma_k$) for each feature for each class\n",
    "- Use the following equation to calculate the conditional probability of observing feature value $v$ in class $C_k$\n",
    "\n",
    "<img src='./img/gau.png' width=\"400\">\n"
   ]
  },
  {
   "cell_type": "code",
   "execution_count": 55,
   "metadata": {},
   "outputs": [
    {
     "data": {
      "text/html": [
       "<div>\n",
       "<style scoped>\n",
       "    .dataframe tbody tr th:only-of-type {\n",
       "        vertical-align: middle;\n",
       "    }\n",
       "\n",
       "    .dataframe tbody tr th {\n",
       "        vertical-align: top;\n",
       "    }\n",
       "\n",
       "    .dataframe thead th {\n",
       "        text-align: right;\n",
       "    }\n",
       "</style>\n",
       "<table border=\"1\" class=\"dataframe\">\n",
       "  <thead>\n",
       "    <tr style=\"text-align: right;\">\n",
       "      <th></th>\n",
       "      <th>longitude</th>\n",
       "      <th>latitude</th>\n",
       "      <th>country</th>\n",
       "    </tr>\n",
       "  </thead>\n",
       "  <tbody>\n",
       "    <tr>\n",
       "      <th>160</th>\n",
       "      <td>-76.4813</td>\n",
       "      <td>44.2307</td>\n",
       "      <td>Canada</td>\n",
       "    </tr>\n",
       "    <tr>\n",
       "      <th>127</th>\n",
       "      <td>-81.2496</td>\n",
       "      <td>42.9837</td>\n",
       "      <td>Canada</td>\n",
       "    </tr>\n",
       "    <tr>\n",
       "      <th>169</th>\n",
       "      <td>-66.0580</td>\n",
       "      <td>45.2788</td>\n",
       "      <td>Canada</td>\n",
       "    </tr>\n",
       "    <tr>\n",
       "      <th>188</th>\n",
       "      <td>-73.2533</td>\n",
       "      <td>45.3057</td>\n",
       "      <td>Canada</td>\n",
       "    </tr>\n",
       "    <tr>\n",
       "      <th>187</th>\n",
       "      <td>-67.9245</td>\n",
       "      <td>47.1652</td>\n",
       "      <td>Canada</td>\n",
       "    </tr>\n",
       "  </tbody>\n",
       "</table>\n",
       "</div>"
      ],
      "text/plain": [
       "     longitude  latitude country\n",
       "160   -76.4813   44.2307  Canada\n",
       "127   -81.2496   42.9837  Canada\n",
       "169   -66.0580   45.2788  Canada\n",
       "188   -73.2533   45.3057  Canada\n",
       "187   -67.9245   47.1652  Canada"
      ]
     },
     "execution_count": 55,
     "metadata": {},
     "output_type": "execute_result"
    }
   ],
   "source": [
    "df = pd.read_csv(\"data/canada_usa_cities.csv\")\n",
    "train_df, test_df = train_test_split(df, test_size = 0.2, random_state = 123) # 80%-20% train test split on df\n",
    "X_train, y_train = train_df.drop(columns=[\"country\"]), train_df[\"country\"] \n",
    "X_test, y_test = test_df.drop(columns=[\"country\"]), test_df[\"country\"]\n",
    "train_df.head()"
   ]
  },
  {
   "cell_type": "markdown",
   "metadata": {},
   "source": [
    "> `PowerTransformer()` transform our data to try and make it more normal"
   ]
  },
  {
   "cell_type": "code",
   "execution_count": 57,
   "metadata": {},
   "outputs": [],
   "source": [
    "from sklearn.preprocessing import PowerTransformer\n",
    "\n",
    "pt = PowerTransformer(method='yeo-johnson')\n",
    "X_train[['longitude', 'latitude']] = pt.fit_transform(X_train)"
   ]
  },
  {
   "cell_type": "code",
   "execution_count": 62,
   "metadata": {},
   "outputs": [
    {
     "data": {
      "text/plain": [
       "Text(0.5, 1.0, 'Naive Bayes decision boundary')"
      ]
     },
     "execution_count": 62,
     "metadata": {},
     "output_type": "execute_result"
    },
    {
     "data": {
      "image/png": "[encoded data removed]",
      "text/plain": [
       "<Figure size 432x288 with 2 Axes>"
      ]
     },
     "metadata": {
      "needs_background": "light"
     },
     "output_type": "display_data"
    }
   ],
   "source": [
    "from sklearn.naive_bayes import GaussianNB\n",
    "model = GaussianNB()\n",
    "model.fit(X_train, y_train)\n",
    "\n",
    "plt.figure()\n",
    "ax = plt.gca()\n",
    "plot_classifier(X_train, y_train, model, ax=ax, proba=True);\n",
    "\n",
    "plt.ylabel(\"latitude\");\n",
    "plt.xlabel(\"longitude\");\n",
    "plt.title(\"Naive Bayes decision boundary\")"
   ]
  },
  {
   "cell_type": "markdown",
   "metadata": {},
   "source": [
    "- Predictions in darker colours: the model is more confident\n",
    "- Predictions in lighter colours: the model is less confident"
   ]
  },
  {
   "cell_type": "markdown",
   "metadata": {},
   "source": [
    "## 3. Naive Bayes on multi-class problems\n",
    "\n"
   ]
  },
  {
   "cell_type": "code",
   "execution_count": 64,
   "metadata": {},
   "outputs": [
    {
     "data": {
      "text/plain": [
       "['alt.atheism',\n",
       " 'comp.graphics',\n",
       " 'comp.os.ms-windows.misc',\n",
       " 'comp.sys.ibm.pc.hardware',\n",
       " 'comp.sys.mac.hardware',\n",
       " 'comp.windows.x',\n",
       " 'misc.forsale',\n",
       " 'rec.autos',\n",
       " 'rec.motorcycles',\n",
       " 'rec.sport.baseball',\n",
       " 'rec.sport.hockey',\n",
       " 'sci.crypt',\n",
       " 'sci.electronics',\n",
       " 'sci.med',\n",
       " 'sci.space',\n",
       " 'soc.religion.christian',\n",
       " 'talk.politics.guns',\n",
       " 'talk.politics.mideast',\n",
       " 'talk.politics.misc',\n",
       " 'talk.religion.misc']"
      ]
     },
     "execution_count": 64,
     "metadata": {},
     "output_type": "execute_result"
    }
   ],
   "source": [
    "from sklearn import datasets\n",
    "from sklearn.datasets import fetch_20newsgroups\n",
    "\n",
    "newsgroups_train = fetch_20newsgroups(subset='train', remove=('headers','footers','quotes'))\n",
    "newsgroups_test = fetch_20newsgroups(subset='test', remove=('headers','footers','quotes'))\n",
    "X_news_train, y_news_train = newsgroups_train.data, newsgroups_train.target\n",
    "X_news_test, y_news_test = newsgroups_test.data, newsgroups_test.target\n",
    "\n",
    "newsgroups_train.target_names"
   ]
  },
  {
   "cell_type": "markdown",
   "metadata": {},
   "source": [
    "> Let's try `DummyClassifier`"
   ]
  },
  {
   "cell_type": "code",
   "execution_count": 65,
   "metadata": {},
   "outputs": [
    {
     "data": {
      "text/html": [
       "<div>\n",
       "<style scoped>\n",
       "    .dataframe tbody tr th:only-of-type {\n",
       "        vertical-align: middle;\n",
       "    }\n",
       "\n",
       "    .dataframe tbody tr th {\n",
       "        vertical-align: top;\n",
       "    }\n",
       "\n",
       "    .dataframe thead th {\n",
       "        text-align: right;\n",
       "    }\n",
       "</style>\n",
       "<table border=\"1\" class=\"dataframe\">\n",
       "  <thead>\n",
       "    <tr style=\"text-align: right;\">\n",
       "      <th></th>\n",
       "      <th>fit_time</th>\n",
       "      <th>score_time</th>\n",
       "      <th>test_score</th>\n",
       "      <th>train_score</th>\n",
       "    </tr>\n",
       "  </thead>\n",
       "  <tbody>\n",
       "    <tr>\n",
       "      <th>0</th>\n",
       "      <td>1.570517</td>\n",
       "      <td>0.312785</td>\n",
       "      <td>0.053027</td>\n",
       "      <td>0.053033</td>\n",
       "    </tr>\n",
       "    <tr>\n",
       "      <th>1</th>\n",
       "      <td>1.439163</td>\n",
       "      <td>0.323488</td>\n",
       "      <td>0.053027</td>\n",
       "      <td>0.053033</td>\n",
       "    </tr>\n",
       "    <tr>\n",
       "      <th>2</th>\n",
       "      <td>1.431487</td>\n",
       "      <td>0.298612</td>\n",
       "      <td>0.053027</td>\n",
       "      <td>0.053033</td>\n",
       "    </tr>\n",
       "    <tr>\n",
       "      <th>3</th>\n",
       "      <td>1.531262</td>\n",
       "      <td>0.300876</td>\n",
       "      <td>0.053027</td>\n",
       "      <td>0.053033</td>\n",
       "    </tr>\n",
       "    <tr>\n",
       "      <th>4</th>\n",
       "      <td>1.409572</td>\n",
       "      <td>0.287315</td>\n",
       "      <td>0.053050</td>\n",
       "      <td>0.053027</td>\n",
       "    </tr>\n",
       "  </tbody>\n",
       "</table>\n",
       "</div>"
      ],
      "text/plain": [
       "   fit_time  score_time  test_score  train_score\n",
       "0  1.570517    0.312785    0.053027     0.053033\n",
       "1  1.439163    0.323488    0.053027     0.053033\n",
       "2  1.431487    0.298612    0.053027     0.053033\n",
       "3  1.531262    0.300876    0.053027     0.053033\n",
       "4  1.409572    0.287315    0.053050     0.053027"
      ]
     },
     "execution_count": 65,
     "metadata": {},
     "output_type": "execute_result"
    }
   ],
   "source": [
    "pipe_multi = make_pipeline(CountVectorizer(), DummyClassifier(strategy=\"most_frequent\"))\n",
    "scores = cross_validate(pipe_multi, X_news_train, y_news_train, return_train_score=True)\n",
    "\n",
    "pd.DataFrame(scores)"
   ]
  },
  {
   "cell_type": "markdown",
   "metadata": {},
   "source": [
    "> Let's try `MultinomialNB`"
   ]
  },
  {
   "cell_type": "code",
   "execution_count": 66,
   "metadata": {},
   "outputs": [
    {
     "data": {
      "text/html": [
       "<div>\n",
       "<style scoped>\n",
       "    .dataframe tbody tr th:only-of-type {\n",
       "        vertical-align: middle;\n",
       "    }\n",
       "\n",
       "    .dataframe tbody tr th {\n",
       "        vertical-align: top;\n",
       "    }\n",
       "\n",
       "    .dataframe thead th {\n",
       "        text-align: right;\n",
       "    }\n",
       "</style>\n",
       "<table border=\"1\" class=\"dataframe\">\n",
       "  <thead>\n",
       "    <tr style=\"text-align: right;\">\n",
       "      <th></th>\n",
       "      <th>fit_time</th>\n",
       "      <th>score_time</th>\n",
       "      <th>test_score</th>\n",
       "      <th>train_score</th>\n",
       "    </tr>\n",
       "  </thead>\n",
       "  <tbody>\n",
       "    <tr>\n",
       "      <th>0</th>\n",
       "      <td>1.546523</td>\n",
       "      <td>0.329521</td>\n",
       "      <td>0.583738</td>\n",
       "      <td>0.741465</td>\n",
       "    </tr>\n",
       "    <tr>\n",
       "      <th>1</th>\n",
       "      <td>1.350987</td>\n",
       "      <td>0.324121</td>\n",
       "      <td>0.570040</td>\n",
       "      <td>0.739587</td>\n",
       "    </tr>\n",
       "    <tr>\n",
       "      <th>2</th>\n",
       "      <td>1.319769</td>\n",
       "      <td>0.271244</td>\n",
       "      <td>0.583297</td>\n",
       "      <td>0.749309</td>\n",
       "    </tr>\n",
       "    <tr>\n",
       "      <th>3</th>\n",
       "      <td>1.374500</td>\n",
       "      <td>0.274554</td>\n",
       "      <td>0.571365</td>\n",
       "      <td>0.731963</td>\n",
       "    </tr>\n",
       "    <tr>\n",
       "      <th>4</th>\n",
       "      <td>1.463406</td>\n",
       "      <td>0.259852</td>\n",
       "      <td>0.588859</td>\n",
       "      <td>0.739063</td>\n",
       "    </tr>\n",
       "  </tbody>\n",
       "</table>\n",
       "</div>"
      ],
      "text/plain": [
       "   fit_time  score_time  test_score  train_score\n",
       "0  1.546523    0.329521    0.583738     0.741465\n",
       "1  1.350987    0.324121    0.570040     0.739587\n",
       "2  1.319769    0.271244    0.583297     0.749309\n",
       "3  1.374500    0.274554    0.571365     0.731963\n",
       "4  1.463406    0.259852    0.588859     0.739063"
      ]
     },
     "execution_count": 66,
     "metadata": {},
     "output_type": "execute_result"
    }
   ],
   "source": [
    "pipe_multi = make_pipeline(CountVectorizer(), MultinomialNB())\n",
    "scores = cross_validate(pipe_multi, X_news_train, y_news_train, return_train_score=True)\n",
    "\n",
    "pd.DataFrame(scores)"
   ]
  },
  {
   "cell_type": "code",
   "execution_count": 69,
   "metadata": {},
   "outputs": [],
   "source": [
    "# fit and predict\n",
    "pipe_multi.fit(X_news_train, y_news_train); \n",
    "\n",
    "prediction = pipe_multi.predict([X_news_test[100]])[0]"
   ]
  },
  {
   "cell_type": "code",
   "execution_count": 70,
   "metadata": {},
   "outputs": [
    {
     "name": "stdout",
     "output_type": "stream",
     "text": [
      "Hello All!\n",
      "\n",
      "    It is my understanding that all True-Type fonts in Windows are loaded in\n",
      "prior to starting Windows - this makes getting into Windows quite slow if you\n",
      "have hundreds of them as I do.  First off, am I correct in this thinking -\n",
      "secondly, if that is the case - can you get Windows to ignore them on boot and\n",
      "maybe make something like a PIF file to load them only when you enter the\n",
      "applications that need fonts?  Any ideas?\n",
      "\n",
      "\n",
      "Chris\n",
      "Prediction index: 5 and prediction class: comp.windows.x\n"
     ]
    }
   ],
   "source": [
    "print(X_news_test[100])\n",
    "prediction = pipe_multi.predict([X_news_test[100]])[0]\n",
    "print('Prediction index: %d and prediction class: %s' %(prediction, newsgroups_train.target_names[prediction]))"
   ]
  },
  {
   "cell_type": "code",
   "execution_count": 71,
   "metadata": {},
   "outputs": [
    {
     "data": {
      "text/plain": [
       "array([[7.26904475e-19, 1.48743104e-10, 4.16538604e-28, 2.96340768e-10,\n",
       "        1.91391647e-14, 1.00000000e+00, 4.34194388e-28, 2.40916532e-18,\n",
       "        9.74009600e-22, 1.72603033e-31, 5.61184330e-31, 8.76853929e-14,\n",
       "        1.00705690e-16, 2.70331089e-13, 2.36762710e-21, 5.91222397e-16,\n",
       "        3.61589511e-15, 1.49715839e-13, 2.92789387e-16, 1.20413840e-24]])"
      ]
     },
     "execution_count": 71,
     "metadata": {},
     "output_type": "execute_result"
    }
   ],
   "source": [
    "pipe_multi.predict_proba([X_news_test[100]])"
   ]
  },
  {
   "cell_type": "markdown",
   "metadata": {},
   "source": [
    "## 4. Questions\n",
    "\n",
    "#### 1. Laplace smoothing helps us deal with unknown words, the words that do not occur in the vocabulary of the training set. \n",
    "\n",
    "Varada's answer: False\n",
    "\n",
    "#### 2. Naive Bayes should only be used if the \"naive\" conditional independence assumption holds for your problem.\n",
    "\n",
    "Varada's answer: leaning towards False (you can still use it, but you should be careful about it.)\n",
    "\n",
    "#### 3. Naive Bayes should only be used when the features (i.e. `X`-values) are binary.\n",
    "\n",
    "Varada's answer: False.\n",
    "\n",
    "#### 4. What goes wrong in naive Bayes when Laplace smoothing is not used?\n",
    "\n",
    "If any of the conditional probabilities is zero because the feature value does not occur with the target in the training data, the probability estimate of the class would be zero. This happens because naive Bayes naively multiplies all the feature likelihoods together. It's going to void all other evidence and the probability of the class is going to be zero.\n",
    "\n",
    "\n",
    "#### 5. When we ignore the marginal probability P(message) when calculating $P(\\text{spam} | \\text{message})$ or $P(\\text{non spam} | \\text{message})$, are these going to be well-defined probabilites? Does it matter?  \n",
    "> Not well-defined probabilites. But it doesn't matter.\n",
    "\n",
    "Naive Bayes estimates probability scores with two simplifying assumptions.\n",
    "- It ignores the denominator (P(message) in our example) when calculating the probability.\n",
    "- It assumes conditional independence among features given the target.\n",
    "\n",
    "For more details, search for \"Naive Bayes' approximation to calculate\" in the lecture 7 notes.\n",
    "\n",
    "So the estimates we get are not real probabilities. They are good enough for classification, i.e., making hard decisions (e.g., spam vs non-spam) but the scores are not truly representative of the uncertainty we have in a certain prediction due to our simplifying assumptions.\n",
    "\n",
    "\n",
    "#### 6. Can we discuss how Naive Bayes is a decent classifier but a bad estimator? Furthermore, why are we then even looking at predict_proba if it is not good? Is it just the order of values we care about, not the values themselves?\n",
    "\n",
    "\n",
    "It's a descent classifier in the sense that it tends to assign a lower probability score for less likely class and higher score for a likely class, and so it's able to distinguish between classes. That said, the probability scores it calculates in the process are not very reliable because we ignore the denominator when calculating the scores and so they are not well-defined probabilities."
   ]
  },
  {
   "cell_type": "markdown",
   "metadata": {},
   "source": [
    "# Lecture 8: Linear models and multi-class, meta-strategies\n",
    "\n",
    "- Learn coefficients (weights) associated with features\n",
    "<center>\n",
    "<img src='./img/words_coeff.png' width=\"300\" height=\"300\" />\n",
    "</center>\n",
    "\n",
    "\n",
    "A linear classifier is a linear function of $X$ followed by a threshold. \n",
    "\n",
    "\\begin{equation}\n",
    "\\begin{split}\n",
    "z =& w_1x_1 + \\dots + w_dx_d + b\\\\\n",
    "=& w^Tx + b\n",
    "\\end{split}\n",
    "\\end{equation}\n",
    "\n",
    "$$\\hat{y} = \\begin{cases}\n",
    "         1, & \\text{if } z \\geq r\\\\\n",
    "         -1, & \\text{if } z < r\n",
    "\\end{cases}$$\n",
    "\n",
    "Components of a linear classifier:\n",
    "1. input features ($x_1, \\dots, x_d$) e.g. Feature vector for $x_i$: [1, 0, 1, 1, 0, 0, 0]    \n",
    "2. coefficients (weights) ($w_1, \\dots, w_d$)\n",
    "3. bias ($b$ or $w_0$) (can be used to offset your hyperplane)\n",
    "4. threshold ($r$)\n",
    "\n",
    "In our example, we assumed $r=0$ and $b=0$.\n",
    "\n",
    "\n",
    "## In linear models:\n",
    " \n",
    "- the $j$th coefficient tells us how feature $j$ affects the prediction\n",
    "- if $w_j > 0$ then increasing $x_{ij}$ moves us toward predicting $+1$\n",
    "- if $w_j < 0$ then increasing $x_{ij}$ moves us toward prediction $-1$\n",
    "- if $w_j == 0$ then the feature is not used in making a prediction"
   ]
  },
  {
   "cell_type": "markdown",
   "metadata": {},
   "source": [
    "## 1. `LogisticRegression`\n",
    "\n",
    "Logistic regression\n",
    "\n",
    "- A linear model for classification. \n",
    "- It learns **weights** associated with each feature and the **bias**. \n",
    "- The decision boundary is a **hyperplane dividing** the feature space in half. That's why we call it a linear classifier.\n",
    "- You can think of the **coefficients as controlling the orientation/tilt of the hyperplane** and **the bias representing the intercept** (offset from the origin). (More on this in 573.)\n",
    "\n",
    "- More on how it learns weights and bias in 573 and 572.\n",
    "- In this course we will focus on the following aspects of logistic regression.  \n",
    "    - `predict`, `predict_proba` \n",
    "    - how to use `coef_` to interpret the model"
   ]
  },
  {
   "cell_type": "code",
   "execution_count": 7,
   "metadata": {},
   "outputs": [],
   "source": [
    "cities_df = pd.read_csv(\"data/canada_usa_cities.csv\")\n",
    "train_df, test_df = train_test_split(cities_df, test_size=0.2, random_state=123)\n",
    "X_train, y_train = train_df.drop(columns=[\"country\"], axis=1), train_df[\"country\"]\n",
    "X_test, y_test = test_df.drop(columns=[\"country\"], axis=1), test_df[\"country\"]"
   ]
  },
  {
   "cell_type": "code",
   "execution_count": 8,
   "metadata": {},
   "outputs": [
    {
     "data": {
      "text/html": [
       "<div>\n",
       "<style scoped>\n",
       "    .dataframe tbody tr th:only-of-type {\n",
       "        vertical-align: middle;\n",
       "    }\n",
       "\n",
       "    .dataframe tbody tr th {\n",
       "        vertical-align: top;\n",
       "    }\n",
       "\n",
       "    .dataframe thead th {\n",
       "        text-align: right;\n",
       "    }\n",
       "</style>\n",
       "<table border=\"1\" class=\"dataframe\">\n",
       "  <thead>\n",
       "    <tr style=\"text-align: right;\">\n",
       "      <th></th>\n",
       "      <th>fit_time</th>\n",
       "      <th>score_time</th>\n",
       "      <th>test_score</th>\n",
       "      <th>train_score</th>\n",
       "    </tr>\n",
       "  </thead>\n",
       "  <tbody>\n",
       "    <tr>\n",
       "      <th>0</th>\n",
       "      <td>0.013254</td>\n",
       "      <td>0.001968</td>\n",
       "      <td>0.852941</td>\n",
       "      <td>0.827068</td>\n",
       "    </tr>\n",
       "    <tr>\n",
       "      <th>1</th>\n",
       "      <td>0.010143</td>\n",
       "      <td>0.001831</td>\n",
       "      <td>0.823529</td>\n",
       "      <td>0.827068</td>\n",
       "    </tr>\n",
       "    <tr>\n",
       "      <th>2</th>\n",
       "      <td>0.008317</td>\n",
       "      <td>0.001724</td>\n",
       "      <td>0.696970</td>\n",
       "      <td>0.858209</td>\n",
       "    </tr>\n",
       "    <tr>\n",
       "      <th>3</th>\n",
       "      <td>0.008096</td>\n",
       "      <td>0.001448</td>\n",
       "      <td>0.787879</td>\n",
       "      <td>0.843284</td>\n",
       "    </tr>\n",
       "    <tr>\n",
       "      <th>4</th>\n",
       "      <td>0.007385</td>\n",
       "      <td>0.001978</td>\n",
       "      <td>0.939394</td>\n",
       "      <td>0.805970</td>\n",
       "    </tr>\n",
       "  </tbody>\n",
       "</table>\n",
       "</div>"
      ],
      "text/plain": [
       "   fit_time  score_time  test_score  train_score\n",
       "0  0.013254    0.001968    0.852941     0.827068\n",
       "1  0.010143    0.001831    0.823529     0.827068\n",
       "2  0.008317    0.001724    0.696970     0.858209\n",
       "3  0.008096    0.001448    0.787879     0.843284\n",
       "4  0.007385    0.001978    0.939394     0.805970"
      ]
     },
     "execution_count": 8,
     "metadata": {},
     "output_type": "execute_result"
    }
   ],
   "source": [
    "from sklearn.linear_model import LogisticRegression\n",
    "\n",
    "\n",
    "lr = LogisticRegression()\n",
    "scores = cross_validate(lr, X_train, y_train, return_train_score=True)\n",
    "pd.DataFrame(scores)"
   ]
  },
  {
   "cell_type": "code",
   "execution_count": 77,
   "metadata": {},
   "outputs": [],
   "source": [
    "lr.fit(X_train, y_train);"
   ]
  },
  {
   "cell_type": "markdown",
   "metadata": {},
   "source": [
    "> decision boundary\n",
    "\n",
    "Notice a linear decision boundary (a line in our case).\n",
    "Compare it with Naive Bayes, KNN, or SVM RBF decision boundaries."
   ]
  },
  {
   "cell_type": "code",
   "execution_count": 78,
   "metadata": {},
   "outputs": [
    {
     "data": {
      "image/png": "[encoded data removed]",
      "text/plain": [
       "<Figure size 432x432 with 1 Axes>"
      ]
     },
     "metadata": {},
     "output_type": "display_data"
    }
   ],
   "source": [
    "plt.figure(figsize=(6, 6))\n",
    "plot_classifier(X_train, y_train, lr, ax=plt.gca())\n",
    "plt.title(\"Logistic regression\");"
   ]
  },
  {
   "cell_type": "code",
   "execution_count": 79,
   "metadata": {},
   "outputs": [
    {
     "data": {
      "image/png": "[encoded data removed]",
      "text/plain": [
       "<Figure size 1440x288 with 4 Axes>"
      ]
     },
     "metadata": {},
     "output_type": "display_data"
    }
   ],
   "source": [
    "models = {\n",
    "    \"KNN\": KNeighborsClassifier(),    \n",
    "    \"RBF SVM\": SVC(gamma = 0.01),    \n",
    "    \"Naive Bayes\": GaussianNB(),    \n",
    "    \"logistic Regression\": LogisticRegression()\n",
    "}\n",
    "\n",
    "plt.figure(figsize=(20, 4))\n",
    "i = 0\n",
    "for name, model in models.items():    \n",
    "    plt.subplot(1, 4, i + 1)\n",
    "    model.fit(X_train, y_train)\n",
    "    plot_classifier(X_train, y_train, model, ax=plt.gca())\n",
    "    plt.title(name);\n",
    "    i += 1"
   ]
  },
  {
   "cell_type": "markdown",
   "metadata": {},
   "source": [
    "#### 1) `coef_` and `intercept_`\n",
    "\n",
    "> `coef_`: Accessing learned weights\n",
    "> `intercept_`: Accessing intercepts\n",
    "\n",
    "\\begin{equation}\n",
    "\\begin{split}\n",
    "z =& w_1x_1 + \\dots w_dx_d + b\\\\\n",
    "=& w^Tx + b\n",
    "\\end{split}\n",
    "\\end{equation}"
   ]
  },
  {
   "cell_type": "code",
   "execution_count": 9,
   "metadata": {},
   "outputs": [
    {
     "name": "stdout",
     "output_type": "stream",
     "text": [
      "Model weights: [[-0.04108149 -0.33683126]]\n",
      "Model intercept: [10.8869838]\n"
     ]
    },
    {
     "data": {
      "text/html": [
       "<div>\n",
       "<style scoped>\n",
       "    .dataframe tbody tr th:only-of-type {\n",
       "        vertical-align: middle;\n",
       "    }\n",
       "\n",
       "    .dataframe tbody tr th {\n",
       "        vertical-align: top;\n",
       "    }\n",
       "\n",
       "    .dataframe thead th {\n",
       "        text-align: right;\n",
       "    }\n",
       "</style>\n",
       "<table border=\"1\" class=\"dataframe\">\n",
       "  <thead>\n",
       "    <tr style=\"text-align: right;\">\n",
       "      <th></th>\n",
       "      <th>features</th>\n",
       "      <th>coefficients</th>\n",
       "    </tr>\n",
       "  </thead>\n",
       "  <tbody>\n",
       "    <tr>\n",
       "      <th>0</th>\n",
       "      <td>longitude</td>\n",
       "      <td>-0.041081</td>\n",
       "    </tr>\n",
       "    <tr>\n",
       "      <th>1</th>\n",
       "      <td>latitude</td>\n",
       "      <td>-0.336831</td>\n",
       "    </tr>\n",
       "  </tbody>\n",
       "</table>\n",
       "</div>"
      ],
      "text/plain": [
       "    features  coefficients\n",
       "0  longitude     -0.041081\n",
       "1   latitude     -0.336831"
      ]
     },
     "execution_count": 9,
     "metadata": {},
     "output_type": "execute_result"
    }
   ],
   "source": [
    "lr = LogisticRegression()\n",
    "lr.fit(X_train, y_train)\n",
    "print(\"Model weights: %s\"%(lr.coef_)) # these are weights\n",
    "print(\"Model intercept: %s\"%(lr.intercept_)) # this is the bias term\n",
    "\n",
    "data = {'features': X_train.columns, 'coefficients':lr.coef_[0]}\n",
    "pd.DataFrame(data)"
   ]
  },
  {
   "cell_type": "markdown",
   "metadata": {},
   "source": [
    "#### 2) Prediction with learned weights\n",
    "\n",
    "Calculate $\\hat{y}$ as: ```y_hat = np.dot(w, x) + b```"
   ]
  },
  {
   "cell_type": "code",
   "execution_count": 10,
   "metadata": {},
   "outputs": [
    {
     "data": {
      "text/plain": [
       "array([-1.97817876])"
      ]
     },
     "execution_count": 10,
     "metadata": {},
     "output_type": "execute_result"
    }
   ],
   "source": [
    "example = X_test.iloc[0,:]\n",
    "\n",
    "np.dot(example.tolist(), lr.coef_.flatten()) + (lr.intercept_)"
   ]
  },
  {
   "cell_type": "code",
   "execution_count": 11,
   "metadata": {},
   "outputs": [
    {
     "data": {
      "text/plain": [
       "array(['Canada', 'USA'], dtype=object)"
      ]
     },
     "execution_count": 11,
     "metadata": {},
     "output_type": "execute_result"
    }
   ],
   "source": [
    "lr.classes_"
   ]
  },
  {
   "cell_type": "markdown",
   "metadata": {},
   "source": [
    "- Our threshold here is 0\n",
    "- The sign is `value>0 == false` and so predict class 0 (Canada in our case). "
   ]
  },
  {
   "cell_type": "code",
   "execution_count": 12,
   "metadata": {},
   "outputs": [
    {
     "data": {
      "text/plain": [
       "array(['Canada'], dtype=object)"
      ]
     },
     "execution_count": 12,
     "metadata": {},
     "output_type": "execute_result"
    }
   ],
   "source": [
    "lr.predict([example])"
   ]
  },
  {
   "cell_type": "markdown",
   "metadata": {},
   "source": [
    "#### 3) sigmoid function\n",
    "\n",
    "Scores to probabilities\n",
    "\n",
    "> sigmoid function: \"squashes\" the raw model output from any number to the range $[0,1]$.    \n",
    "> convert values from $(-\\infty, +\\infty)$ to $[0, 1]$\n",
    "\n",
    "\n",
    "#### \"soft predictions\", aka predicted probabilities. \n",
    "  - To convert the raw model output into probabilities, instead of taking the sign, we apply the sigmoid.\n",
    "  \n",
    "$$\\frac{1}{1+e^{-x}}$$   \n",
    "  \n",
    "  \n",
    "<center>\n",
    "<img src='./img/sig.png' width=\"300\" height=\"300\" />\n",
    "</center>\n",
    "\n",
    "Features with positive coefficients increase the probability of the modeled outcome as they increase, while features with negative coefficients decrease the probability as they increase."
   ]
  },
  {
   "cell_type": "code",
   "execution_count": 13,
   "metadata": {},
   "outputs": [
    {
     "data": {
      "image/png": "[encoded data removed]",
      "text/plain": [
       "<Figure size 432x288 with 1 Axes>"
      ]
     },
     "metadata": {
      "needs_background": "light"
     },
     "output_type": "display_data"
    }
   ],
   "source": [
    "sigmoid = lambda x: 1/(1+np.exp(-x))\n",
    "raw_model_output = np.linspace(-8,8,1000)\n",
    "plt.plot(raw_model_output, sigmoid(raw_model_output));\n",
    "plt.plot([0,0],[0,0.5], '--k')\n",
    "plt.plot([-8,0],[0.5,0.5], '--k')\n",
    "plt.xlabel(\"raw model output, $w^Tx$\"); plt.ylabel(\"predicted probability\");plt.title(\"the sigmoid function\");"
   ]
  },
  {
   "cell_type": "markdown",
   "metadata": {},
   "source": [
    "#### 4) `predict_proba`"
   ]
  },
  {
   "cell_type": "code",
   "execution_count": 100,
   "metadata": {},
   "outputs": [
    {
     "data": {
      "text/plain": [
       "array([[0.87848688, 0.12151312]])"
      ]
     },
     "execution_count": 100,
     "metadata": {},
     "output_type": "execute_result"
    }
   ],
   "source": [
    "lr.predict_proba([example])"
   ]
  },
  {
   "cell_type": "code",
   "execution_count": 102,
   "metadata": {},
   "outputs": [
    {
     "data": {
      "text/html": [
       "<div>\n",
       "<style scoped>\n",
       "    .dataframe tbody tr th:only-of-type {\n",
       "        vertical-align: middle;\n",
       "    }\n",
       "\n",
       "    .dataframe tbody tr th {\n",
       "        vertical-align: top;\n",
       "    }\n",
       "\n",
       "    .dataframe thead th {\n",
       "        text-align: right;\n",
       "    }\n",
       "</style>\n",
       "<table border=\"1\" class=\"dataframe\">\n",
       "  <thead>\n",
       "    <tr style=\"text-align: right;\">\n",
       "      <th></th>\n",
       "      <th>y</th>\n",
       "      <th>predicted y</th>\n",
       "      <th>probabilities</th>\n",
       "    </tr>\n",
       "  </thead>\n",
       "  <tbody>\n",
       "    <tr>\n",
       "      <th>160</th>\n",
       "      <td>Canada</td>\n",
       "      <td>Canada</td>\n",
       "      <td>[0.7046068097086481, 0.2953931902913519]</td>\n",
       "    </tr>\n",
       "    <tr>\n",
       "      <th>127</th>\n",
       "      <td>Canada</td>\n",
       "      <td>Canada</td>\n",
       "      <td>[0.5630169062040135, 0.43698309379598654]</td>\n",
       "    </tr>\n",
       "    <tr>\n",
       "      <th>169</th>\n",
       "      <td>Canada</td>\n",
       "      <td>Canada</td>\n",
       "      <td>[0.8389680973255864, 0.16103190267441364]</td>\n",
       "    </tr>\n",
       "    <tr>\n",
       "      <th>188</th>\n",
       "      <td>Canada</td>\n",
       "      <td>Canada</td>\n",
       "      <td>[0.7964150775404333, 0.20358492245956678]</td>\n",
       "    </tr>\n",
       "    <tr>\n",
       "      <th>187</th>\n",
       "      <td>Canada</td>\n",
       "      <td>Canada</td>\n",
       "      <td>[0.9010806652340972, 0.0989193347659027]</td>\n",
       "    </tr>\n",
       "    <tr>\n",
       "      <th>192</th>\n",
       "      <td>Canada</td>\n",
       "      <td>Canada</td>\n",
       "      <td>[0.7753006388010791, 0.2246993611989209]</td>\n",
       "    </tr>\n",
       "    <tr>\n",
       "      <th>62</th>\n",
       "      <td>USA</td>\n",
       "      <td>USA</td>\n",
       "      <td>[0.030740704606528002, 0.969259295393472]</td>\n",
       "    </tr>\n",
       "    <tr>\n",
       "      <th>141</th>\n",
       "      <td>Canada</td>\n",
       "      <td>Canada</td>\n",
       "      <td>[0.6880304799160921, 0.3119695200839079]</td>\n",
       "    </tr>\n",
       "    <tr>\n",
       "      <th>183</th>\n",
       "      <td>Canada</td>\n",
       "      <td>Canada</td>\n",
       "      <td>[0.7891358587234145, 0.21086414127658554]</td>\n",
       "    </tr>\n",
       "    <tr>\n",
       "      <th>37</th>\n",
       "      <td>USA</td>\n",
       "      <td>USA</td>\n",
       "      <td>[0.006546969753885579, 0.9934530302461144]</td>\n",
       "    </tr>\n",
       "  </tbody>\n",
       "</table>\n",
       "</div>"
      ],
      "text/plain": [
       "          y predicted y                               probabilities\n",
       "160  Canada      Canada    [0.7046068097086481, 0.2953931902913519]\n",
       "127  Canada      Canada   [0.5630169062040135, 0.43698309379598654]\n",
       "169  Canada      Canada   [0.8389680973255864, 0.16103190267441364]\n",
       "188  Canada      Canada   [0.7964150775404333, 0.20358492245956678]\n",
       "187  Canada      Canada    [0.9010806652340972, 0.0989193347659027]\n",
       "192  Canada      Canada    [0.7753006388010791, 0.2246993611989209]\n",
       "62      USA         USA   [0.030740704606528002, 0.969259295393472]\n",
       "141  Canada      Canada    [0.6880304799160921, 0.3119695200839079]\n",
       "183  Canada      Canada   [0.7891358587234145, 0.21086414127658554]\n",
       "37      USA         USA  [0.006546969753885579, 0.9934530302461144]"
      ]
     },
     "execution_count": 102,
     "metadata": {},
     "output_type": "execute_result"
    }
   ],
   "source": [
    "# Predicting probabilities\n",
    "data_dict = {\"y\":y_train[:10], \n",
    "             \"predicted y\": lr.predict(X_train[:10]).tolist(),\n",
    "             \"probabilities\": lr.predict_proba(X_train[:10]).tolist()}\n",
    "pd.DataFrame(data_dict)"
   ]
  },
  {
   "cell_type": "code",
   "execution_count": 105,
   "metadata": {},
   "outputs": [
    {
     "data": {
      "image/png": "[encoded data removed]",
      "text/plain": [
       "<Figure size 432x288 with 2 Axes>"
      ]
     },
     "metadata": {
      "needs_background": "light"
     },
     "output_type": "display_data"
    }
   ],
   "source": [
    "plot_classifier(X_train[:30], y_train[:30], lr, proba=True, ax=plt.gca())\n",
    "plt.title(\"Logistic regression\");"
   ]
  },
  {
   "cell_type": "markdown",
   "metadata": {},
   "source": [
    "#### 5) Example\n",
    "\n",
    "Spam filter"
   ]
  },
  {
   "cell_type": "code",
   "execution_count": 16,
   "metadata": {},
   "outputs": [
    {
     "data": {
      "text/html": [
       "<div>\n",
       "<style scoped>\n",
       "    .dataframe tbody tr th:only-of-type {\n",
       "        vertical-align: middle;\n",
       "    }\n",
       "\n",
       "    .dataframe tbody tr th {\n",
       "        vertical-align: top;\n",
       "    }\n",
       "\n",
       "    .dataframe thead th {\n",
       "        text-align: right;\n",
       "    }\n",
       "</style>\n",
       "<table border=\"1\" class=\"dataframe\">\n",
       "  <thead>\n",
       "    <tr style=\"text-align: right;\">\n",
       "      <th></th>\n",
       "      <th>target</th>\n",
       "      <th>sms</th>\n",
       "    </tr>\n",
       "  </thead>\n",
       "  <tbody>\n",
       "    <tr>\n",
       "      <th>385</th>\n",
       "      <td>ham</td>\n",
       "      <td>It took Mr owl 3 licks</td>\n",
       "    </tr>\n",
       "    <tr>\n",
       "      <th>4003</th>\n",
       "      <td>ham</td>\n",
       "      <td>Well there's a pattern emerging of my friends telling me to drive up and come smoke with them and then telling me that I'm a weed fiend/make them smoke too much/impede their doing other things so ...</td>\n",
       "    </tr>\n",
       "    <tr>\n",
       "      <th>1283</th>\n",
       "      <td>ham</td>\n",
       "      <td>Yes i thought so. Thanks.</td>\n",
       "    </tr>\n",
       "    <tr>\n",
       "      <th>2327</th>\n",
       "      <td>spam</td>\n",
       "      <td>URGENT! Your mobile number *************** WON a å£2000 Bonus Caller prize on 10/06/03! This is the 2nd attempt to reach you! Call 09066368753 ASAP! Box 97N7QP, 150ppm</td>\n",
       "    </tr>\n",
       "    <tr>\n",
       "      <th>1103</th>\n",
       "      <td>ham</td>\n",
       "      <td>Aiyah sorry lor... I watch tv watch until i forgot 2 check my phone.</td>\n",
       "    </tr>\n",
       "  </tbody>\n",
       "</table>\n",
       "</div>"
      ],
      "text/plain": [
       "     target  \\\n",
       "385     ham   \n",
       "4003    ham   \n",
       "1283    ham   \n",
       "2327   spam   \n",
       "1103    ham   \n",
       "\n",
       "                                                                                                                                                                                                          sms  \n",
       "385                                                                                                                                                                                    It took Mr owl 3 licks  \n",
       "4003  Well there's a pattern emerging of my friends telling me to drive up and come smoke with them and then telling me that I'm a weed fiend/make them smoke too much/impede their doing other things so ...  \n",
       "1283                                                                                                                                                                                Yes i thought so. Thanks.  \n",
       "2327                                  URGENT! Your mobile number *************** WON a å£2000 Bonus Caller prize on 10/06/03! This is the 2nd attempt to reach you! Call 09066368753 ASAP! Box 97N7QP, 150ppm  \n",
       "1103                                                                                                                                     Aiyah sorry lor... I watch tv watch until i forgot 2 check my phone.  "
      ]
     },
     "execution_count": 16,
     "metadata": {},
     "output_type": "execute_result"
    }
   ],
   "source": [
    "sms_df = pd.read_csv(\"data/spam.csv\", encoding=\"latin-1\")\n",
    "sms_df = sms_df.drop([\"Unnamed: 2\", \"Unnamed: 3\", \"Unnamed: 4\"], axis=1)\n",
    "sms_df = sms_df.rename(columns={\"v1\": \"target\", \"v2\": \"sms\"})\n",
    "\n",
    "train_df, test_df = train_test_split(sms_df, test_size=0.2, random_state=123)\n",
    "X_train, y_train = train_df[\"sms\"], train_df[\"target\"]\n",
    "X_test, y_test = test_df[\"sms\"], test_df[\"target\"]\n",
    "train_df.head() "
   ]
  },
  {
   "cell_type": "markdown",
   "metadata": {},
   "source": [
    "> `fit` and `predict` using `LogisticRegression`"
   ]
  },
  {
   "cell_type": "code",
   "execution_count": 14,
   "metadata": {},
   "outputs": [],
   "source": [
    "pipe_lr = make_pipeline(CountVectorizer(stop_words='english'), \n",
    "                        LogisticRegression()) # pipeline with logistic regression"
   ]
  },
  {
   "cell_type": "code",
   "execution_count": 15,
   "metadata": {},
   "outputs": [
    {
     "name": "stderr",
     "output_type": "stream",
     "text": [
      "/Users/frank/opt/anaconda3/envs/571/lib/python3.7/site-packages/sklearn/model_selection/_validation.py:552: FitFailedWarning: Estimator fit failed. The score on this train-test partition for these parameters will be set to nan. Details: \n",
      "Traceback (most recent call last):\n",
      "  File \"/Users/frank/opt/anaconda3/envs/571/lib/python3.7/site-packages/sklearn/model_selection/_validation.py\", line 531, in _fit_and_score\n",
      "    estimator.fit(X_train, y_train, **fit_params)\n",
      "  File \"/Users/frank/opt/anaconda3/envs/571/lib/python3.7/site-packages/sklearn/pipeline.py\", line 335, in fit\n",
      "    self._final_estimator.fit(Xt, y, **fit_params_last_step)\n",
      "  File \"/Users/frank/opt/anaconda3/envs/571/lib/python3.7/site-packages/sklearn/linear_model/_logistic.py\", line 1344, in fit\n",
      "    accept_large_sparse=solver != 'liblinear')\n",
      "  File \"/Users/frank/opt/anaconda3/envs/571/lib/python3.7/site-packages/sklearn/base.py\", line 432, in _validate_data\n",
      "    X, y = check_X_y(X, y, **check_params)\n",
      "  File \"/Users/frank/opt/anaconda3/envs/571/lib/python3.7/site-packages/sklearn/utils/validation.py\", line 72, in inner_f\n",
      "    return f(**kwargs)\n",
      "  File \"/Users/frank/opt/anaconda3/envs/571/lib/python3.7/site-packages/sklearn/utils/validation.py\", line 812, in check_X_y\n",
      "    check_consistent_length(X, y)\n",
      "  File \"/Users/frank/opt/anaconda3/envs/571/lib/python3.7/site-packages/sklearn/utils/validation.py\", line 256, in check_consistent_length\n",
      "    \" samples: %r\" % [int(l) for l in lengths])\n",
      "ValueError: Found input variables with inconsistent numbers of samples: [2, 133]\n",
      "\n",
      "  FitFailedWarning)\n",
      "/Users/frank/opt/anaconda3/envs/571/lib/python3.7/site-packages/sklearn/model_selection/_validation.py:552: FitFailedWarning: Estimator fit failed. The score on this train-test partition for these parameters will be set to nan. Details: \n",
      "Traceback (most recent call last):\n",
      "  File \"/Users/frank/opt/anaconda3/envs/571/lib/python3.7/site-packages/sklearn/model_selection/_validation.py\", line 531, in _fit_and_score\n",
      "    estimator.fit(X_train, y_train, **fit_params)\n",
      "  File \"/Users/frank/opt/anaconda3/envs/571/lib/python3.7/site-packages/sklearn/pipeline.py\", line 335, in fit\n",
      "    self._final_estimator.fit(Xt, y, **fit_params_last_step)\n",
      "  File \"/Users/frank/opt/anaconda3/envs/571/lib/python3.7/site-packages/sklearn/linear_model/_logistic.py\", line 1344, in fit\n",
      "    accept_large_sparse=solver != 'liblinear')\n",
      "  File \"/Users/frank/opt/anaconda3/envs/571/lib/python3.7/site-packages/sklearn/base.py\", line 432, in _validate_data\n",
      "    X, y = check_X_y(X, y, **check_params)\n",
      "  File \"/Users/frank/opt/anaconda3/envs/571/lib/python3.7/site-packages/sklearn/utils/validation.py\", line 72, in inner_f\n",
      "    return f(**kwargs)\n",
      "  File \"/Users/frank/opt/anaconda3/envs/571/lib/python3.7/site-packages/sklearn/utils/validation.py\", line 812, in check_X_y\n",
      "    check_consistent_length(X, y)\n",
      "  File \"/Users/frank/opt/anaconda3/envs/571/lib/python3.7/site-packages/sklearn/utils/validation.py\", line 256, in check_consistent_length\n",
      "    \" samples: %r\" % [int(l) for l in lengths])\n",
      "ValueError: Found input variables with inconsistent numbers of samples: [2, 134]\n",
      "\n",
      "  FitFailedWarning)\n"
     ]
    },
    {
     "data": {
      "text/html": [
       "<div>\n",
       "<style scoped>\n",
       "    .dataframe tbody tr th:only-of-type {\n",
       "        vertical-align: middle;\n",
       "    }\n",
       "\n",
       "    .dataframe tbody tr th {\n",
       "        vertical-align: top;\n",
       "    }\n",
       "\n",
       "    .dataframe thead th {\n",
       "        text-align: right;\n",
       "    }\n",
       "</style>\n",
       "<table border=\"1\" class=\"dataframe\">\n",
       "  <thead>\n",
       "    <tr style=\"text-align: right;\">\n",
       "      <th></th>\n",
       "      <th>fit_time</th>\n",
       "      <th>score_time</th>\n",
       "      <th>test_score</th>\n",
       "      <th>train_score</th>\n",
       "    </tr>\n",
       "  </thead>\n",
       "  <tbody>\n",
       "    <tr>\n",
       "      <th>0</th>\n",
       "      <td>0.003072</td>\n",
       "      <td>0.0</td>\n",
       "      <td>NaN</td>\n",
       "      <td>NaN</td>\n",
       "    </tr>\n",
       "    <tr>\n",
       "      <th>1</th>\n",
       "      <td>0.001938</td>\n",
       "      <td>0.0</td>\n",
       "      <td>NaN</td>\n",
       "      <td>NaN</td>\n",
       "    </tr>\n",
       "    <tr>\n",
       "      <th>2</th>\n",
       "      <td>0.001795</td>\n",
       "      <td>0.0</td>\n",
       "      <td>NaN</td>\n",
       "      <td>NaN</td>\n",
       "    </tr>\n",
       "    <tr>\n",
       "      <th>3</th>\n",
       "      <td>0.001736</td>\n",
       "      <td>0.0</td>\n",
       "      <td>NaN</td>\n",
       "      <td>NaN</td>\n",
       "    </tr>\n",
       "    <tr>\n",
       "      <th>4</th>\n",
       "      <td>0.001644</td>\n",
       "      <td>0.0</td>\n",
       "      <td>NaN</td>\n",
       "      <td>NaN</td>\n",
       "    </tr>\n",
       "  </tbody>\n",
       "</table>\n",
       "</div>"
      ],
      "text/plain": [
       "   fit_time  score_time  test_score  train_score\n",
       "0  0.003072         0.0         NaN          NaN\n",
       "1  0.001938         0.0         NaN          NaN\n",
       "2  0.001795         0.0         NaN          NaN\n",
       "3  0.001736         0.0         NaN          NaN\n",
       "4  0.001644         0.0         NaN          NaN"
      ]
     },
     "execution_count": 15,
     "metadata": {},
     "output_type": "execute_result"
    }
   ],
   "source": [
    "results = cross_validate(pipe_lr, X_train, y_train, return_train_score=True)\n",
    "pd.DataFrame(results)"
   ]
  },
  {
   "cell_type": "markdown",
   "metadata": {},
   "source": [
    "> Finding examples where the model is most confident \n"
   ]
  },
  {
   "cell_type": "code",
   "execution_count": 17,
   "metadata": {},
   "outputs": [],
   "source": [
    "pipe_lr.fit(X_train, y_train);"
   ]
  },
  {
   "cell_type": "code",
   "execution_count": 20,
   "metadata": {},
   "outputs": [
    {
     "data": {
      "text/plain": [
       "array([0.01243484, 0.00178253, 0.00823734, ..., 0.01078384, 0.01499091,\n",
       "       0.00752707])"
      ]
     },
     "execution_count": 20,
     "metadata": {},
     "output_type": "execute_result"
    }
   ],
   "source": [
    "pipe_lr.predict_proba(X_train)[:, 1]"
   ]
  },
  {
   "cell_type": "code",
   "execution_count": 18,
   "metadata": {},
   "outputs": [
    {
     "name": "stdout",
     "output_type": "stream",
     "text": [
      "MESSAGE: 267    Ur ringtone service has changed! 25 Free credits! Go to club4mobiles.com to choose content now! Stop? txt CLUB STOP to 87070. 150p/wk Club4 PO Box1146 MK45 2WT\n",
      "Name: sms, dtype: object\n",
      "\n",
      "True target: spam\n",
      "\n",
      "Predicted target: spam\n",
      "\n",
      "Prediction probability: 1.0000\n"
     ]
    }
   ],
   "source": [
    "spam_probs = pipe_lr.predict_proba(X_train)[:, 1]\n",
    "most_spammy = np.argmax(spam_probs)\n",
    "\n",
    "print(\"MESSAGE: %s\\n\" %(X_train.iloc[[most_spammy]]))\n",
    "print(\"True target: %s\\n\" %(y_train.iloc[most_spammy]))\n",
    "print(\"Predicted target: %s\\n\" %(pipe_lr.predict(X_train.iloc[[most_spammy]])[0]))\n",
    "print(\"Prediction probability: %0.4f\" %(spam_probs[most_spammy]))"
   ]
  },
  {
   "cell_type": "code",
   "execution_count": 113,
   "metadata": {},
   "outputs": [
    {
     "name": "stdout",
     "output_type": "stream",
     "text": [
      "MESSAGE: 2433    Indians r poor but India is not a poor country. Says one of the swiss bank directors. He says that \\ &lt;#&gt;  lac crore\\\" of Indian money is deposited in swiss banks which can be used for 'taxle...\n",
      "Name: sms, dtype: object\n",
      "\n",
      "True target: ham\n",
      "\n",
      "Predicted target: ham\n",
      "\n",
      "Prediction probability: 1.0000\n"
     ]
    }
   ],
   "source": [
    "ham_probs = pipe_lr.predict_proba(X_train)[:, 0]\n",
    "most_hammy = np.argmax(ham_probs)\n",
    "\n",
    "print(\"MESSAGE: %s\\n\" %(X_train.iloc[[most_hammy]]))\n",
    "print(\"True target: %s\\n\" %(y_train.iloc[most_hammy]))\n",
    "print(\"Predicted target: %s\\n\" %(pipe_lr.predict(X_train.iloc[[most_hammy]])[0]))\n",
    "print(\"Prediction probability: %0.4f\" %(ham_probs[most_hammy]))"
   ]
  },
  {
   "cell_type": "markdown",
   "metadata": {},
   "source": [
    "> the top 10 words that are indicative of \"spam\" and \"ham\" according to the model.\n",
    "\n",
    "- The vocabulary (mapping from feature indices to actual words) can be obtained using `get_feature_names()` on the `CountVectorizer` object. "
   ]
  },
  {
   "cell_type": "code",
   "execution_count": 114,
   "metadata": {},
   "outputs": [
    {
     "data": {
      "text/html": [
       "<div>\n",
       "<style scoped>\n",
       "    .dataframe tbody tr th:only-of-type {\n",
       "        vertical-align: middle;\n",
       "    }\n",
       "\n",
       "    .dataframe tbody tr th {\n",
       "        vertical-align: top;\n",
       "    }\n",
       "\n",
       "    .dataframe thead th {\n",
       "        text-align: right;\n",
       "    }\n",
       "</style>\n",
       "<table border=\"1\" class=\"dataframe\">\n",
       "  <thead>\n",
       "    <tr style=\"text-align: right;\">\n",
       "      <th></th>\n",
       "      <th>features</th>\n",
       "      <th>coefficient</th>\n",
       "    </tr>\n",
       "  </thead>\n",
       "  <tbody>\n",
       "    <tr>\n",
       "      <th>0</th>\n",
       "      <td>using</td>\n",
       "      <td>0.064078</td>\n",
       "    </tr>\n",
       "    <tr>\n",
       "      <th>1</th>\n",
       "      <td>usmle</td>\n",
       "      <td>-0.000268</td>\n",
       "    </tr>\n",
       "    <tr>\n",
       "      <th>2</th>\n",
       "      <td>usps</td>\n",
       "      <td>-0.027594</td>\n",
       "    </tr>\n",
       "    <tr>\n",
       "      <th>3</th>\n",
       "      <td>usual</td>\n",
       "      <td>-0.054480</td>\n",
       "    </tr>\n",
       "    <tr>\n",
       "      <th>4</th>\n",
       "      <td>usually</td>\n",
       "      <td>-0.039779</td>\n",
       "    </tr>\n",
       "    <tr>\n",
       "      <th>5</th>\n",
       "      <td>uterus</td>\n",
       "      <td>-0.010815</td>\n",
       "    </tr>\n",
       "    <tr>\n",
       "      <th>6</th>\n",
       "      <td>utter</td>\n",
       "      <td>-0.020199</td>\n",
       "    </tr>\n",
       "    <tr>\n",
       "      <th>7</th>\n",
       "      <td>uttered</td>\n",
       "      <td>-0.001877</td>\n",
       "    </tr>\n",
       "    <tr>\n",
       "      <th>8</th>\n",
       "      <td>uup</td>\n",
       "      <td>-0.006187</td>\n",
       "    </tr>\n",
       "    <tr>\n",
       "      <th>9</th>\n",
       "      <td>uv</td>\n",
       "      <td>-0.015756</td>\n",
       "    </tr>\n",
       "  </tbody>\n",
       "</table>\n",
       "</div>"
      ],
      "text/plain": [
       "  features  coefficient\n",
       "0    using     0.064078\n",
       "1    usmle    -0.000268\n",
       "2     usps    -0.027594\n",
       "3    usual    -0.054480\n",
       "4  usually    -0.039779\n",
       "5   uterus    -0.010815\n",
       "6    utter    -0.020199\n",
       "7  uttered    -0.001877\n",
       "8      uup    -0.006187\n",
       "9       uv    -0.015756"
      ]
     },
     "execution_count": 114,
     "metadata": {},
     "output_type": "execute_result"
    }
   ],
   "source": [
    "weights = pipe_lr.named_steps['logisticregression'].coef_.flatten()\n",
    "vocab = pipe_lr.named_steps['countvectorizer'].get_feature_names()\n",
    "\n",
    "data={'features':vocab[-500:-490], 'coefficient':weights[-500:-490]}\n",
    "pd.DataFrame(data)"
   ]
  },
  {
   "cell_type": "code",
   "execution_count": 117,
   "metadata": {},
   "outputs": [],
   "source": [
    "# sort coeff\n",
    "inds = np.argsort(pipe_lr.named_steps['logisticregression'].coef_.flatten())"
   ]
  },
  {
   "cell_type": "markdown",
   "metadata": {},
   "source": [
    "> Summary: Interpreting learned weights/coefficients "
   ]
  },
  {
   "cell_type": "code",
   "execution_count": 123,
   "metadata": {},
   "outputs": [
    {
     "data": {
      "text/html": [
       "<div>\n",
       "<style scoped>\n",
       "    .dataframe tbody tr th:only-of-type {\n",
       "        vertical-align: middle;\n",
       "    }\n",
       "\n",
       "    .dataframe tbody tr th {\n",
       "        vertical-align: top;\n",
       "    }\n",
       "\n",
       "    .dataframe thead th {\n",
       "        text-align: right;\n",
       "    }\n",
       "</style>\n",
       "<table border=\"1\" class=\"dataframe\">\n",
       "  <thead>\n",
       "    <tr style=\"text-align: right;\">\n",
       "      <th></th>\n",
       "      <th>ham feats</th>\n",
       "      <th>ham weights</th>\n",
       "      <th>spam feats</th>\n",
       "      <th>spam weights</th>\n",
       "    </tr>\n",
       "  </thead>\n",
       "  <tbody>\n",
       "    <tr>\n",
       "      <th>0</th>\n",
       "      <td>gt</td>\n",
       "      <td>-1.006349</td>\n",
       "      <td>18</td>\n",
       "      <td>1.301611</td>\n",
       "    </tr>\n",
       "    <tr>\n",
       "      <th>1</th>\n",
       "      <td>lt</td>\n",
       "      <td>-0.996415</td>\n",
       "      <td>88066</td>\n",
       "      <td>1.321332</td>\n",
       "    </tr>\n",
       "    <tr>\n",
       "      <th>2</th>\n",
       "      <td>ll</td>\n",
       "      <td>-0.843388</td>\n",
       "      <td>urgent</td>\n",
       "      <td>1.416105</td>\n",
       "    </tr>\n",
       "    <tr>\n",
       "      <th>3</th>\n",
       "      <td>fullonsms</td>\n",
       "      <td>-0.758834</td>\n",
       "      <td>ringtone</td>\n",
       "      <td>1.447030</td>\n",
       "    </tr>\n",
       "    <tr>\n",
       "      <th>4</th>\n",
       "      <td>think</td>\n",
       "      <td>-0.744617</td>\n",
       "      <td>min</td>\n",
       "      <td>1.456589</td>\n",
       "    </tr>\n",
       "    <tr>\n",
       "      <th>5</th>\n",
       "      <td>ok</td>\n",
       "      <td>-0.693824</td>\n",
       "      <td>reply</td>\n",
       "      <td>1.458339</td>\n",
       "    </tr>\n",
       "    <tr>\n",
       "      <th>6</th>\n",
       "      <td>happy</td>\n",
       "      <td>-0.690522</td>\n",
       "      <td>chat</td>\n",
       "      <td>1.483470</td>\n",
       "    </tr>\n",
       "    <tr>\n",
       "      <th>7</th>\n",
       "      <td>later</td>\n",
       "      <td>-0.689197</td>\n",
       "      <td>text</td>\n",
       "      <td>1.507305</td>\n",
       "    </tr>\n",
       "    <tr>\n",
       "      <th>8</th>\n",
       "      <td>way</td>\n",
       "      <td>-0.686187</td>\n",
       "      <td>www</td>\n",
       "      <td>1.546152</td>\n",
       "    </tr>\n",
       "    <tr>\n",
       "      <th>9</th>\n",
       "      <td>da</td>\n",
       "      <td>-0.684634</td>\n",
       "      <td>free</td>\n",
       "      <td>1.654350</td>\n",
       "    </tr>\n",
       "    <tr>\n",
       "      <th>10</th>\n",
       "      <td>got</td>\n",
       "      <td>-0.669339</td>\n",
       "      <td>won</td>\n",
       "      <td>1.721252</td>\n",
       "    </tr>\n",
       "    <tr>\n",
       "      <th>11</th>\n",
       "      <td>home</td>\n",
       "      <td>-0.639804</td>\n",
       "      <td>message</td>\n",
       "      <td>1.763130</td>\n",
       "    </tr>\n",
       "    <tr>\n",
       "      <th>12</th>\n",
       "      <td>lor</td>\n",
       "      <td>-0.592864</td>\n",
       "      <td>50</td>\n",
       "      <td>1.781997</td>\n",
       "    </tr>\n",
       "    <tr>\n",
       "      <th>13</th>\n",
       "      <td>pls</td>\n",
       "      <td>-0.565448</td>\n",
       "      <td>150p</td>\n",
       "      <td>1.787398</td>\n",
       "    </tr>\n",
       "    <tr>\n",
       "      <th>14</th>\n",
       "      <td>come</td>\n",
       "      <td>-0.558022</td>\n",
       "      <td>new</td>\n",
       "      <td>1.848891</td>\n",
       "    </tr>\n",
       "    <tr>\n",
       "      <th>15</th>\n",
       "      <td>doing</td>\n",
       "      <td>-0.535994</td>\n",
       "      <td>txt</td>\n",
       "      <td>1.876595</td>\n",
       "    </tr>\n",
       "    <tr>\n",
       "      <th>16</th>\n",
       "      <td>lol</td>\n",
       "      <td>-0.534565</td>\n",
       "      <td>claim</td>\n",
       "      <td>1.926252</td>\n",
       "    </tr>\n",
       "    <tr>\n",
       "      <th>17</th>\n",
       "      <td>right</td>\n",
       "      <td>-0.534046</td>\n",
       "      <td>mobile</td>\n",
       "      <td>1.932385</td>\n",
       "    </tr>\n",
       "    <tr>\n",
       "      <th>18</th>\n",
       "      <td>said</td>\n",
       "      <td>-0.522873</td>\n",
       "      <td>service</td>\n",
       "      <td>2.034144</td>\n",
       "    </tr>\n",
       "    <tr>\n",
       "      <th>19</th>\n",
       "      <td>hey</td>\n",
       "      <td>-0.512564</td>\n",
       "      <td>uk</td>\n",
       "      <td>2.286523</td>\n",
       "    </tr>\n",
       "  </tbody>\n",
       "</table>\n",
       "</div>"
      ],
      "text/plain": [
       "    ham feats  ham weights spam feats  spam weights\n",
       "0          gt    -1.006349         18      1.301611\n",
       "1          lt    -0.996415      88066      1.321332\n",
       "2          ll    -0.843388     urgent      1.416105\n",
       "3   fullonsms    -0.758834   ringtone      1.447030\n",
       "4       think    -0.744617        min      1.456589\n",
       "5          ok    -0.693824      reply      1.458339\n",
       "6       happy    -0.690522       chat      1.483470\n",
       "7       later    -0.689197       text      1.507305\n",
       "8         way    -0.686187        www      1.546152\n",
       "9          da    -0.684634       free      1.654350\n",
       "10        got    -0.669339        won      1.721252\n",
       "11       home    -0.639804    message      1.763130\n",
       "12        lor    -0.592864         50      1.781997\n",
       "13        pls    -0.565448       150p      1.787398\n",
       "14       come    -0.558022        new      1.848891\n",
       "15      doing    -0.535994        txt      1.876595\n",
       "16        lol    -0.534565      claim      1.926252\n",
       "17      right    -0.534046     mobile      1.932385\n",
       "18       said    -0.522873    service      2.034144\n",
       "19        hey    -0.512564         uk      2.286523"
      ]
     },
     "execution_count": 123,
     "metadata": {},
     "output_type": "execute_result"
    }
   ],
   "source": [
    "# print result\n",
    "\n",
    "ham_words = [vocab[index] for index in inds[:20]]\n",
    "spam_words = [vocab[index] for index in inds[-20:]]\n",
    "\n",
    "ham_words_weights = [(weights[index]) for index in inds[:20]]\n",
    "spam_words_weights = [(weights[index]) for index in inds[-20:]]\n",
    "pd.DataFrame(\n",
    "    {\n",
    "        \"ham feats\": ham_words, \n",
    "        \"ham weights\": ham_words_weights,\n",
    "        \"spam feats\": spam_words,\n",
    "        \"spam weights\": spam_words_weights,\n",
    "    })"
   ]
  },
  {
   "cell_type": "markdown",
   "metadata": {},
   "source": [
    "## 2. `SVC(kernel='linear')` Linear SVM"
   ]
  },
  {
   "cell_type": "code",
   "execution_count": 124,
   "metadata": {},
   "outputs": [],
   "source": [
    "cities_df = pd.read_csv(\"data/canada_usa_cities.csv\")\n",
    "train_df, test_df = train_test_split(cities_df, test_size=0.2, random_state=123)\n",
    "X_train, y_train = train_df.drop(columns=[\"country\"], axis=1), train_df[\"country\"]\n",
    "X_test, y_test = test_df.drop(columns=[\"country\"], axis=1), test_df[\"country\"]"
   ]
  },
  {
   "cell_type": "code",
   "execution_count": 125,
   "metadata": {},
   "outputs": [
    {
     "name": "stdout",
     "output_type": "stream",
     "text": [
      "RBF SVM mean cv score: 0.8203208556149733\n",
      "Linear SVM mean cv score: 0.8201426024955436\n"
     ]
    },
    {
     "data": {
      "image/png": "[encoded data removed]",
      "text/plain": [
       "<Figure size 720x360 with 2 Axes>"
      ]
     },
     "metadata": {},
     "output_type": "display_data"
    }
   ],
   "source": [
    "models = {\n",
    "    \"RBF SVM\": SVC(gamma=0.01), # default SVM is RBF SVM\n",
    "    \"Linear SVM\": SVC(kernel='linear')\n",
    "}\n",
    "\n",
    "plt.figure(figsize=(10, 5))\n",
    "i = 0\n",
    "for name, model in models.items():    \n",
    "    plt.subplot(1, 2, i + 1)\n",
    "    model.fit(X_train, y_train)\n",
    "    scores = cross_validate(model, X_train, y_train)\n",
    "    print('%s mean cv score: %s' %(name, pd.DataFrame(scores).mean()['test_score']))\n",
    "    plot_classifier(X_train, y_train, model, ax=plt.gca())\n",
    "    plt.title(name);\n",
    "    i += 1"
   ]
  },
  {
   "cell_type": "markdown",
   "metadata": {},
   "source": [
    "#### 1). `predict`, `coef` and `intercept`\n",
    "\n",
    "> Note that the coefficients and intercept are slightly different for logistic regression. \n",
    "- This is because the `fit` for linear SVM and logistic regression are different. "
   ]
  },
  {
   "cell_type": "code",
   "execution_count": 127,
   "metadata": {},
   "outputs": [
    {
     "name": "stdout",
     "output_type": "stream",
     "text": [
      "Model weights: [[-0.0195598  -0.23640124]]\n",
      "Model intercept: [8.22811601]\n"
     ]
    }
   ],
   "source": [
    "linear_svc = SVC(kernel='linear')\n",
    "linear_svc.fit(X_train, y_train)\n",
    "print(\"Model weights: %s\"%(linear_svc.coef_))\n",
    "print(\"Model intercept: %s\"%(linear_svc.intercept_))"
   ]
  },
  {
   "cell_type": "code",
   "execution_count": 128,
   "metadata": {},
   "outputs": [
    {
     "name": "stdout",
     "output_type": "stream",
     "text": [
      "Model weights: [[-0.04108149 -0.33683126]]\n",
      "Model intercept: [10.8869838]\n"
     ]
    }
   ],
   "source": [
    "lr = LogisticRegression()\n",
    "lr.fit(X_train, y_train)\n",
    "print(\"Model weights: %s\"%(lr.coef_))\n",
    "print(\"Model intercept: %s\"%(lr.intercept_))"
   ]
  },
  {
   "cell_type": "markdown",
   "metadata": {},
   "source": [
    "## 3. `LinearRegression` - `Ridge`\n",
    "\n",
    "#### Limitations of linear classifiers \n",
    "\n",
    "- Is your data \"linearly separable\"? Can you draw a hyperplane between these datapoints that separates them with 0 error. \n",
    "    - If the training examples can be separated by a linear decision rule, they are **linearly separable**.\n"
   ]
  },
  {
   "cell_type": "code",
   "execution_count": 131,
   "metadata": {},
   "outputs": [
    {
     "data": {
      "image/png": "[encoded data removed]",
      "text/plain": [
       "<Figure size 432x288 with 1 Axes>"
      ]
     },
     "metadata": {
      "needs_background": "light"
     },
     "output_type": "display_data"
    }
   ],
   "source": [
    "n = 50\n",
    "X = np.linspace(-1,1,n)+np.random.randn(n)*0.01\n",
    "X = X[:,None]\n",
    "y = np.random.randn(n,1) + X*5\n",
    "y = y.ravel()\n",
    "\n",
    "X_train, X_test, y_train, y_test = train_test_split(X, y, test_size=0.2, random_state=123)\n",
    "grid = np.linspace(min(X_train),max(X_train),1000)\n",
    "\n",
    "plt.plot(X_train, y_train, '.', markersize=10);\n",
    "plt.xlabel('X_train');\n",
    "\n",
    "plt.ylabel('y_train');"
   ]
  },
  {
   "cell_type": "code",
   "execution_count": 133,
   "metadata": {},
   "outputs": [
    {
     "data": {
      "image/png": "[encoded data removed]",
      "text/plain": [
       "<Figure size 432x288 with 1 Axes>"
      ]
     },
     "metadata": {
      "needs_background": "light"
     },
     "output_type": "display_data"
    }
   ],
   "source": [
    "from sklearn.linear_model import Ridge\n",
    "r = Ridge()\n",
    "r.fit(X_train, y_train)\n",
    "\n",
    "\n",
    "plt.plot(X_train,y_train,'.',markersize=10);\n",
    "plt.plot(grid, r.predict(grid));\n",
    "plt.xlabel(\"feature\")\n",
    "plt.ylabel(\"target\");"
   ]
  },
  {
   "cell_type": "markdown",
   "metadata": {},
   "source": [
    "## 4. Multi-class, meta-strategies\n",
    "\n",
    "### Multi-class strategies\n",
    "\n",
    "- Two common strategies\n",
    "    - One-vs-rest\n",
    "    - One-vs-one\n",
    "\n",
    "By default LogisticRegression uses one-vs-rest strategy to deal with multi-class\n",
    "\n",
    "\n",
    "### When do we use  `OneVsRestClassifier` and ``OneVsOneClassifier``\n",
    "\n",
    "- It's not that likely for you to need `OneVsRestClassifier` or `OneVsOneClassifier` because most of the methods you'll use will have native multi-class support. \n",
    "- However, it's good to know in case you ever need to extend a binary classifier (perhaps one you've implemented on your own)."
   ]
  },
  {
   "cell_type": "code",
   "execution_count": 134,
   "metadata": {},
   "outputs": [
    {
     "data": {
      "image/png": "[encoded data removed]",
      "text/plain": [
       "<Figure size 432x288 with 1 Axes>"
      ]
     },
     "metadata": {
      "needs_background": "light"
     },
     "output_type": "display_data"
    }
   ],
   "source": [
    "from sklearn.datasets import make_blobs\n",
    "\n",
    "# generate blobs with fixed random generator\n",
    "X, y = make_blobs(n_samples=500, centers=4, random_state=300)\n",
    "X_train, X_test, y_train, y_test = train_test_split(X, y)\n",
    "plt.scatter(*X_train.T, c=y_train, marker=\".\", cmap=\"Dark2\");"
   ]
  },
  {
   "cell_type": "markdown",
   "metadata": {},
   "source": [
    "#### 1). LogisticRegression - one-vs-rest\n",
    "\n",
    "> Logistic regression seems to be working without problem on it.\n",
    "\n",
    "### Uses \"one-vs-rest\" scheme (also known as one-vs-all)\n",
    "  - turns $k$-class classification into $k$ binary classification problems\n",
    "  - builds $k$ binary classifiers; for each classifier, the class is fitted against all the other classes\n",
    "  - each one gives a probability of that class assuming it to be \"positive\" using the sigmoid function\n",
    "  - normalize these values across all the classes\n",
    "  - the class with the maximum value is the prediction \n",
    "  - you can do this yourself for any binary classifier using the meta-classifier [`OneVsRestClassifier`](https://scikit-learn.org/stable/modules/generated/sklearn.multiclass.OneVsRestClassifier.html)"
   ]
  },
  {
   "cell_type": "code",
   "execution_count": 135,
   "metadata": {},
   "outputs": [
    {
     "data": {
      "image/png": "[encoded data removed]",
      "text/plain": [
       "<Figure size 432x288 with 1 Axes>"
      ]
     },
     "metadata": {},
     "output_type": "display_data"
    }
   ],
   "source": [
    "lr = LogisticRegression()\n",
    "lr.fit(X_train, y_train)\n",
    "plot_classifier(X_train, y_train, lr);"
   ]
  },
  {
   "cell_type": "markdown",
   "metadata": {},
   "source": [
    "> \"one-vs-rest\" scheme\n",
    "\n",
    "you can do this yourself for any binary classifier using the meta-classifier OneVsRestClassifier"
   ]
  },
  {
   "cell_type": "code",
   "execution_count": 136,
   "metadata": {},
   "outputs": [
    {
     "data": {
      "text/plain": [
       "<AxesSubplot:>"
      ]
     },
     "execution_count": 136,
     "metadata": {},
     "output_type": "execute_result"
    },
    {
     "data": {
      "image/png": "[encoded data removed]",
      "text/plain": [
       "<Figure size 432x288 with 1 Axes>"
      ]
     },
     "metadata": {},
     "output_type": "display_data"
    }
   ],
   "source": [
    "from sklearn.multiclass import OneVsRestClassifier, OneVsOneClassifier\n",
    "ovr = OneVsRestClassifier(LogisticRegression())\n",
    "ovr.fit(X_train, y_train)\n",
    "plot_classifier(X_train, y_train, ovr)"
   ]
  },
  {
   "cell_type": "code",
   "execution_count": 137,
   "metadata": {},
   "outputs": [
    {
     "data": {
      "image/png": "[encoded data removed]",
      "text/plain": [
       "<Figure size 1296x288 with 8 Axes>"
      ]
     },
     "metadata": {
      "needs_background": "light"
     },
     "output_type": "display_data"
    }
   ],
   "source": [
    "# Here's how one-vs-rest works:\n",
    "def one_vs_rest_plots(model_class, X, y):\n",
    "    plt.figure(figsize=(18, 4))\n",
    "    classes = np.unique(y)\n",
    "    k = len(classes)\n",
    "    for i, c in enumerate(classes):\n",
    "        plt.subplot(1, k, i + 1)\n",
    "\n",
    "        y_binary = y == c\n",
    "        model = model_class()\n",
    "        model.fit(X, y_binary)\n",
    "        plot_classifier(X, y_binary, model, ax=plt.gca(), proba=True)\n",
    "        plt.title(\"Class %d vs rest\" % c, fontsize=13)\n",
    "\n",
    "\n",
    "one_vs_rest_plots(LogisticRegression, X, y)"
   ]
  },
  {
   "cell_type": "markdown",
   "metadata": {},
   "source": [
    "#### 2). Linear SVMs - one-vs-one\n",
    "\n",
    "\n",
    "### \"one-vs-one\"\n",
    "- A multi-class linear SVM looks similar, though, by default, it's done with \"one-vs-one\" instead of one-vs-rest\n",
    "  - This requires fitting $O(k^2)$ classifiers, where $k$ is number of classes, which is slow.\n",
    "  - To be precise, it requires fitting $k \\times (k − 1)/2$ classifiers; each class gets paired up with all other classes except itself and we divide by 2 because class 1 vs. class 2 classifier is the same as class 2 vs. class 1 classifier.\n",
    "  - How many models need to be trained for the ImageNet challenge (which has 1000 classes)?\n",
    "- Note that `SVC` multiclass mode is implemented using one-vs-one scheme whereas `LinearSVC` uses one-vs-rest scheme. \n",
    "- That said, we can use the OneVsRestClassifier wrapper to implement one-vs-rest with SVC.\n",
    "- [Here](https://scikit-learn.org/stable/modules/multiclass.html) you will find summary of how `scikit-learn` handles multi-class classification for different classifiers. "
   ]
  },
  {
   "cell_type": "code",
   "execution_count": 139,
   "metadata": {},
   "outputs": [
    {
     "data": {
      "image/png": "[encoded data removed]",
      "text/plain": [
       "<Figure size 432x288 with 1 Axes>"
      ]
     },
     "metadata": {},
     "output_type": "display_data"
    }
   ],
   "source": [
    "svm = SVC(kernel=\"linear\")\n",
    "svm.fit(X_train, y_train)\n",
    "plot_classifier(X_train, y_train, svm);"
   ]
  },
  {
   "cell_type": "code",
   "execution_count": 140,
   "metadata": {},
   "outputs": [
    {
     "data": {
      "image/png": "[encoded data removed]",
      "text/plain": [
       "<Figure size 432x288 with 1 Axes>"
      ]
     },
     "metadata": {},
     "output_type": "display_data"
    }
   ],
   "source": [
    "# Here's a multi-class nonlinear SVM:\n",
    "svm_multi = SVC(kernel=\"rbf\", gamma=2, C=100)\n",
    "svm_multi.fit(X_train, y_train)\n",
    "plot_classifier(X_train, y_train, svm_multi);"
   ]
  },
  {
   "cell_type": "markdown",
   "metadata": {},
   "source": [
    "## 5. Questions\n",
    "\n",
    "\n",
    "---\n",
    "\n",
    "### Summary\n",
    "Classifier |      Strengths | Weaknesses | Key hyperparameters |\n",
    ":-----------|      :------------|:------------|:---------------------|\n",
    "decision tree | Interpretable; validatable; $\\mathcal{O}(\\log n)$ prediction cost | Unstable with respect to data; prone to overfitting: sensitive to `max-depth`. | `max_depth` |\n",
    "$k$-NN | Minimal training; few moving parts. Runs somewhere between $\\mathcal{O}(d \\log n)$ and $\\mathcal{O}(dn)$ | Sensitive to feature scaling, choice of $k$; distances \"don't make sense\" in high dimensions | `k` |\n",
    "SVM | prediction cost $\\propto$ # support vectors; strong predictive power *via* kernel trick  | Slow. Training is $\\mathcal{\\Omega}(dn^2)$ | `C`, `gamma` |\n",
    "naive Bayes | Fast. Natural probabilistic interpretation. | Conditional independence often unrealistic. | `alpha` |\n",
    "logistic regression | Outputs have a nice probabilistic interpretation; training time complexicity is $\\mathcal{O}(dn)$ | doesn't work well when the decision boundaries are non-linear | `C` |\n",
    "\n",
    "---\n",
    "### Short Answers\n",
    "\n",
    "#### 1). Would it be hard to get most informative features using other classifiers such as SVMs with RBF kernel, naive Bayes, or decision trees? Why or why not?\n",
    "- RBF SVMs and $k$-NNs $\\rightarrow$ It is hard to get feature importances for RBF SVM because it's an analogy-based algorithm based on distances between examples, where all features are given similar importance. \n",
    "- naive Bayes $\\rightarrow$ The conditional probabilities in naive Bayes can give us a sense of feature importances. You can interpret naive Bayes as a linear model by considering log probabilities. Accordingly, similar to linear models, `sklearn`'s `MultinomialNB` has `coef_` attribute, which can be use to interpret how important is each feature.    \n",
    "- Decision trees $\\rightarrow$ The decision tree algorithm is based on finding most important features using criteria such as information gain or Gini importance, in `sklearn`. Accordingly, `sklearn`'s `DecisionTreeClassifier` has a `feature_importances_` attribute to get this information. \n",
    "\n",
    "\n",
    "#### 2). Choosing a classifier: Logistic regression vs. Naive Bayes\n",
    "\n",
    "- Naive Bayes has overly strong conditional independence assumptions. So it is **not great when features are correlated**. \n",
    "    - If two features are strongly correlated, naive Bayes will be  overestimating the evidence of that feature.\n",
    "- Logistic regression is much **more robust to correlated features**\n",
    "    - If two features are correlated, regression will assign part of the weight to one and part\n",
    "to another.     \n",
    "\n",
    "\n",
    "#### 3). Can logistic regression work with categorical features?\n",
    "- No. We need numerically encoded features for logistic regression.\n",
    "\n",
    "\n",
    "#### 4). Suppose you want to train one-vs-rest classifier on a 1000-class problem. Suppose the training time for each binary classifier is $t$. How much time it would take to train the one-vs-rest classifier? \n",
    "1. $1000 \\times t$ (correct answer)\n",
    "2. $1000^2 \\times t$\n",
    "3. $((1000)(999)/2) \\times t$\n",
    "\n",
    "\n",
    "#### 5). Name two popular methods for applying a binary classifier to a multi-class classification problem. Give a disadvantage of using each method.\n",
    "**Answer**\n",
    "- OneVsOne disadvantage: Slow because it requires fitting $O(k^2)$ classifiers, where k is the number of classes. (To be precise, it requires fitting $k \\times (k − 1)/2$ classifiers; each class gets paired up with all other classes except itself and we divide by 2 because class 1 vs. class 2 classifier is the same as class 2 vs. class 1 classifier.)\n",
    "\n",
    "- OneVsRest disadvantage: unbalanced class distributions when training each classifier (especially when the number of classes is large).\n",
    "\n",
    "---\n",
    "\n",
    "### True False questions\n",
    "\n",
    "#### 1). The coefficients of a linear classifier have the following interpretation: if coefficient $j$ is large, that means a change in feature $j$ has a large impact on the prediction.\n",
    "**Answer**\n",
    "> False for two reasons. \n",
    "- First, the interpretation is associated with the magnitude of the coefficient. For example, consider coefficients 0.2 and -3. The former is larger then the latter but the latter would have a larger impact on the prediction. \n",
    "- Second, it also depends upon the scale of the feature values. Suppose you have two features: $x_1$ which is either 0 or 1 and $x_2$, which is either 0 or 1000 and suppose $w_1 = 0.5 > w_2 =0.1$. In this case, $x_2$ would still have a larger impact on the prediction, as it's scale is much larger. \n",
    "\n",
    "#### 2). For linear classifiers, the decision boundary (the boundary dividing the two classes) is a $d-1$-dimensional hyperplane, where $d$ is the number of features.\n",
    "**Answer**\n",
    "> True. \n",
    "\n",
    "- For example, in our 2-dimensional cities dataset, the decision boundary is a one-dimensional line. \n",
    "\n",
    "#### 3). When you have correlated features, logistic regression might be a better choice than naive Bayes.\n",
    "**Answer**\n",
    "> True. \n",
    "\n",
    "Naive Bayes **assumes conditional independence of features** given the target value and it's not a particularly thoughtful choice when you have correlated features. Logistic regression is a bit more robust to correlated features compared to naive Bayes because it can adjust the coefficients for the features so that only one of the correlated features is considered. \n",
    "\n",
    "#### 4). Feature scaling is a good idea for logistic regression.\n",
    "**Answer**\n",
    "> True. \n",
    "\n",
    "It's a good idea to carry out feature scaling for logistic regression for feature interpretation. For instance, suppose you have two features $x_1$ which, is either 0 or 1, and $x_2$, which is either 0 or 1000 and if $w_1$ and $w_2$ are equal, the latter is going to have a bigger impact on the prediction because the feature scale is larger. So with different feature scales, it's hard to interpret feature importance simply based on the coefficients. The easiest way to compensate for this is simply to scale features before training.\n",
    "\n",
    "#### 5). Feature scaling can improve the performance of logistic regression.\n",
    "**Answer**\n",
    "> False. \n",
    "\n",
    "The performance of logistic regression did not improve with data scaling. Why not, particularly when we saw that k-Nearest Neigbours performance improved substantially with scaling? The reason is that, if there predictor variables with large ranges that do not effect the target variable, a regression algorithm will make the corresponding coefficients ai small so that they do not effect predictions so much. K-nearest neighbours does not have such an inbuilt strategy and so we very much needed to scale the data.\n",
    "\n",
    "The performance of logistic regression did not improve with data scaling.\n",
    "The reason is that, if their predictor variables with large ranges that do not affect the target variable, a regression algorithm will make the corresponding coefficients ai small so that they do not affect predictions so much."
   ]
  }
 ],
 "metadata": {
  "kernelspec": {
   "display_name": "Python [conda env:571]",
   "language": "python",
   "name": "conda-env-571-py"
  },
  "language_info": {
   "codemirror_mode": {
    "name": "ipython",
    "version": 3
   },
   "file_extension": ".py",
   "mimetype": "text/x-python",
   "name": "python",
   "nbconvert_exporter": "python",
   "pygments_lexer": "ipython3",
   "version": "3.7.7"
  }
 },
 "nbformat": 4,
 "nbformat_minor": 4
}
