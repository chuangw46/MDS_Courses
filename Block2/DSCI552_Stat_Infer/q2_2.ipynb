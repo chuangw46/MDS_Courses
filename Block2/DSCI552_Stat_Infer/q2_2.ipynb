{
 "cells": [
  {
   "cell_type": "markdown",
   "metadata": {},
   "source": [
    "# Lecture 7  only one test\n"
   ]
  },
  {
   "cell_type": "markdown",
   "metadata": {},
   "source": [
    "## 1. Summary"
   ]
  },
  {
   "cell_type": "markdown",
   "metadata": {},
   "source": [
    "### 1.1. varies between the different test flavours\n",
    "- estimator\n",
    "- hypotheses\n",
    "- test statistic\n",
    "- distribution under the null hypothesis"
   ]
  },
  {
   "cell_type": "markdown",
   "metadata": {},
   "source": [
    "### 1.2. estimator\n",
    "- Proportion     \n",
    "\n",
    "*Data type: categorical*   \n",
    "The proportion is useful when we care about the relative frequency of something. Want to know how often your favourite sports team wins relative to the other teams? You're after the proportion. \n",
    "\n",
    "- Mean\n",
    "\n",
    "*Data type: quantitative*   \n",
    "When our distribution is not skewed, and/or has long tail in one direction, the mean is a good estimate of the central tendency of a distribution (i.e., where do most values occur)?\n",
    "\n",
    "- Median\n",
    "\n",
    "*Data type: quantitative*   \n",
    "When our distribution is quite skewed, or has long tails, the mean estimate gets drawn out towards the tail. Thus, if you have such data and you really want to estimate the central tendency of a distribution then the median is your friend! The median is not as sensitive to extreme values as it is mathematically defined by the middle value of a distribution.\n",
    "\n",
    "\n",
    "- Quantile\n",
    "\n",
    "*Data type: quantitative*\n",
    "When we are interested in estimating the tail regions of distributions, rather than the centre/core, then we want to estimate a quantile. Common examples are the 1st, 5th, 10th, 90th, 95th and 99th percentiles."
   ]
  },
  {
   "cell_type": "markdown",
   "metadata": {},
   "source": [
    "### 1.3 hypotheses\n",
    "\n",
    "- **What is _not_ interesting?**    \n",
    "This becomes your null hypothesis. We almost always use an $=$ sign here. We specify that the parameter we are trying to estimate is equal to something (a value, or some other parameter).\n",
    "\n",
    "- **What is interesting?**   \n",
    "This becomes your alternative hypothesis. We almost always do two-direction tests, and for those we specify that the parameter we are trying to estimate is not equal to something (a value, or some other parameter). If we are intersted in only one direction we use $>$ or $<$ to indicate this."
   ]
  },
  {
   "cell_type": "markdown",
   "metadata": {},
   "source": [
    "### 1.4 test statistic & distribution under the null hypothesis\n"
   ]
  },
  {
   "cell_type": "markdown",
   "metadata": {},
   "source": [
    "![](img/test_statistic_flowchart.png)"
   ]
  },
  {
   "cell_type": "markdown",
   "metadata": {},
   "source": [
    "## 2. Examples\n",
    "\n",
    "\n",
    "### Example 1\n",
    "**Question:** In general, how often do data science graduates find jobs as machine learning engineers compared to computer science graduates?\n",
    "\n",
    "**Data:** Current job titles from a random survey of data science and computer science graduates.\n",
    "\n",
    "**Estimator:** Proportion ($p$)\n",
    "\n",
    "$H_0$: $P_\\text{data science grads} = P_\\text{computer science grads}$\n",
    "\n",
    "$H_A$: $P_\\text{data science grads} \\ne P_\\text{computer science grads}$\n",
    "\n",
    "**Suitable test:** test of independent proportions (e.g., `prop.test`)\n",
    "\n",
    "\n",
    "### Example 2\n",
    "\n",
    "**Question:** Is the high-end of data science salaries different from the high-end of data engineer salaries?\n",
    "\n",
    "**Data:** Quantitative values for salaries from a random survey of data science and data engineers. Sample distribution is quite skewed to the right. \n",
    "\n",
    "**Estimator:** A quantile, for example the 90th percentile.\n",
    "\n",
    "$H_0$: $Q(0.9)_\\text{data science salary}$ = $Q(0.9)_\\text{data engineer salary}$\n",
    "\n",
    "$H_A$: $Q(0.9)_\\text{data science salary} \\ne Q(0.9)_\\text{data engineer salary}$\n",
    "\n",
    "**Suitable test:** permutation test of independence, using difference of 90th percentile as the test statistic"
   ]
  }
 ],
 "metadata": {
  "kernelspec": {
   "display_name": "R",
   "language": "R",
   "name": "ir"
  },
  "language_info": {
   "codemirror_mode": "r",
   "file_extension": ".r",
   "mimetype": "text/x-r-source",
   "name": "R",
   "pygments_lexer": "r",
   "version": "4.0.2"
  }
 },
 "nbformat": 4,
 "nbformat_minor": 4
}
