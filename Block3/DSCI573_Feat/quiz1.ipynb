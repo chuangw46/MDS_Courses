{
 "cells": [
  {
   "cell_type": "code",
   "execution_count": 1,
   "metadata": {},
   "outputs": [],
   "source": [
    "import numpy as np\n",
    "import pandas as pd\n",
    "import matplotlib.pyplot as plt\n",
    "\n",
    "from sklearn.model_selection import train_test_split, cross_val_score, cross_validate\n",
    "from sklearn.preprocessing import StandardScaler, OrdinalEncoder, OneHotEncoder\n",
    "from sklearn.dummy import DummyRegressor\n",
    "from sklearn.tree import DecisionTreeRegressor\n",
    "from sklearn.ensemble import RandomForestRegressor\n",
    "from sklearn.pipeline import Pipeline, make_pipeline\n",
    "from sklearn.impute import SimpleImputer\n",
    "from sklearn.compose import ColumnTransformer, make_column_transformer, TransformedTargetRegressor\n",
    "from sklearn.linear_model import LinearRegression, Ridge, RidgeCV, LogisticRegression\n",
    "from sklearn.metrics import mean_squared_error, r2_score, make_scorer\n",
    "\n",
    "# Lecture 1\n",
    "import pickle\n",
    "\n",
    "import matplotlib.pyplot as plt\n",
    "\n",
    "# Other\n",
    "import numpy as np\n",
    "import numpy.random as npr\n",
    "import pandas as pd\n",
    "\n",
    "# pip install git+git://github.com/mgelbart/plot-classifier.git\n",
    "from plot_classifier import plot_classifier\n",
    "from sklearn import datasets\n",
    "from sklearn.datasets import (\n",
    "    fetch_20newsgroups,\n",
    "    load_digits,\n",
    "    make_blobs,\n",
    "    make_hastie_10_2,\n",
    ")\n",
    "from sklearn.dummy import DummyClassifier\n",
    "from sklearn.ensemble import RandomForestClassifier\n",
    "from sklearn.feature_extraction.text import (\n",
    "    CountVectorizer,\n",
    "    TfidfTransformer,\n",
    "    TfidfVectorizer,\n",
    ")\n",
    "from sklearn.linear_model import LinearRegression, LogisticRegression\n",
    "from sklearn.metrics import (\n",
    "    classification_report,\n",
    "    confusion_matrix,\n",
    "    plot_confusion_matrix,\n",
    ")\n",
    "from sklearn.model_selection import (\n",
    "    GridSearchCV,\n",
    "    RandomizedSearchCV,\n",
    "    cross_val_score,\n",
    "    cross_validate,\n",
    "    cross_val_predict,\n",
    "    train_test_split,\n",
    ")\n",
    "from sklearn.pipeline import FeatureUnion, Pipeline, make_pipeline\n",
    "from sklearn.preprocessing import (\n",
    "    MinMaxScaler,\n",
    "    OneHotEncoder,\n",
    "    OrdinalEncoder,\n",
    "    StandardScaler,\n",
    ")\n",
    "from sklearn.svm import SVC, SVR, LinearSVC\n",
    "from sklearn.tree import DecisionTreeClassifier\n",
    "import IPython\n",
    "\n",
    "from IPython.display import HTML, display\n",
    "\n",
    "\n",
    "%matplotlib inline\n",
    "\n",
    "pd.set_option(\"display.max_colwidth\", 200)\n",
    "\n",
    "import seaborn as sns\n",
    "import warnings\n",
    "\n",
    "warnings.simplefilter(action=\"ignore\", category=FutureWarning)"
   ]
  },
  {
   "cell_type": "markdown",
   "metadata": {},
   "source": [
    "# Lecture 1: Classification evaluation metrics, class imbalance"
   ]
  },
  {
   "cell_type": "markdown",
   "metadata": {},
   "source": [
    "## 1. Accuracy score VS Confusion matrix\n",
    "### 1). Accuracy score:\n",
    "When there is class imbalance, the `DummyClassifier` can still give us a high accuracy, but it is a terrible model. Accuracy is misleading when we have class imbalance.\n",
    "### 2). Confusion matrix:\n",
    "- A confusion matrix is a summary of prediction results on a classification problem.   \n",
    "- Confusion matrix can be used when there is class imbalance. Confusion matrix, precision, recall give us a better understanding of the kinds of errors the model is making and are useful even when there is no class imbalance.\n",
    "\n",
    "|   X   | predict negative | predict positive |\n",
    "|------|----------|-------|\n",
    "| negative example | True negative (TN) | False positive (FP)|\n",
    "| positive example | False negative (FN) | True positive (TP) |\n",
    "\n",
    "\n",
    "<center>\n",
    "<img src= \"img/evaluation_metrics.png\" width=\"500\" align=\"center\"/>\n",
    "</center>\n",
    "\n",
    "\n",
    "\n",
    "> what you consider \"positive\" (fraud in our case) is important when calculating precision, recall, and f1-score. \n",
    "\n",
    "- **Precision**\n",
    "> Among the positive examples you identified, how many were actually positive?\n",
    "\n",
    "- Useful when False Positives are probably worse than False Negatives for a problem.     \n",
    "- such as identify spam, we want to be conservative and bias the model towards predicting \"positive\".\n",
    "\n",
    "\n",
    "\n",
    "$$ precision = \\frac{TP}{TP+FP}$$\n",
    "\n",
    "\n",
    "- **Recall**. \n",
    "> Among all positive examples, how many did you identify?\n",
    "\n",
    "- Useful when False Negatives are probably worse than False Positives for a problem. \n",
    "- such as identify cancer. high recall is more important than high precision because High recall means less false negatives.\n",
    "\n",
    "$$ recall = \\frac{TP}{TP+FN} = \\frac{TP}{\\#positives} $$\n",
    "\n",
    "- **F1-score**\n",
    "    - F1-score combines precision and recall to give one score, which could be used in hyperparameter optimization, for instance. \n",
    "    - F1-score is a harmonic mean of precision and recall. \n",
    "\n",
    "\n",
    "$$ f1 = 2 \\times \\frac{ precision \\times recall}{precision + recall}$$\n",
    "\n",
    "\n",
    "\n",
    "<br>\n",
    "\n",
    "### There is no pattern between accuracy and recall and precision.\n",
    "\n",
    "\n",
    "Method A - higher accuracy but lower precision\n",
    "\n",
    "|Actual| Negative | Positive\n",
    "|--| -------- |:-------------:|\n",
    "|Negative| 90      | 5|\n",
    "|Positive| 5      | 0|\n",
    "\n",
    "Method B - lower accuracy but higher precision\n",
    "\n",
    "|Actual | Negative | Positive\n",
    "|-- | -------- |:-------------:|\n",
    "|Negative | 80      | 15|\n",
    "| Positive| 0      | 5|\n",
    "\n",
    "\n",
    "\n",
    "- Method A accuracy: 90/100\n",
    "- Method B accuracy: 85/100\n",
    "- Method A precision: 0\n",
    "- Method B precision: 0.25\n",
    "\n"
   ]
  },
  {
   "cell_type": "code",
   "execution_count": 2,
   "metadata": {},
   "outputs": [],
   "source": [
    "cc_df = pd.read_csv(\"data/creditcard.csv\", encoding=\"latin-1\")\n",
    "train_df, test_df = train_test_split(cc_df, test_size=0.3, random_state=111)\n",
    "\n",
    "X_train_big, y_train_big = train_df.drop(columns=[\"Class\"]), train_df[\"Class\"]\n",
    "X_test, y_test = test_df.drop(columns=[\"Class\"]), test_df[\"Class\"]\n",
    "\n",
    "\n",
    "X_train, X_valid, y_train, y_valid = train_test_split(X_train_big, \n",
    "                                                      y_train_big, \n",
    "                                                      test_size=0.3, \n",
    "                                                      random_state=123)"
   ]
  },
  {
   "cell_type": "code",
   "execution_count": 3,
   "metadata": {},
   "outputs": [
    {
     "data": {
      "text/plain": [
       "fit_time       0.616567\n",
       "score_time     0.010932\n",
       "test_score     0.999176\n",
       "train_score    0.999249\n",
       "dtype: float64"
      ]
     },
     "execution_count": 3,
     "metadata": {},
     "output_type": "execute_result"
    }
   ],
   "source": [
    "pipe_lr = make_pipeline(StandardScaler(), LogisticRegression())\n",
    "pd.DataFrame(cross_validate(pipe_lr, X_train, y_train, return_train_score=True)).mean()"
   ]
  },
  {
   "cell_type": "code",
   "execution_count": 4,
   "metadata": {},
   "outputs": [
    {
     "data": {
      "text/plain": [
       "<sklearn.metrics._plot.confusion_matrix.ConfusionMatrixDisplay at 0x7ffe86592050>"
      ]
     },
     "execution_count": 4,
     "metadata": {},
     "output_type": "execute_result"
    },
    {
     "data": {
      "image/png": "[encoded data removed]",
      "text/plain": [
       "<Figure size 432x288 with 2 Axes>"
      ]
     },
     "metadata": {
      "needs_background": "light"
     },
     "output_type": "display_data"
    }
   ],
   "source": [
    "pipe_lr.fit(X_train, y_train)\n",
    "disp = plot_confusion_matrix(\n",
    "    pipe_lr,\n",
    "    X_valid,\n",
    "    y_valid,\n",
    "    display_labels=[\"Non fraud\", \"fraud\"],\n",
    "    values_format=\"d\",\n",
    "    cmap=plt.cm.Blues,\n",
    ");\n",
    "\n",
    "disp"
   ]
  },
  {
   "cell_type": "code",
   "execution_count": 5,
   "metadata": {},
   "outputs": [
    {
     "name": "stdout",
     "output_type": "stream",
     "text": [
      "Confusion matrix for fraud data set\n",
      "[[59700     8]\n",
      " [   38    64]]\n"
     ]
    }
   ],
   "source": [
    "from sklearn.metrics import confusion_matrix\n",
    "\n",
    "predictions = pipe_lr.predict(X_valid)\n",
    "\n",
    "TN, FP, FN, TP = confusion_matrix(y_valid, predictions).ravel()\n",
    "\n",
    "print(\"Confusion matrix for fraud data set\")\n",
    "print(disp.confusion_matrix)"
   ]
  },
  {
   "cell_type": "code",
   "execution_count": 6,
   "metadata": {},
   "outputs": [
    {
     "data": {
      "text/html": [
       "<div>\n",
       "<style scoped>\n",
       "    .dataframe tbody tr th:only-of-type {\n",
       "        vertical-align: middle;\n",
       "    }\n",
       "\n",
       "    .dataframe tbody tr th {\n",
       "        vertical-align: top;\n",
       "    }\n",
       "\n",
       "    .dataframe thead th {\n",
       "        text-align: right;\n",
       "    }\n",
       "</style>\n",
       "<table border=\"1\" class=\"dataframe\">\n",
       "  <thead>\n",
       "    <tr style=\"text-align: right;\">\n",
       "      <th></th>\n",
       "      <th>accuracy</th>\n",
       "      <th>error</th>\n",
       "      <th>precision</th>\n",
       "      <th>recall</th>\n",
       "      <th>f1 score</th>\n",
       "    </tr>\n",
       "  </thead>\n",
       "  <tbody>\n",
       "    <tr>\n",
       "      <th>0</th>\n",
       "      <td>0.999231</td>\n",
       "      <td>0.000769</td>\n",
       "      <td>0.888889</td>\n",
       "      <td>0.627451</td>\n",
       "      <td>0.735632</td>\n",
       "    </tr>\n",
       "    <tr>\n",
       "      <th>1</th>\n",
       "      <td>0.999231</td>\n",
       "      <td>0.000769</td>\n",
       "      <td>0.888889</td>\n",
       "      <td>0.627451</td>\n",
       "      <td>0.735632</td>\n",
       "    </tr>\n",
       "  </tbody>\n",
       "</table>\n",
       "</div>"
      ],
      "text/plain": [
       "   accuracy     error  precision    recall  f1 score\n",
       "0  0.999231  0.000769   0.888889  0.627451  0.735632\n",
       "1  0.999231  0.000769   0.888889  0.627451  0.735632"
      ]
     },
     "execution_count": 6,
     "metadata": {},
     "output_type": "execute_result"
    }
   ],
   "source": [
    "from sklearn.metrics import accuracy_score, precision_score, recall_score, f1_score\n",
    "data = {}\n",
    "\n",
    "# Calculate evaluation metrics by ourselves\n",
    "data[\"accuracy\"] = [(TP + TN) / (TN + FP + FN + TP)]\n",
    "data[\"error\"] = [(FP + FN) / (TN + FP + FN + TP)]\n",
    "precision = TP / (TP + FP)\n",
    "data[\"precision\"] = [precision]\n",
    "recall = TP / (TP + FN)\n",
    "data[\"recall\"] = [recall]\n",
    "data[\"f1 score\"] = [(2 * precision * recall) / (precision + recall)]\n",
    "\n",
    "# use scikit-learn to calculate these metrics\n",
    "data[\"accuracy\"].append(accuracy_score(y_valid, pipe_lr.predict(X_valid)))\n",
    "data[\"error\"].append(1 - accuracy_score(y_valid, pipe_lr.predict(X_valid)))\n",
    "data[\"precision\"].append(precision_score(y_valid, pipe_lr.predict(X_valid), zero_division=1))\n",
    "data[\"recall\"].append(recall_score(y_valid, pipe_lr.predict(X_valid)))\n",
    "data[\"f1 score\"].append(f1_score(y_valid, pipe_lr.predict(X_valid)))\n",
    "df = pd.DataFrame(data)\n",
    "df"
   ]
  },
  {
   "cell_type": "markdown",
   "metadata": {},
   "source": [
    "## 2. Classification report\n",
    "\n",
    "\n",
    "### Macro average vs weighted average\n",
    "> when #positive = #negative, the two averages are equal\n",
    "\n",
    "macro average \n",
    "- You give equal importance to all classes and average over all classes.  \n",
    "- For instance, in the example above, recall for non-fraud is 1.0 and fraud is 0.63, and so macro average is 0.81. \n",
    "- More relevant in case of multi-class problems.\n",
    "\n",
    "weighted average    \n",
    "- Weighted by the number of samples in each class. \n",
    "- Divide by the total number of samples. \n",
    "\n",
    "Which one is relevant when depends upon whether you think each class should have the same weight or each sample should have the same weight."
   ]
  },
  {
   "cell_type": "code",
   "execution_count": 7,
   "metadata": {},
   "outputs": [
    {
     "data": {
      "text/plain": [
       "0    59708\n",
       "1      102\n",
       "Name: Class, dtype: int64"
      ]
     },
     "execution_count": 7,
     "metadata": {},
     "output_type": "execute_result"
    }
   ],
   "source": [
    "y_valid.value_counts()"
   ]
  },
  {
   "cell_type": "code",
   "execution_count": 8,
   "metadata": {},
   "outputs": [
    {
     "name": "stdout",
     "output_type": "stream",
     "text": [
      "              precision    recall  f1-score   support\n",
      "\n",
      "   non-fraud       1.00      1.00      1.00     59708\n",
      "       fraud       0.89      0.63      0.74       102\n",
      "\n",
      "    accuracy                           1.00     59810\n",
      "   macro avg       0.94      0.81      0.87     59810\n",
      "weighted avg       1.00      1.00      1.00     59810\n",
      "\n"
     ]
    }
   ],
   "source": [
    "from sklearn.metrics import classification_report\n",
    "\n",
    "y_pred = pipe_lr.predict(X_valid)\n",
    "print(classification_report(y_valid, y_pred, target_names=[\"non-fraud\", \"fraud\"]))"
   ]
  },
  {
   "cell_type": "code",
   "execution_count": 9,
   "metadata": {},
   "outputs": [
    {
     "name": "stdout",
     "output_type": "stream",
     "text": [
      "              precision    recall  f1-score   support\n",
      "\n",
      "   non-fraud       1.00      1.00      1.00     59708\n",
      "       fraud       0.89      0.63      0.74       102\n",
      "\n",
      "    accuracy                           1.00     59810\n",
      "   macro avg       0.94      0.81      0.87     59810\n",
      "weighted avg       1.00      1.00      1.00     59810\n",
      "\n"
     ]
    }
   ],
   "source": [
    "y_pred = pipe_lr.predict_proba(X_valid)[:, 1] > 0.50\n",
    "print(classification_report(y_valid, y_pred, target_names=[\"non-fraud\", \"fraud\"]))"
   ]
  },
  {
   "cell_type": "code",
   "execution_count": 10,
   "metadata": {},
   "outputs": [
    {
     "name": "stdout",
     "output_type": "stream",
     "text": [
      "              precision    recall  f1-score   support\n",
      "\n",
      "   non-fraud       1.00      1.00      1.00     59708\n",
      "       fraud       0.82      0.67      0.74       102\n",
      "\n",
      "    accuracy                           1.00     59810\n",
      "   macro avg       0.91      0.83      0.87     59810\n",
      "weighted avg       1.00      1.00      1.00     59810\n",
      "\n"
     ]
    }
   ],
   "source": [
    "y_pred = pipe_lr.predict_proba(X_valid)[:, 1] > .30\n",
    "print(classification_report(y_valid, y_pred, target_names=[\"non-fraud\", \"fraud\"]))"
   ]
  },
  {
   "cell_type": "markdown",
   "metadata": {},
   "source": [
    "## 3. Precision-recall curve (NOT monotonic) - `AP`\n",
    "\n",
    "> There is a trade-off between precision and recall.   \n",
    "> if you identify more things as positive, recall is going to increase but there are likely to be more false positives.\n",
    "\n",
    "- Recall that precision = TP/TP+FP and recall = TP/# positives\n",
    "- We said earlier that predict returns 1 when predict_proba's probabilities are above 0.5 for the positive class.\n",
    "- **Decreasing** the threshold means a **lower bar for predicting fraud**. \n",
    "    - recall would either stay the same or go up and precision is likely to go down\n",
    "    - occasionally, precision may increase if all the new examples after decreasing the threshold are TPs.  \n",
    "- **Increasing** the threshold means a **higher bar for predicting fraud**. \n",
    "    - recall would go down or stay the same but precision is likely to go up \n",
    "    - occasionally, precision may go down as the denominator for precision is TP+FP. \n",
    "  \n",
    "\n",
    "\n",
    "<br>\n",
    "\n",
    "---\n",
    "\n",
    "#### AP\n",
    "\n",
    "- **AP**: area under curve, is a score that summarizes the \"goodness\" of the below plot.\n",
    "    - Precision refers to precision at a particular decision threshold. For example, if you count any model output less than 0.5 as negative, and greater than 0.5 as positive. But sometimes (especially if your classes are not balanced, or if you want to favor precision over recall or vice versa), you may want to vary this threshold. \n",
    "\n",
    "    - Average precision gives you average precision at all such possible thresholds, which is also similar to the area under the precision-recall curve. It is a useful metric to compare how well models are ordering the predictions, without considering any specific decision threshold.\n",
    "    \n",
    "\n",
    "- AP and F1\n",
    "    - F1 score is for a given threshold and measures the quality of `predict`.\n",
    "    - AP score is a summary across thresholds and measures the quality of `predict_proba`."
   ]
  },
  {
   "cell_type": "code",
   "execution_count": 11,
   "metadata": {},
   "outputs": [
    {
     "data": {
      "text/html": [
       "<div>\n",
       "<style scoped>\n",
       "    .dataframe tbody tr th:only-of-type {\n",
       "        vertical-align: middle;\n",
       "    }\n",
       "\n",
       "    .dataframe tbody tr th {\n",
       "        vertical-align: top;\n",
       "    }\n",
       "\n",
       "    .dataframe thead th {\n",
       "        text-align: right;\n",
       "    }\n",
       "</style>\n",
       "<table border=\"1\" class=\"dataframe\">\n",
       "  <thead>\n",
       "    <tr style=\"text-align: right;\">\n",
       "      <th></th>\n",
       "      <th>threshold</th>\n",
       "      <th>precision</th>\n",
       "      <th>recall</th>\n",
       "      <th>f1 score</th>\n",
       "    </tr>\n",
       "  </thead>\n",
       "  <tbody>\n",
       "    <tr>\n",
       "      <th>0</th>\n",
       "      <td>0.0</td>\n",
       "      <td>0.001705</td>\n",
       "      <td>1.000000</td>\n",
       "      <td>0.003405</td>\n",
       "    </tr>\n",
       "    <tr>\n",
       "      <th>1</th>\n",
       "      <td>0.1</td>\n",
       "      <td>0.780000</td>\n",
       "      <td>0.764706</td>\n",
       "      <td>0.772277</td>\n",
       "    </tr>\n",
       "    <tr>\n",
       "      <th>2</th>\n",
       "      <td>0.2</td>\n",
       "      <td>0.795699</td>\n",
       "      <td>0.725490</td>\n",
       "      <td>0.758974</td>\n",
       "    </tr>\n",
       "    <tr>\n",
       "      <th>3</th>\n",
       "      <td>0.3</td>\n",
       "      <td>0.819277</td>\n",
       "      <td>0.666667</td>\n",
       "      <td>0.735135</td>\n",
       "    </tr>\n",
       "    <tr>\n",
       "      <th>4</th>\n",
       "      <td>0.4</td>\n",
       "      <td>0.876712</td>\n",
       "      <td>0.627451</td>\n",
       "      <td>0.731429</td>\n",
       "    </tr>\n",
       "    <tr>\n",
       "      <th>5</th>\n",
       "      <td>0.5</td>\n",
       "      <td>0.888889</td>\n",
       "      <td>0.627451</td>\n",
       "      <td>0.735632</td>\n",
       "    </tr>\n",
       "    <tr>\n",
       "      <th>6</th>\n",
       "      <td>0.6</td>\n",
       "      <td>0.897059</td>\n",
       "      <td>0.598039</td>\n",
       "      <td>0.717647</td>\n",
       "    </tr>\n",
       "    <tr>\n",
       "      <th>7</th>\n",
       "      <td>0.7</td>\n",
       "      <td>0.892308</td>\n",
       "      <td>0.568627</td>\n",
       "      <td>0.694611</td>\n",
       "    </tr>\n",
       "    <tr>\n",
       "      <th>8</th>\n",
       "      <td>0.8</td>\n",
       "      <td>0.901639</td>\n",
       "      <td>0.539216</td>\n",
       "      <td>0.674847</td>\n",
       "    </tr>\n",
       "    <tr>\n",
       "      <th>9</th>\n",
       "      <td>0.9</td>\n",
       "      <td>0.894737</td>\n",
       "      <td>0.500000</td>\n",
       "      <td>0.641509</td>\n",
       "    </tr>\n",
       "  </tbody>\n",
       "</table>\n",
       "</div>"
      ],
      "text/plain": [
       "   threshold  precision    recall  f1 score\n",
       "0        0.0   0.001705  1.000000  0.003405\n",
       "1        0.1   0.780000  0.764706  0.772277\n",
       "2        0.2   0.795699  0.725490  0.758974\n",
       "3        0.3   0.819277  0.666667  0.735135\n",
       "4        0.4   0.876712  0.627451  0.731429\n",
       "5        0.5   0.888889  0.627451  0.735632\n",
       "6        0.6   0.897059  0.598039  0.717647\n",
       "7        0.7   0.892308  0.568627  0.694611\n",
       "8        0.8   0.901639  0.539216  0.674847\n",
       "9        0.9   0.894737  0.500000  0.641509"
      ]
     },
     "execution_count": 11,
     "metadata": {},
     "output_type": "execute_result"
    }
   ],
   "source": [
    "thresholds = np.arange(0.0, 1.0, 0.1)\n",
    "pr_dict = {\"threshold\":[], \"precision\":[], \"recall\":[], \"f1 score\":[]}\n",
    "for threshold in thresholds:\n",
    "    preds = pipe_lr.predict_proba(X_valid)[:,1] > threshold\n",
    "    pr_dict['threshold'].append(threshold)\n",
    "    pr_dict['precision'].append(precision_score(y_valid, preds))\n",
    "    pr_dict['recall'].append(recall_score(y_valid, preds))\n",
    "    pr_dict['f1 score'].append(f1_score(y_valid, preds))\n",
    "    \n",
    "    \n",
    "pd.DataFrame(pr_dict)"
   ]
  },
  {
   "cell_type": "code",
   "execution_count": 12,
   "metadata": {},
   "outputs": [
    {
     "data": {
      "image/png": "[encoded data removed]",
      "text/plain": [
       "<Figure size 432x288 with 1 Axes>"
      ]
     },
     "metadata": {
      "needs_background": "light"
     },
     "output_type": "display_data"
    }
   ],
   "source": [
    "from sklearn.metrics import plot_precision_recall_curve\n",
    "\n",
    "prc = plot_precision_recall_curve(pipe_lr, X_valid, y_valid, name=\"Logistic Regression\")\n",
    "\n",
    "plt.plot(\n",
    "    recall_score(y_valid, pipe_lr.predict(X_valid)),\n",
    "    precision_score(y_valid, pipe_lr.predict(X_valid)),\n",
    "    \"or\",\n",
    "    markersize=15,\n",
    ");"
   ]
  },
  {
   "cell_type": "markdown",
   "metadata": {},
   "source": [
    "## 4. ROC Curve (monotonic) - `AUC`\n",
    "\n",
    "> Receiver Operating Characteristic Curve\n",
    "\n",
    "- [ROC curve](https://en.wikipedia.org/wiki/Receiver_operating_characteristic) plots sensitivity (recall) ($\\frac{TP}{\\#positives}$) against false positive rate ($\\frac{FP}{\\# negatives }$) \n",
    "- Similar to PR curve, it's based on `predict_proba` scores. \n",
    "- The diagonal line is what happens if your guesses are random.\n",
    "\n",
    "<br>\n",
    "\n",
    "\n",
    "**AP and ROC**\n",
    "\n",
    "- Unlike the precision-recall curve, here the top-left is the best.\n",
    "- Unlike the precision-recall curve, this curve is monotonic.\n",
    "- AUC (Area under the ROC Curve) provides a single meaningful number for the model performance. \n",
    "- AUC of 1.0 means perfect classification and AUC of 0.5 means random chance\n",
    "\n",
    "\n",
    "<br>\n",
    "\n",
    "---\n",
    "\n",
    "#### Extra information \n",
    "\n",
    "- If the threshold is 1, we always predict \"negative\".\n",
    "    - the true positive rate is 0 because there are no true positives\n",
    "    - the false positive rate is 0 because there are no false positives\n",
    "    - this is the bottom-left point in the curve\n",
    "- If the threshold is 0, we always predict \"positive\".\n",
    "    - the true positive rate (recall) is 1 because we have identified all positive examples\n",
    "    - the false positive rate is 1 because we have falsely identified all negatives as positive\n",
    "    - this is the upper-right point in the curve"
   ]
  },
  {
   "cell_type": "code",
   "execution_count": 13,
   "metadata": {},
   "outputs": [
    {
     "data": {
      "image/png": "[encoded data removed]",
      "text/plain": [
       "<Figure size 432x288 with 1 Axes>"
      ]
     },
     "metadata": {
      "needs_background": "light"
     },
     "output_type": "display_data"
    }
   ],
   "source": [
    "from sklearn.metrics import plot_roc_curve\n",
    "cm = confusion_matrix(y_valid, pipe_lr.predict(X_valid))\n",
    "\n",
    "rc = plot_roc_curve(pipe_lr, X_valid, y_valid, name='Logistic Regression');\n",
    "\n",
    "plt.plot(cm[0,1]/(cm[0].sum()), cm[1,1]/(cm[1].sum()), 'or', markersize=15);\n",
    "\n",
    "# - The red dot corresponds to the threshold of 0.5, which is used by predict."
   ]
  },
  {
   "cell_type": "markdown",
   "metadata": {},
   "source": [
    "> raw value of `AP` and `AUC` "
   ]
  },
  {
   "cell_type": "code",
   "execution_count": 14,
   "metadata": {},
   "outputs": [
    {
     "data": {
      "text/plain": [
       "0.9689508549450464"
      ]
     },
     "execution_count": 14,
     "metadata": {},
     "output_type": "execute_result"
    }
   ],
   "source": [
    "from sklearn.metrics import roc_auc_score\n",
    "\n",
    "roc_auc_score(y_valid, pipe_lr.predict_proba(X_valid)[:,1])"
   ]
  },
  {
   "cell_type": "markdown",
   "metadata": {},
   "source": [
    "## 5. all the scores at once"
   ]
  },
  {
   "cell_type": "code",
   "execution_count": 15,
   "metadata": {},
   "outputs": [
    {
     "data": {
      "text/plain": [
       "fit_time                  0.802660\n",
       "score_time                0.073595\n",
       "test_accuracy             0.999212\n",
       "test_f1                   0.724369\n",
       "test_recall               0.610536\n",
       "test_precision            0.894228\n",
       "test_roc_auc              0.967438\n",
       "test_average_precision    0.744030\n",
       "dtype: float64"
      ]
     },
     "execution_count": 15,
     "metadata": {},
     "output_type": "execute_result"
    }
   ],
   "source": [
    "scoring=[\"accuracy\", \"f1\", \"recall\", \"precision\", 'roc_auc', 'average_precision']\n",
    "pipe = make_pipeline(StandardScaler(), LogisticRegression())\n",
    "scores = cross_validate(pipe, X_train_big, y_train_big, scoring=scoring)\n",
    "\n",
    "pd.DataFrame(scores).mean()\n",
    "# pd.DataFrame(pd.DataFrame(scores).mean()).T"
   ]
  },
  {
   "cell_type": "markdown",
   "metadata": {},
   "source": [
    "## 6. Handling imbalance\n",
    "\n",
    "Can we change the model itself rather than changing the threshold so that it takes into account the errors that are important to us?\n",
    "\n",
    "There are two common approaches for this: \n",
    "- **Changing the training procedure** \n",
    "    - `class_weight`\n",
    "    - All `sklearn` classifiers have a parameter called `class_weight`.\n",
    "    - This allows you to specify that one class is more important than another.\n",
    "    - For example, maybe a false negative is 10x more problematic than a false positive. \n",
    "- **Changing the data (optional)**\n",
    "   - Undersampling\n",
    "   - Oversampling \n",
    "       - Random oversampling\n",
    "       - SMOTE "
   ]
  },
  {
   "cell_type": "markdown",
   "metadata": {},
   "source": [
    "#### 1). `class_weight={1:10}`\n",
    "\n",
    "\n",
    "Advantages of class_weight method over oversampling methods include:\n",
    "\n",
    "- it's much faster because it's incorporated in the learning procedure.\n",
    "- it's easy to use, as all sklearn classifier support it."
   ]
  },
  {
   "cell_type": "code",
   "execution_count": 16,
   "metadata": {},
   "outputs": [
    {
     "data": {
      "image/png": "[encoded data removed]",
      "text/plain": [
       "<Figure size 432x288 with 2 Axes>"
      ]
     },
     "metadata": {
      "needs_background": "light"
     },
     "output_type": "display_data"
    }
   ],
   "source": [
    "plot_confusion_matrix(pipe_lr, X_valid, y_valid, \n",
    "                      display_labels=[\"Non fraud\", \"fraud\"], \n",
    "                      values_format=\"d\", cmap=plt.cm.Blues);"
   ]
  },
  {
   "cell_type": "code",
   "execution_count": 17,
   "metadata": {},
   "outputs": [
    {
     "data": {
      "image/png": "[encoded data removed]",
      "text/plain": [
       "<Figure size 432x288 with 2 Axes>"
      ]
     },
     "metadata": {
      "needs_background": "light"
     },
     "output_type": "display_data"
    }
   ],
   "source": [
    "pipe_lr_weight = make_pipeline(StandardScaler(), LogisticRegression(max_iter=500, \n",
    "                                                                    class_weight={1:10}))\n",
    "pipe_lr_weight.fit(X_train, y_train)\n",
    "plot_confusion_matrix(pipe_lr_weight, X_valid, y_valid, display_labels=[\"Non fraud\", \"fraud\"], values_format=\"d\", cmap=plt.cm.Blues);"
   ]
  },
  {
   "cell_type": "markdown",
   "metadata": {},
   "source": [
    "#### 2). `class_weight=\"balanced\"`\n",
    "\n",
    "> **We have reduced false negatives but we have many more false positives now!**\n",
    "\n",
    "- A useful setting is `class_weight=\"balanced\"`.\n",
    "- This sets the weights so that the classes are \"equal\".\n",
    "\n",
    "<br>\n",
    "\n",
    "- Changing the class weight will **generally reduce accuracy**.\n",
    "- The original model was trying to maximize accuracy.\n",
    "- Now you're telling it to do something different.\n",
    "- But that can be fine, accuracy isn't the only metric that matters."
   ]
  },
  {
   "cell_type": "code",
   "execution_count": 18,
   "metadata": {},
   "outputs": [
    {
     "data": {
      "image/png": "[encoded data removed]",
      "text/plain": [
       "<Figure size 432x288 with 2 Axes>"
      ]
     },
     "metadata": {
      "needs_background": "light"
     },
     "output_type": "display_data"
    }
   ],
   "source": [
    "pipe_lr_balanced = make_pipeline(StandardScaler(), LogisticRegression(max_iter=500, \n",
    "                                                                      class_weight=\"balanced\"))\n",
    "pipe_lr_balanced.fit(X_train, y_train)\n",
    "plot_confusion_matrix(pipe_lr_balanced, X_valid, y_valid, display_labels=[\"Non fraud\", \"fraud\"], values_format=\"d\", cmap=plt.cm.Blues);"
   ]
  },
  {
   "cell_type": "markdown",
   "metadata": {},
   "source": [
    "> What is \"balanced\" doing exactly?\n",
    "``class_weight={1:ratio}``"
   ]
  },
  {
   "cell_type": "code",
   "execution_count": 19,
   "metadata": {},
   "outputs": [
    {
     "name": "stdout",
     "output_type": "stream",
     "text": [
      "0    139317\n",
      "1       237\n",
      "Name: Class, dtype: int64\n",
      "Ratio:  587.8354430379746\n"
     ]
    }
   ],
   "source": [
    "print(y_train.value_counts())\n",
    "ratio = np.bincount(y_train)[0]/ np.bincount(y_train)[1]\n",
    "print(\"Ratio: \", ratio)"
   ]
  },
  {
   "cell_type": "markdown",
   "metadata": {},
   "source": [
    "# Lecture 2: Ridge and Regression Evaluation Metrics"
   ]
  },
  {
   "cell_type": "markdown",
   "metadata": {},
   "source": [
    "## 1. Setup and Pipe"
   ]
  },
  {
   "cell_type": "code",
   "execution_count": 122,
   "metadata": {},
   "outputs": [],
   "source": [
    "df = pd.read_csv(\"data/housing-kaggle/train.csv\")\n",
    "train_df, test_df = train_test_split(df, test_size = 0.10, random_state=123)\n",
    "\n",
    "\n",
    "X_train = train_df.drop(columns=['SalePrice'])\n",
    "y_train = train_df['SalePrice']\n",
    "\n",
    "X_test = test_df.drop(columns=['SalePrice'])\n",
    "y_test = test_df['SalePrice']"
   ]
  },
  {
   "cell_type": "code",
   "execution_count": 123,
   "metadata": {},
   "outputs": [
    {
     "data": {
      "text/plain": [
       "[['Po', 'Fa', 'TA', 'Gd', 'Ex'],\n",
       " ['Po', 'Fa', 'TA', 'Gd', 'Ex'],\n",
       " ['Po', 'Fa', 'TA', 'Gd', 'Ex'],\n",
       " ['Po', 'Fa', 'TA', 'Gd', 'Ex'],\n",
       " ['Po', 'Fa', 'TA', 'Gd', 'Ex'],\n",
       " ['Po', 'Fa', 'TA', 'Gd', 'Ex'],\n",
       " ['Po', 'Fa', 'TA', 'Gd', 'Ex'],\n",
       " ['Po', 'Fa', 'TA', 'Gd', 'Ex'],\n",
       " ['Po', 'Fa', 'TA', 'Gd', 'Ex'],\n",
       " ['Po', 'Fa', 'TA', 'Gd', 'Ex']]"
      ]
     },
     "execution_count": 123,
     "metadata": {},
     "output_type": "execute_result"
    }
   ],
   "source": [
    "drop_features    = ['Id']\n",
    "\n",
    "ordinal_features_reg = ['ExterQual', 'ExterCond', 'BsmtQual', 'BsmtCond', 'HeatingQC', \n",
    "                        'KitchenQual', 'FireplaceQu', 'GarageQual', 'GarageCond', 'PoolQC']\n",
    "ordering = ['Po', 'Fa', 'TA', 'Gd', 'Ex'] # if N/A it will just impute something, per below\n",
    "[ordering]*len(ordinal_features_reg)"
   ]
  },
  {
   "cell_type": "code",
   "execution_count": 124,
   "metadata": {},
   "outputs": [],
   "source": [
    "numeric_features = ['LotFrontage', 'LotArea', 'OverallQual', 'OverallCond', \n",
    "                    'YearBuilt', 'YearRemodAdd', 'MasVnrArea', 'BsmtFinSF1', 'BsmtFinSF2', \n",
    "                    'BsmtUnfSF', 'TotalBsmtSF', '1stFlrSF', '2ndFlrSF', 'LowQualFinSF', \n",
    "                    'GrLivArea', 'BsmtFullBath', 'BsmtHalfBath', 'FullBath', 'HalfBath', \n",
    "                    'TotRmsAbvGrd', 'Fireplaces', 'GarageYrBlt', 'GarageCars', 'GarageArea', \n",
    "                    'WoodDeckSF', 'OpenPorchSF', 'EnclosedPorch', '3SsnPorch', 'ScreenPorch', \n",
    "                    'PoolArea', 'MiscVal', 'YrSold']\n",
    "\n",
    "numeric_looking_columns = X_train.select_dtypes(include=np.number).columns.tolist()"
   ]
  },
  {
   "cell_type": "code",
   "execution_count": 125,
   "metadata": {},
   "outputs": [],
   "source": [
    "# treat these as categorical features\n",
    "set(numeric_looking_columns) - set(numeric_features)\n",
    "\n",
    "# because\n",
    "train_df['KitchenAbvGr'].unique() # array([1, 2, 3]) \n",
    "\n",
    "\n",
    "categorical_features = list(set(X_train.columns) - set(numeric_features) \n",
    "                            - set(ordinal_features_reg) - set(drop_features))"
   ]
  },
  {
   "cell_type": "code",
   "execution_count": 126,
   "metadata": {},
   "outputs": [],
   "source": [
    "\n",
    "numeric_transformer = make_pipeline(SimpleImputer(strategy='median'), \n",
    "                                    StandardScaler())\n",
    "ordinal_transformer = make_pipeline(SimpleImputer(strategy='most_frequent'), \n",
    "                                    OrdinalEncoder(categories=[ordering]\n",
    "                                                   *len(ordinal_features_reg)))\n",
    "categorical_transformer = make_pipeline(SimpleImputer(strategy='constant', fill_value=\"missing\"),\n",
    "                                        OneHotEncoder(handle_unknown='ignore', sparse=False))\n",
    "\n",
    "preprocessor = make_column_transformer(\n",
    "    (\"drop\", drop_features),\n",
    "    (numeric_transformer, numeric_features),\n",
    "    (ordinal_transformer, ordinal_features_reg),\n",
    "    (categorical_transformer, categorical_features)    \n",
    ")"
   ]
  },
  {
   "cell_type": "markdown",
   "metadata": {},
   "source": [
    "#### all new columns"
   ]
  },
  {
   "cell_type": "code",
   "execution_count": 145,
   "metadata": {},
   "outputs": [
    {
     "data": {
      "text/html": [
       "<div>\n",
       "<style scoped>\n",
       "    .dataframe tbody tr th:only-of-type {\n",
       "        vertical-align: middle;\n",
       "    }\n",
       "\n",
       "    .dataframe tbody tr th {\n",
       "        vertical-align: top;\n",
       "    }\n",
       "\n",
       "    .dataframe thead th {\n",
       "        text-align: right;\n",
       "    }\n",
       "</style>\n",
       "<table border=\"1\" class=\"dataframe\">\n",
       "  <thead>\n",
       "    <tr style=\"text-align: right;\">\n",
       "      <th></th>\n",
       "      <th>LotFrontage</th>\n",
       "      <th>LotArea</th>\n",
       "      <th>OverallQual</th>\n",
       "      <th>OverallCond</th>\n",
       "      <th>YearBuilt</th>\n",
       "      <th>YearRemodAdd</th>\n",
       "      <th>MasVnrArea</th>\n",
       "      <th>BsmtFinSF1</th>\n",
       "      <th>BsmtFinSF2</th>\n",
       "      <th>BsmtUnfSF</th>\n",
       "      <th>...</th>\n",
       "      <th>GarageType_missing</th>\n",
       "      <th>LandSlope_Gtl</th>\n",
       "      <th>LandSlope_Mod</th>\n",
       "      <th>LandSlope_Sev</th>\n",
       "      <th>RoofStyle_Flat</th>\n",
       "      <th>RoofStyle_Gable</th>\n",
       "      <th>RoofStyle_Gambrel</th>\n",
       "      <th>RoofStyle_Hip</th>\n",
       "      <th>RoofStyle_Mansard</th>\n",
       "      <th>RoofStyle_Shed</th>\n",
       "    </tr>\n",
       "  </thead>\n",
       "  <tbody>\n",
       "    <tr>\n",
       "      <th>302</th>\n",
       "      <td>2.312501</td>\n",
       "      <td>0.381428</td>\n",
       "      <td>0.663680</td>\n",
       "      <td>-0.512408</td>\n",
       "      <td>0.993969</td>\n",
       "      <td>0.840492</td>\n",
       "      <td>0.269972</td>\n",
       "      <td>-0.961498</td>\n",
       "      <td>-0.287191</td>\n",
       "      <td>2.197106</td>\n",
       "      <td>...</td>\n",
       "      <td>0.0</td>\n",
       "      <td>1.0</td>\n",
       "      <td>0.0</td>\n",
       "      <td>0.0</td>\n",
       "      <td>0.0</td>\n",
       "      <td>1.0</td>\n",
       "      <td>0.0</td>\n",
       "      <td>0.0</td>\n",
       "      <td>0.0</td>\n",
       "      <td>0.0</td>\n",
       "    </tr>\n",
       "    <tr>\n",
       "      <th>767</th>\n",
       "      <td>0.260890</td>\n",
       "      <td>0.248457</td>\n",
       "      <td>-0.054669</td>\n",
       "      <td>1.285467</td>\n",
       "      <td>-1.026793</td>\n",
       "      <td>0.016525</td>\n",
       "      <td>-0.573129</td>\n",
       "      <td>0.476092</td>\n",
       "      <td>-0.287191</td>\n",
       "      <td>-0.553138</td>\n",
       "      <td>...</td>\n",
       "      <td>0.0</td>\n",
       "      <td>1.0</td>\n",
       "      <td>0.0</td>\n",
       "      <td>0.0</td>\n",
       "      <td>0.0</td>\n",
       "      <td>1.0</td>\n",
       "      <td>0.0</td>\n",
       "      <td>0.0</td>\n",
       "      <td>0.0</td>\n",
       "      <td>0.0</td>\n",
       "    </tr>\n",
       "    <tr>\n",
       "      <th>429</th>\n",
       "      <td>2.885044</td>\n",
       "      <td>0.131607</td>\n",
       "      <td>-0.054669</td>\n",
       "      <td>-0.512408</td>\n",
       "      <td>0.563314</td>\n",
       "      <td>0.161931</td>\n",
       "      <td>-0.573129</td>\n",
       "      <td>1.227559</td>\n",
       "      <td>-0.287191</td>\n",
       "      <td>-0.408626</td>\n",
       "      <td>...</td>\n",
       "      <td>0.0</td>\n",
       "      <td>1.0</td>\n",
       "      <td>0.0</td>\n",
       "      <td>0.0</td>\n",
       "      <td>0.0</td>\n",
       "      <td>1.0</td>\n",
       "      <td>0.0</td>\n",
       "      <td>0.0</td>\n",
       "      <td>0.0</td>\n",
       "      <td>0.0</td>\n",
       "    </tr>\n",
       "    <tr>\n",
       "      <th>1139</th>\n",
       "      <td>1.358264</td>\n",
       "      <td>-0.171468</td>\n",
       "      <td>-0.773017</td>\n",
       "      <td>-0.512408</td>\n",
       "      <td>-1.689338</td>\n",
       "      <td>-1.679877</td>\n",
       "      <td>-0.573129</td>\n",
       "      <td>0.443419</td>\n",
       "      <td>-0.287191</td>\n",
       "      <td>-0.672812</td>\n",
       "      <td>...</td>\n",
       "      <td>0.0</td>\n",
       "      <td>1.0</td>\n",
       "      <td>0.0</td>\n",
       "      <td>0.0</td>\n",
       "      <td>0.0</td>\n",
       "      <td>1.0</td>\n",
       "      <td>0.0</td>\n",
       "      <td>0.0</td>\n",
       "      <td>0.0</td>\n",
       "      <td>0.0</td>\n",
       "    </tr>\n",
       "    <tr>\n",
       "      <th>558</th>\n",
       "      <td>-0.597924</td>\n",
       "      <td>1.289541</td>\n",
       "      <td>0.663680</td>\n",
       "      <td>-0.512408</td>\n",
       "      <td>0.828332</td>\n",
       "      <td>0.598149</td>\n",
       "      <td>-0.573129</td>\n",
       "      <td>0.354114</td>\n",
       "      <td>-0.287191</td>\n",
       "      <td>-1.000222</td>\n",
       "      <td>...</td>\n",
       "      <td>0.0</td>\n",
       "      <td>1.0</td>\n",
       "      <td>0.0</td>\n",
       "      <td>0.0</td>\n",
       "      <td>0.0</td>\n",
       "      <td>1.0</td>\n",
       "      <td>0.0</td>\n",
       "      <td>0.0</td>\n",
       "      <td>0.0</td>\n",
       "      <td>0.0</td>\n",
       "    </tr>\n",
       "  </tbody>\n",
       "</table>\n",
       "<p>5 rows × 297 columns</p>\n",
       "</div>"
      ],
      "text/plain": [
       "      LotFrontage   LotArea  OverallQual  OverallCond  YearBuilt  \\\n",
       "302      2.312501  0.381428     0.663680    -0.512408   0.993969   \n",
       "767      0.260890  0.248457    -0.054669     1.285467  -1.026793   \n",
       "429      2.885044  0.131607    -0.054669    -0.512408   0.563314   \n",
       "1139     1.358264 -0.171468    -0.773017    -0.512408  -1.689338   \n",
       "558     -0.597924  1.289541     0.663680    -0.512408   0.828332   \n",
       "\n",
       "      YearRemodAdd  MasVnrArea  BsmtFinSF1  BsmtFinSF2  BsmtUnfSF  ...  \\\n",
       "302       0.840492    0.269972   -0.961498   -0.287191   2.197106  ...   \n",
       "767       0.016525   -0.573129    0.476092   -0.287191  -0.553138  ...   \n",
       "429       0.161931   -0.573129    1.227559   -0.287191  -0.408626  ...   \n",
       "1139     -1.679877   -0.573129    0.443419   -0.287191  -0.672812  ...   \n",
       "558       0.598149   -0.573129    0.354114   -0.287191  -1.000222  ...   \n",
       "\n",
       "      GarageType_missing  LandSlope_Gtl  LandSlope_Mod  LandSlope_Sev  \\\n",
       "302                  0.0            1.0            0.0            0.0   \n",
       "767                  0.0            1.0            0.0            0.0   \n",
       "429                  0.0            1.0            0.0            0.0   \n",
       "1139                 0.0            1.0            0.0            0.0   \n",
       "558                  0.0            1.0            0.0            0.0   \n",
       "\n",
       "      RoofStyle_Flat  RoofStyle_Gable  RoofStyle_Gambrel  RoofStyle_Hip  \\\n",
       "302              0.0              1.0                0.0            0.0   \n",
       "767              0.0              1.0                0.0            0.0   \n",
       "429              0.0              1.0                0.0            0.0   \n",
       "1139             0.0              1.0                0.0            0.0   \n",
       "558              0.0              1.0                0.0            0.0   \n",
       "\n",
       "      RoofStyle_Mansard  RoofStyle_Shed  \n",
       "302                 0.0             0.0  \n",
       "767                 0.0             0.0  \n",
       "429                 0.0             0.0  \n",
       "1139                0.0             0.0  \n",
       "558                 0.0             0.0  \n",
       "\n",
       "[5 rows x 297 columns]"
      ]
     },
     "execution_count": 145,
     "metadata": {},
     "output_type": "execute_result"
    }
   ],
   "source": [
    "preprocessor.fit(X_train); # Calling fit to examine all the transformers. \n",
    "\n",
    "\n",
    "\n",
    "ohe_columns = list(preprocessor.named_transformers_['pipeline-3'].named_steps['onehotencoder'].get_feature_names(categorical_features))\n",
    "new_columns = numeric_features + ordinal_features_reg + ohe_columns\n",
    "\n",
    "X_train_enc = pd.DataFrame(preprocessor.transform(X_train), index=X_train.index, columns=new_columns)\n",
    "X_train_enc.head()"
   ]
  },
  {
   "cell_type": "markdown",
   "metadata": {},
   "source": [
    "#### 1). `DummyRegressor`"
   ]
  },
  {
   "cell_type": "code",
   "execution_count": 26,
   "metadata": {},
   "outputs": [
    {
     "data": {
      "text/html": [
       "<div>\n",
       "<style scoped>\n",
       "    .dataframe tbody tr th:only-of-type {\n",
       "        vertical-align: middle;\n",
       "    }\n",
       "\n",
       "    .dataframe tbody tr th {\n",
       "        vertical-align: top;\n",
       "    }\n",
       "\n",
       "    .dataframe thead th {\n",
       "        text-align: right;\n",
       "    }\n",
       "</style>\n",
       "<table border=\"1\" class=\"dataframe\">\n",
       "  <thead>\n",
       "    <tr style=\"text-align: right;\">\n",
       "      <th></th>\n",
       "      <th>fit_time</th>\n",
       "      <th>score_time</th>\n",
       "      <th>test_score</th>\n",
       "      <th>train_score</th>\n",
       "    </tr>\n",
       "  </thead>\n",
       "  <tbody>\n",
       "    <tr>\n",
       "      <th>0</th>\n",
       "      <td>0.002538</td>\n",
       "      <td>0.000449</td>\n",
       "      <td>-0.000356</td>\n",
       "      <td>0.0</td>\n",
       "    </tr>\n",
       "    <tr>\n",
       "      <th>1</th>\n",
       "      <td>0.001492</td>\n",
       "      <td>0.000374</td>\n",
       "      <td>-0.013209</td>\n",
       "      <td>0.0</td>\n",
       "    </tr>\n",
       "    <tr>\n",
       "      <th>2</th>\n",
       "      <td>0.001312</td>\n",
       "      <td>0.000377</td>\n",
       "      <td>-0.011104</td>\n",
       "      <td>0.0</td>\n",
       "    </tr>\n",
       "    <tr>\n",
       "      <th>3</th>\n",
       "      <td>0.001383</td>\n",
       "      <td>0.000435</td>\n",
       "      <td>-0.000994</td>\n",
       "      <td>0.0</td>\n",
       "    </tr>\n",
       "    <tr>\n",
       "      <th>4</th>\n",
       "      <td>0.001144</td>\n",
       "      <td>0.000326</td>\n",
       "      <td>-0.000872</td>\n",
       "      <td>0.0</td>\n",
       "    </tr>\n",
       "  </tbody>\n",
       "</table>\n",
       "</div>"
      ],
      "text/plain": [
       "   fit_time  score_time  test_score  train_score\n",
       "0  0.002538    0.000449   -0.000356          0.0\n",
       "1  0.001492    0.000374   -0.013209          0.0\n",
       "2  0.001312    0.000377   -0.011104          0.0\n",
       "3  0.001383    0.000435   -0.000994          0.0\n",
       "4  0.001144    0.000326   -0.000872          0.0"
      ]
     },
     "execution_count": 26,
     "metadata": {},
     "output_type": "execute_result"
    }
   ],
   "source": [
    "dummy = DummyRegressor()\n",
    "pd.DataFrame(cross_validate(dummy, X_train, y_train, return_train_score=True))"
   ]
  },
  {
   "cell_type": "markdown",
   "metadata": {},
   "source": [
    "#### 2). `LinearRegression`\n",
    "\n",
    "Problems: \n",
    "- The coefficients get huge. \n",
    "- This happened because we have \"collinear features\". "
   ]
  },
  {
   "cell_type": "code",
   "execution_count": 27,
   "metadata": {},
   "outputs": [],
   "source": [
    "lr_vanilla = make_pipeline(preprocessor, LinearRegression())\n",
    "lr_vanilla.fit(X_train, y_train);\n",
    "lr_vanilla_preds = lr_vanilla.predict(X_test)"
   ]
  },
  {
   "cell_type": "code",
   "execution_count": 28,
   "metadata": {},
   "outputs": [
    {
     "data": {
      "text/plain": [
       "(755000, 34900)"
      ]
     },
     "execution_count": 28,
     "metadata": {},
     "output_type": "execute_result"
    }
   ],
   "source": [
    "y_train.max(), y_train.min()"
   ]
  },
  {
   "cell_type": "code",
   "execution_count": 29,
   "metadata": {},
   "outputs": [
    {
     "data": {
      "text/plain": [
       "(143175672999435.6, 22712.09375)"
      ]
     },
     "execution_count": 29,
     "metadata": {},
     "output_type": "execute_result"
    }
   ],
   "source": [
    "lr_vanilla_preds.max(), lr_vanilla_preds.min()"
   ]
  },
  {
   "cell_type": "code",
   "execution_count": 30,
   "metadata": {},
   "outputs": [
    {
     "name": "stdout",
     "output_type": "stream",
     "text": [
      "Smallest coefficient:  -2259376810075193.5\n",
      "Largest coefficient: 2179234845469894.5\n"
     ]
    }
   ],
   "source": [
    "print(\"Smallest coefficient: \", lr_vanilla.named_steps['linearregression'].coef_.min()) \n",
    "print(\"Largest coefficient:\", lr_vanilla.named_steps['linearregression'].coef_.max())"
   ]
  },
  {
   "cell_type": "markdown",
   "metadata": {},
   "source": [
    "#### 3). `Ridge`\n",
    "\n",
    "`Ridge` solves collinear features."
   ]
  },
  {
   "cell_type": "code",
   "execution_count": 133,
   "metadata": {},
   "outputs": [],
   "source": [
    "lr = make_pipeline(preprocessor, Ridge())\n",
    "lr.fit(X_train, y_train);"
   ]
  },
  {
   "cell_type": "code",
   "execution_count": 135,
   "metadata": {},
   "outputs": [
    {
     "data": {
      "text/plain": [
       "(419182.24259150925, 36116.22480668628)"
      ]
     },
     "execution_count": 135,
     "metadata": {},
     "output_type": "execute_result"
    }
   ],
   "source": [
    "lr_preds = lr.predict(X_test)\n",
    "lr_preds.max(), lr_preds.min()"
   ]
  },
  {
   "cell_type": "code",
   "execution_count": 33,
   "metadata": {},
   "outputs": [
    {
     "name": "stdout",
     "output_type": "stream",
     "text": [
      "Smallest coefficient:  -188956.21881049007\n",
      "Largest coefficient: 80029.76486783105\n"
     ]
    }
   ],
   "source": [
    "print(\"Smallest coefficient: \", lr.named_steps['ridge'].coef_.min()) \n",
    "print(\"Largest coefficient:\", lr.named_steps['ridge'].coef_.max())"
   ]
  },
  {
   "cell_type": "code",
   "execution_count": 34,
   "metadata": {},
   "outputs": [
    {
     "data": {
      "text/html": [
       "<div>\n",
       "<style scoped>\n",
       "    .dataframe tbody tr th:only-of-type {\n",
       "        vertical-align: middle;\n",
       "    }\n",
       "\n",
       "    .dataframe tbody tr th {\n",
       "        vertical-align: top;\n",
       "    }\n",
       "\n",
       "    .dataframe thead th {\n",
       "        text-align: right;\n",
       "    }\n",
       "</style>\n",
       "<table border=\"1\" class=\"dataframe\">\n",
       "  <thead>\n",
       "    <tr style=\"text-align: right;\">\n",
       "      <th></th>\n",
       "      <th>fit_time</th>\n",
       "      <th>score_time</th>\n",
       "      <th>test_score</th>\n",
       "      <th>train_score</th>\n",
       "    </tr>\n",
       "  </thead>\n",
       "  <tbody>\n",
       "    <tr>\n",
       "      <th>0</th>\n",
       "      <td>0.049927</td>\n",
       "      <td>0.016411</td>\n",
       "      <td>0.858760</td>\n",
       "      <td>0.914892</td>\n",
       "    </tr>\n",
       "    <tr>\n",
       "      <th>1</th>\n",
       "      <td>0.050617</td>\n",
       "      <td>0.011434</td>\n",
       "      <td>0.809775</td>\n",
       "      <td>0.917294</td>\n",
       "    </tr>\n",
       "    <tr>\n",
       "      <th>2</th>\n",
       "      <td>0.046821</td>\n",
       "      <td>0.010414</td>\n",
       "      <td>0.777188</td>\n",
       "      <td>0.918846</td>\n",
       "    </tr>\n",
       "    <tr>\n",
       "      <th>3</th>\n",
       "      <td>0.046514</td>\n",
       "      <td>0.011475</td>\n",
       "      <td>0.878668</td>\n",
       "      <td>0.913569</td>\n",
       "    </tr>\n",
       "    <tr>\n",
       "      <th>4</th>\n",
       "      <td>0.041113</td>\n",
       "      <td>0.010235</td>\n",
       "      <td>0.842014</td>\n",
       "      <td>0.915241</td>\n",
       "    </tr>\n",
       "    <tr>\n",
       "      <th>5</th>\n",
       "      <td>0.048472</td>\n",
       "      <td>0.012341</td>\n",
       "      <td>0.818248</td>\n",
       "      <td>0.913873</td>\n",
       "    </tr>\n",
       "    <tr>\n",
       "      <th>6</th>\n",
       "      <td>0.057936</td>\n",
       "      <td>0.014132</td>\n",
       "      <td>0.823908</td>\n",
       "      <td>0.917189</td>\n",
       "    </tr>\n",
       "    <tr>\n",
       "      <th>7</th>\n",
       "      <td>0.059595</td>\n",
       "      <td>0.018378</td>\n",
       "      <td>0.872585</td>\n",
       "      <td>0.913342</td>\n",
       "    </tr>\n",
       "    <tr>\n",
       "      <th>8</th>\n",
       "      <td>0.081622</td>\n",
       "      <td>0.017438</td>\n",
       "      <td>0.145659</td>\n",
       "      <td>0.925504</td>\n",
       "    </tr>\n",
       "    <tr>\n",
       "      <th>9</th>\n",
       "      <td>0.048248</td>\n",
       "      <td>0.011575</td>\n",
       "      <td>0.889766</td>\n",
       "      <td>0.911513</td>\n",
       "    </tr>\n",
       "  </tbody>\n",
       "</table>\n",
       "</div>"
      ],
      "text/plain": [
       "   fit_time  score_time  test_score  train_score\n",
       "0  0.049927    0.016411    0.858760     0.914892\n",
       "1  0.050617    0.011434    0.809775     0.917294\n",
       "2  0.046821    0.010414    0.777188     0.918846\n",
       "3  0.046514    0.011475    0.878668     0.913569\n",
       "4  0.041113    0.010235    0.842014     0.915241\n",
       "5  0.048472    0.012341    0.818248     0.913873\n",
       "6  0.057936    0.014132    0.823908     0.917189\n",
       "7  0.059595    0.018378    0.872585     0.913342\n",
       "8  0.081622    0.017438    0.145659     0.925504\n",
       "9  0.048248    0.011575    0.889766     0.911513"
      ]
     },
     "execution_count": 34,
     "metadata": {},
     "output_type": "execute_result"
    }
   ],
   "source": [
    "pd.DataFrame(cross_validate(lr, X_train, y_train, cv=10, return_train_score=True))"
   ]
  },
  {
   "cell_type": "markdown",
   "metadata": {},
   "source": [
    "#### 3). `alpha` in `Ridge`\n",
    "\n",
    "\n",
    "<b><font color=Salmon>larger `alpha` -> smaller coefficients -> the predictions are less sensitive to changes -> less chance of overfitting</font></b> \n",
    "\n",
    "- General intuition: larger `alpha` leads to smaller coefficients.\n",
    "- Smaller coefficients mean the predictions are less sensitive to changes in the data.\n",
    "- Hence less chance of overfitting (seeing big dependencies when you shouldn't).\n",
    "- We'll learn more about this later in this course. "
   ]
  },
  {
   "cell_type": "code",
   "execution_count": 35,
   "metadata": {},
   "outputs": [],
   "source": [
    "alphas = 10.0**np.arange(-5,5,1)\n",
    "train_scores = []\n",
    "cv_scores = []\n",
    "for alpha in alphas:\n",
    "    lr = make_pipeline(preprocessor, Ridge(alpha=alpha))\n",
    "    results = cross_validate(lr, X_train, y_train, return_train_score=True)\n",
    "    train_scores.append(np.mean(results[\"train_score\"]))\n",
    "    cv_scores.append(np.mean(results[\"test_score\"]))"
   ]
  },
  {
   "cell_type": "code",
   "execution_count": 36,
   "metadata": {},
   "outputs": [
    {
     "data": {
      "image/png": "[encoded data removed]",
      "text/plain": [
       "<Figure size 432x288 with 1 Axes>"
      ]
     },
     "metadata": {
      "needs_background": "light"
     },
     "output_type": "display_data"
    }
   ],
   "source": [
    "plt.semilogx(alphas, train_scores, label=\"train\");\n",
    "plt.semilogx(alphas, cv_scores, label=\"cv\");\n",
    "plt.legend();\n",
    "plt.xlabel('alpha');\n",
    "plt.ylabel('score');"
   ]
  },
  {
   "cell_type": "code",
   "execution_count": 37,
   "metadata": {},
   "outputs": [
    {
     "data": {
      "text/plain": [
       "100.0"
      ]
     },
     "execution_count": 37,
     "metadata": {},
     "output_type": "execute_result"
    }
   ],
   "source": [
    "best_alpha = alphas[np.argmax(cv_scores)]\n",
    "best_alpha"
   ]
  },
  {
   "cell_type": "markdown",
   "metadata": {},
   "source": [
    "#### 3). `RidgeCV`\n",
    "\n",
    "BTW, because it's so common to want to tune `alpha` with `Ridge`, sklearn provides a class called `RidgeCV`, which automatically tunes `alpha` based on cross-validation."
   ]
  },
  {
   "cell_type": "code",
   "execution_count": 38,
   "metadata": {},
   "outputs": [
    {
     "data": {
      "text/plain": [
       "100.0"
      ]
     },
     "execution_count": 38,
     "metadata": {},
     "output_type": "execute_result"
    }
   ],
   "source": [
    "ridgecv = make_pipeline(preprocessor, RidgeCV(alphas=alphas))\n",
    "ridgecv.fit(X_train, y_train);\n",
    "ridgecv[1].alpha_"
   ]
  },
  {
   "cell_type": "markdown",
   "metadata": {},
   "source": [
    "## 3. Scores\n",
    "\n",
    "- mean squared error (MSE)\n",
    "- $R^2$\n",
    "- root mean squared error (RMSE)\n",
    "- MAPE\n",
    "\n",
    "<br>\n",
    "\n",
    "\n",
    "#### Summary of Scoring metrics\n",
    "- $R^2$ is the default .score(), it is unitless, 0 is bad, 1 is best\n",
    "- MSE (mean squared error) is in units of target squared, hard to interpret; 0 is best\n",
    "- RMSE (root mean squared error) is in the same units as the target; 0 is best\n",
    "- MAPE (mean average percent error) is unitless; 0 is best, 1 is bad\n",
    "\n",
    "See [sklearn documentation](https://scikit-learn.org/stable/modules/model_evaluation.html#regression-metrics) for more details. "
   ]
  },
  {
   "cell_type": "code",
   "execution_count": 39,
   "metadata": {},
   "outputs": [],
   "source": [
    "lr_tuned = make_pipeline(preprocessor, Ridge(alpha=best_alpha))\n",
    "lr_tuned.fit(X_train, y_train);"
   ]
  },
  {
   "cell_type": "markdown",
   "metadata": {},
   "source": [
    "#### 1). mean squared error (MSE)\n",
    "\n",
    "The error is big because \n",
    "- Unlike classification, with regression our target has units.\n",
    "- The target is in dollars, the mean squared error is in $dollars^2$ \n",
    "- The score also depends on the scale of the targets. \n",
    "- If we were working in cents instead of dollars, our MSE would be $10,000 \\times (100^2$) higher!"
   ]
  },
  {
   "cell_type": "code",
   "execution_count": 40,
   "metadata": {},
   "outputs": [
    {
     "data": {
      "text/plain": [
       "865443401.107243"
      ]
     },
     "execution_count": 40,
     "metadata": {},
     "output_type": "execute_result"
    }
   ],
   "source": [
    "from sklearn.metrics import mean_squared_error \n",
    "preds = lr_tuned.predict(X_train)\n",
    "mean_squared_error(y_train, preds)"
   ]
  },
  {
   "cell_type": "markdown",
   "metadata": {},
   "source": [
    "#### 2). R squared\n",
    "\n",
    "\n",
    "- $R^2$ is the score that `sklearn` uses by default when you call score():\n",
    "- You can [read about it](https://en.wikipedia.org/wiki/Coefficient_of_determination) if interested.\n",
    "- Intuition: mean squared error, but flipped (higher is better), and **normalized so the max is 1**.\n",
    "- MSE is \"reversible\" but $R^2$ is not: (sklearn uses `r2_score(y_train, preds)`)\n",
    "\n",
    "    ```python\n",
    "    `mean_squared_error(y_train, preds)` == `mean_squared_error(preds, y_train)`\n",
    "    `r2_score(y_train, preds)` != `r2_score(preds, y_train)`\n",
    "    ```\n",
    "\n",
    "Key points:\n",
    "- The maximum is **1 for perfect predictions**\n",
    "- **Negative values are very bad**: \"worse than DummyRegressor\" (very bad)"
   ]
  },
  {
   "cell_type": "code",
   "execution_count": 41,
   "metadata": {},
   "outputs": [
    {
     "data": {
      "text/plain": [
       "0.8613686047507993"
      ]
     },
     "execution_count": 41,
     "metadata": {},
     "output_type": "execute_result"
    }
   ],
   "source": [
    "r2_score(y_train, preds)"
   ]
  },
  {
   "cell_type": "markdown",
   "metadata": {},
   "source": [
    "#### 3). Root mean squared error or RMSE\n",
    "\n",
    "- The MSE above is in $dollars^2$.\n",
    "- A more relatable metric would be the root mean squared error, or RMSE"
   ]
  },
  {
   "cell_type": "code",
   "execution_count": 42,
   "metadata": {},
   "outputs": [
    {
     "data": {
      "text/plain": [
       "29418.41941891581"
      ]
     },
     "execution_count": 42,
     "metadata": {},
     "output_type": "execute_result"
    }
   ],
   "source": [
    "np.sqrt(mean_squared_error(y_train, preds))"
   ]
  },
  {
   "cell_type": "code",
   "execution_count": 43,
   "metadata": {},
   "outputs": [
    {
     "data": {
      "image/png": "[encoded data removed]",
      "text/plain": [
       "<Figure size 432x288 with 1 Axes>"
      ]
     },
     "metadata": {
      "needs_background": "light"
     },
     "output_type": "display_data"
    }
   ],
   "source": [
    "plt.scatter(y_train, lr_tuned.predict(X_train), alpha=0.3)\n",
    "grid = np.linspace(y_train.min(), y_train.max(), 1000)\n",
    "plt.plot(grid, grid, '--k');\n",
    "plt.xlabel(\"true price\");\n",
    "plt.ylabel(\"predicte price\");"
   ]
  },
  {
   "cell_type": "markdown",
   "metadata": {},
   "source": [
    "#### 4). MAPE\n",
    "\n",
    "> mean absolute percent error (MAPE)"
   ]
  },
  {
   "cell_type": "code",
   "execution_count": 44,
   "metadata": {},
   "outputs": [],
   "source": [
    "def mape(true, pred):\n",
    "    return 100.*np.mean(np.abs((pred - true)/true))\n",
    "\n",
    "# make a scorer function that we can pass into cross-validation\n",
    "mape_scorer = make_scorer(mape)"
   ]
  },
  {
   "cell_type": "code",
   "execution_count": 45,
   "metadata": {},
   "outputs": [
    {
     "data": {
      "text/plain": [
       "10.12358979516996"
      ]
     },
     "execution_count": 45,
     "metadata": {},
     "output_type": "execute_result"
    }
   ],
   "source": [
    "pred_train = lr_tuned.predict(X_train)\n",
    "\n",
    "# On average, we have around 10% error.\n",
    "mape(y_train, pred_train) # == mape_scorer(lr_tuned, X_train, y_train) "
   ]
  },
  {
   "cell_type": "markdown",
   "metadata": {},
   "source": [
    "- In `sklearn` you will notice that it has negative version of the metrics above (e.g., `neg_mean_squared_error`, `neg_root_mean_squared_error`). \n",
    "- The reason for this is that scores return a value to maximize, the higher the better.\n",
    "- If you define your own scorer function and if you do not want this interpretation, you can set the `greater_is_better` parameter to False "
   ]
  },
  {
   "cell_type": "markdown",
   "metadata": {},
   "source": [
    "#### 5). all scores at once"
   ]
  },
  {
   "cell_type": "code",
   "execution_count": 46,
   "metadata": {},
   "outputs": [
    {
     "data": {
      "text/html": [
       "<div>\n",
       "<style scoped>\n",
       "    .dataframe tbody tr th:only-of-type {\n",
       "        vertical-align: middle;\n",
       "    }\n",
       "\n",
       "    .dataframe tbody tr th {\n",
       "        vertical-align: top;\n",
       "    }\n",
       "\n",
       "    .dataframe thead th {\n",
       "        text-align: right;\n",
       "    }\n",
       "</style>\n",
       "<table border=\"1\" class=\"dataframe\">\n",
       "  <thead>\n",
       "    <tr style=\"text-align: right;\">\n",
       "      <th></th>\n",
       "      <th>0</th>\n",
       "      <th>1</th>\n",
       "      <th>2</th>\n",
       "      <th>3</th>\n",
       "      <th>4</th>\n",
       "    </tr>\n",
       "  </thead>\n",
       "  <tbody>\n",
       "    <tr>\n",
       "      <th>fit_time</th>\n",
       "      <td>4.703808e-02</td>\n",
       "      <td>5.438638e-02</td>\n",
       "      <td>5.436492e-02</td>\n",
       "      <td>5.424690e-02</td>\n",
       "      <td>5.690217e-02</td>\n",
       "    </tr>\n",
       "    <tr>\n",
       "      <th>score_time</th>\n",
       "      <td>1.461411e-02</td>\n",
       "      <td>1.997685e-02</td>\n",
       "      <td>1.947522e-02</td>\n",
       "      <td>1.735234e-02</td>\n",
       "      <td>2.630997e-02</td>\n",
       "    </tr>\n",
       "    <tr>\n",
       "      <th>test_r2</th>\n",
       "      <td>8.643530e-01</td>\n",
       "      <td>8.225613e-01</td>\n",
       "      <td>8.252302e-01</td>\n",
       "      <td>8.519350e-01</td>\n",
       "      <td>6.076025e-01</td>\n",
       "    </tr>\n",
       "    <tr>\n",
       "      <th>train_r2</th>\n",
       "      <td>8.569850e-01</td>\n",
       "      <td>8.637095e-01</td>\n",
       "      <td>8.597770e-01</td>\n",
       "      <td>8.573454e-01</td>\n",
       "      <td>8.846844e-01</td>\n",
       "    </tr>\n",
       "    <tr>\n",
       "      <th>test_mape_scorer</th>\n",
       "      <td>9.782268e+00</td>\n",
       "      <td>1.084671e+01</td>\n",
       "      <td>1.192049e+01</td>\n",
       "      <td>1.088294e+01</td>\n",
       "      <td>1.216931e+01</td>\n",
       "    </tr>\n",
       "    <tr>\n",
       "      <th>train_mape_scorer</th>\n",
       "      <td>1.040931e+01</td>\n",
       "      <td>1.004660e+01</td>\n",
       "      <td>1.015055e+01</td>\n",
       "      <td>1.028046e+01</td>\n",
       "      <td>9.711958e+00</td>\n",
       "    </tr>\n",
       "    <tr>\n",
       "      <th>test_neg_root_mean_square_error</th>\n",
       "      <td>-2.682404e+04</td>\n",
       "      <td>-3.496458e+04</td>\n",
       "      <td>-3.364257e+04</td>\n",
       "      <td>-3.125678e+04</td>\n",
       "      <td>-4.783257e+04</td>\n",
       "    </tr>\n",
       "    <tr>\n",
       "      <th>train_neg_root_mean_square_error</th>\n",
       "      <td>-3.043578e+04</td>\n",
       "      <td>-2.874507e+04</td>\n",
       "      <td>-2.941386e+04</td>\n",
       "      <td>-2.962563e+04</td>\n",
       "      <td>-2.704821e+04</td>\n",
       "    </tr>\n",
       "    <tr>\n",
       "      <th>test_neg_mean_squared_error</th>\n",
       "      <td>-7.195290e+08</td>\n",
       "      <td>-1.222522e+09</td>\n",
       "      <td>-1.131822e+09</td>\n",
       "      <td>-9.769864e+08</td>\n",
       "      <td>-2.287955e+09</td>\n",
       "    </tr>\n",
       "    <tr>\n",
       "      <th>train_neg_mean_squared_error</th>\n",
       "      <td>-9.263368e+08</td>\n",
       "      <td>-8.262792e+08</td>\n",
       "      <td>-8.651749e+08</td>\n",
       "      <td>-8.776780e+08</td>\n",
       "      <td>-7.316056e+08</td>\n",
       "    </tr>\n",
       "  </tbody>\n",
       "</table>\n",
       "</div>"
      ],
      "text/plain": [
       "                                             0             1             2  \\\n",
       "fit_time                          4.703808e-02  5.438638e-02  5.436492e-02   \n",
       "score_time                        1.461411e-02  1.997685e-02  1.947522e-02   \n",
       "test_r2                           8.643530e-01  8.225613e-01  8.252302e-01   \n",
       "train_r2                          8.569850e-01  8.637095e-01  8.597770e-01   \n",
       "test_mape_scorer                  9.782268e+00  1.084671e+01  1.192049e+01   \n",
       "train_mape_scorer                 1.040931e+01  1.004660e+01  1.015055e+01   \n",
       "test_neg_root_mean_square_error  -2.682404e+04 -3.496458e+04 -3.364257e+04   \n",
       "train_neg_root_mean_square_error -3.043578e+04 -2.874507e+04 -2.941386e+04   \n",
       "test_neg_mean_squared_error      -7.195290e+08 -1.222522e+09 -1.131822e+09   \n",
       "train_neg_mean_squared_error     -9.263368e+08 -8.262792e+08 -8.651749e+08   \n",
       "\n",
       "                                             3             4  \n",
       "fit_time                          5.424690e-02  5.690217e-02  \n",
       "score_time                        1.735234e-02  2.630997e-02  \n",
       "test_r2                           8.519350e-01  6.076025e-01  \n",
       "train_r2                          8.573454e-01  8.846844e-01  \n",
       "test_mape_scorer                  1.088294e+01  1.216931e+01  \n",
       "train_mape_scorer                 1.028046e+01  9.711958e+00  \n",
       "test_neg_root_mean_square_error  -3.125678e+04 -4.783257e+04  \n",
       "train_neg_root_mean_square_error -2.962563e+04 -2.704821e+04  \n",
       "test_neg_mean_squared_error      -9.769864e+08 -2.287955e+09  \n",
       "train_neg_mean_squared_error     -8.776780e+08 -7.316056e+08  "
      ]
     },
     "execution_count": 46,
     "metadata": {},
     "output_type": "execute_result"
    }
   ],
   "source": [
    "scoring={\n",
    "    \"r2\": \"r2\",\n",
    "    \"mape_scorer\": mape_scorer,\n",
    "    \"neg_root_mean_square_error\": \"neg_root_mean_squared_error\",    \n",
    "    \"neg_mean_squared_error\": \"neg_mean_squared_error\",    \n",
    "}\n",
    "\n",
    "pd.DataFrame(cross_validate(\n",
    "    lr_tuned, X_train, y_train, return_train_score=True, scoring=scoring\n",
    ")).T"
   ]
  },
  {
   "cell_type": "markdown",
   "metadata": {},
   "source": [
    "## 4. Practice questions\n",
    "\n",
    "> **1. Price per square foot would be a good feature to add in our `X`.**\n",
    "\n",
    "**Answer:** False, incorporate targets in features. \n",
    "\n",
    "> **2. `sklearn's` `LinearRegression` behaves erratically if we're not careful.`.**\n",
    "\n",
    "**Answer:** True\n",
    "\n",
    "> **3. The `alpha` hyperparameter of `Ridge` has similar interpretation of `C` hyperparameter of `LogisticRegression`; higher `alpha` means more complex model.**\n",
    "\n",
    "**Answer:** False, lower alpha -> complex model -> overfitting \n",
    "\n",
    "> **4. With `Ridge`, larger values of `alpha` are probably more useful when there are lots of features. (Not sure if we covered this enough for you to answer, but I'm leaving it here anyway.)**\n",
    "\n",
    "**Answer:** True: hedge\n",
    "- large alpha -> less complex\n",
    "- More features -> more complex \n",
    "\n",
    "> **5. In regression, one should use MAPE instead of MSE when relative (percent) error matters more than absolute error.**\n",
    "\n",
    "**Answer:** True"
   ]
  },
  {
   "cell_type": "markdown",
   "metadata": {},
   "source": [
    "# Lecture 3: Non-linear regression, RBFs, feature engineering "
   ]
  },
  {
   "cell_type": "markdown",
   "metadata": {},
   "source": [
    "## 1. Summary\n",
    "\n",
    "- **Feature engineering** is the process of transforming raw data into features that better represent the underlying problem to the predictive models, resulting in improved model accuracy on unseen data.\n",
    "\n",
    "- Better features usually help more than a better model.\n",
    "- Good features would ideally:\n",
    "    - capture most important aspects of the problem\n",
    "    - allow learning with few examples \n",
    "    - generalize to new scenarios.\n",
    "\n",
    "- There is a trade-off between simple and expressive features:\n",
    "    - With **simple features** overfitting risk is low, but scores might be low.\n",
    "    - With **complicated features** scores can be high, but so is overfitting risk.\n",
    "    \n",
    "<br> \n",
    "\n",
    "#### The best features may be dependent on the model you use.\n",
    "\n",
    "- Examples:\n",
    "    - For counting-based methods like naive Bayes and decision trees separate relevant groups of variable values\n",
    "        - Discretization makes sense \n",
    "    - For distance-based methods like KNN, we want different class labels to be \"far\".\n",
    "        - Standardization \n",
    "    - For regression-based methods like linear regression, we want targets to have a linear dependency on features.\n",
    "        - Non-linear (e.g., polynomial) transformations        "
   ]
  },
  {
   "cell_type": "markdown",
   "metadata": {},
   "source": [
    "## 2. Polynomial feature transformations for non-linear regression\n",
    "\n",
    "- Interested in predicting a scalar valued target (e.g., stock price)\n",
    "- $\\hat{y}$ is the linear function of features $x$ and weights $w$. \n",
    "\n",
    "$$\\hat{y} = w^Tx + b$$\n",
    "        \n",
    "- $\\hat{y} \\rightarrow$ prediction\n",
    "- $w \\rightarrow$ weight vector\n",
    "- $b \\rightarrow$ bias\n",
    "- $x \\rightarrow$ feature vector\n",
    "- $w$ and $b$ together are the parameters\n",
    "\n",
    "$$\\hat{y} = \\begin{bmatrix}w_1 & w_2 & \\cdots & w_d\\end{bmatrix}\\begin{bmatrix}x_1 \\\\ x_2 \\\\ \\vdots \\\\ x_d\\end{bmatrix} + b$$"
   ]
  },
  {
   "cell_type": "markdown",
   "metadata": {},
   "source": [
    "#### 1). Bias term\n",
    "\n",
    "\n",
    "$$ f(w) = \\frac{1}{2}\\sum_i^{n}{(w^Tx_i - y_i)^2}$$\n",
    "\n",
    "- Why don't we have a bias term (i.e., a y-intercept)?\n",
    "  - For simplicity, we renameabias term as w_0 and introduce a dummy feature $x_0$ whose value is always 1. \n",
    "  - So $w_0 + w_1x_1 + \\dots + w_nx_n$ becomes $w_0x_0 + w_1x_1 + \\dots + w_nx_n$, where $x_0$ is always 1. \n",
    "  \n",
    "  \n",
    "  \n",
    "- Example\n",
    "    - Suppose $X$ has only one feature, say $x_1$: \n",
    "    $$X = \\begin{bmatrix}0.86 \\\\ 0.02 \\\\ -0.42 \\end{bmatrix}$$ \n",
    "    - Make a new matrix $Z$ with an extra feature (say $x_0$) whose value is always 1. \n",
    "    $$Z = \\begin{bmatrix}1 & 0.86\\\\ 1 & 0.02 \\\\ 1 & -0.42\\\\ \\end{bmatrix}$$\n",
    "    - Our $Z$ will have three features $x_0$, $x_1$, $x_1^2$ with polynomial with degree 2. \n",
    "$$Z = \\begin{bmatrix}1 & 0.86 & 0.74\\\\ 1 & 0.02 & 0.0004\\\\ 1 & -0.42 & 0.18\\\\ \\end{bmatrix}$$\n",
    "    - Use $Z$ instead of $X$ in linear regression. \n",
    "    - $Z$ $\\rightarrow$ augmented dataset with quadratic features\n",
    "    - `fit`: We fit using $Z$ and learn weights $v$. \n",
    "    - `predict`: When we predict, we need to apply the same transformations on the test example and add these features in the test example and predict using learned weights $v$.\n",
    "\n",
    "    \n",
    "    \n",
    "    \n",
    "**$\\hat{y}$ is a linear function of $v$ and $Z$ but a polynomial function of original features $X$.**"
   ]
  },
  {
   "cell_type": "markdown",
   "metadata": {},
   "source": [
    "#### 2). `PolynomialFeatures`\n",
    "\n",
    "> Generate a new feature matrix consisting of all polynomial combinations of the features with degree less than or equal to the specified degree. For example, if an input sample is two dimensional and of the form [a, b], the degree-2 polynomial features are $[1, a, b, a^2, ab, b^2]$.\n",
    "\n",
    "\n",
    "- **degree increases -> prone to overfitting**\n",
    "\n",
    "<br>\n",
    "\n",
    "#### Questions to consider\n",
    "\n",
    "How do we know what degree of polynomial to use?\n",
    "- Can we plot data and see how does it look like so that we can pick polynomial with the appropriate degree?\n",
    "    - Plotting cannot take us much further\n",
    "    - Not possible to visualize high dimensional data\n",
    "- Can we consider one feature at a time?  \n",
    "    - Hopeless when features interact with each other\n",
    "    - There is a possibility to draw misleading conclusions when you are only looking at one feature at a time.\n",
    "- Hyperparameter optimization\n",
    "    - Can be potentially very slow. "
   ]
  },
  {
   "cell_type": "markdown",
   "metadata": {},
   "source": [
    "##### example 1: non-linear regression"
   ]
  },
  {
   "cell_type": "code",
   "execution_count": 47,
   "metadata": {},
   "outputs": [
    {
     "data": {
      "text/plain": [
       "<matplotlib.collections.PathCollection at 0x7ffe4e2724d0>"
      ]
     },
     "execution_count": 47,
     "metadata": {},
     "output_type": "execute_result"
    },
    {
     "data": {
      "image/png": "[encoded data removed]",
      "text/plain": [
       "<Figure size 432x288 with 1 Axes>"
      ]
     },
     "metadata": {
      "needs_background": "light"
     },
     "output_type": "display_data"
    }
   ],
   "source": [
    "n = 20\n",
    "X = np.linspace(-3,3,n)\n",
    "y = X**2 + npr.randn(n)\n",
    "\n",
    "# transforming the data to include another axis\n",
    "X = X[:, np.newaxis]\n",
    "y = y[:, np.newaxis]\n",
    "plt.scatter(X, y, color='blue')"
   ]
  },
  {
   "cell_type": "markdown",
   "metadata": {},
   "source": [
    "> transform features"
   ]
  },
  {
   "cell_type": "code",
   "execution_count": 48,
   "metadata": {},
   "outputs": [
    {
     "data": {
      "text/html": [
       "<div>\n",
       "<style scoped>\n",
       "    .dataframe tbody tr th:only-of-type {\n",
       "        vertical-align: middle;\n",
       "    }\n",
       "\n",
       "    .dataframe tbody tr th {\n",
       "        vertical-align: top;\n",
       "    }\n",
       "\n",
       "    .dataframe thead th {\n",
       "        text-align: right;\n",
       "    }\n",
       "</style>\n",
       "<table border=\"1\" class=\"dataframe\">\n",
       "  <thead>\n",
       "    <tr style=\"text-align: right;\">\n",
       "      <th></th>\n",
       "      <th>1</th>\n",
       "      <th>x0</th>\n",
       "      <th>x0^2</th>\n",
       "    </tr>\n",
       "  </thead>\n",
       "  <tbody>\n",
       "    <tr>\n",
       "      <th>0</th>\n",
       "      <td>1.0</td>\n",
       "      <td>-3.000000</td>\n",
       "      <td>9.000000</td>\n",
       "    </tr>\n",
       "    <tr>\n",
       "      <th>1</th>\n",
       "      <td>1.0</td>\n",
       "      <td>-2.684211</td>\n",
       "      <td>7.204986</td>\n",
       "    </tr>\n",
       "    <tr>\n",
       "      <th>2</th>\n",
       "      <td>1.0</td>\n",
       "      <td>-2.368421</td>\n",
       "      <td>5.609418</td>\n",
       "    </tr>\n",
       "    <tr>\n",
       "      <th>3</th>\n",
       "      <td>1.0</td>\n",
       "      <td>-2.052632</td>\n",
       "      <td>4.213296</td>\n",
       "    </tr>\n",
       "    <tr>\n",
       "      <th>4</th>\n",
       "      <td>1.0</td>\n",
       "      <td>-1.736842</td>\n",
       "      <td>3.016620</td>\n",
       "    </tr>\n",
       "    <tr>\n",
       "      <th>5</th>\n",
       "      <td>1.0</td>\n",
       "      <td>-1.421053</td>\n",
       "      <td>2.019391</td>\n",
       "    </tr>\n",
       "    <tr>\n",
       "      <th>6</th>\n",
       "      <td>1.0</td>\n",
       "      <td>-1.105263</td>\n",
       "      <td>1.221607</td>\n",
       "    </tr>\n",
       "    <tr>\n",
       "      <th>7</th>\n",
       "      <td>1.0</td>\n",
       "      <td>-0.789474</td>\n",
       "      <td>0.623269</td>\n",
       "    </tr>\n",
       "    <tr>\n",
       "      <th>8</th>\n",
       "      <td>1.0</td>\n",
       "      <td>-0.473684</td>\n",
       "      <td>0.224377</td>\n",
       "    </tr>\n",
       "    <tr>\n",
       "      <th>9</th>\n",
       "      <td>1.0</td>\n",
       "      <td>-0.157895</td>\n",
       "      <td>0.024931</td>\n",
       "    </tr>\n",
       "  </tbody>\n",
       "</table>\n",
       "</div>"
      ],
      "text/plain": [
       "     1        x0      x0^2\n",
       "0  1.0 -3.000000  9.000000\n",
       "1  1.0 -2.684211  7.204986\n",
       "2  1.0 -2.368421  5.609418\n",
       "3  1.0 -2.052632  4.213296\n",
       "4  1.0 -1.736842  3.016620\n",
       "5  1.0 -1.421053  2.019391\n",
       "6  1.0 -1.105263  1.221607\n",
       "7  1.0 -0.789474  0.623269\n",
       "8  1.0 -0.473684  0.224377\n",
       "9  1.0 -0.157895  0.024931"
      ]
     },
     "execution_count": 48,
     "metadata": {},
     "output_type": "execute_result"
    }
   ],
   "source": [
    "from sklearn.preprocessing import PolynomialFeatures\n",
    "deg = 2\n",
    "\n",
    "poly_feats = PolynomialFeatures(degree=deg)\n",
    "X_enc = poly_feats.fit_transform(X)\n",
    "\n",
    "pd.DataFrame(X_enc, columns=poly_feats.get_feature_names()).head(10)"
   ]
  },
  {
   "cell_type": "code",
   "execution_count": 49,
   "metadata": {},
   "outputs": [
    {
     "data": {
      "text/plain": [
       "[<matplotlib.lines.Line2D at 0x7ffe5ddd23d0>]"
      ]
     },
     "execution_count": 49,
     "metadata": {},
     "output_type": "execute_result"
    },
    {
     "data": {
      "image/png": "[encoded data removed]",
      "text/plain": [
       "<Figure size 432x288 with 1 Axes>"
      ]
     },
     "metadata": {
      "needs_background": "light"
     },
     "output_type": "display_data"
    }
   ],
   "source": [
    "lr_poly = LinearRegression()\n",
    "lr_poly.fit(X_enc, y)\n",
    "preds = lr_poly.predict(X_enc)\n",
    "plt.scatter(X, y, color='blue')\n",
    "plt.plot(X, preds, color='green', linewidth=3)"
   ]
  },
  {
   "cell_type": "code",
   "execution_count": 50,
   "metadata": {},
   "outputs": [
    {
     "data": {
      "text/html": [
       "<div>\n",
       "<style scoped>\n",
       "    .dataframe tbody tr th:only-of-type {\n",
       "        vertical-align: middle;\n",
       "    }\n",
       "\n",
       "    .dataframe tbody tr th {\n",
       "        vertical-align: top;\n",
       "    }\n",
       "\n",
       "    .dataframe thead th {\n",
       "        text-align: right;\n",
       "    }\n",
       "</style>\n",
       "<table border=\"1\" class=\"dataframe\">\n",
       "  <thead>\n",
       "    <tr style=\"text-align: right;\">\n",
       "      <th></th>\n",
       "      <th>1</th>\n",
       "      <th>x0</th>\n",
       "      <th>x0^2</th>\n",
       "      <th>x0^3</th>\n",
       "      <th>x0^4</th>\n",
       "      <th>x0^5</th>\n",
       "      <th>x0^6</th>\n",
       "      <th>x0^7</th>\n",
       "      <th>x0^8</th>\n",
       "      <th>x0^9</th>\n",
       "      <th>...</th>\n",
       "      <th>x0^11</th>\n",
       "      <th>x0^12</th>\n",
       "      <th>x0^13</th>\n",
       "      <th>x0^14</th>\n",
       "      <th>x0^15</th>\n",
       "      <th>x0^16</th>\n",
       "      <th>x0^17</th>\n",
       "      <th>x0^18</th>\n",
       "      <th>x0^19</th>\n",
       "      <th>x0^20</th>\n",
       "    </tr>\n",
       "  </thead>\n",
       "  <tbody>\n",
       "    <tr>\n",
       "      <th>0</th>\n",
       "      <td>1.0</td>\n",
       "      <td>-3.000000</td>\n",
       "      <td>9.000000</td>\n",
       "      <td>-27.000000</td>\n",
       "      <td>81.000000</td>\n",
       "      <td>-243.000000</td>\n",
       "      <td>729.000000</td>\n",
       "      <td>-2187.000000</td>\n",
       "      <td>6.561000e+03</td>\n",
       "      <td>-1.968300e+04</td>\n",
       "      <td>...</td>\n",
       "      <td>-1.771470e+05</td>\n",
       "      <td>5.314410e+05</td>\n",
       "      <td>-1.594323e+06</td>\n",
       "      <td>4.782969e+06</td>\n",
       "      <td>-1.434891e+07</td>\n",
       "      <td>4.304672e+07</td>\n",
       "      <td>-1.291402e+08</td>\n",
       "      <td>3.874205e+08</td>\n",
       "      <td>-1.162261e+09</td>\n",
       "      <td>3.486784e+09</td>\n",
       "    </tr>\n",
       "    <tr>\n",
       "      <th>1</th>\n",
       "      <td>1.0</td>\n",
       "      <td>-2.684211</td>\n",
       "      <td>7.204986</td>\n",
       "      <td>-19.339700</td>\n",
       "      <td>51.911825</td>\n",
       "      <td>-139.342268</td>\n",
       "      <td>374.023983</td>\n",
       "      <td>-1003.959113</td>\n",
       "      <td>2.694838e+03</td>\n",
       "      <td>-7.233512e+03</td>\n",
       "      <td>...</td>\n",
       "      <td>-5.211735e+04</td>\n",
       "      <td>1.398939e+05</td>\n",
       "      <td>-3.755048e+05</td>\n",
       "      <td>1.007934e+06</td>\n",
       "      <td>-2.705507e+06</td>\n",
       "      <td>7.262150e+06</td>\n",
       "      <td>-1.949314e+07</td>\n",
       "      <td>5.232369e+07</td>\n",
       "      <td>-1.404478e+08</td>\n",
       "      <td>3.769915e+08</td>\n",
       "    </tr>\n",
       "    <tr>\n",
       "      <th>2</th>\n",
       "      <td>1.0</td>\n",
       "      <td>-2.368421</td>\n",
       "      <td>5.609418</td>\n",
       "      <td>-13.285464</td>\n",
       "      <td>31.465573</td>\n",
       "      <td>-74.523727</td>\n",
       "      <td>176.503563</td>\n",
       "      <td>-418.034755</td>\n",
       "      <td>9.900823e+02</td>\n",
       "      <td>-2.344932e+03</td>\n",
       "      <td>...</td>\n",
       "      <td>-1.315370e+04</td>\n",
       "      <td>3.115351e+04</td>\n",
       "      <td>-7.378462e+04</td>\n",
       "      <td>1.747531e+05</td>\n",
       "      <td>-4.138888e+05</td>\n",
       "      <td>9.802630e+05</td>\n",
       "      <td>-2.321675e+06</td>\n",
       "      <td>5.498705e+06</td>\n",
       "      <td>-1.302325e+07</td>\n",
       "      <td>3.084454e+07</td>\n",
       "    </tr>\n",
       "    <tr>\n",
       "      <th>3</th>\n",
       "      <td>1.0</td>\n",
       "      <td>-2.052632</td>\n",
       "      <td>4.213296</td>\n",
       "      <td>-8.648345</td>\n",
       "      <td>17.751867</td>\n",
       "      <td>-36.438042</td>\n",
       "      <td>74.793875</td>\n",
       "      <td>-153.524271</td>\n",
       "      <td>3.151288e+02</td>\n",
       "      <td>-6.468433e+02</td>\n",
       "      <td>...</td>\n",
       "      <td>-2.725342e+03</td>\n",
       "      <td>5.594124e+03</td>\n",
       "      <td>-1.148268e+04</td>\n",
       "      <td>2.356970e+04</td>\n",
       "      <td>-4.837991e+04</td>\n",
       "      <td>9.930614e+04</td>\n",
       "      <td>-2.038389e+05</td>\n",
       "      <td>4.184062e+05</td>\n",
       "      <td>-8.588338e+05</td>\n",
       "      <td>1.762869e+06</td>\n",
       "    </tr>\n",
       "    <tr>\n",
       "      <th>4</th>\n",
       "      <td>1.0</td>\n",
       "      <td>-1.736842</td>\n",
       "      <td>3.016620</td>\n",
       "      <td>-5.239393</td>\n",
       "      <td>9.099999</td>\n",
       "      <td>-15.805262</td>\n",
       "      <td>27.451244</td>\n",
       "      <td>-47.678477</td>\n",
       "      <td>8.280999e+01</td>\n",
       "      <td>-1.438279e+02</td>\n",
       "      <td>...</td>\n",
       "      <td>-4.338741e+02</td>\n",
       "      <td>7.535708e+02</td>\n",
       "      <td>-1.308834e+03</td>\n",
       "      <td>2.273237e+03</td>\n",
       "      <td>-3.948254e+03</td>\n",
       "      <td>6.857494e+03</td>\n",
       "      <td>-1.191038e+04</td>\n",
       "      <td>2.068646e+04</td>\n",
       "      <td>-3.592911e+04</td>\n",
       "      <td>6.240319e+04</td>\n",
       "    </tr>\n",
       "    <tr>\n",
       "      <th>5</th>\n",
       "      <td>1.0</td>\n",
       "      <td>-1.421053</td>\n",
       "      <td>2.019391</td>\n",
       "      <td>-2.869660</td>\n",
       "      <td>4.077938</td>\n",
       "      <td>-5.794965</td>\n",
       "      <td>8.234950</td>\n",
       "      <td>-11.702298</td>\n",
       "      <td>1.662958e+01</td>\n",
       "      <td>-2.363151e+01</td>\n",
       "      <td>...</td>\n",
       "      <td>-4.772125e+01</td>\n",
       "      <td>6.781441e+01</td>\n",
       "      <td>-9.636784e+01</td>\n",
       "      <td>1.369438e+02</td>\n",
       "      <td>-1.946043e+02</td>\n",
       "      <td>2.765430e+02</td>\n",
       "      <td>-3.929821e+02</td>\n",
       "      <td>5.584483e+02</td>\n",
       "      <td>-7.935844e+02</td>\n",
       "      <td>1.127725e+03</td>\n",
       "    </tr>\n",
       "    <tr>\n",
       "      <th>6</th>\n",
       "      <td>1.0</td>\n",
       "      <td>-1.105263</td>\n",
       "      <td>1.221607</td>\n",
       "      <td>-1.350197</td>\n",
       "      <td>1.492323</td>\n",
       "      <td>-1.649409</td>\n",
       "      <td>1.823031</td>\n",
       "      <td>-2.014930</td>\n",
       "      <td>2.227027e+00</td>\n",
       "      <td>-2.461451e+00</td>\n",
       "      <td>...</td>\n",
       "      <td>-3.006925e+00</td>\n",
       "      <td>3.323444e+00</td>\n",
       "      <td>-3.673280e+00</td>\n",
       "      <td>4.059941e+00</td>\n",
       "      <td>-4.487303e+00</td>\n",
       "      <td>4.959651e+00</td>\n",
       "      <td>-5.481719e+00</td>\n",
       "      <td>6.058742e+00</td>\n",
       "      <td>-6.696505e+00</td>\n",
       "      <td>7.401400e+00</td>\n",
       "    </tr>\n",
       "    <tr>\n",
       "      <th>7</th>\n",
       "      <td>1.0</td>\n",
       "      <td>-0.789474</td>\n",
       "      <td>0.623269</td>\n",
       "      <td>-0.492054</td>\n",
       "      <td>0.388464</td>\n",
       "      <td>-0.306682</td>\n",
       "      <td>0.242117</td>\n",
       "      <td>-0.191145</td>\n",
       "      <td>1.509042e-01</td>\n",
       "      <td>-1.191349e-01</td>\n",
       "      <td>...</td>\n",
       "      <td>-7.425304e-02</td>\n",
       "      <td>5.862082e-02</td>\n",
       "      <td>-4.627960e-02</td>\n",
       "      <td>3.653652e-02</td>\n",
       "      <td>-2.884462e-02</td>\n",
       "      <td>2.277207e-02</td>\n",
       "      <td>-1.797795e-02</td>\n",
       "      <td>1.419312e-02</td>\n",
       "      <td>-1.120509e-02</td>\n",
       "      <td>8.846127e-03</td>\n",
       "    </tr>\n",
       "    <tr>\n",
       "      <th>8</th>\n",
       "      <td>1.0</td>\n",
       "      <td>-0.473684</td>\n",
       "      <td>0.224377</td>\n",
       "      <td>-0.106284</td>\n",
       "      <td>0.050345</td>\n",
       "      <td>-0.023848</td>\n",
       "      <td>0.011296</td>\n",
       "      <td>-0.005351</td>\n",
       "      <td>2.534611e-03</td>\n",
       "      <td>-1.200605e-03</td>\n",
       "      <td>...</td>\n",
       "      <td>-2.693878e-04</td>\n",
       "      <td>1.276048e-04</td>\n",
       "      <td>-6.044436e-05</td>\n",
       "      <td>2.863154e-05</td>\n",
       "      <td>-1.356231e-05</td>\n",
       "      <td>6.424252e-06</td>\n",
       "      <td>-3.043067e-06</td>\n",
       "      <td>1.441453e-06</td>\n",
       "      <td>-6.827933e-07</td>\n",
       "      <td>3.234284e-07</td>\n",
       "    </tr>\n",
       "    <tr>\n",
       "      <th>9</th>\n",
       "      <td>1.0</td>\n",
       "      <td>-0.157895</td>\n",
       "      <td>0.024931</td>\n",
       "      <td>-0.003936</td>\n",
       "      <td>0.000622</td>\n",
       "      <td>-0.000098</td>\n",
       "      <td>0.000015</td>\n",
       "      <td>-0.000002</td>\n",
       "      <td>3.863147e-07</td>\n",
       "      <td>-6.099706e-08</td>\n",
       "      <td>...</td>\n",
       "      <td>-1.520702e-09</td>\n",
       "      <td>2.401109e-10</td>\n",
       "      <td>-3.791224e-11</td>\n",
       "      <td>5.986144e-12</td>\n",
       "      <td>-9.451806e-13</td>\n",
       "      <td>1.492390e-13</td>\n",
       "      <td>-2.356406e-14</td>\n",
       "      <td>3.720641e-15</td>\n",
       "      <td>-5.874696e-16</td>\n",
       "      <td>9.275836e-17</td>\n",
       "    </tr>\n",
       "  </tbody>\n",
       "</table>\n",
       "<p>10 rows × 21 columns</p>\n",
       "</div>"
      ],
      "text/plain": [
       "     1        x0      x0^2       x0^3       x0^4        x0^5        x0^6  \\\n",
       "0  1.0 -3.000000  9.000000 -27.000000  81.000000 -243.000000  729.000000   \n",
       "1  1.0 -2.684211  7.204986 -19.339700  51.911825 -139.342268  374.023983   \n",
       "2  1.0 -2.368421  5.609418 -13.285464  31.465573  -74.523727  176.503563   \n",
       "3  1.0 -2.052632  4.213296  -8.648345  17.751867  -36.438042   74.793875   \n",
       "4  1.0 -1.736842  3.016620  -5.239393   9.099999  -15.805262   27.451244   \n",
       "5  1.0 -1.421053  2.019391  -2.869660   4.077938   -5.794965    8.234950   \n",
       "6  1.0 -1.105263  1.221607  -1.350197   1.492323   -1.649409    1.823031   \n",
       "7  1.0 -0.789474  0.623269  -0.492054   0.388464   -0.306682    0.242117   \n",
       "8  1.0 -0.473684  0.224377  -0.106284   0.050345   -0.023848    0.011296   \n",
       "9  1.0 -0.157895  0.024931  -0.003936   0.000622   -0.000098    0.000015   \n",
       "\n",
       "          x0^7          x0^8          x0^9  ...         x0^11         x0^12  \\\n",
       "0 -2187.000000  6.561000e+03 -1.968300e+04  ... -1.771470e+05  5.314410e+05   \n",
       "1 -1003.959113  2.694838e+03 -7.233512e+03  ... -5.211735e+04  1.398939e+05   \n",
       "2  -418.034755  9.900823e+02 -2.344932e+03  ... -1.315370e+04  3.115351e+04   \n",
       "3  -153.524271  3.151288e+02 -6.468433e+02  ... -2.725342e+03  5.594124e+03   \n",
       "4   -47.678477  8.280999e+01 -1.438279e+02  ... -4.338741e+02  7.535708e+02   \n",
       "5   -11.702298  1.662958e+01 -2.363151e+01  ... -4.772125e+01  6.781441e+01   \n",
       "6    -2.014930  2.227027e+00 -2.461451e+00  ... -3.006925e+00  3.323444e+00   \n",
       "7    -0.191145  1.509042e-01 -1.191349e-01  ... -7.425304e-02  5.862082e-02   \n",
       "8    -0.005351  2.534611e-03 -1.200605e-03  ... -2.693878e-04  1.276048e-04   \n",
       "9    -0.000002  3.863147e-07 -6.099706e-08  ... -1.520702e-09  2.401109e-10   \n",
       "\n",
       "          x0^13         x0^14         x0^15         x0^16         x0^17  \\\n",
       "0 -1.594323e+06  4.782969e+06 -1.434891e+07  4.304672e+07 -1.291402e+08   \n",
       "1 -3.755048e+05  1.007934e+06 -2.705507e+06  7.262150e+06 -1.949314e+07   \n",
       "2 -7.378462e+04  1.747531e+05 -4.138888e+05  9.802630e+05 -2.321675e+06   \n",
       "3 -1.148268e+04  2.356970e+04 -4.837991e+04  9.930614e+04 -2.038389e+05   \n",
       "4 -1.308834e+03  2.273237e+03 -3.948254e+03  6.857494e+03 -1.191038e+04   \n",
       "5 -9.636784e+01  1.369438e+02 -1.946043e+02  2.765430e+02 -3.929821e+02   \n",
       "6 -3.673280e+00  4.059941e+00 -4.487303e+00  4.959651e+00 -5.481719e+00   \n",
       "7 -4.627960e-02  3.653652e-02 -2.884462e-02  2.277207e-02 -1.797795e-02   \n",
       "8 -6.044436e-05  2.863154e-05 -1.356231e-05  6.424252e-06 -3.043067e-06   \n",
       "9 -3.791224e-11  5.986144e-12 -9.451806e-13  1.492390e-13 -2.356406e-14   \n",
       "\n",
       "          x0^18         x0^19         x0^20  \n",
       "0  3.874205e+08 -1.162261e+09  3.486784e+09  \n",
       "1  5.232369e+07 -1.404478e+08  3.769915e+08  \n",
       "2  5.498705e+06 -1.302325e+07  3.084454e+07  \n",
       "3  4.184062e+05 -8.588338e+05  1.762869e+06  \n",
       "4  2.068646e+04 -3.592911e+04  6.240319e+04  \n",
       "5  5.584483e+02 -7.935844e+02  1.127725e+03  \n",
       "6  6.058742e+00 -6.696505e+00  7.401400e+00  \n",
       "7  1.419312e-02 -1.120509e-02  8.846127e-03  \n",
       "8  1.441453e-06 -6.827933e-07  3.234284e-07  \n",
       "9  3.720641e-15 -5.874696e-16  9.275836e-17  \n",
       "\n",
       "[10 rows x 21 columns]"
      ]
     },
     "execution_count": 50,
     "metadata": {},
     "output_type": "execute_result"
    }
   ],
   "source": [
    "deg = 20\n",
    "poly_feats = PolynomialFeatures(degree=deg)\n",
    "X_enc = poly_feats.fit_transform(X)\n",
    "pd.DataFrame(X_enc, columns=poly_feats.get_feature_names()).head(10)"
   ]
  },
  {
   "cell_type": "code",
   "execution_count": 51,
   "metadata": {},
   "outputs": [
    {
     "data": {
      "text/plain": [
       "[<matplotlib.lines.Line2D at 0x7ffe4c6bfd10>]"
      ]
     },
     "execution_count": 51,
     "metadata": {},
     "output_type": "execute_result"
    },
    {
     "data": {
      "image/png": "[encoded data removed]",
      "text/plain": [
       "<Figure size 432x288 with 1 Axes>"
      ]
     },
     "metadata": {
      "needs_background": "light"
     },
     "output_type": "display_data"
    }
   ],
   "source": [
    "lr_poly = LinearRegression()\n",
    "lr_poly.fit(X_enc, y)\n",
    "preds = lr_poly.predict(X_enc)\n",
    "plt.scatter(X, y, color='blue')\n",
    "plt.plot(X, preds, color='green', linewidth=3)"
   ]
  },
  {
   "cell_type": "markdown",
   "metadata": {},
   "source": [
    "##### example 2: Classification setting: Non-linearly separable data"
   ]
  },
  {
   "cell_type": "code",
   "execution_count": 52,
   "metadata": {},
   "outputs": [
    {
     "data": {
      "image/png": "[encoded data removed]",
      "text/plain": [
       "<Figure size 432x288 with 1 Axes>"
      ]
     },
     "metadata": {
      "needs_background": "light"
     },
     "output_type": "display_data"
    }
   ],
   "source": [
    "# Consider this one dimensional dataset\n",
    "n = 20\n",
    "d = 1\n",
    "np.random.seed(10)\n",
    "X = np.random.randn(n,d)\n",
    "y = np.sum(X**2,axis=1) < 0.4\n",
    "\n",
    "val = 0. \n",
    "plt.plot(X[y==0], np.zeros_like(X[y==0]) + val, 'o', color='blue', linewidth=10, markersize=12)\n",
    "plt.plot(X[y==1], np.zeros_like(X[y==1]) + val, '^', color='red', linewidth=10, markersize=12)\n",
    "plt.show()"
   ]
  },
  {
   "cell_type": "code",
   "execution_count": 53,
   "metadata": {},
   "outputs": [
    {
     "data": {
      "image/png": "[encoded data removed]",
      "text/plain": [
       "<Figure size 432x288 with 1 Axes>"
      ]
     },
     "metadata": {
      "needs_background": "light"
     },
     "output_type": "display_data"
    }
   ],
   "source": [
    "poly = PolynomialFeatures(2, include_bias=False)\n",
    "X_transformed = poly.fit_transform(X)\n",
    "\n",
    "plt.scatter(*X_transformed.T, c=y)\n",
    "plt.show()"
   ]
  },
  {
   "cell_type": "code",
   "execution_count": 54,
   "metadata": {},
   "outputs": [
    {
     "name": "stdout",
     "output_type": "stream",
     "text": [
      "Training accuracy 1.0\n"
     ]
    },
    {
     "data": {
      "text/html": [
       "<div>\n",
       "<style scoped>\n",
       "    .dataframe tbody tr th:only-of-type {\n",
       "        vertical-align: middle;\n",
       "    }\n",
       "\n",
       "    .dataframe tbody tr th {\n",
       "        vertical-align: top;\n",
       "    }\n",
       "\n",
       "    .dataframe thead th {\n",
       "        text-align: right;\n",
       "    }\n",
       "</style>\n",
       "<table border=\"1\" class=\"dataframe\">\n",
       "  <thead>\n",
       "    <tr style=\"text-align: right;\">\n",
       "      <th></th>\n",
       "      <th>0</th>\n",
       "      <th>1</th>\n",
       "    </tr>\n",
       "  </thead>\n",
       "  <tbody>\n",
       "    <tr>\n",
       "      <th>0</th>\n",
       "      <td>10</td>\n",
       "      <td>0</td>\n",
       "    </tr>\n",
       "    <tr>\n",
       "      <th>1</th>\n",
       "      <td>0</td>\n",
       "      <td>10</td>\n",
       "    </tr>\n",
       "  </tbody>\n",
       "</table>\n",
       "</div>"
      ],
      "text/plain": [
       "    0   1\n",
       "0  10   0\n",
       "1   0  10"
      ]
     },
     "execution_count": 54,
     "metadata": {},
     "output_type": "execute_result"
    },
    {
     "data": {
      "image/png": "[encoded data removed]",
      "text/plain": [
       "<Figure size 432x288 with 1 Axes>"
      ]
     },
     "metadata": {},
     "output_type": "display_data"
    }
   ],
   "source": [
    "svm = SVC(kernel=\"linear\", C=100)\n",
    "svm.fit(X_transformed,y)\n",
    "plot_classifier(X_transformed, y, svm)\n",
    "print(\"Training accuracy\", svm.score(X_transformed,y))\n",
    "pd.DataFrame(confusion_matrix(y, svm.predict(X_transformed)))"
   ]
  },
  {
   "cell_type": "markdown",
   "metadata": {},
   "source": [
    "## 3. Radial Basis Functions (RBF)"
   ]
  },
  {
   "cell_type": "markdown",
   "metadata": {},
   "source": [
    "#### 1). Problems with polynomial basis \n",
    "\n",
    "- <b><font color=Salmon>High order polynomials can become very computationally expensive when there are many features and the order is big.</font></b>\n",
    "- Let $d$ be the original number of features and $p$ be the degree of polynomial. \n",
    "- In general, we have roughly $O(d^p)$ feature combinations. \n",
    "    - For example, for $d = 1000$, and $p = 3$, we would have around a billion new feature combinations! \n",
    "- This is problematic! \n",
    "\n",
    "<center>\n",
    "<img src='img/compare.png' width=\"500\" />    \n",
    "</center>"
   ]
  },
  {
   "cell_type": "markdown",
   "metadata": {},
   "source": [
    "#### 2). How can we do this efficiently? \n",
    "\n",
    "- Kernel trick \n",
    "    - Computationally efficient approach to map features\n",
    "    - Calculate these relationships in higher dimensional space without actually carrying out the transformation.\n",
    "    \n",
    "    - Overall, saying something is a \"kernel method\" correspond to this idea of implicitly calculating relationships in data in higher dimensional space.  \n",
    "    - Then the different transformations have different names like \"polynomial kernel\" or \"RBF kernel\"\n",
    "    - For details see [this video](https://www.youtube.com/watch?v=mba4xweShwI) from CPSC 340. \n",
    "   "
   ]
  },
  {
   "cell_type": "markdown",
   "metadata": {},
   "source": [
    "#### 3). Recall RBF Kernel\n",
    "\n",
    "- Hard to visualize but you can think of this as a weighted nearest-neighbour.\n",
    "- During prediction, the closest examples have a lot of influence on how we classify the new example compared to the ones further away.\n",
    "- In general, for both regression/classification, you can think of RBF kernel as \"smooth KNN\".\n",
    "- During test time, each training example gets to \"vote\" on the label of the test point and the amount of vote the $n^{th}$ training example gets is proportional to the the distance between the test point and itself.  \n"
   ]
  },
  {
   "cell_type": "markdown",
   "metadata": {},
   "source": [
    "#### 4). RBF Definition\n",
    "\n",
    "- Similar to polynomial basis, we transform $X$ to $Z$.\n",
    "- Consider $X_{train}$ with three examples: $x_1$, $x_2$, and $x_3$ and 2 features and $X_{test}$ with two examples: $\\tilde{x_1}$ and $\\tilde{x_2}$\n",
    "\n",
    "$$\\text{Transform } X_{train} = \\begin{bmatrix} 1 & 0\\\\ 2 & 1\\\\ 1 & 2\\end{bmatrix} \\text{ to } Z_{train} = \\begin{bmatrix} g\\lVert x_1 - x_1\\rVert & g\\lVert x_1 - x_2\\rVert & g\\lVert x_1 - x_3\\rVert\\\\g\\lVert x_2 - x_1\\rVert & g\\lVert x_2 - x_2\\rVert & g\\lVert x_2 - x_3\\rVert\\\\g\\lVert x_3 - x_1\\rVert & g\\lVert x_3 - x_2\\rVert & g\\lVert x_3 - x_3\\rVert\\end{bmatrix}$$  \n",
    "\n",
    "$$\\text{Transform } X_{test} = \\begin{bmatrix} 2 & 1\\\\ 1 & 1 \\end{bmatrix} \\text{ to } Z_{test} = \\begin{bmatrix} g\\lVert \\tilde{x_1} - x_1\\rVert & g\\lVert \\tilde{x_1} - x_2\\rVert & g\\lVert \\tilde{x_1} - x_3\\rVert\\\\g\\lVert \\tilde{x_2} - x_1\\rVert & g\\lVert \\tilde{x_2} - x_2\\rVert & g\\lVert \\tilde{x_2} - x_3\\rVert\\\\\\end{bmatrix}$$  \n",
    "\n",
    "- Have $n$ features, with feature $j$ depending on distance to example $i$.\n"
   ]
  },
  {
   "cell_type": "markdown",
   "metadata": {},
   "source": [
    "#### 5). Gaussian Radial Basis Functions (Gaussian RBFs)\n",
    "\n",
    ">  <b><font color=salmon>A kernel is a similarity Function (e.g. Gaussian kernel)</font></b> \n",
    "\n",
    "- Most common $g$ is Gaussian RBF: $$g(\\varepsilon)=\\exp\\left(-\\frac{\\varepsilon^2}{2\\sigma^2}\\right)$$\n",
    "- So in our case: \n",
    "$$g(x_i - x_j)=\\exp\\left(-\\frac{\\lVert x_i - x_j\\rVert^2}{2\\sigma^2}\\right)$$\n",
    "\n",
    "<center>\n",
    "<img src='img/RBF.png' width=\"500\" />    \n",
    "</center>\n",
    "    \n",
    "\n",
    "- <b><font color=salmon>$\\sigma$ is a hyperparameter that controls the width of the bumps. </font></b> \n",
    "- Could then fit least squares with different $\\sigma$ values\n",
    "\n",
    "\n",
    "<br>\n",
    "\n",
    "#### Gaussian RBFs (non-parametric basis)\n",
    "\n",
    "<center>\n",
    "<img src='img/Gaussian_RBF.png' width=\"500\"/>\n",
    "</center>\n",
    "\n",
    "- How many bumps should we use?\n",
    "    - We use $n$ bumps (non-parametric basis)\n",
    "- Where should the bumps be centered?\n",
    "    - <b><font color=Salmon>Each bump is centered on one training example $x_i$. </font></b>\n",
    "- How high should the bumps go?\n",
    "    - Fitting regression weights $w$ gives us the heights (and signs).\n",
    "- How wide should the bumps be?\n",
    "    - The width is a hyper-parameter (<b><font color=LightSeaGreen>smaller $\\sigma$ == larger `gamma`-> narrow bumps -> complicated model</font></b>)\n",
    "- <b><font color=Salmon>Enough bumps can approximate any continuous function to arbitrary precision.</font></b>\n",
    "- <b><font color=Fuchsia>But with $n$ data points RBFs have $n$ features</font></b>\n",
    "    - How do we avoid overfitting with this huge number of features?\n",
    "    - We regularize $w$ (coming up next week) and use validation error to choose $\\sigma$ and $\\lambda$.\n",
    "    <center>\n",
    "    <img src='img/l0.png' width=\"600\"/>\n",
    "    </center>\n",
    "    <center>\n",
    "    <img src='img/l2.png' width=\"600\"/>\n",
    "    </center>"
   ]
  },
  {
   "cell_type": "markdown",
   "metadata": {},
   "source": [
    "#### 6). Interpretation of `gamma` in SVM RBF\n",
    "\n",
    "- `gamma` controls the complexity (fundamental trade-off). \n",
    "  - <b><font color=Salmon>larger `gamma` $\\rightarrow$ more complex</font></b> \n",
    "  - smaller `gamma` $\\rightarrow$ less complex\n",
    "- The `gamma` hyperparameter in SVC is related to $\\sigma$ in Gaussian RBF.  \n",
    "- You can think of `gamma` as the inverse width of the \"bumps\" \n",
    "    - Larger `gamma` means narrower peaks. \n",
    "    - Narrower peaks means more complex model. \n",
    "    \n",
    "    \n",
    "$$g(x_i - x_j)=\\exp\\left(-\\frac{\\lVert x_i - x_j\\rVert^2}{2\\sigma^2}\\right)$$  "
   ]
  },
  {
   "cell_type": "markdown",
   "metadata": {},
   "source": [
    "#### 7). Gaussian RBFs: Prediction \n",
    "\n",
    "- Prediction in gaussian RBFs\n",
    "    \n",
    "   $$\\hat{y_i} = w_1 \\exp\\left(\\frac{-\\lVert x_i - x_1\\rVert^2}{2\\sigma^2}\\right) +  w_2 \\exp\\left(\\frac{-\\lVert x_i - x_2\\rVert^2}{2\\sigma^2}\\right) + \\dots + w_n \\exp\\left(\\frac{-\\lVert x_i - x_n\\rVert^2}{2\\sigma^2}\\right)\n",
    "    = \\sum_{j = 1}^n w_j \\exp\\left(\\frac{-\\lVert x_i - x_j\\rVert^2}{2\\sigma^2}\\right) $$\n",
    "\n",
    "- <b><font color=Salmon>Expensive at test time: needs distance to all training examples. </font></b> "
   ]
  },
  {
   "cell_type": "markdown",
   "metadata": {},
   "source": [
    "#### 8) RBF with regulariation and optimized $\\sigma$ and $\\lambda$\n",
    "\n",
    "- A model that is hard to beat:\n",
    "    - RBF basis with L2-regularization and cross-validation to choose $\\sigma$ and $\\lambda$.\n",
    "    - Flexible non-parametric basis, magic of regularization, and tuning for test error\n",
    "- For each value of $\\lambda$ and $sigma$ \n",
    "    - Compute $Z$ on training data\n",
    "    - Compute best weights $V$ using least squares \n",
    "    - Compute $\\tilde{Z}$ on validation set (using train set distances)\n",
    "    - Make predictions $\\hat{y} = \\tilde{Z}v$\n",
    "    - Compute validation error "
   ]
  },
  {
   "cell_type": "markdown",
   "metadata": {},
   "source": [
    "## 4. Questions\n",
    "\n",
    "### True/False questions: Non-linear regression (Class discussion)\n",
    "\n",
    "1. Suppose we add quadratic features to dataset $X$ and the augmented dataset is $Z$. Fitting linear regression on $Z$ would learn a quadratic function of $X$.\n",
    "\n",
    "> True\n",
    "<br>\n",
    "\n",
    "2. The least squares loss function shown below is independent of the bias term (the $y$ intercept).\n",
    "\n",
    "$$ f(w) = \\frac{1}{2}\\sum_i^{n}{(w^Tx_i - y_i)^2}$$\n",
    "\n",
    "> False, the bias term is incorporated in x where we have a new feature called x0 and the new feature value for all examples is 1\n",
    "<br>\n",
    "\n",
    "3. If you get the same validation error with polynomials of degrees $d$ and $d+4$, it is a better to pick the polynomial of degree $d$.\n",
    "\n",
    "> True: when we increase the degree of polynomials, we will have more features which will cause overfitting problem \n",
    "<br>\n",
    "\n",
    "4. With polynomial regression, like with ordinary linear regression, the predictions are a linear function of the weights. \n",
    "\n",
    "> true"
   ]
  },
  {
   "cell_type": "markdown",
   "metadata": {},
   "source": [
    "## 5. Common features used in text classification\n",
    "\n",
    "#### cons of Bag of words \n",
    "\n",
    "- So far for text data we have been using bag of word features. \n",
    "- They are good enough for many tasks. But ... \n",
    "- This encoding throws out a lot of things we know about language\n",
    "- It assumes that word order is not that important.   \n",
    "- So if you want to improve the scores further on text classification tasks you carry out **feature engineering**. \n",
    "\n",
    "#### Solutions\n",
    "- Bag of word features\n",
    "- N-gram features\n",
    "- Part-of-speech features\n",
    "- Classify music style from audio files\n",
    "\n"
   ]
  },
  {
   "cell_type": "markdown",
   "metadata": {},
   "source": [
    "#### 1). N-grams \n",
    "\n",
    "- A contiguous sequence of _n_ items (characters, tokens) in text.\n",
    "    <blockquote>\n",
    "        MDS students are hard-working .\n",
    "    </blockquote>    \n",
    "\n",
    "- 2-grams (bigrams): a contiguous sequence of two words\n",
    "    * _MDS students, students are, are hard-working, hard-working ._\n",
    "- 3-grams (trigrams): a contiguous sequence of three words\n",
    "    * _MDS students are, students are hard-working, are hard-working ._"
   ]
  },
  {
   "cell_type": "code",
   "execution_count": 55,
   "metadata": {},
   "outputs": [
    {
     "data": {
      "text/html": [
       "<div>\n",
       "<style scoped>\n",
       "    .dataframe tbody tr th:only-of-type {\n",
       "        vertical-align: middle;\n",
       "    }\n",
       "\n",
       "    .dataframe tbody tr th {\n",
       "        vertical-align: top;\n",
       "    }\n",
       "\n",
       "    .dataframe thead th {\n",
       "        text-align: right;\n",
       "    }\n",
       "</style>\n",
       "<table border=\"1\" class=\"dataframe\">\n",
       "  <thead>\n",
       "    <tr style=\"text-align: right;\">\n",
       "      <th></th>\n",
       "      <th>900</th>\n",
       "      <th>900 prize</th>\n",
       "      <th>900 prize reward</th>\n",
       "      <th>always</th>\n",
       "      <th>always so</th>\n",
       "      <th>always so convincing</th>\n",
       "      <th>are</th>\n",
       "      <th>are always</th>\n",
       "      <th>are always so</th>\n",
       "      <th>as</th>\n",
       "      <th>...</th>\n",
       "      <th>urgent call</th>\n",
       "      <th>urgent call right</th>\n",
       "      <th>valued</th>\n",
       "      <th>valued network</th>\n",
       "      <th>valued network customer</th>\n",
       "      <th>you</th>\n",
       "      <th>you are</th>\n",
       "      <th>you are always</th>\n",
       "      <th>you have</th>\n",
       "      <th>you have been</th>\n",
       "    </tr>\n",
       "  </thead>\n",
       "  <tbody>\n",
       "    <tr>\n",
       "      <th>URGENT!! As a valued network customer you have been selected to receive a $900 prize reward!</th>\n",
       "      <td>1</td>\n",
       "      <td>1</td>\n",
       "      <td>1</td>\n",
       "      <td>0</td>\n",
       "      <td>0</td>\n",
       "      <td>0</td>\n",
       "      <td>0</td>\n",
       "      <td>0</td>\n",
       "      <td>0</td>\n",
       "      <td>1</td>\n",
       "      <td>...</td>\n",
       "      <td>0</td>\n",
       "      <td>0</td>\n",
       "      <td>1</td>\n",
       "      <td>1</td>\n",
       "      <td>1</td>\n",
       "      <td>1</td>\n",
       "      <td>0</td>\n",
       "      <td>0</td>\n",
       "      <td>1</td>\n",
       "      <td>1</td>\n",
       "    </tr>\n",
       "    <tr>\n",
       "      <th>Lol you are always so convincing.</th>\n",
       "      <td>0</td>\n",
       "      <td>0</td>\n",
       "      <td>0</td>\n",
       "      <td>1</td>\n",
       "      <td>1</td>\n",
       "      <td>1</td>\n",
       "      <td>1</td>\n",
       "      <td>1</td>\n",
       "      <td>1</td>\n",
       "      <td>0</td>\n",
       "      <td>...</td>\n",
       "      <td>0</td>\n",
       "      <td>0</td>\n",
       "      <td>0</td>\n",
       "      <td>0</td>\n",
       "      <td>0</td>\n",
       "      <td>1</td>\n",
       "      <td>1</td>\n",
       "      <td>1</td>\n",
       "      <td>0</td>\n",
       "      <td>0</td>\n",
       "    </tr>\n",
       "    <tr>\n",
       "      <th>URGENT!! Call right away!!</th>\n",
       "      <td>0</td>\n",
       "      <td>0</td>\n",
       "      <td>0</td>\n",
       "      <td>0</td>\n",
       "      <td>0</td>\n",
       "      <td>0</td>\n",
       "      <td>0</td>\n",
       "      <td>0</td>\n",
       "      <td>0</td>\n",
       "      <td>0</td>\n",
       "      <td>...</td>\n",
       "      <td>1</td>\n",
       "      <td>1</td>\n",
       "      <td>0</td>\n",
       "      <td>0</td>\n",
       "      <td>0</td>\n",
       "      <td>0</td>\n",
       "      <td>0</td>\n",
       "      <td>0</td>\n",
       "      <td>0</td>\n",
       "      <td>0</td>\n",
       "    </tr>\n",
       "  </tbody>\n",
       "</table>\n",
       "<p>3 rows × 61 columns</p>\n",
       "</div>"
      ],
      "text/plain": [
       "                                                                                              900  \\\n",
       "URGENT!! As a valued network customer you have been selected to receive a $900 prize reward!    1   \n",
       "Lol you are always so convincing.                                                               0   \n",
       "URGENT!! Call right away!!                                                                      0   \n",
       "\n",
       "                                                                                              900 prize  \\\n",
       "URGENT!! As a valued network customer you have been selected to receive a $900 prize reward!          1   \n",
       "Lol you are always so convincing.                                                                     0   \n",
       "URGENT!! Call right away!!                                                                            0   \n",
       "\n",
       "                                                                                              900 prize reward  \\\n",
       "URGENT!! As a valued network customer you have been selected to receive a $900 prize reward!                 1   \n",
       "Lol you are always so convincing.                                                                            0   \n",
       "URGENT!! Call right away!!                                                                                   0   \n",
       "\n",
       "                                                                                              always  \\\n",
       "URGENT!! As a valued network customer you have been selected to receive a $900 prize reward!       0   \n",
       "Lol you are always so convincing.                                                                  1   \n",
       "URGENT!! Call right away!!                                                                         0   \n",
       "\n",
       "                                                                                              always so  \\\n",
       "URGENT!! As a valued network customer you have been selected to receive a $900 prize reward!          0   \n",
       "Lol you are always so convincing.                                                                     1   \n",
       "URGENT!! Call right away!!                                                                            0   \n",
       "\n",
       "                                                                                              always so convincing  \\\n",
       "URGENT!! As a valued network customer you have been selected to receive a $900 prize reward!                     0   \n",
       "Lol you are always so convincing.                                                                                1   \n",
       "URGENT!! Call right away!!                                                                                       0   \n",
       "\n",
       "                                                                                              are  \\\n",
       "URGENT!! As a valued network customer you have been selected to receive a $900 prize reward!    0   \n",
       "Lol you are always so convincing.                                                               1   \n",
       "URGENT!! Call right away!!                                                                      0   \n",
       "\n",
       "                                                                                              are always  \\\n",
       "URGENT!! As a valued network customer you have been selected to receive a $900 prize reward!           0   \n",
       "Lol you are always so convincing.                                                                      1   \n",
       "URGENT!! Call right away!!                                                                             0   \n",
       "\n",
       "                                                                                              are always so  \\\n",
       "URGENT!! As a valued network customer you have been selected to receive a $900 prize reward!              0   \n",
       "Lol you are always so convincing.                                                                         1   \n",
       "URGENT!! Call right away!!                                                                                0   \n",
       "\n",
       "                                                                                              as  \\\n",
       "URGENT!! As a valued network customer you have been selected to receive a $900 prize reward!   1   \n",
       "Lol you are always so convincing.                                                              0   \n",
       "URGENT!! Call right away!!                                                                     0   \n",
       "\n",
       "                                                                                              ...  \\\n",
       "URGENT!! As a valued network customer you have been selected to receive a $900 prize reward!  ...   \n",
       "Lol you are always so convincing.                                                             ...   \n",
       "URGENT!! Call right away!!                                                                    ...   \n",
       "\n",
       "                                                                                              urgent call  \\\n",
       "URGENT!! As a valued network customer you have been selected to receive a $900 prize reward!            0   \n",
       "Lol you are always so convincing.                                                                       0   \n",
       "URGENT!! Call right away!!                                                                              1   \n",
       "\n",
       "                                                                                              urgent call right  \\\n",
       "URGENT!! As a valued network customer you have been selected to receive a $900 prize reward!                  0   \n",
       "Lol you are always so convincing.                                                                             0   \n",
       "URGENT!! Call right away!!                                                                                    1   \n",
       "\n",
       "                                                                                              valued  \\\n",
       "URGENT!! As a valued network customer you have been selected to receive a $900 prize reward!       1   \n",
       "Lol you are always so convincing.                                                                  0   \n",
       "URGENT!! Call right away!!                                                                         0   \n",
       "\n",
       "                                                                                              valued network  \\\n",
       "URGENT!! As a valued network customer you have been selected to receive a $900 prize reward!               1   \n",
       "Lol you are always so convincing.                                                                          0   \n",
       "URGENT!! Call right away!!                                                                                 0   \n",
       "\n",
       "                                                                                              valued network customer  \\\n",
       "URGENT!! As a valued network customer you have been selected to receive a $900 prize reward!                        1   \n",
       "Lol you are always so convincing.                                                                                   0   \n",
       "URGENT!! Call right away!!                                                                                          0   \n",
       "\n",
       "                                                                                              you  \\\n",
       "URGENT!! As a valued network customer you have been selected to receive a $900 prize reward!    1   \n",
       "Lol you are always so convincing.                                                               1   \n",
       "URGENT!! Call right away!!                                                                      0   \n",
       "\n",
       "                                                                                              you are  \\\n",
       "URGENT!! As a valued network customer you have been selected to receive a $900 prize reward!        0   \n",
       "Lol you are always so convincing.                                                                   1   \n",
       "URGENT!! Call right away!!                                                                          0   \n",
       "\n",
       "                                                                                              you are always  \\\n",
       "URGENT!! As a valued network customer you have been selected to receive a $900 prize reward!               0   \n",
       "Lol you are always so convincing.                                                                          1   \n",
       "URGENT!! Call right away!!                                                                                 0   \n",
       "\n",
       "                                                                                              you have  \\\n",
       "URGENT!! As a valued network customer you have been selected to receive a $900 prize reward!         1   \n",
       "Lol you are always so convincing.                                                                    0   \n",
       "URGENT!! Call right away!!                                                                           0   \n",
       "\n",
       "                                                                                              you have been  \n",
       "URGENT!! As a valued network customer you have been selected to receive a $900 prize reward!              1  \n",
       "Lol you are always so convincing.                                                                         0  \n",
       "URGENT!! Call right away!!                                                                                0  \n",
       "\n",
       "[3 rows x 61 columns]"
      ]
     },
     "execution_count": 55,
     "metadata": {},
     "output_type": "execute_result"
    }
   ],
   "source": [
    "from sklearn.feature_extraction.text import CountVectorizer\n",
    "X = [\n",
    "    \"URGENT!! As a valued network customer you have been selected to receive a $900 prize reward!\",\n",
    "    \"Lol you are always so convincing.\",\n",
    "    \"URGENT!! Call right away!!\"\n",
    "]\n",
    "vec = CountVectorizer(ngram_range=(1,3))\n",
    "X_counts = vec.fit_transform(X)\n",
    "bow_df = pd.DataFrame(X_counts.toarray(), columns=vec.get_feature_names(), index=X)\n",
    "bow_df"
   ]
  },
  {
   "cell_type": "markdown",
   "metadata": {},
   "source": [
    "#### 2). Part-of-speech (POS) in English\n",
    "\n",
    "- Part-of-speech: A kind of syntactic category that tells you some of the grammatical properties of a word.\n",
    "    * Noun &rarr; water, sun, cat  \n",
    "    * Verb &rarr; run, eat, teach\n",
    "\n",
    "    \n",
    "<blockquote>\n",
    "The ____ was running. \n",
    "</blockquote>    \n",
    "\n",
    "- Only a noun fits here. "
   ]
  },
  {
   "cell_type": "code",
   "execution_count": 56,
   "metadata": {},
   "outputs": [],
   "source": [
    "sample_text = '''Dolly Parton is a gift to us all. \n",
    "From writing all-time great songs like “Jolene” and “I Will Always Love You”, \n",
    "to great performances in films like 9 to 5, to helping fund a COVID-19 vaccine, \n",
    "she’s given us so much. Now, Netflix bring us Dolly Parton’s Christmas on the Square, \n",
    "an original musical that stars Christine Baranski as a Scrooge-like landowner \n",
    "who threatens to evict an entire town on Christmas Eve to make room for a new mall. \n",
    "Directed and choreographed by the legendary Debbie Allen and counting Jennifer Lewis \n",
    "and Parton herself amongst its cast, Christmas on the Square seems like the perfect movie\n",
    "to save Christmas 2020. 😻 👍🏿'''"
   ]
  },
  {
   "cell_type": "code",
   "execution_count": 57,
   "metadata": {},
   "outputs": [],
   "source": [
    "import spacy, en_core_web_md\n",
    "from spacymoji import Emoji\n",
    "\n",
    "\n",
    "nlp = en_core_web_md.load()\n",
    "\n",
    "emoji = Emoji(nlp)\n",
    "nlp.add_pipe(emoji, first=True)"
   ]
  },
  {
   "cell_type": "code",
   "execution_count": 58,
   "metadata": {},
   "outputs": [],
   "source": [
    "doc = nlp(sample_text)"
   ]
  },
  {
   "cell_type": "code",
   "execution_count": 59,
   "metadata": {},
   "outputs": [
    {
     "name": "stdout",
     "output_type": "stream",
     "text": [
      "[(Dolly, 'PROPN'), (Parton, 'PROPN'), (is, 'AUX'), (a, 'DET'), (gift, 'NOUN'), (to, 'ADP'), (us, 'PRON'), (all, 'DET'), (., 'PUNCT'), (\n",
      ", 'SPACE'), (From, 'ADP'), (writing, 'VERB'), (all, 'DET'), (-, 'PUNCT'), (time, 'NOUN'), (great, 'ADJ'), (songs, 'NOUN'), (like, 'SCONJ'), (“, 'PUNCT'), (Jolene, 'PROPN')]\n"
     ]
    }
   ],
   "source": [
    "print([(token, token.pos_) for token in doc][:20])"
   ]
  },
  {
   "cell_type": "code",
   "execution_count": 60,
   "metadata": {},
   "outputs": [
    {
     "name": "stdout",
     "output_type": "stream",
     "text": [
      "Named entities:\n",
      " [('Dolly Parton', 'PERSON'), ('Jolene', 'PERSON'), ('I Will Always Love You', 'WORK_OF_ART'), ('9', 'CARDINAL'), ('5', 'CARDINAL'), ('Netflix', 'ORG'), ('Dolly Parton’s', 'PERSON'), ('Christmas', 'DATE'), ('Christine Baranski', 'PERSON'), ('Christmas Eve', 'DATE'), ('Debbie Allen', 'PERSON'), ('Jennifer Lewis \\n', 'PERSON'), ('Parton', 'PERSON'), ('Christmas', 'DATE'), ('Christmas 2020', 'DATE')]\n"
     ]
    }
   ],
   "source": [
    "print(\"Named entities:\\n\", [(ent.text, ent.label_) for ent in doc.ents])"
   ]
  },
  {
   "cell_type": "code",
   "execution_count": 61,
   "metadata": {},
   "outputs": [
    {
     "data": {
      "text/plain": [
       "[('😻', 138, 'smiling cat face with heart-eyes'),\n",
       " ('👍🏿', 139, 'thumbs up dark skin tone')]"
      ]
     },
     "execution_count": 61,
     "metadata": {},
     "output_type": "execute_result"
    }
   ],
   "source": [
    "doc._.emoji"
   ]
  },
  {
   "cell_type": "markdown",
   "metadata": {},
   "source": [
    "# Lecture 4: Feature importances and feature selection"
   ]
  },
  {
   "cell_type": "markdown",
   "metadata": {},
   "source": [
    "> housing data"
   ]
  },
  {
   "cell_type": "markdown",
   "metadata": {},
   "source": [
    "## 1. Feature correlations\n",
    "\n",
    "- We can immediately see that `SalePrice` is highly correlated with `OverallQual`.\n",
    "- This is an early hint that `OverallQual` is a useful feature in predicting `SalePrice`.\n",
    "- However, this approach is **extremely simplistic**.\n",
    "  - It only looks at each feature in isolation.\n",
    "  - It only looks at linear associations:\n",
    "    - What if `SalePrice` is high when `BsmtFullBath` is 2 or 3, but low when it's 0, 1, or 4? They might seem uncorrelated."
   ]
  },
  {
   "cell_type": "code",
   "execution_count": 66,
   "metadata": {},
   "outputs": [
    {
     "data": {
      "image/png": "[encoded data removed]",
      "text/plain": [
       "<Figure size 1080x1080 with 2 Axes>"
      ]
     },
     "metadata": {},
     "output_type": "display_data"
    }
   ],
   "source": [
    "cor = pd.concat((y_train, X_train_enc),axis=1).iloc[:,:15].corr();\n",
    "plt.figure(figsize=(15,15))\n",
    "sns.set(font_scale=1)\n",
    "sns.heatmap(cor, annot=True, cmap=plt.cm.Blues);"
   ]
  },
  {
   "cell_type": "markdown",
   "metadata": {},
   "source": [
    "- Looking at this diagram also tells us the relationship between features. \n",
    "  - For example, `1stFlrSF` and `TotalBsmtSF` are highly correlated. \n",
    "  - Do we need both of them?\n",
    "  - If our model says `1stFlrSF` is very important and `TotalBsmtSF` is very unimportant, do we trust those values?\n",
    "  - Maybe `TotalBsmtSF` only \"becomes important\" if `1stFlrSF` is removed.\n",
    "  - Sometimes the opposite happens: a feature only becomes important if another feature is _added_."
   ]
  },
  {
   "cell_type": "code",
   "execution_count": 67,
   "metadata": {},
   "outputs": [
    {
     "data": {
      "image/png": "[encoded data removed]",
      "text/plain": [
       "<Figure size 360x360 with 2 Axes>"
      ]
     },
     "metadata": {},
     "output_type": "display_data"
    }
   ],
   "source": [
    "cor = pd.concat((y_train, X_train_enc),axis=1).iloc[:,10:15].corr();\n",
    "plt.figure(figsize=(5,5))\n",
    "sns.set(font_scale=1)\n",
    "sns.heatmap(cor, annot=True, cmap=plt.cm.Blues);"
   ]
  },
  {
   "cell_type": "markdown",
   "metadata": {},
   "source": [
    "## 2. Feature importances in linear models"
   ]
  },
  {
   "cell_type": "code",
   "execution_count": 68,
   "metadata": {},
   "outputs": [],
   "source": [
    "lr = make_pipeline(preprocessor, Ridge())\n",
    "lr.fit(X_train, y_train);"
   ]
  },
  {
   "cell_type": "markdown",
   "metadata": {},
   "source": [
    "#### 1). look at coefficients"
   ]
  },
  {
   "cell_type": "code",
   "execution_count": 69,
   "metadata": {},
   "outputs": [
    {
     "data": {
      "text/html": [
       "<div>\n",
       "<style scoped>\n",
       "    .dataframe tbody tr th:only-of-type {\n",
       "        vertical-align: middle;\n",
       "    }\n",
       "\n",
       "    .dataframe tbody tr th {\n",
       "        vertical-align: top;\n",
       "    }\n",
       "\n",
       "    .dataframe thead th {\n",
       "        text-align: right;\n",
       "    }\n",
       "</style>\n",
       "<table border=\"1\" class=\"dataframe\">\n",
       "  <thead>\n",
       "    <tr style=\"text-align: right;\">\n",
       "      <th></th>\n",
       "      <th>Coefficient</th>\n",
       "    </tr>\n",
       "  </thead>\n",
       "  <tbody>\n",
       "    <tr>\n",
       "      <th>LotFrontage</th>\n",
       "      <td>-1703.733855</td>\n",
       "    </tr>\n",
       "    <tr>\n",
       "      <th>LotArea</th>\n",
       "      <td>5134.590415</td>\n",
       "    </tr>\n",
       "    <tr>\n",
       "      <th>OverallQual</th>\n",
       "      <td>12183.566217</td>\n",
       "    </tr>\n",
       "    <tr>\n",
       "      <th>OverallCond</th>\n",
       "      <td>4906.516335</td>\n",
       "    </tr>\n",
       "    <tr>\n",
       "      <th>YearBuilt</th>\n",
       "      <td>4152.798645</td>\n",
       "    </tr>\n",
       "    <tr>\n",
       "      <th>YearRemodAdd</th>\n",
       "      <td>323.657892</td>\n",
       "    </tr>\n",
       "    <tr>\n",
       "      <th>MasVnrArea</th>\n",
       "      <td>5238.284880</td>\n",
       "    </tr>\n",
       "    <tr>\n",
       "      <th>BsmtFinSF1</th>\n",
       "      <td>3391.272709</td>\n",
       "    </tr>\n",
       "    <tr>\n",
       "      <th>BsmtFinSF2</th>\n",
       "      <td>537.817816</td>\n",
       "    </tr>\n",
       "    <tr>\n",
       "      <th>BsmtUnfSF</th>\n",
       "      <td>-1420.214114</td>\n",
       "    </tr>\n",
       "    <tr>\n",
       "      <th>TotalBsmtSF</th>\n",
       "      <td>2294.655062</td>\n",
       "    </tr>\n",
       "    <tr>\n",
       "      <th>1stFlrSF</th>\n",
       "      <td>6887.014169</td>\n",
       "    </tr>\n",
       "    <tr>\n",
       "      <th>2ndFlrSF</th>\n",
       "      <td>12543.016602</td>\n",
       "    </tr>\n",
       "    <tr>\n",
       "      <th>LowQualFinSF</th>\n",
       "      <td>-990.470225</td>\n",
       "    </tr>\n",
       "    <tr>\n",
       "      <th>GrLivArea</th>\n",
       "      <td>15337.798830</td>\n",
       "    </tr>\n",
       "    <tr>\n",
       "      <th>BsmtFullBath</th>\n",
       "      <td>2266.313883</td>\n",
       "    </tr>\n",
       "    <tr>\n",
       "      <th>BsmtHalfBath</th>\n",
       "      <td>514.240010</td>\n",
       "    </tr>\n",
       "    <tr>\n",
       "      <th>FullBath</th>\n",
       "      <td>3005.465143</td>\n",
       "    </tr>\n",
       "    <tr>\n",
       "      <th>HalfBath</th>\n",
       "      <td>1817.117544</td>\n",
       "    </tr>\n",
       "    <tr>\n",
       "      <th>TotRmsAbvGrd</th>\n",
       "      <td>4624.222521</td>\n",
       "    </tr>\n",
       "  </tbody>\n",
       "</table>\n",
       "</div>"
      ],
      "text/plain": [
       "               Coefficient\n",
       "LotFrontage   -1703.733855\n",
       "LotArea        5134.590415\n",
       "OverallQual   12183.566217\n",
       "OverallCond    4906.516335\n",
       "YearBuilt      4152.798645\n",
       "YearRemodAdd    323.657892\n",
       "MasVnrArea     5238.284880\n",
       "BsmtFinSF1     3391.272709\n",
       "BsmtFinSF2      537.817816\n",
       "BsmtUnfSF     -1420.214114\n",
       "TotalBsmtSF    2294.655062\n",
       "1stFlrSF       6887.014169\n",
       "2ndFlrSF      12543.016602\n",
       "LowQualFinSF   -990.470225\n",
       "GrLivArea     15337.798830\n",
       "BsmtFullBath   2266.313883\n",
       "BsmtHalfBath    514.240010\n",
       "FullBath       3005.465143\n",
       "HalfBath       1817.117544\n",
       "TotRmsAbvGrd   4624.222521"
      ]
     },
     "execution_count": 69,
     "metadata": {},
     "output_type": "execute_result"
    }
   ],
   "source": [
    "lr_coefs = pd.DataFrame(data=lr[1].coef_, index=new_columns, columns=[\"Coefficient\"])\n",
    "lr_coefs.head(20)"
   ]
  },
  {
   "cell_type": "markdown",
   "metadata": {},
   "source": [
    "#### 2). Ordinal features\n",
    "> \"Increasing by one category of exterior quality (e.g. good -> excellent) increases the predicted price by $3845\"."
   ]
  },
  {
   "cell_type": "code",
   "execution_count": 71,
   "metadata": {},
   "outputs": [
    {
     "name": "stdout",
     "output_type": "stream",
     "text": [
      "['ExterQual', 'ExterCond', 'BsmtQual', 'BsmtCond', 'HeatingQC', 'KitchenQual', 'FireplaceQu', 'GarageQual', 'GarageCond', 'PoolQC']\n"
     ]
    }
   ],
   "source": [
    "print(ordinal_features_reg)"
   ]
  },
  {
   "cell_type": "code",
   "execution_count": 72,
   "metadata": {},
   "outputs": [
    {
     "data": {
      "text/plain": [
       "3845.2197737364418"
      ]
     },
     "execution_count": 72,
     "metadata": {},
     "output_type": "execute_result"
    }
   ],
   "source": [
    "lr_coefs.loc[\"ExterQual\", 'Coefficient']"
   ]
  },
  {
   "cell_type": "code",
   "execution_count": 73,
   "metadata": {},
   "outputs": [
    {
     "name": "stdout",
     "output_type": "stream",
     "text": [
      "Prediction on the original example:  [221549.8053651]\n",
      "Prediction on the perturbed example:  [225395.02513883]\n",
      "After changing ExterQual from Gd to Ex increased the prediction by:  [3845.21977374]\n"
     ]
    }
   ],
   "source": [
    "one_example = X_test[:1]  # one_example['ExterQual'] == Gd\n",
    "one_example_perturbed = one_example.copy()\n",
    "one_example_perturbed[\"ExterQual\"] = 'Ex' # Change Gd to Ex\n",
    "\n",
    "\n",
    "print('Prediction on the original example: ', lr.predict(one_example))\n",
    "print('Prediction on the perturbed example: ', lr.predict(one_example_perturbed))\n",
    "print(\"After changing ExterQual from Gd to Ex increased the prediction by: \", lr.predict(one_example_perturbed) - lr.predict(one_example))"
   ]
  },
  {
   "cell_type": "markdown",
   "metadata": {},
   "source": [
    "#### 3). Categorical features\n",
    ">  talk about coef by switching from one of these categories to another by picking a \"reference\" category:\n",
    "\n",
    "- If you change the category from `LandSlope_Gtl` to `LandSlope_Mod` the prediction price goes up by $\\sim\\$7013$\n",
    "- If you change the category from `LandSlope_Gtl` to `LandSlope_Sev` the prediction price goes down by $\\sim\\$8016$"
   ]
  },
  {
   "cell_type": "code",
   "execution_count": 75,
   "metadata": {},
   "outputs": [
    {
     "data": {
      "text/html": [
       "<div>\n",
       "<style scoped>\n",
       "    .dataframe tbody tr th:only-of-type {\n",
       "        vertical-align: middle;\n",
       "    }\n",
       "\n",
       "    .dataframe tbody tr th {\n",
       "        vertical-align: top;\n",
       "    }\n",
       "\n",
       "    .dataframe thead th {\n",
       "        text-align: right;\n",
       "    }\n",
       "</style>\n",
       "<table border=\"1\" class=\"dataframe\">\n",
       "  <thead>\n",
       "    <tr style=\"text-align: right;\">\n",
       "      <th></th>\n",
       "      <th>Coefficient</th>\n",
       "    </tr>\n",
       "  </thead>\n",
       "  <tbody>\n",
       "    <tr>\n",
       "      <th>LandSlope_Gtl</th>\n",
       "      <td>0.000000</td>\n",
       "    </tr>\n",
       "    <tr>\n",
       "      <th>LandSlope_Mod</th>\n",
       "      <td>7013.774643</td>\n",
       "    </tr>\n",
       "    <tr>\n",
       "      <th>LandSlope_Sev</th>\n",
       "      <td>-8016.922487</td>\n",
       "    </tr>\n",
       "  </tbody>\n",
       "</table>\n",
       "</div>"
      ],
      "text/plain": [
       "               Coefficient\n",
       "LandSlope_Gtl     0.000000\n",
       "LandSlope_Mod  7013.774643\n",
       "LandSlope_Sev -8016.922487"
      ]
     },
     "execution_count": 75,
     "metadata": {},
     "output_type": "execute_result"
    }
   ],
   "source": [
    "lr_coefs_landslope = lr_coefs[lr_coefs.index.str.startswith(\"LandSlope\")]\n",
    "lr_coefs_landslope - lr_coefs_landslope.loc[\"LandSlope_Gtl\"]"
   ]
  },
  {
   "cell_type": "markdown",
   "metadata": {},
   "source": [
    "#### 4). numeric features\n",
    ">  <b><font color=Salmon>CAUTION</font></b>\n",
    "> - relative importance is meaningful after scaling.\n",
    "> - You have to be careful about the scale of the feature when interpreting the coefficients\n",
    "\n",
    "\n",
    "<b><font color=Salmon>Wrong Intuition/Interpretation</font></b>\n",
    "- **Increasing** `PoolArea` by 1 scaled unit **increases** the predicted price by $\\sim\\$3372$.\n",
    "- **Increasing** `LotFrontage` by 1 scaled unit **decreases** the predicted price by $\\sim\\$1703$.\n",
    "\n",
    "\n",
    "**Does that sound reasonable?**\n",
    "\n",
    "- For `PoolArea`, yes. \n",
    "- For `LotFrontage`, that's surprising. Something positive would have made more sense?\n",
    "- Do we believe these interpretations??\n",
    "  - Do we believe this is how the predictions are being computed? Yes.\n",
    "  - Do we believe that this is how the world works? No. \n",
    "  \n",
    "  \n",
    "> It's not the case here but maybe the problem is that `LotFrontage` and `LotArea` are very **correlated**. `LotArea` has a larger positive coefficient. "
   ]
  },
  {
   "cell_type": "code",
   "execution_count": 77,
   "metadata": {},
   "outputs": [
    {
     "data": {
      "text/html": [
       "<div>\n",
       "<style scoped>\n",
       "    .dataframe tbody tr th:only-of-type {\n",
       "        vertical-align: middle;\n",
       "    }\n",
       "\n",
       "    .dataframe tbody tr th {\n",
       "        vertical-align: top;\n",
       "    }\n",
       "\n",
       "    .dataframe thead th {\n",
       "        text-align: right;\n",
       "    }\n",
       "</style>\n",
       "<table border=\"1\" class=\"dataframe\">\n",
       "  <thead>\n",
       "    <tr style=\"text-align: right;\">\n",
       "      <th></th>\n",
       "      <th>Coefficient</th>\n",
       "    </tr>\n",
       "  </thead>\n",
       "  <tbody>\n",
       "    <tr>\n",
       "      <th>PoolArea</th>\n",
       "      <td>3372.221901</td>\n",
       "    </tr>\n",
       "    <tr>\n",
       "      <th>LotFrontage</th>\n",
       "      <td>-1703.733855</td>\n",
       "    </tr>\n",
       "  </tbody>\n",
       "</table>\n",
       "</div>"
      ],
      "text/plain": [
       "             Coefficient\n",
       "PoolArea     3372.221901\n",
       "LotFrontage -1703.733855"
      ]
     },
     "execution_count": 77,
     "metadata": {},
     "output_type": "execute_result"
    }
   ],
   "source": [
    "lr_coefs.loc[[\"PoolArea\", \"LotFrontage\"]]"
   ]
  },
  {
   "cell_type": "code",
   "execution_count": 79,
   "metadata": {},
   "outputs": [
    {
     "data": {
      "image/png": "[encoded data removed]",
      "text/plain": [
       "<Figure size 432x288 with 2 Axes>"
      ]
     },
     "metadata": {},
     "output_type": "display_data"
    }
   ],
   "source": [
    "cor = X_train_enc[numeric_features[:5]].corr()\n",
    "sns.heatmap(cor, annot=True, cmap=plt.cm.Blues);"
   ]
  },
  {
   "cell_type": "markdown",
   "metadata": {},
   "source": [
    "> In the following experiment \n",
    "\n",
    "Why did the prediction only go up by \\\\$0.57 instead of \\\\$5134? \n",
    "- This is an issue of units. `LotArea` is in sqft, but the coefficient is not $\\$5134/\\text{sqft}$ **because we scaled the features**. "
   ]
  },
  {
   "cell_type": "code",
   "execution_count": 83,
   "metadata": {},
   "outputs": [
    {
     "name": "stdout",
     "output_type": "stream",
     "text": [
      "the difference between prediction: [0.57086074]\n",
      "the coefficient of the feature LotArea    5134.590415\n",
      "Name: Coefficient, dtype: float64\n"
     ]
    }
   ],
   "source": [
    "one_example = X_test[:1]\n",
    "one_example_perturbed = one_example.copy()\n",
    "one_example_perturbed[\"LotArea\"] += 1 # add 1 to the LotArea\n",
    "\n",
    "diff = lr.predict(one_example_perturbed) - lr.predict(one_example)\n",
    "LotArea_coef = lr_coefs.loc[[\"LotArea\"]]['Coefficient']\n",
    "\n",
    "\n",
    "print(f\"the difference between prediction: {diff}\")\n",
    "\n",
    "print(f\"the coefficient of the feature {LotArea_coef}\")"
   ]
  },
  {
   "cell_type": "markdown",
   "metadata": {},
   "source": [
    "#### 5). coefficients of scaled features\n",
    "\n",
    ">  <b><font color=Salmon>We need scaled features because relative feature importances are only meaningful after scaling.</font></b>"
   ]
  },
  {
   "cell_type": "code",
   "execution_count": 87,
   "metadata": {},
   "outputs": [
    {
     "data": {
      "text/plain": [
       "array([2.09591390e+01, 8.99447103e+03, 1.39208177e+00, 1.11242416e+00,\n",
       "       3.01866337e+01, 2.06318985e+01, 1.77914527e+02, 4.59101890e+02,\n",
       "       1.63890010e+02, 4.42869860e+02, 4.42817167e+02, 3.92172897e+02,\n",
       "       4.35820743e+02, 4.69800920e+01, 5.29468070e+02, 5.18276015e-01,\n",
       "       2.33809970e-01, 5.49298599e-01, 5.02279069e-01, 1.62604030e+00,\n",
       "       6.34398801e-01, 2.40531598e+01, 7.40269201e-01, 2.10560601e+02,\n",
       "       1.25388753e+02, 6.57325181e+01, 6.07432962e+01, 3.03088902e+01,\n",
       "       5.38336322e+01, 4.23249944e+01, 5.22084645e+02, 1.33231649e+00])"
      ]
     },
     "execution_count": 87,
     "metadata": {},
     "output_type": "execute_result"
    }
   ],
   "source": [
    "scaler = preprocessor.named_transformers_['pipeline-1']['standardscaler']\n",
    "\n",
    "np.sqrt(scaler.var_)"
   ]
  },
  {
   "cell_type": "markdown",
   "metadata": {},
   "source": [
    "> to explain the situation in 4). \n",
    "\n",
    "- It seems like `LotArea` was divided by 8994.471032 sqft. \n",
    "- The coefficient tells us that if we increase the `LotArea` by **one unit** the price would go up by $5134.\n",
    "- **One (scaled) unit** represents 8994 sq feet\n",
    "- So if I increase original `LotArea` by one square foot then the predicted price would go up by this amount:\n",
    "\n",
    "```python\n",
    "5134.590415/8994.471032 \n",
    "```"
   ]
  },
  {
   "cell_type": "code",
   "execution_count": 95,
   "metadata": {},
   "outputs": [
    {
     "data": {
      "text/html": [
       "<div>\n",
       "<style scoped>\n",
       "    .dataframe tbody tr th:only-of-type {\n",
       "        vertical-align: middle;\n",
       "    }\n",
       "\n",
       "    .dataframe tbody tr th {\n",
       "        vertical-align: top;\n",
       "    }\n",
       "\n",
       "    .dataframe thead th {\n",
       "        text-align: right;\n",
       "    }\n",
       "</style>\n",
       "<table border=\"1\" class=\"dataframe\">\n",
       "  <thead>\n",
       "    <tr style=\"text-align: right;\">\n",
       "      <th></th>\n",
       "      <th>Coefficient</th>\n",
       "    </tr>\n",
       "  </thead>\n",
       "  <tbody>\n",
       "    <tr>\n",
       "      <th>LotArea</th>\n",
       "      <td>5134.590415</td>\n",
       "    </tr>\n",
       "  </tbody>\n",
       "</table>\n",
       "</div>"
      ],
      "text/plain": [
       "         Coefficient\n",
       "LotArea  5134.590415"
      ]
     },
     "execution_count": 95,
     "metadata": {},
     "output_type": "execute_result"
    }
   ],
   "source": [
    "lr_coefs.loc[[\"LotArea\"]]"
   ]
  },
  {
   "cell_type": "code",
   "execution_count": 96,
   "metadata": {},
   "outputs": [
    {
     "data": {
      "text/html": [
       "<div>\n",
       "<style scoped>\n",
       "    .dataframe tbody tr th:only-of-type {\n",
       "        vertical-align: middle;\n",
       "    }\n",
       "\n",
       "    .dataframe tbody tr th {\n",
       "        vertical-align: top;\n",
       "    }\n",
       "\n",
       "    .dataframe thead th {\n",
       "        text-align: right;\n",
       "    }\n",
       "</style>\n",
       "<table border=\"1\" class=\"dataframe\">\n",
       "  <thead>\n",
       "    <tr style=\"text-align: right;\">\n",
       "      <th></th>\n",
       "      <th>Scale</th>\n",
       "    </tr>\n",
       "  </thead>\n",
       "  <tbody>\n",
       "    <tr>\n",
       "      <th>LotFrontage</th>\n",
       "      <td>20.959139</td>\n",
       "    </tr>\n",
       "    <tr>\n",
       "      <th>LotArea</th>\n",
       "      <td>8994.471032</td>\n",
       "    </tr>\n",
       "    <tr>\n",
       "      <th>OverallQual</th>\n",
       "      <td>1.392082</td>\n",
       "    </tr>\n",
       "    <tr>\n",
       "      <th>OverallCond</th>\n",
       "      <td>1.112424</td>\n",
       "    </tr>\n",
       "    <tr>\n",
       "      <th>YearBuilt</th>\n",
       "      <td>30.186634</td>\n",
       "    </tr>\n",
       "  </tbody>\n",
       "</table>\n",
       "</div>"
      ],
      "text/plain": [
       "                   Scale\n",
       "LotFrontage    20.959139\n",
       "LotArea      8994.471032\n",
       "OverallQual     1.392082\n",
       "OverallCond     1.112424\n",
       "YearBuilt      30.186634"
      ]
     },
     "execution_count": 96,
     "metadata": {},
     "output_type": "execute_result"
    }
   ],
   "source": [
    "# use scaler.var_\n",
    "lr_scales = pd.DataFrame(data=np.sqrt(scaler.var_), index=numeric_features, columns=[\"Scale\"])\n",
    "\n",
    "# use inverse_transform\n",
    "delta = scaler.inverse_transform(np.ones(len(numeric_features))) - scaler.inverse_transform(np.zeros(len(numeric_features)))\n",
    "lr_scales = pd.DataFrame(data=delta, index=numeric_features, columns=[\"Scale\"])\n",
    "lr_scales.head()"
   ]
  },
  {
   "cell_type": "markdown",
   "metadata": {},
   "source": [
    "## 3. Feature selection\n",
    "\n",
    "> Find the features\t(columns) $X$ that are important for predicting\t$y$, and remove the features that aren't. "
   ]
  },
  {
   "cell_type": "markdown",
   "metadata": {},
   "source": [
    "#### 1). RFE (Recursive feature elimination)\n",
    "\n",
    "<li><b><font color=salmon>Basic idea</font></b></li>\n",
    "\n",
    "1. Decide $k$, the number of features to select. \n",
    "2. Assign importances to features, e.g. by fitting a model and looking at `coef_` or `feature_importances_`.\n",
    "3. Remove the least important feature.\n",
    "4. Repeat steps 2-3 until only $k$ features are remaining.\n",
    "\n",
    "Note that this is **not** the same as just removing all the less important features in one shot!\n",
    "\n",
    "\n",
    "<li><b><font color=salmon>RFE VS backward selection</font></b></li>\n",
    "\n",
    "RFE is based on the coefficients (removing features with lowest coefficients) whereas backward selection is based on scores (e.g., cross-validation scores after removing the feature). So RFE makes its decision based on feature importances (i.e., coefficients given by the model) whereas backward/forward selection don't really look at individual coefficients associated with features.\n"
   ]
  },
  {
   "cell_type": "markdown",
   "metadata": {},
   "source": [
    "> `RidgeCV`"
   ]
  },
  {
   "cell_type": "code",
   "execution_count": 97,
   "metadata": {},
   "outputs": [],
   "source": [
    "results = {}\n",
    "\n",
    "lr = RidgeCV()\n",
    "results['RidgeCV'] = pd.DataFrame(cross_validate(lr, X_train_enc, y_train, return_train_score=True)).mean()"
   ]
  },
  {
   "cell_type": "code",
   "execution_count": 99,
   "metadata": {},
   "outputs": [
    {
     "data": {
      "text/html": [
       "<div>\n",
       "<style scoped>\n",
       "    .dataframe tbody tr th:only-of-type {\n",
       "        vertical-align: middle;\n",
       "    }\n",
       "\n",
       "    .dataframe tbody tr th {\n",
       "        vertical-align: top;\n",
       "    }\n",
       "\n",
       "    .dataframe thead th {\n",
       "        text-align: right;\n",
       "    }\n",
       "</style>\n",
       "<table border=\"1\" class=\"dataframe\">\n",
       "  <thead>\n",
       "    <tr style=\"text-align: right;\">\n",
       "      <th></th>\n",
       "      <th>Coefficients</th>\n",
       "    </tr>\n",
       "  </thead>\n",
       "  <tbody>\n",
       "    <tr>\n",
       "      <th>RoofMatl_ClyTile</th>\n",
       "      <td>30242.974586</td>\n",
       "    </tr>\n",
       "    <tr>\n",
       "      <th>Neighborhood_NridgHt</th>\n",
       "      <td>29068.060282</td>\n",
       "    </tr>\n",
       "    <tr>\n",
       "      <th>Neighborhood_StoneBr</th>\n",
       "      <td>27000.965529</td>\n",
       "    </tr>\n",
       "    <tr>\n",
       "      <th>Neighborhood_NoRidge</th>\n",
       "      <td>24124.358008</td>\n",
       "    </tr>\n",
       "    <tr>\n",
       "      <th>Condition2_PosN</th>\n",
       "      <td>23269.883375</td>\n",
       "    </tr>\n",
       "    <tr>\n",
       "      <th>RoofMatl_WdShngl</th>\n",
       "      <td>22399.388672</td>\n",
       "    </tr>\n",
       "    <tr>\n",
       "      <th>PoolQC</th>\n",
       "      <td>17341.291291</td>\n",
       "    </tr>\n",
       "    <tr>\n",
       "      <th>BsmtExposure_Gd</th>\n",
       "      <td>15085.755613</td>\n",
       "    </tr>\n",
       "    <tr>\n",
       "      <th>Neighborhood_Edwards</th>\n",
       "      <td>14687.419416</td>\n",
       "    </tr>\n",
       "    <tr>\n",
       "      <th>OverallQual</th>\n",
       "      <td>14502.137418</td>\n",
       "    </tr>\n",
       "  </tbody>\n",
       "</table>\n",
       "</div>"
      ],
      "text/plain": [
       "                      Coefficients\n",
       "RoofMatl_ClyTile      30242.974586\n",
       "Neighborhood_NridgHt  29068.060282\n",
       "Neighborhood_StoneBr  27000.965529\n",
       "Neighborhood_NoRidge  24124.358008\n",
       "Condition2_PosN       23269.883375\n",
       "RoofMatl_WdShngl      22399.388672\n",
       "PoolQC                17341.291291\n",
       "BsmtExposure_Gd       15085.755613\n",
       "Neighborhood_Edwards  14687.419416\n",
       "OverallQual           14502.137418"
      ]
     },
     "execution_count": 99,
     "metadata": {},
     "output_type": "execute_result"
    }
   ],
   "source": [
    "lr.fit(X_train_enc, y_train)\n",
    "coef_df = pd.DataFrame(data=np.abs(lr.coef_), index=X_train_enc.columns, columns=[\"Coefficients\"]).sort_values(by=\"Coefficients\", ascending=False)\n",
    "coef_df.head(10)"
   ]
  },
  {
   "cell_type": "markdown",
   "metadata": {},
   "source": [
    "> `RFE` will select the top 30 features, one at a time, based on the absolute value of `model.coef_`:\n",
    "\n",
    "\n",
    "- **We are violating the Golden Rule a bit here.**    \n",
    "- Because the transformed data in the training fold would have used information from the validation fold (e.g., in case of scaling).\n",
    "- The point is that we have already transformed data which we are passing to cross validation. So the training split in each fold would have used information from the examples in the validation split when we applied transformation (e.g., scaling transformation)."
   ]
  },
  {
   "cell_type": "code",
   "execution_count": 100,
   "metadata": {},
   "outputs": [
    {
     "data": {
      "text/html": [
       "<div>\n",
       "<style scoped>\n",
       "    .dataframe tbody tr th:only-of-type {\n",
       "        vertical-align: middle;\n",
       "    }\n",
       "\n",
       "    .dataframe tbody tr th {\n",
       "        vertical-align: top;\n",
       "    }\n",
       "\n",
       "    .dataframe thead th {\n",
       "        text-align: right;\n",
       "    }\n",
       "</style>\n",
       "<table border=\"1\" class=\"dataframe\">\n",
       "  <thead>\n",
       "    <tr style=\"text-align: right;\">\n",
       "      <th></th>\n",
       "      <th>RidgeCV</th>\n",
       "      <th>RFE with 30 feats</th>\n",
       "    </tr>\n",
       "  </thead>\n",
       "  <tbody>\n",
       "    <tr>\n",
       "      <th>fit_time</th>\n",
       "      <td>0.035105</td>\n",
       "      <td>0.725741</td>\n",
       "    </tr>\n",
       "    <tr>\n",
       "      <th>score_time</th>\n",
       "      <td>0.004435</td>\n",
       "      <td>0.003858</td>\n",
       "    </tr>\n",
       "    <tr>\n",
       "      <th>test_score</th>\n",
       "      <td>0.791239</td>\n",
       "      <td>0.760755</td>\n",
       "    </tr>\n",
       "    <tr>\n",
       "      <th>train_score</th>\n",
       "      <td>0.897700</td>\n",
       "      <td>0.857623</td>\n",
       "    </tr>\n",
       "  </tbody>\n",
       "</table>\n",
       "</div>"
      ],
      "text/plain": [
       "              RidgeCV  RFE with 30 feats\n",
       "fit_time     0.035105           0.725741\n",
       "score_time   0.004435           0.003858\n",
       "test_score   0.791239           0.760755\n",
       "train_score  0.897700           0.857623"
      ]
     },
     "execution_count": 100,
     "metadata": {},
     "output_type": "execute_result"
    }
   ],
   "source": [
    "from sklearn.feature_selection import RFE, RFECV\n",
    "\n",
    "rfe = RFE(Ridge(), n_features_to_select=30)\n",
    "\n",
    "results['RFE with 30 feats'] = pd.DataFrame(cross_validate(rfe, X_train_enc, y_train, return_train_score=True)).mean()\n",
    "pd.DataFrame(results)"
   ]
  },
  {
   "cell_type": "markdown",
   "metadata": {},
   "source": [
    "##### RFE selected features"
   ]
  },
  {
   "cell_type": "code",
   "execution_count": 104,
   "metadata": {},
   "outputs": [
    {
     "data": {
      "text/plain": [
       "30"
      ]
     },
     "execution_count": 104,
     "metadata": {},
     "output_type": "execute_result"
    }
   ],
   "source": [
    "rfe.n_features_"
   ]
  },
  {
   "cell_type": "code",
   "execution_count": 102,
   "metadata": {},
   "outputs": [
    {
     "data": {
      "text/plain": [
       "Index(['OverallQual', '1stFlrSF', '2ndFlrSF', 'BsmtQual', 'MSZoning_C (all)',\n",
       "       'RoofMatl_ClyTile', 'RoofMatl_CompShg', 'RoofMatl_Roll',\n",
       "       'RoofMatl_WdShngl', 'BedroomAbvGr_0', 'BedroomAbvGr_1',\n",
       "       'BedroomAbvGr_5', 'Exterior1st_AsphShn', 'Exterior1st_ImStucc',\n",
       "       'MSSubClass_120', 'MSSubClass_160', 'MSSubClass_180',\n",
       "       'Neighborhood_NoRidge', 'Neighborhood_NridgHt', 'Neighborhood_StoneBr',\n",
       "       'SaleType_Con', 'SaleType_New', 'Condition2_PosN', 'KitchenAbvGr_1',\n",
       "       'KitchenAbvGr_3', 'SaleCondition_Family', 'BsmtExposure_Gd',\n",
       "       'Heating_OthW', 'Exterior2nd_ImStucc', 'RoofStyle_Flat'],\n",
       "      dtype='object')"
      ]
     },
     "execution_count": 102,
     "metadata": {},
     "output_type": "execute_result"
    }
   ],
   "source": [
    "rfe.fit(X_train_enc, y_train)\n",
    "selected_columns = X_train_enc.columns[rfe.support_]\n",
    "selected_columns"
   ]
  },
  {
   "cell_type": "markdown",
   "metadata": {},
   "source": [
    "> - Ranking based on feature importances.\n",
    "> - Selected features are assigned rank 1."
   ]
  },
  {
   "cell_type": "code",
   "execution_count": 105,
   "metadata": {},
   "outputs": [
    {
     "data": {
      "text/plain": [
       "array([191, 107,   1,  91, 110, 254,  86, 193, 242,  41,  46,   1,   1,\n",
       "       228,  22, 183, 240, 179, 186, 115, 166, 249,  38, 266, 219, 260,\n",
       "       257, 210, 195, 155, 258, 245, 135, 172,   1, 227, 251,  19, 236,\n",
       "       140, 259,  11, 235, 222,   1,   7, 131,  92, 221,   6,  30,  68,\n",
       "       139, 153, 151,  25,  58, 216,  32,  24, 213,  47, 134,  31,   8,\n",
       "       133,   1,   1,  17,  44,   1,  45,  26,   1, 268,  78,  79, 205,\n",
       "       178,  28,  37,  51, 265, 231,  82, 159, 250, 173, 157, 188,  12,\n",
       "       226, 171, 142,   4, 232, 101, 225, 230, 162, 234, 164,  96, 229,\n",
       "        50, 233, 167,   1,   1, 214, 104, 114,   1, 112, 149, 127,   1,\n",
       "       175,  20, 184, 117, 168,   1, 126, 206, 181, 202, 261, 207, 224,\n",
       "       122, 121, 238, 161, 120, 125, 124, 156,  95, 217, 187,   1,   1,\n",
       "         1,  90, 143, 198,  15, 247,  77,  72,   2,  62,  66,  67,  61,\n",
       "        65,  70,  14,  69,   1,   1,  63,  71,  75,  74, 165,   1,  73,\n",
       "       209,  27,  43,   1,  42, 244,  94,   1, 108,  93,   5,  49,  35,\n",
       "        16,   1, 105,  40,  34,  60, 170, 199, 116,   1, 141,   1, 180,\n",
       "        89, 190,  56,  57,  55,   9, 102, 123, 253, 194,  52, 128,  36,\n",
       "        13,  21, 154,  59, 218, 176, 150, 111, 192, 152, 241, 264, 204,\n",
       "       146, 145,  29, 138, 144, 208, 246,  81, 182,   1, 132,  80, 262,\n",
       "         1,  53,  54, 119, 185,  97,  83, 243,   1,  87, 196,  10,  98,\n",
       "        48, 197, 248, 239, 223, 189, 177,  23, 169,   1, 148,   3, 267,\n",
       "        33,  18, 130, 129, 147,  88, 201, 136,  99, 215, 263, 160, 203,\n",
       "       256, 220, 255,  84,  85, 174, 211, 212, 158, 200, 113, 109, 137,\n",
       "       237,  39, 252,  64,  76,   1, 100, 118, 103, 163, 106])"
      ]
     },
     "execution_count": 105,
     "metadata": {},
     "output_type": "execute_result"
    }
   ],
   "source": [
    "rfe.ranking_ # may be different than the ranked feature importances!"
   ]
  },
  {
   "cell_type": "markdown",
   "metadata": {},
   "source": [
    "##### `RFECV`\n",
    "\n",
    "> How to choose the number of features to select"
   ]
  },
  {
   "cell_type": "code",
   "execution_count": 106,
   "metadata": {},
   "outputs": [
    {
     "name": "stdout",
     "output_type": "stream",
     "text": [
      "Number of selected features: 84/297\n"
     ]
    }
   ],
   "source": [
    "rfe_cv = RFECV(Ridge(), cv=10)\n",
    "rfe_cv.fit(X_train_enc, y_train)\n",
    "print('Number of selected features: %d/%d' % (rfe_cv.n_features_, X_train_enc.shape[1]))"
   ]
  },
  {
   "cell_type": "markdown",
   "metadata": {},
   "source": [
    "> incorporate pipeline"
   ]
  },
  {
   "cell_type": "code",
   "execution_count": 108,
   "metadata": {},
   "outputs": [
    {
     "data": {
      "text/html": [
       "<div>\n",
       "<style scoped>\n",
       "    .dataframe tbody tr th:only-of-type {\n",
       "        vertical-align: middle;\n",
       "    }\n",
       "\n",
       "    .dataframe tbody tr th {\n",
       "        vertical-align: top;\n",
       "    }\n",
       "\n",
       "    .dataframe thead th {\n",
       "        text-align: right;\n",
       "    }\n",
       "</style>\n",
       "<table border=\"1\" class=\"dataframe\">\n",
       "  <thead>\n",
       "    <tr style=\"text-align: right;\">\n",
       "      <th></th>\n",
       "      <th>RidgeCV</th>\n",
       "      <th>RFE with 30 feats</th>\n",
       "      <th>pipe RFECV + RidgeCV</th>\n",
       "    </tr>\n",
       "  </thead>\n",
       "  <tbody>\n",
       "    <tr>\n",
       "      <th>fit_time</th>\n",
       "      <td>0.035105</td>\n",
       "      <td>0.684034</td>\n",
       "      <td>8.231220</td>\n",
       "    </tr>\n",
       "    <tr>\n",
       "      <th>score_time</th>\n",
       "      <td>0.004435</td>\n",
       "      <td>0.003446</td>\n",
       "      <td>0.014841</td>\n",
       "    </tr>\n",
       "    <tr>\n",
       "      <th>test_score</th>\n",
       "      <td>0.791239</td>\n",
       "      <td>0.760755</td>\n",
       "      <td>0.771576</td>\n",
       "    </tr>\n",
       "    <tr>\n",
       "      <th>train_score</th>\n",
       "      <td>0.897700</td>\n",
       "      <td>0.857623</td>\n",
       "      <td>0.884238</td>\n",
       "    </tr>\n",
       "  </tbody>\n",
       "</table>\n",
       "</div>"
      ],
      "text/plain": [
       "              RidgeCV  RFE with 30 feats  pipe RFECV + RidgeCV\n",
       "fit_time     0.035105           0.684034              8.231220\n",
       "score_time   0.004435           0.003446              0.014841\n",
       "test_score   0.791239           0.760755              0.771576\n",
       "train_score  0.897700           0.857623              0.884238"
      ]
     },
     "execution_count": 108,
     "metadata": {},
     "output_type": "execute_result"
    }
   ],
   "source": [
    "from sklearn.linear_model import RidgeCV\n",
    "\n",
    "pipe_rfe_ridgecv = make_pipeline(preprocessor, RFECV(Ridge(), cv=10), RidgeCV())\n",
    "\n",
    "results['pipe RFECV + RidgeCV'] = pd.DataFrame(cross_validate(pipe_rfe_ridgecv, X_train, y_train, return_train_score=True)).mean()\n",
    "\n",
    "pd.DataFrame(results)"
   ]
  },
  {
   "cell_type": "code",
   "execution_count": 109,
   "metadata": {},
   "outputs": [
    {
     "name": "stdout",
     "output_type": "stream",
     "text": [
      "The number of features selected by RFE:  84\n"
     ]
    }
   ],
   "source": [
    "pipe_rfe_ridgecv.fit(X_train,y_train)\n",
    "# print(pipe_rfe_ridgecv.named_steps[\"rfecv\"].support_)\n",
    "print(\n",
    "    \"The number of features selected by RFE: \",\n",
    "    pipe_rfe_ridgecv.named_steps[\"rfecv\"].n_features_,\n",
    ")"
   ]
  },
  {
   "cell_type": "markdown",
   "metadata": {},
   "source": [
    "> get feature names of selected features"
   ]
  },
  {
   "cell_type": "code",
   "execution_count": 110,
   "metadata": {},
   "outputs": [
    {
     "data": {
      "text/plain": [
       "array(['OverallQual', 'BsmtUnfSF', 'TotalBsmtSF', '1stFlrSF', '2ndFlrSF',\n",
       "       'GrLivArea', 'GarageCars', 'BsmtQual', 'KitchenQual', 'PoolQC',\n",
       "       'MSZoning_C (all)', 'MSZoning_FV', 'LandContour_Bnk',\n",
       "       'LandContour_HLS', 'Condition1_Norm', 'Condition1_RRAe',\n",
       "       'Condition1_RRAn', 'Condition1_RRNn', 'LotShape_IR2',\n",
       "       'LotShape_IR3', 'RoofMatl_ClyTile', 'RoofMatl_CompShg',\n",
       "       'RoofMatl_Membran', 'RoofMatl_Metal', 'RoofMatl_Roll',\n",
       "       'RoofMatl_Tar&Grv', 'RoofMatl_WdShake', 'RoofMatl_WdShngl',\n",
       "       'Foundation_Wood', 'Street_Grvl', 'Street_Pave', 'Functional_Maj2',\n",
       "       'Functional_Typ', 'MoSold_10', 'BedroomAbvGr_0', 'BedroomAbvGr_1',\n",
       "       'BedroomAbvGr_5', 'Exterior1st_AsphShn', 'Exterior1st_BrkFace',\n",
       "       'Exterior1st_ImStucc', 'MSSubClass_120', 'MSSubClass_160',\n",
       "       'MSSubClass_180', 'Neighborhood_BrDale', 'Neighborhood_Crawfor',\n",
       "       'Neighborhood_NPkVill', 'Neighborhood_NoRidge',\n",
       "       'Neighborhood_NridgHt', 'Neighborhood_StoneBr', 'SaleType_COD',\n",
       "       'SaleType_CWD', 'SaleType_Con', 'SaleType_ConLD', 'SaleType_New',\n",
       "       'Condition2_Artery', 'Condition2_Feedr', 'Condition2_Norm',\n",
       "       'Condition2_PosA', 'Condition2_PosN', 'Condition2_RRAn',\n",
       "       'Condition2_RRNn', 'KitchenAbvGr_1', 'KitchenAbvGr_3',\n",
       "       'Utilities_AllPub', 'Utilities_NoSeWa', 'MiscFeature_missing',\n",
       "       'HouseStyle_1.5Unf', 'HouseStyle_1Story', 'HouseStyle_2.5Fin',\n",
       "       'Electrical_FuseP', 'SaleCondition_Family', 'BsmtExposure_Gd',\n",
       "       'BsmtExposure_Mn', 'BsmtExposure_No', 'Heating_OthW',\n",
       "       'LotConfig_CulDSac', 'LotConfig_FR3', 'Exterior2nd_CmentBd',\n",
       "       'Exterior2nd_ImStucc', 'Exterior2nd_Other', 'Exterior2nd_Stone',\n",
       "       'Exterior2nd_Stucco', 'GarageType_missing', 'RoofStyle_Flat'],\n",
       "      dtype=object)"
      ]
     },
     "execution_count": 110,
     "metadata": {},
     "output_type": "execute_result"
    }
   ],
   "source": [
    "feature_names = X_train_enc.columns\n",
    "support = pipe_rfe_ridgecv.named_steps[\"rfecv\"].support_\n",
    "RFE_selected_feats = np.array(feature_names)[support]\n",
    "RFE_selected_feats"
   ]
  },
  {
   "cell_type": "markdown",
   "metadata": {},
   "source": [
    "#### 2). forward selection (Search and score method)\n",
    "\n",
    "\n",
    "<b><font color=LightSeaGreen>General idea of search and score methods</font></b> \n",
    "- Define a **scoring function** $f(S)$ that measures the quality of the set of features $S$. \n",
    "- Now **search** for the set of features $S$ with the best score.\n",
    "- Example: Suppose you have three features: $A, B, C$\n",
    "    - Compute **score** for $S = \\{\\}$\n",
    "    - Compute **score** for $S = \\{A\\}$\n",
    "    - Compute **score** for $S= \\{B\\}$\n",
    "    - Compute **score** for $S = \\{C\\}$\n",
    "    - Compute **score** for $S = \\{A,B\\}$    \n",
    "    - Compute **score** for $S = \\{A,C\\}$\n",
    "    - Compute **score** for $S = \\{B,C\\}$\n",
    "    - Compute **score** for $S = \\{A,B,C\\}$    \n",
    "- Return $S$ with the best score.  \n",
    "- How many distinct combinations we have to try out? \n",
    "\n",
    "<b><font color=LightSeaGreen>Problems with search and score methods</font></b> \n",
    " \n",
    "- If there are $d$ features, there are $2^d$ combinations to search.\n",
    "    - For example, if $d=100$, we have $1.26 \\times 10^{30}$ combinations to search\n",
    "- Large search space.     \n",
    "- Optimization bias is high: we are optimizing over $2^d$ models!    \n",
    "- Irrelevant variables sometimes help by chance. Prone to overfitting.  \n",
    "\n",
    "How do we deal with these problems? \n",
    "\n",
    "- How can we deal with the large search space? \n",
    "    - Instead of exhaustively searching for this space, we go with greedy approaches. No guarantee to find optimal feature set.  \n",
    "- How can we pick a model that's less likely to overfit?     \n",
    "    - Adding complexity penalty"
   ]
  },
  {
   "cell_type": "markdown",
   "metadata": {},
   "source": [
    "##### **Forward selection**\n",
    "\n",
    "\n",
    "\n",
    "<b><font color=LightSeaGreen>1. Properties</font></b>\n",
    "\n",
    "Not guaranteed to find the best feature set but reduces many problems\n",
    "    - Cheaper (considers only $O(d^2)$ models compared to $O(2^d)$ models) \n",
    "    - Overfits less (less optimization bias) \n",
    "\n",
    "<b><font color=LightSeaGreen>2. ideas</font></b>\n",
    "  \n",
    "Given $X = \\{x_1, x_2, \\dots, x_n\\}$ and $y$\n",
    "1. Start with an empty set of features $S = \\{\\}$ \n",
    "2. Initialize the score (e.g., score = $\\infty$, if score is validation error)\n",
    "3. For each possible feature $x_j, 1\\leq j \\leq n$ \n",
    "    - Compute the scores of features in $S$ combined with $x_j$\n",
    "4. If no $x_j$ improves the score, stop. \n",
    "5. Otherwise add feature $x_j$ to $S$ which improves the score the most, update the score, and go back to step 2. \n",
    "\n",
    "\n",
    "<center>\n",
    "    <img src='img/forward_selection.png' width=\"600\" />\n",
    "</center>\n",
    "\n",
    "\n"
   ]
  },
  {
   "cell_type": "code",
   "execution_count": 111,
   "metadata": {},
   "outputs": [
    {
     "data": {
      "text/plain": [
       "fit_time       45.789598\n",
       "score_time      0.013857\n",
       "test_score      0.783136\n",
       "train_score     0.865380\n",
       "dtype: float64"
      ]
     },
     "execution_count": 111,
     "metadata": {},
     "output_type": "execute_result"
    }
   ],
   "source": [
    "from mlxtend.feature_selection import SequentialFeatureSelector\n",
    "\n",
    "pipe_forward_ridgecv = make_pipeline(\n",
    "    preprocessor, \n",
    "    SequentialFeatureSelector(Ridge(), forward=True, k_features=20),\n",
    "    RidgeCV(),\n",
    ")\n",
    "\n",
    "scores = cross_validate(pipe_forward_ridgecv, X_train, y_train, return_train_score=True)\n",
    "pd.DataFrame(scores).mean()"
   ]
  },
  {
   "cell_type": "markdown",
   "metadata": {},
   "source": [
    "> names of selected features"
   ]
  },
  {
   "cell_type": "code",
   "execution_count": 112,
   "metadata": {},
   "outputs": [
    {
     "data": {
      "text/plain": [
       "['LotArea',\n",
       " 'OverallQual',\n",
       " 'OverallCond',\n",
       " 'GrLivArea',\n",
       " 'GarageCars',\n",
       " 'BsmtQual',\n",
       " 'KitchenQual',\n",
       " 'LandContour_Bnk',\n",
       " 'Condition1_Norm',\n",
       " 'BsmtFinType1_Unf',\n",
       " 'MSSubClass_20',\n",
       " 'Neighborhood_Crawfor',\n",
       " 'Neighborhood_NoRidge',\n",
       " 'Neighborhood_NridgHt',\n",
       " 'Neighborhood_Somerst',\n",
       " 'Neighborhood_StoneBr',\n",
       " 'SaleType_New',\n",
       " 'GarageFinish_Fin',\n",
       " 'BldgType_1Fam',\n",
       " 'BsmtExposure_Gd']"
      ]
     },
     "execution_count": 112,
     "metadata": {},
     "output_type": "execute_result"
    }
   ],
   "source": [
    "pipe_forward_ridgecv.fit(X_train, y_train)\n",
    "\n",
    "feature_names = X_train_enc.columns\n",
    "fs_selected_feats = [feature_names[i] for i in pipe_forward_ridgecv.named_steps[\"sequentialfeatureselector\"].k_feature_idx_]\n",
    "fs_selected_feats"
   ]
  },
  {
   "cell_type": "markdown",
   "metadata": {},
   "source": [
    "#### 3). Scoring using $L0$ \"norm\" \n",
    "\n",
    "\n",
    "- Most common \"scores\" have the form.\n",
    "\n",
    "$$ score(S) = \\frac{1}{2}\\lVert{Xw -y}\\rVert^2 + \\lambda \\lVert w\\rVert_0$$\n",
    "\n",
    "- $\\lambda \\rightarrow \\text{penalization factor (strength of penalty) }$\n",
    "\n",
    "- $ \\lVert w\\rVert_0 \\rightarrow$ Number of non-zero elements in $w$ (i.e., number of features used)\n",
    "- To increase the degrees of freedom by one, need to decrease the error by $\\lambda$. \n",
    "- <b><font color=salmon>Prefer smaller degrees of freedom if errors are similar. </font></b>\n",
    "- Can't optimize because the function is discontinuous in $\\lVert w\\rVert_0$\n",
    "    - Search over possible models \n",
    "    \n",
    "    \n",
    "#### $L0$ \"norm\"  and the number of features used\n",
    "\n",
    "- In linear models, setting $w_j = 0$ is the same as removing the feature.\n",
    "- Example: $$\\hat{y_i} = w_1x_1 + w_2x_2 + w_3x_3 + w_4x_4$$\n",
    "- $L0$ \"norm\" is the number of non-zero values.  \n",
    "- If $w = \\begin{bmatrix}0.8 \\\\ 0.0 \\\\ 0.03 \\\\0.1\\end{bmatrix}$, $\\lVert w\\rVert_0 = 3$ and if $w = \\begin{bmatrix}0.0 \\\\ 0.0 \\\\ 0.22 \\\\0.0\\end{bmatrix}$, $\\lVert w\\rVert_0 = 1$\n"
   ]
  },
  {
   "cell_type": "markdown",
   "metadata": {},
   "source": [
    "## 4. Questions\n",
    "\n",
    "1. Simple association-based feature selection approaches do not take into account the interaction between features.<br>\n",
    "\n",
    "> True. we don't take into account interactions between features. Because we simply look at one feature at a time and see how it's related to the target. But when we use `RFE`,  we train ML model before eliminating a feature, and therefore in that case, we take into account the interaction between features. \n",
    "\n",
    "2. You can carry out feature selection using linear models by pruning the features which have very small weights (i.e., coefficients less than a threshold).<br>\n",
    "\n",
    "> True: this is what we do in RFE\n",
    "\n",
    "3. Forward search is guaranteed to find the best feature set.<br>  \n",
    "\n",
    "> False, search space is large. We use greedy approach to search.\n",
    "\n",
    "4. A scoring function in score and search methods can be written as follows. $$ score(S) = \\frac{1}{2}\\lVert{Xw -y}\\rVert^2 + \\lambda \\lVert w\\rVert_0$$\n",
    "Here smaller $\\lVert w\\rVert_0$ means we discard most of the features. \n",
    "\n",
    "> True: L0 penalty. $\\lVert w\\rVert_0$ is the number of non-zero elements in $w$.\n",
    "\n",
    "5. In the above equation, larger $\\lambda$ means aggressive feature pruning. \n",
    "\n",
    "> True\n",
    "\n",
    "6. The order of features removed given by `rfe.ranking_` is the same as the order of original feature importances given by a regression model. \n",
    "\n",
    "> False: "
   ]
  },
  {
   "cell_type": "markdown",
   "metadata": {},
   "source": [
    "# DSCI 573 - Quiz 1 practice questions. \n",
    "\n",
    "Note that these are just sample questions for you to get an idea about what to expect in the quiz. They are neither meant to cover all the topics we have covered in the last four lectures nor meant to be indicative of the number of questions in the actual quiz.\n",
    "\n",
    "### Question 1\n",
    "Suppose a search engine returns 20 pages, 10 of which were relevant while failing to return 90 additional relevant pages. What are the  precision and recall of this system? \n",
    "\n",
    "#### Solution \n",
    "$P = \\frac{10}{20}$, $R = \\frac{10}{100}$\n",
    "\n",
    "\n",
    "### Question 2\n",
    "\n",
    "- Consider the dataset below, which has $4$ training examples and $1$ feature:\n",
    "$$\n",
    "X = \\begin{bmatrix}3 \\\\4 \\\\  2 \\\\ 1 \\end{bmatrix}, \\quad y = \\begin{bmatrix}1\\\\-0.4\\\\-0.2\\\\-0.1\\end{bmatrix}.\n",
    "$$ \n",
    "\n",
    "Suppose we want to fit a degree $p=2$ polynomial to this dataset. Write a feature matrix $Z$ that we could use in a linear regression model to fit such a quadratic model. \n",
    "\n",
    "##### Solution\n",
    "\n",
    "$$\n",
    "{\n",
    "Z = \\begin{bmatrix}1 & 3 & 9\\\\ 1 & 4 & 16\\\\ 1 & 2 & 4\\\\1 & 1 & 1\\end{bmatrix}.\n",
    "}$$\n",
    "\n",
    "### Question 3\n",
    "When we do regression with a polynomial basis, how does the degree of the polynomial $p$ affect the two parts of the fundamental trade-off? (Answer in 1 sentence.)\n",
    "\n",
    "#### Solution\n",
    "As $p$ goes up, the training error goes down and approximation error goes up. (overfitting)\n",
    "\n",
    "### Question 4\n",
    "Suppose someone proposes to select features by fitting a linear regression model, and choosing the features with the largest regression weights. What is a scenario where this would not be effective at selecting relevant features? (Answer in 1 to 2 sentences.)\n",
    "\n",
    "#### Solution\n",
    "Anything collinear (or even close to collinear). Other answers are possible, like if the relationship isn't linear.\n",
    "\n",
    "### Question 5\n",
    "Why do we use forward selection instead of exhaustively searching all subsets in search and score methods? (Answer in 1 to 2 sentences.)\n",
    "\n",
    "#### Solution\n",
    "- It's too expensive to try all subsets. \n",
    "- Alternately, forward selection is less prone to false positives.     \n",
    "    In exhaustive search and score methods, optimization bias is high: we’re optimizing over 2^d models and that's why it's prone to false positives: irrelevant variables will sometimes help by chance.\n",
    "\n",
    "### Question 6\n",
    "State whether True or False. \n",
    "\n",
    "Assume the following scoring function for search and score methods used with linear models. \n",
    "$$ score(S) = \\frac{1}{2}\\lVert{Xw -y}\\rVert^2 + \\lambda \\lVert w\\rVert_0$$\n",
    "\n",
    "1. Smaller $\\lVert w\\rVert_0$ means we are discarding most of the features. \n",
    "2. $\\lambda = 0$ means we are not selecting any of the features. \n",
    "\n",
    "#### Solution\n",
    "1. True \n",
    "2. False. λ = 0 means no complexity penalty and it means we are selecting all of the features. \n",
    "\n",
    "### Question 7\n",
    "Why ngram features might be better in some contexts compared to bag-of-word features? (Answer in 1 to 3 sentences.)\n",
    "\n",
    "#### Solution\n",
    "Bag-of-word features throw out everything we know about language. Each word is considered independent of its context and its location in text. Ngram features help incorporate context in the input representation. "
   ]
  }
 ],
 "metadata": {
  "kernelspec": {
   "display_name": "Python [conda env:571]",
   "language": "python",
   "name": "conda-env-571-py"
  },
  "language_info": {
   "codemirror_mode": {
    "name": "ipython",
    "version": 3
   },
   "file_extension": ".py",
   "mimetype": "text/x-python",
   "name": "python",
   "nbconvert_exporter": "python",
   "pygments_lexer": "ipython3",
   "version": "3.7.7"
  }
 },
 "nbformat": 4,
 "nbformat_minor": 4
}
