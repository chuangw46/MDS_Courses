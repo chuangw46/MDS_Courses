{
 "cells": [
  {
   "cell_type": "markdown",
   "metadata": {},
   "source": [
    "# DSCI511 Python Numpy Review Session <Quiz 2>"
   ]
  },
  {
   "cell_type": "markdown",
   "metadata": {},
   "source": [
    "**NUMPY IS IMPORTANT**\n",
    "\n",
    "<img src=\"img/np_important.png\" alt=\"Its You\" width=\"500px\">\n",
    "\n",
    "\n",
    "[image source](https://www.nature.com/articles/s41586-020-2649-2)"
   ]
  },
  {
   "cell_type": "code",
   "execution_count": 2,
   "metadata": {},
   "outputs": [],
   "source": [
    "import pandas as pd\n",
    "import numpy as np\n",
    "pd.set_option('display.max_columns', 85)\n",
    "pd.set_option('display.max_rows', 85)"
   ]
  },
  {
   "cell_type": "markdown",
   "metadata": {},
   "source": [
    "## 0. Import Modules\n",
    "\n",
    "VS code Demo"
   ]
  },
  {
   "cell_type": "markdown",
   "metadata": {},
   "source": [
    "## 1. Python List VS Numpy Array"
   ]
  },
  {
   "cell_type": "markdown",
   "metadata": {},
   "source": [
    "**Pros of Numpy** \n",
    "- Less bytes of memory because of fixed type (we can explicitly set the data type) \n",
    "- Faster access (see more articles about why: [Link1](https://www.labri.fr/perso/nrougier/from-python-to-numpy/#memory-layout), [Link2](https://www.datadiscuss.com/proof-that-numpy-is-much-faster-than-normal-python-array/), [Link3](https://www.jessicayung.com/numpy-arrays-memory-and-strides/))"
   ]
  },
  {
   "cell_type": "markdown",
   "metadata": {},
   "source": [
    "<img src=\"img/li_np.png\" alt=\"Its You\" width=\"900px\">"
   ]
  },
  {
   "cell_type": "markdown",
   "metadata": {},
   "source": [
    "## 2. NumPy Array Attributes"
   ]
  },
  {
   "cell_type": "markdown",
   "metadata": {},
   "source": [
    "### 2.1 Basics"
   ]
  },
  {
   "cell_type": "code",
   "execution_count": 89,
   "metadata": {},
   "outputs": [
    {
     "name": "stdout",
     "output_type": "stream",
     "text": [
      "the arr is \n",
      " [[1 3]\n",
      " [2 4]] \n",
      "\n",
      "the type: <class 'numpy.ndarray'> \n",
      "\n",
      "the element type: int8 \n",
      "\n",
      "the array shape: (2, 2) \n",
      "\n",
      "the array dimention: 2 \n",
      "\n",
      "# of elements: 4 \n",
      "\n",
      "memory usage (bytes) of each element: 1 \n",
      "\n",
      "memory usage (bytes) of the array: 4 \n",
      "\n"
     ]
    }
   ],
   "source": [
    "# -----------------------  create an array (more coming up) --------------\n",
    "arr = np.array([[1, 3], [2, 4]], dtype='int8')\n",
    "print(f'the arr is \\n {arr} \\n')\n",
    "\n",
    "# --------------- type ----------------\n",
    "# array type - numpy.ndarray\n",
    "print(f'the type: {type(arr)} \\n')\n",
    "\n",
    "# element type - int8\n",
    "print(f'the element type: {arr.dtype} \\n')\n",
    "\n",
    "# -------- shape vs dimension----------\n",
    "# shape\n",
    "print(f'the array shape: {arr.shape} \\n')\n",
    "\n",
    "# dimension\n",
    "print(f'the array dimention: {arr.ndim} \\n')\n",
    "\n",
    "# --------------- size ----------------\n",
    "# array size - how many elements\n",
    "print(f'# of elements: {arr.size} \\n')\n",
    "\n",
    "# element size\n",
    "print(f'memory usage (bytes) of each element: {arr.itemsize} \\n')\n",
    "\n",
    "# memory usage\n",
    "print(f'memory usage (bytes) of the array: {arr.nbytes} \\n')\n"
   ]
  },
  {
   "cell_type": "markdown",
   "metadata": {},
   "source": [
    "> **side note**: how to understand multi-dimensional array"
   ]
  },
  {
   "cell_type": "code",
   "execution_count": 106,
   "metadata": {},
   "outputs": [
    {
     "data": {
      "text/plain": [
       "array([[[[  0,   1,   2,   3,   4],\n",
       "         [  5,   6,   7,   8,   9],\n",
       "         [ 10,  11,  12,  13,  14],\n",
       "         [ 15,  16,  17,  18,  19]],\n",
       "\n",
       "        [[ 20,  21,  22,  23,  24],\n",
       "         [ 25,  26,  27,  28,  29],\n",
       "         [ 30,  31,  32,  33,  34],\n",
       "         [ 35,  36,  37,  38,  39]],\n",
       "\n",
       "        [[ 40,  41,  42,  43,  44],\n",
       "         [ 45,  46,  47,  48,  49],\n",
       "         [ 50,  51,  52,  53,  54],\n",
       "         [ 55,  56,  57,  58,  59]]],\n",
       "\n",
       "\n",
       "       [[[ 60,  61,  62,  63,  64],\n",
       "         [ 65,  66,  67,  68,  69],\n",
       "         [ 70,  71,  72,  73,  74],\n",
       "         [ 75,  76,  77,  78,  79]],\n",
       "\n",
       "        [[ 80,  81,  82,  83,  84],\n",
       "         [ 85,  86,  87,  88,  89],\n",
       "         [ 90,  91,  92,  93,  94],\n",
       "         [ 95,  96,  97,  98,  99]],\n",
       "\n",
       "        [[100, 101, 102, 103, 104],\n",
       "         [105, 106, 107, 108, 109],\n",
       "         [110, 111, 112, 113, 114],\n",
       "         [115, 116, 117, 118, 119]]]])"
      ]
     },
     "execution_count": 106,
     "metadata": {},
     "output_type": "execute_result"
    }
   ],
   "source": [
    "a = np.arange(120).reshape(2, 3, 4, 5)\n",
    "a"
   ]
  },
  {
   "cell_type": "markdown",
   "metadata": {},
   "source": [
    "### 2.2 strides (understand reshape)\n",
    "\n",
    "[stride tricks in CNN](https://jessicastringham.net/2017/12/31/stride-tricks/)"
   ]
  },
  {
   "cell_type": "code",
   "execution_count": 91,
   "metadata": {},
   "outputs": [
    {
     "name": "stdout",
     "output_type": "stream",
     "text": [
      "[[1 2]\n",
      " [3 4]\n",
      " [5 6]] \n",
      "\n",
      "a1 array shape: (3, 2) \n",
      "\n",
      "a1 strides: (2, 1) \n",
      "\n",
      "after reshape: \n",
      " [[1 2 3]\n",
      " [4 5 6]] \n",
      "\n",
      "re_a1 array shape: (2, 3) \n",
      "\n",
      "re_a1 strides: (3, 1)\n"
     ]
    }
   ],
   "source": [
    "# understanding strides helps you understand reshape and other array manipulation.\n",
    "# if you access a[i, j], it just calculated as i * strides[i] + j * strides[j]\n",
    "\n",
    "# create an array (3, 2)\n",
    "a1 = np.array([[1, 2], [3, 4], [5, 6]], dtype='int8')\n",
    "print(a1, '\\n')\n",
    "\n",
    "# shape - (3, 2)\n",
    "print(f'a1 array shape: {a1.shape} \\n')\n",
    "# strides - (2, 1) \n",
    "print(f'a1 strides: {a1.strides} \\n') # - (every 2 bytes, increment a row, every 1 byte, increment a column in the array).\n",
    "\n",
    "# reshape\n",
    "re_a1 = a1.reshape(2,3)\n",
    "# re_a1 = a1.reshape(2, -1) # using -1 will calculate the dimension for you (if possible)\n",
    "print(f'after reshape: \\n {re_a1} \\n')\n",
    "\n",
    "# shape - (2, 3)\n",
    "print(f're_a1 array shape: {re_a1.shape} \\n')\n",
    "# strides - (3, 1)\n",
    "print(f're_a1 strides: {re_a1.strides}') # - (every 3 bytes, increment a row, every 1 byte, increment a column in the array)."
   ]
  },
  {
   "cell_type": "markdown",
   "metadata": {},
   "source": [
    "> **side note**"
   ]
  },
  {
   "cell_type": "code",
   "execution_count": 58,
   "metadata": {},
   "outputs": [
    {
     "data": {
      "text/plain": [
       "array([list(['a', 'b', 'c']), 1, 3.14159], dtype=object)"
      ]
     },
     "execution_count": 58,
     "metadata": {},
     "output_type": "execute_result"
    }
   ],
   "source": [
    "# heterogenous array\n",
    "a = np.array([['a', 'b', 'c'], 1, 3.14159], dtype='object')"
   ]
  },
  {
   "cell_type": "markdown",
   "metadata": {},
   "source": [
    "## 3. Create an array"
   ]
  },
  {
   "cell_type": "code",
   "execution_count": 72,
   "metadata": {},
   "outputs": [],
   "source": [
    "# 1. np.array(list)\n",
    "np_li1 = np.array([1, 2, 3, 4])\n",
    "print(np_li1)\n",
    "\n",
    "np_li2 = np.array([5, 6, 7, 8])\n",
    "print(np_li2)\n",
    "\n",
    "\n",
    "# 2. np.zeros(shape) - Create a length-10 integer array filled with zeros\n",
    "np.zeros(10, dtype=int)\n",
    "\n",
    "\n",
    "# 3. np.ones(shape) - Create a 3x5 floating-point array filled with ones\n",
    "np.ones((3, 5), dtype=float)\n",
    "\n",
    "\n",
    "# 4. np.full(shape) - Create a 3x5 array filled with 3.14\n",
    "np.full((3, 5), 3.14)\n",
    "\n",
    "\n",
    "# 5. np.arange(start, end, step) - Create an array filled with a linear sequence\n",
    "# Starting at 0, ending at 20, stepping by 2\n",
    "# (this is similar to the built-in range() function)\n",
    "np.arange(0, 20, 2)\n",
    "\n",
    "\n",
    "# 6. np.linspace(start, end, size) - Create an array of five values evenly spaced between 0 and 1\n",
    "np.linspace(0, 1, 5)\n",
    "\n",
    "\n",
    "# 7. np.random.random(shape) - Create a 3x3 array of uniformly distributed\n",
    "# random values between 0 and 1\n",
    "np.random.random((3, 3))\n",
    "\n",
    "# 8. np.random.normal(mean, standard_devia, shape) - Create a 3x3 array of normally distributed random values\n",
    "# with mean 0 and standard deviation 1\n",
    "np.random.normal(0, 1, (3, 3))\n",
    "\n",
    "# 9. np.random.randint(start, end, shape) - Create a 3x3 array of random integers in the interval [0, 10)\n",
    "np.random.randint(0, 10, (3, 3))\n",
    "\n",
    "# 10. np.eye(a_number) Create a 3x3 identity matrix\n",
    "np.eye(3)\n",
    "np.identity(5)\n",
    "\n",
    "# 11. Repeat an array\n",
    "arr = np.array([[1,2,3]]) \n",
    "r1 = np.repeat(arr,3, axis=0)"
   ]
  },
  {
   "cell_type": "markdown",
   "metadata": {},
   "source": [
    "> **side note**   \n",
    "> numpy array has more operation than python list including:\n",
    "> - [math](https://numpy.org/doc/stable/reference/routines.math.html) (+ - * / \\**)\n",
    "> - [linear algebra](https://numpy.org/doc/stable/reference/routines.linalg)(matmul)\n",
    "> - [Statistics](https://numpy.org/doc/stable/reference/routines.statistics.html) (min, max, sum)"
   ]
  },
  {
   "cell_type": "code",
   "execution_count": 104,
   "metadata": {},
   "outputs": [
    {
     "name": "stdout",
     "output_type": "stream",
     "text": [
      "+ for array - adding two arrays: [ 6  8 10 12] \n",
      "\n",
      "np.concatenate - appending two arrays: [1 2 3 4 5 6 7 8] \n",
      "\n",
      "+ for python lists - appending two lists: [1, 2, 3, 4, 5, 6, 7, 8] \n",
      "\n",
      "triangle side: 5.0 \n",
      "\n",
      "a is \n",
      " [[1. 1. 1.]\n",
      " [1. 1. 1.]] \n",
      "\n",
      "b is \n",
      " [[2 2]\n",
      " [2 2]\n",
      " [2 2]] \n",
      "\n",
      "matrix product is \n",
      " [[6. 6.]\n",
      " [6. 6.]]\n"
     ]
    }
   ],
   "source": [
    "np_arr1 = np.array([1, 2, 3, 4])\n",
    "np_arr2 = np.array([5, 6, 7, 8])\n",
    "\n",
    "# 1. math (+ - * /)\n",
    "# ----------------------------------\n",
    "# for numpy array - YES\n",
    "\n",
    "print(f'+ for array - adding two arrays: {np_arr1 + np_arr2} \\n')\n",
    "\n",
    "print(f'np.concatenate - appending two arrays: {np.concatenate([np_arr1, np_arr2])} \\n')\n",
    "\n",
    "# for python list - NO\n",
    "py_li1 = [1, 2, 3, 4]\n",
    "py_li2 = [5, 6, 7, 8]\n",
    "print(f'+ for python lists - appending two lists: {py_li1 + py_li2} \\n')\n",
    "# mul_lis = py_li1 * py_li2\n",
    "\n",
    "\n",
    "\n",
    "\n",
    "\n",
    "# 2. stat (sqrt, sum, power)\n",
    "# ----------------------------------\n",
    "sides = np.array([3, 4])\n",
    "print(f'triangle side: {np.sqrt(np.sum([np.power(sides[0], 2), np.power(sides[1], 2)]))} \\n')\n",
    "\n",
    "\n",
    "\n",
    "\n",
    "\n",
    "\n",
    "# 3. linear algebra (matrix product)\n",
    "a = np.ones((2,3)) \n",
    "print(f'a is \\n {a} \\n') \n",
    "b = np.full((3,2), 2) \n",
    "print(f'b is \\n {b} \\n') \n",
    "print(f'matrix product is \\n {np.matmul(a,b)}')"
   ]
  },
  {
   "cell_type": "markdown",
   "metadata": {},
   "source": [
    "## 4. Array Indexing"
   ]
  },
  {
   "cell_type": "code",
   "execution_count": 81,
   "metadata": {},
   "outputs": [
    {
     "name": "stdout",
     "output_type": "stream",
     "text": [
      "arr is\n",
      "[[ 1  2  3  4]\n",
      " [ 5  6  7  8]\n",
      " [ 9 10 11 12]] \n",
      "\n",
      "arr[-1] is \n",
      " [ 9 10 11 12] \n",
      "\n",
      "arr[0:2] is \n",
      " [[1 2 3 4]\n",
      " [5 6 7 8]] \n",
      "\n",
      "arr[2:0:-1] is \n",
      " [[ 9 10 11 12]\n",
      " [ 5  6  7  8]] \n",
      "\n",
      "arr[:, 2] is \n",
      " [ 3  7 11] \n",
      "\n",
      "arr[2, 0] is \n",
      " 9 \n",
      "\n",
      "arr[arr > 6] is \n",
      " [ 7  8  9 10 11 12]\n"
     ]
    }
   ],
   "source": [
    "arr = np.arange(1, 13).reshape(3, 4)\n",
    "print('arr is')\n",
    "print(arr, '\\n')\n",
    "\n",
    "# 1. Numeric Indexing\n",
    "print(f'arr[-1] is \\n {arr[-1]} \\n')\n",
    "\n",
    "print(f'arr[0:2] is \\n {arr[0:2]} \\n')\n",
    "\n",
    "print(f'arr[2:0:-1] is \\n {arr[2:0:-1]} \\n')\n",
    "\n",
    "print(f'arr[:, 2] is \\n {arr[:, 2]} \\n')\n",
    "\n",
    "print(f'arr[2, 0] is \\n {arr[2, 0]} \\n')\n",
    "\n",
    "# 2. boolean indexing\n",
    "print(f'arr[arr > 6] is \\n {arr[arr > 6]}')"
   ]
  },
  {
   "cell_type": "markdown",
   "metadata": {},
   "source": [
    "## 5. Summary"
   ]
  },
  {
   "cell_type": "markdown",
   "metadata": {},
   "source": [
    "<img src=\"img/np_summary.png\" alt=\"Its You\" width=\"1700px\">\n",
    "\n",
    "\n",
    "[image source](https://www.nature.com/articles/s41586-020-2649-2)"
   ]
  },
  {
   "cell_type": "markdown",
   "metadata": {},
   "source": [
    "# Questions?"
   ]
  },
  {
   "cell_type": "markdown",
   "metadata": {},
   "source": [
    "## 1) Deep copy VS Shallow copy for numpy array"
   ]
  },
  {
   "cell_type": "code",
   "execution_count": 29,
   "metadata": {},
   "outputs": [
    {
     "name": "stdout",
     "output_type": "stream",
     "text": [
      "------------------ a ---------------------\n",
      "a's id is 140654537262784\n",
      "------------------ b ---------------------\n",
      "b's id is 140654537265024\n",
      "a is \n",
      " [1 'm' 3]\n",
      "b is \n",
      " [1 'm' 10]\n"
     ]
    }
   ],
   "source": [
    "import copy\n",
    "print('------------------ a ---------------------')\n",
    "# a = np.array([1, 2, \"hello\", 5])\n",
    "a = np.array([1, 'm', 3], dtype=object)\n",
    "print(f\"a's id is {id(a)}\")\n",
    "\n",
    "print('------------------ b ---------------------')\n",
    "b = np.copy(a)\n",
    "print(f\"b's id is {id(b)}\")\n",
    "\n",
    "b[2] = 10\n",
    "print(f'a is \\n {a}')\n",
    "print(f'b is \\n {b}')\n",
    "\n",
    "# print('------------------ c ---------------------')\n",
    "# c = copy.copy(a)\n",
    "# print(f\"c's id is {id(c)}\")\n",
    "\n",
    "# c[3] = 11\n",
    "# print(f'a is \\n {a}')\n",
    "# print(f'c is \\n {c}')\n",
    "\n",
    "# print('------------------ d ---------------------')\n",
    "\n",
    "# d = copy.deepcopy(a)\n",
    "# print(f\"d's id is {id(d)}\")\n",
    "\n",
    "# d[3] = 12\n",
    "# print(f'a is \\n {a}')\n",
    "# print(f'd is \\n {d}')"
   ]
  }
 ],
 "metadata": {
  "kernelspec": {
   "display_name": "Python [conda env:root] *",
   "language": "python",
   "name": "conda-root-py"
  },
  "language_info": {
   "codemirror_mode": {
    "name": "ipython",
    "version": 3
   },
   "file_extension": ".py",
   "mimetype": "text/x-python",
   "name": "python",
   "nbconvert_exporter": "python",
   "pygments_lexer": "ipython3",
   "version": "3.8.2"
  },
  "toc-autonumbering": false,
  "toc-showcode": false,
  "toc-showmarkdowntxt": false,
  "toc-showtags": true
 },
 "nbformat": 4,
 "nbformat_minor": 4
}
